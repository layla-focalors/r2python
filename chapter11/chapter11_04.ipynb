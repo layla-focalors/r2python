{
 "cells": [
  {
   "cell_type": "markdown",
   "metadata": {},
   "source": [
    "### 코크스 제조 공정 데이터\n",
    "| 타르피치 / 역청탄 | 역청탄 (Y1) | 역청탄 (Y2) | 역청탄 (Y3) | 역청탄 (Y4) | 역청탄 (Y5) |\n",
    "|:-----------------:|:-----------:|:-----------:|:-----------:|:-----------:|:-----------:|\n",
    "|   타르피치 (A1)   |      79     |      72     |      51     |      58     |      68     |\n",
    "|   타르피치 (A2)   |      75     |      66     |      48     |      56     |      62     |\n",
    "|   타르피치 (A3)   |      65     |      62     |      41     |      45     |      58     |\n",
    "|   타르피치 (A4)   |      65     |      62     |      41     |      45     |      58     |"
   ]
  },
  {
   "cell_type": "code",
   "execution_count": 3,
   "metadata": {},
   "outputs": [
    {
     "name": "stdout",
     "output_type": "stream",
     "text": [
      "F-value : 13.13366093366094\n",
      "P-value : 8.588588287858503e-05\n",
      "p-value는 0.0001로, 유의 수준 0.05보다 작다.\n",
      "따라서 귀무 가설을 기각한다.\n",
      "\n",
      "F-value2 : 1.4011025358324143\n",
      "P-value2 : 0.2788614720327024\n",
      "p-value는 0.2789로, 유의 수준 0.05보다 크거나 같다.\n",
      "따라서 귀무 가설을 기각할 수 없음\n"
     ]
    }
   ],
   "source": [
    "# 예제(11.4)\n",
    "\n",
    "# 무연탄에서 코크스를 제조하는데 10% 첨가하는 역청탄 (Y(n))을 5종류 선택하고 타르피티(A1~A4)을 A1: 4%, A2: 6%, A3: 8%, A4: 10%로 첨가하여 5종류의 혼합탄을 제조하고 코크스의 내압강도 (kg/com^2)을 측정한 결과가 다음과 같을 때, 이 자료에 대해 이원배치법의 모형을 적용한다면 역청탄의 종류와 타르피치의 첨가량이 코크스의 내압강도에 미치는 영향을 검정하시오.\n",
    "\n",
    "# [ 조건 ] : 유의수준 5%에서 검정하시오.\n",
    "\n",
    "import pandas as pd\n",
    "from scipy import stats\n",
    "\n",
    "# 귀무가설: 역청탄의 종류와 타르피치의 첨가량이 코크스의 내압강도에 영향을 미치지 않는다.\n",
    "# 대립가설: 역청탄의 종류와 타르피치의 첨가량이 코크스의 내압강도에 영향을 미친다.\n",
    "\n",
    "data = {'Y1': [79, 75, 65, 65],\n",
    "        'Y2': [72, 66, 62, 62],\n",
    "        'Y3': [51, 48, 41, 41],\n",
    "        'Y4': [58, 56, 45, 45],\n",
    "        'Y5': [68, 62, 58, 58]}\n",
    "\n",
    "df = pd.DataFrame(data, columns=['Y1', 'Y2', 'Y3', 'Y4', 'Y5'], index=['A1', 'A2', 'A3', 'A4'])\n",
    "\n",
    "# 역청탄 종류 영향 검정\n",
    "f_value1, p_value1 = stats.f_oneway(df['Y1'], df['Y2'], df['Y3'], df['Y4'], df['Y5'])\n",
    "\n",
    "print(f'F-value : {f_value1}')\n",
    "print(f'P-value : {p_value1}')\n",
    "\n",
    "alpha = 0.05\n",
    "if p_value1 < alpha:   \n",
    "    print(f\"p-value는 {p_value1:.4f}로, 유의 수준 {alpha}보다 작다.\\n따라서 귀무 가설을 기각한다.\")    \n",
    "else:\n",
    "    print(f\"p-value는 {p_value1:.4f}로, 유의 수준 {alpha}보다 크거나 같다.\\n따라서 귀무 가설을 기각할 수 없음\")   \n",
    "\n",
    "# 타르피치 첨가량 영향 검정\n",
    "f_value2, p_value2 = stats.f_oneway(df.loc['A1'], df.loc['A2'], df.loc['A3'], df.loc['A4'])\n",
    "\n",
    "print(f'\\nF-value2 : {f_value2}')\n",
    "print(f'P-value2 : {p_value2}')\n",
    "\n",
    "alpha = 0.05\n",
    "if p_value2 < alpha:   \n",
    "    print(f\"p-value는 {p_value2:.4f}로, 유의 수준 {alpha}보다 작다.\\n따라서 귀무 가설을 기각한다.\")    \n",
    "else:\n",
    "    print(f\"p-value는 {p_value2:.4f}로, 유의 수준 {alpha}보다 크거나 같다.\\n따라서 귀무 가설을 기각할 수 없음\")   \n"
   ]
  }
 ],
 "metadata": {
  "kernelspec": {
   "display_name": "Python 3",
   "language": "python",
   "name": "python3"
  },
  "language_info": {
   "codemirror_mode": {
    "name": "ipython",
    "version": 3
   },
   "file_extension": ".py",
   "mimetype": "text/x-python",
   "name": "python",
   "nbconvert_exporter": "python",
   "pygments_lexer": "ipython3",
   "version": "3.11.4"
  },
  "orig_nbformat": 4
 },
 "nbformat": 4,
 "nbformat_minor": 2
}
