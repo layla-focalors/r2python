{
 "cells": [
  {
   "cell_type": "markdown",
   "metadata": {},
   "source": [
    "### 공정별 인장강도\n",
    "| 공정1 | 2 | 3 | 4 | 5 |   |   |\n",
    "|:-----:|:-:|:-:|:-:|---|---|---|\n",
    "| 공정2 | 4 | 5 | 6 | 4 | 3 |   |\n",
    "| 공정3 | 6 | 5 | 7 | 4 | 6 | 8 |"
   ]
  },
  {
   "cell_type": "code",
   "execution_count": 2,
   "metadata": {},
   "outputs": [
    {
     "name": "stdout",
     "output_type": "stream",
     "text": [
      "F-value: 2.882352941176471\n",
      "P-value: 0.10779030282150491\n",
      "p-value는 0.1078로, 유의 수준 0.05보다 크거나 같다.\n",
      "따라서 귀무 가설을 기각할 수 없음\n"
     ]
    }
   ],
   "source": [
    "# 연습문제 1 p369, node (1)\n",
    "\n",
    "# 세 공정에서 생산된 철선의 인장강도 차이를 알아보기 위해 공정 1에서 4회, 공정 2에서 5회, 공정 3에서 6회 총 15회의 랜덤 측정을 진행한 후 얻은 인장강도 결과가 다음과 같을 때, 일원배치법의 모형을 적용해 공정에 따라 인장강도에 차가 있다고 할 수 있는지를 유의수준 5%에서 검정하시오.\n",
    "\n",
    "import pandas as pd\n",
    "from scipy import stats\n",
    "\n",
    "process1 = [2, 3, 4, 5]\n",
    "process2 = [4, 5, 6, 4, 3]\n",
    "process3 = [6, 5, 7, 4, 6, 8]\n",
    "\n",
    "df = pd.DataFrame(zip(process1, process2, process3), columns=['Process 1', 'Process 2', 'Process 3'])  \n",
    "\n",
    "f_value, p_value = stats.f_oneway(df['Process 1'].dropna(), df['Process 2'].dropna(), df['Process 3'].dropna())\n",
    "\n",
    "print(f'F-value: {f_value}')\n",
    "print(f'P-value: {p_value}\\n')\n",
    "\n",
    "alpha = 0.05\n",
    "if p_value < alpha:   \n",
    "    print(f\"p-value는 {p_value:.4f}로, 유의 수준 {alpha}보다 작다.\\n따라서 귀무 가설을 기각한다.\")    \n",
    "else:\n",
    "    print(f\"p-value는 {p_value:.4f}로, 유의 수준 {alpha}보다 크거나 같다.\\n따라서 귀무 가설을 기각할 수 없음\")   \n"
   ]
  }
 ],
 "metadata": {
  "kernelspec": {
   "display_name": "Python 3",
   "language": "python",
   "name": "python3"
  },
  "language_info": {
   "codemirror_mode": {
    "name": "ipython",
    "version": 3
   },
   "file_extension": ".py",
   "mimetype": "text/x-python",
   "name": "python",
   "nbconvert_exporter": "python",
   "pygments_lexer": "ipython3",
   "version": "3.11.4"
  },
  "orig_nbformat": 4
 },
 "nbformat": 4,
 "nbformat_minor": 2
}
