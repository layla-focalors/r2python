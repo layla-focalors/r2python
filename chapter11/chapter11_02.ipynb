{
 "cells": [
  {
   "cell_type": "markdown",
   "metadata": {},
   "source": [
    "### 온도계에 의한 온도의 차이\n",
    "| 온도계A (A) | 18 | -18 | -4 | 8   |\n",
    "|:-----------:|:--:|:---:|:--:|-----|\n",
    "| 온도계B (B) | 24 |  20 |  1 | 10  |\n",
    "| 온도계C (C) | 5  | -24 | -8 | -17 |"
   ]
  },
  {
   "cell_type": "code",
   "execution_count": 3,
   "metadata": {},
   "outputs": [
    {
     "name": "stdout",
     "output_type": "stream",
     "text": [
      "F-value: 3.641\n",
      "P-value: 0.069\n",
      "\n",
      "p-value는 0.069로, 유의 수준 0.05보다 크거나 같다.\n",
      "따라서 귀무 가설을 기각할 수 없음\n"
     ]
    }
   ],
   "source": [
    "# 예제(11.1)\n",
    "\n",
    "# 3종류의 온도계로 어느 날의 온도를 4회 측정한 결과 다음과 같았다. 이때, 각 온도계에 위한 온도에 차이가 있는지를 검정하시오\n",
    "\n",
    "# [ 조건 ] : 표의 수치는 각 측정값에서 67.0을 뺀 것이다.\n",
    "\n",
    "\n",
    "import pandas as pd\n",
    "from scipy import stats\n",
    "\n",
    "# 귀무가설 : 온도계에 따른 온도의 차이가 없다.\n",
    "# 대립가설 : 온도계에 따른 온도의 차이가 있다.\n",
    "\n",
    "# 11.1 과 다르게 한번에 데이터프레임으로 변환하는 경우.\n",
    "data = {'A': [18, -18, -4, 8],\n",
    "        'B': [24, 20, 1, 10],\n",
    "        'C': [5, -24, -8, -17]}\n",
    "\n",
    "df = pd.DataFrame(data)\n",
    "\n",
    "f_value, p_value = stats.f_oneway(df['A'], df['B'], df['C'])\n",
    "\n",
    "print(f'F-value: {round((f_value), 3)}')\n",
    "print(f'P-value: {round((p_value), 3)}\\n')\n",
    "\n",
    "alpha = 0.05\n",
    "if p_value < alpha:   \n",
    "    print(f\"p-value는 {p_value:.3f}로, 유의 수준 {alpha}보다 작다.\\n따라서 귀무 가설을 기각한다.\")    \n",
    "else:\n",
    "    print(f\"p-value는 {p_value:.3f}로, 유의 수준 {alpha}보다 크거나 같다.\\n따라서 귀무 가설을 기각할 수 없음\")   \n"
   ]
  }
 ],
 "metadata": {
  "kernelspec": {
   "display_name": "Python 3",
   "language": "python",
   "name": "python3"
  },
  "language_info": {
   "codemirror_mode": {
    "name": "ipython",
    "version": 3
   },
   "file_extension": ".py",
   "mimetype": "text/x-python",
   "name": "python",
   "nbconvert_exporter": "python",
   "pygments_lexer": "ipython3",
   "version": "3.11.4"
  },
  "orig_nbformat": 4
 },
 "nbformat": 4,
 "nbformat_minor": 2
}
