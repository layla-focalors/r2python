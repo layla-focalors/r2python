{
 "cells": [
  {
   "cell_type": "markdown",
   "metadata": {},
   "source": [
    "### 플라스틱의 3가지 유형을 시험한 결과\n",
    "|  플라스틱 유형 / 습도 |  30% |  50% |  70% | 90%  |\n",
    "|:-:|:----:|:----:|:----:|------|\n",
    "| a | 39.0 | 33.1 | 33.8 | 33.0 |\n",
    "| b | 36.9 | 27.2 | 29.7 | 28.5 |\n",
    "| c | 27.4 | 29.2 | 26.7 | 30.9 |"
   ]
  },
  {
   "cell_type": "code",
   "execution_count": 30,
   "metadata": {},
   "outputs": [
    {
     "name": "stdout",
     "output_type": "stream",
     "text": [
      "요인\t\t제곱합\t\t자유도\t\t평균제곱\t\tF-통계량\t\tP-value\n",
      "A\t\t79.272\t\t2\t\t39.636\t\t4.692\t\t0.059\n",
      "B\t\t41.217\t\t3\t\t13.739\t\t1.626\t\t0.280\n",
      "오차\t\t50.688\t\t6\t\t8.448\n",
      "총합\t\t171.177\t\t11\n"
     ]
    }
   ],
   "source": [
    "# 연습문제 7\n",
    "\n",
    "# 접차된 레고(플라스틱) 조각들을 떼어놓는데 필요한 힘을 결정하기 위하여 연구가 이루어졌을 때, 네 가지의 습도를 사용하여 플라스틱의 세 가지 유형을 시험한 결과가 다음과 같다면. 이를 이용하여 분산분석표를 작성하고 결과를 설명하시오.\n",
    "\n",
    "from scipy import stats\n",
    "from math import sqrt\n",
    "\n",
    "data = [[39.0, 33.1, 33.8, 33.0],\n",
    "        [36.9, 27.2, 29.7, 28.5],\n",
    "        [27.4, 29.2, 26.7, 30.9]]\n",
    "\n",
    "n_rows = len(data)\n",
    "n_cols = len(data[0])\n",
    "n_total = n_rows * n_cols\n",
    "\n",
    "grand_mean = sum([sum(row) for row in data]) / n_total\n",
    "ss_humidity = sum([((sum(data[i]) / n_cols) - grand_mean) ** 2 for i in range(n_rows)]) * n_cols\n",
    "ss_plastic_type = sum([((sum([data[i][j] for i in range(n_rows)]) / n_rows) - grand_mean) ** 2 for j in range(n_cols)]) * n_rows\n",
    "ss_total = sum([(data[i][j] - grand_mean) ** 2 for i in range(n_rows) for j in range(n_cols)])\n",
    "ss_error = ss_total - ss_humidity - ss_plastic_type\n",
    "df_humidity = n_rows - 1\n",
    "df_plastic_type = n_cols - 1\n",
    "df_error = df_humidity * df_plastic_type\n",
    "df_total = n_total - 1\n",
    "ms_humidity = ss_humidity / df_humidity\n",
    "ms_plastic_type = ss_plastic_type / df_plastic_type\n",
    "ms_error = ss_error / df_error\n",
    "f_humidity = ms_humidity / ms_error\n",
    "f_plastic_type = ms_plastic_type / ms_error\n",
    "p_humidity = stats.f.sf(f_humidity, df_humidity, df_error)\n",
    "p_plastic_type = stats.f.sf(f_plastic_type, df_plastic_type, df_error)\n",
    "\n",
    "print('요인\\t\\t제곱합\\t\\t자유도\\t\\t평균제곱\\t\\tF-통계량\\t\\tP-value')\n",
    "print('A\\t\\t{:.3f}\\t\\t{}\\t\\t{:.3f}\\t\\t{:.3f}\\t\\t{:.3f}'.format(ss_humidity, df_humidity, ms_humidity, f_humidity, p_humidity))\n",
    "print('B\\t\\t{:.3f}\\t\\t{}\\t\\t{:.3f}\\t\\t{:.3f}\\t\\t{:.3f}'.format(ss_plastic_type, df_plastic_type, ms_plastic_type, f_plastic_type, p_plastic_type))\n",
    "print('오차\\t\\t{:.3f}\\t\\t{}\\t\\t{:.3f}'.format(ss_error, df_error, ms_error))\n",
    "print('총합\\t\\t{:.3f}\\t\\t{}'.format(ss_total, df_total))\n"
   ]
  },
  {
   "cell_type": "code",
   "execution_count": 1,
   "metadata": {},
   "outputs": [
    {
     "name": "stdout",
     "output_type": "stream",
     "text": [
      "요인\t\t제곱합\t\t자유도\t\t평균제곱\t\tF-통계량\t\tP-value\n",
      "A\t\t79.272\t\t2\t\t39.636\t\t4.692\t\t0.059\n",
      "B\t\t41.217\t\t3\t\t13.739\t\t1.626\t\t0.280\n",
      "오차\t\t50.688\t\t6\t\t8.448\n",
      "총합\t\t171.177\t\t11\n"
     ]
    }
   ],
   "source": [
    "import numpy as np\n",
    "import scipy.stats as stats\n",
    "\n",
    "data = np.array([[39.0, 33.1, 33.8, 33.0],\n",
    "                 [36.9, 27.2, 29.7, 28.5],\n",
    "                 [27.4, 29.2, 26.7, 30.9]])\n",
    "\n",
    "# 평균과 제곱합 계산\n",
    "grand_mean = np.mean(data)\n",
    "ss_total = np.sum((data - grand_mean) ** 2)\n",
    "ss_humidity = np.sum((np.mean(data, axis=1) - grand_mean) ** 2) * data.shape[1]\n",
    "ss_plastic_type = np.sum((np.mean(data, axis=0) - grand_mean) ** 2) * data.shape[0]\n",
    "ss_error = ss_total - ss_humidity - ss_plastic_type\n",
    "\n",
    "# 자유도 계산\n",
    "df_humidity = data.shape[0] - 1\n",
    "df_plastic_type = data.shape[1] - 1\n",
    "df_error = df_humidity * df_plastic_type\n",
    "df_total = np.prod(data.shape) - 1\n",
    "\n",
    "# 평균제곱과 F-통계량 계산\n",
    "ms_humidity = ss_humidity / df_humidity\n",
    "ms_plastic_type = ss_plastic_type / df_plastic_type\n",
    "ms_error = ss_error / df_error\n",
    "f_humidity = ms_humidity / ms_error\n",
    "f_plastic_type = ms_plastic_type / ms_error\n",
    "\n",
    "# P-value 계산\n",
    "p_humidity = stats.f.sf(f_humidity, df_humidity, df_error)\n",
    "p_plastic_type = stats.f.sf(f_plastic_type, df_plastic_type, df_error)\n",
    "\n",
    "print('요인\\t\\t제곱합\\t\\t자유도\\t\\t평균제곱\\t\\tF-통계량\\t\\tP-value')\n",
    "print('A\\t\\t{:.3f}\\t\\t{}\\t\\t{:.3f}\\t\\t{:.3f}\\t\\t{:.3f}'.format(ss_humidity, df_humidity, ms_humidity, f_humidity, p_humidity))\n",
    "print('B\\t\\t{:.3f}\\t\\t{}\\t\\t{:.3f}\\t\\t{:.3f}\\t\\t{:.3f}'.format(ss_plastic_type, df_plastic_type, ms_plastic_type, f_plastic_type, p_plastic_type))\n",
    "print('오차\\t\\t{:.3f}\\t\\t{}\\t\\t{:.3f}'.format(ss_error, df_error, ms_error))\n",
    "print('총합\\t\\t{:.3f}\\t\\t{}'.format(ss_total, df_total))\n"
   ]
  }
 ],
 "metadata": {
  "kernelspec": {
   "display_name": "Python 3",
   "language": "python",
   "name": "python3"
  },
  "language_info": {
   "codemirror_mode": {
    "name": "ipython",
    "version": 3
   },
   "file_extension": ".py",
   "mimetype": "text/x-python",
   "name": "python",
   "nbconvert_exporter": "python",
   "pygments_lexer": "ipython3",
   "version": "3.10.0"
  },
  "orig_nbformat": 4
 },
 "nbformat": 4,
 "nbformat_minor": 2
}
