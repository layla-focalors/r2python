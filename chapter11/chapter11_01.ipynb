{
 "cells": [
  {
   "cell_type": "markdown",
   "metadata": {},
   "source": [
    "### 토양과 박테리아의 군집수\n",
    "| 지역1 (A) | 72 | 69 | 63 | 53 | 51 |\n",
    "|:---------:|:--:|:--:|:--:|:--:|----|\n",
    "| 지역2 (B) | 47 | 52 | 45 | 30 |\n",
    "| 지역3 (C) | 56 | 58 | 56 |\n",
    "| 지역4 (D) | 69 | 67 | 62 | "
   ]
  },
  {
   "cell_type": "code",
   "execution_count": 5,
   "metadata": {},
   "outputs": [
    {
     "name": "stdout",
     "output_type": "stream",
     "text": [
      "H-value: 9.6185\n",
      "P-value: 0.0221\n",
      "\n",
      "p-value는 0.0221로, 유의 수준 0.05보다 작다.\n",
      "따라서 귀무 가설을 기각한다.\n"
     ]
    }
   ],
   "source": [
    "# 연습문제 1 / 예제(11.1), p351\n",
    "\n",
    "# 토양의 박테리아 분량을 측정하기 위해 대상 지역을 4개 구로 나누고, 각 지역에서 15개의소의 토양을 채취하여 박테리아의 분량을 측정하였다. 각 지역에 있어서 박테리아의 균집수에는 유의적인 차이가 있는지 분석하시오\n",
    "\n",
    "import pandas as pd\n",
    "from scipy import stats\n",
    "\n",
    "# 귀무가설: 각 지역에 있어서 박테리아의 균집수에는 유의적인 차이가 없다.\n",
    "# 대립가설: 각 지역에 있어서 박테리아의 균집수에는 유의적인 차이가 있다.\n",
    "\n",
    "# 다중 데이터프레임으로 묶을 수 있으나 위와 같이 다중 리스트의 길이가 다른 경우 각 리스트별 저장 후 하나로 합치는 과정이 필요함. (zip 함수 사용)\n",
    "A = [72, 69, 63, 53, 51]\n",
    "B = [47, 52, 45, 30]\n",
    "C = [56, 58, 56]\n",
    "D = [69, 67, 62]\n",
    "\n",
    "df = pd.DataFrame(zip(A, B, C, D), columns=['A', 'B', 'C', 'D'])\n",
    "\n",
    "h_value, p_value = stats.kruskal(df['A'].dropna(), df['B'].dropna(), df['C'].dropna(), df['D'].dropna())\n",
    "\n",
    "print(f'H-value: {round((h_value), 4)}')\n",
    "print(f'P-value: {round((p_value), 4)}\\n')\n",
    "\n",
    "alpha = 0.05\n",
    "if p_value < alpha:\n",
    "    print(f\"p-value는 {p_value:.4f}로, 유의 수준 {alpha}보다 작다.\\n따라서 귀무 가설을 기각한다.\")\n",
    "else:\n",
    "    print(f\"p-value는 {p_value:.4f}로, 유의 수준 {alpha}보다 크거나 같다.\\n따라서 귀무 가설을 기각할 수 없음\")\n"
   ]
  },
  {
   "cell_type": "code",
   "execution_count": 1,
   "metadata": {},
   "outputs": [
    {
     "name": "stdout",
     "output_type": "stream",
     "text": [
      "Collecting pandas\n",
      "  Downloading pandas-2.1.4-cp310-cp310-win_amd64.whl (10.7 MB)\n",
      "Collecting tzdata>=2022.1\n",
      "  Downloading tzdata-2023.3-py2.py3-none-any.whl (341 kB)\n",
      "Requirement already satisfied: python-dateutil>=2.8.2 in c:\\users\\starl\\appdata\\local\\programs\\python\\python310\\lib\\site-packages (from pandas) (2.8.2)\n",
      "Requirement already satisfied: numpy<2,>=1.22.4 in c:\\users\\starl\\appdata\\local\\programs\\python\\python310\\lib\\site-packages (from pandas) (1.26.2)\n",
      "Collecting pytz>=2020.1\n",
      "  Downloading pytz-2023.3.post1-py2.py3-none-any.whl (502 kB)\n",
      "Requirement already satisfied: six>=1.5 in c:\\users\\starl\\appdata\\local\\programs\\python\\python310\\lib\\site-packages (from python-dateutil>=2.8.2->pandas) (1.16.0)\n",
      "Installing collected packages: tzdata, pytz, pandas\n",
      "Successfully installed pandas-2.1.4 pytz-2023.3.post1 tzdata-2023.3\n",
      "Note: you may need to restart the kernel to use updated packages.\n"
     ]
    },
    {
     "name": "stderr",
     "output_type": "stream",
     "text": [
      "WARNING: You are using pip version 21.2.3; however, version 23.3.2 is available.\n",
      "You should consider upgrading via the 'c:\\Users\\starl\\AppData\\Local\\Programs\\Python\\Python310\\python.exe -m pip install --upgrade pip' command.\n"
     ]
    }
   ],
   "source": [
    "%pip install pandas"
   ]
  },
  {
   "cell_type": "code",
   "execution_count": 2,
   "metadata": {},
   "outputs": [
    {
     "name": "stdout",
     "output_type": "stream",
     "text": [
      "H-value: 9.6185\n",
      "P-value: 0.0221\n",
      "\n",
      "p-value는 0.0221로, 유의 수준 0.05보다 작다.\n",
      "따라서 귀무 가설을 기각한다.\n"
     ]
    }
   ],
   "source": [
    "# 연습문제 1 / 예제(11.1), p351\n",
    "import pandas as pd\n",
    "from scipy import stats\n",
    "\n",
    "# 귀무가설: 각 지역에 있어서 박테리아의 균집수에는 유의적인 차이가 없다.\n",
    "# 대립가설: 각 지역에 있어서 박테리아의 균집수에는 유의적인 차이가 있다.\n",
    "\n",
    "A = [72, 69, 63, 53, 51]\n",
    "B = [47, 52, 45, 30]\n",
    "C = [56, 58, 56]\n",
    "D = [69, 67, 62]\n",
    "\n",
    "df = pd.DataFrame(zip(A, B, C, D), columns=['A', 'B', 'C', 'D'])\n",
    "\n",
    "h_value, p_value = stats.kruskal(df['A'].dropna(), df['B'].dropna(), df['C'].dropna(), df['D'].dropna())\n",
    "\n",
    "print(f'H-value: {round((h_value), 4)}')\n",
    "print(f'P-value: {round((p_value), 4)}\\n')\n",
    "\n",
    "alpha = 0.05\n",
    "if p_value < alpha:\n",
    "    print(f\"p-value는 {p_value:.4f}로, 유의 수준 {alpha}보다 작다.\\n따라서 귀무 가설을 기각한다.\")\n",
    "else:\n",
    "    print(f\"p-value는 {p_value:.4f}로, 유의 수준 {alpha}보다 크거나 같다.\\n따라서 귀무 가설을 기각할 수 없음\")\n"
   ]
  }
 ],
 "metadata": {
  "kernelspec": {
   "display_name": "Python 3",
   "language": "python",
   "name": "python3"
  },
  "language_info": {
   "codemirror_mode": {
    "name": "ipython",
    "version": 3
   },
   "file_extension": ".py",
   "mimetype": "text/x-python",
   "name": "python",
   "nbconvert_exporter": "python",
   "pygments_lexer": "ipython3",
   "version": "3.10.0"
  },
  "orig_nbformat": 4
 },
 "nbformat": 4,
 "nbformat_minor": 2
}
