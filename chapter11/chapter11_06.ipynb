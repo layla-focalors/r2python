{
 "cells": [
  {
   "cell_type": "markdown",
   "metadata": {},
   "source": [
    "### 시멘트의 첨가량과 종류에 대한 합분류표\n",
    "| 첨가량 / 종류 |  A1 |  A2 |  A3 |\n",
    "|:-------------:|:---:|:---:|:---:|\n",
    "|       B1      | 607 | 647 | 642 |\n",
    "|       B2      | 672 | 698 | 686 |\n",
    "|       B3      | 730 | 650 | 674 |\n",
    "|       B4      | 746 | 660 | 696 |\n",
    "|       B5      | 749 | 657 | 700 |\n",
    "|       B6      | 698 | 618 | 658 |"
   ]
  },
  {
   "cell_type": "code",
   "execution_count": null,
   "metadata": {},
   "outputs": [],
   "source": [
    "# 연습문제 6 / 예제(11.6), p366\n",
    "\n",
    "# 시멘트 분쇄공정에서 시멘트 강도에 영향을 주는 여러 요인 중에서 우선적으로 석고의 종류(A) 와 석고첨가량으로 사용되는 SO(3)함량 (B)가 어떤 영향을 주는 지 실험한 결과가 다음과 같았을 때, 석고 종류의 효과, 첨가량에 대한 효과가 있는지와 석고의 종류와 첨가량 사이에 교호작용의 효과가 있는지를 검정하시오\n",
    "\n",
    "# [ 조건 ]\n",
    "# 1. 유의수준은 0.05로 한다.\n",
    "\n",
    "import pandas as pd\n",
    "from scipy import stats\n",
    "\n",
    "data = {'A1': [607, 672, 730, 746, 749, 698],\n",
    "        'A2': [647, 698, 650, 660, 657, 618],\n",
    "        'A3': [642, 686, 674, 696, 700, 658]}\n",
    "\n",
    "df = pd.DataFrame(data)\n",
    "\n",
    "f_value1, p_value1 = stats.f_oneway(df['A1'], df['A2'], df['A3'])\n",
    "\n",
    "# 귀무가설: 석고의 종류에 따른 시멘트 강도의 차이가 없다.\n",
    "# 대립가설: 석고의 종류에 따른 시멘트 강도의 차이가 있다.\n",
    "\n",
    "print(f'F-value (type of 석고): {f_value1}')\n",
    "print(f'P-value (type of 석고): {p_value1}')\n",
    "\n",
    "alpha = 0.05\n",
    "if p_value1 < alpha:   \n",
    "    print(f\"p-value는 {p_value1:.4f}로, 유의 수준 {alpha}보다 작다.\\n따라서 귀무 가설을 기각한다.\")    \n",
    "else:\n",
    "    print(f\"p-value는 {p_value1:.4f}로, 유의 수준 {alpha}보다 크거나 같다.\\n따라서 귀무 가설을 기각할 수 없음\")   \n",
    "\n",
    "f_value2, p_value2 = stats.f_oneway(df.loc['B1'], df.loc['B2'], df.loc['B3'], df.loc['B4'], df.loc['B5'], df.loc['B6'])\n",
    "\n",
    "# 귀무가설: 첨가량에 따른 시멘트 강도의 차이가 없다.\n",
    "# 대립가설: 첨가량에 따른 시멘트 강도의 차이가 있다.\n",
    "\n",
    "print(f'\\nF-value (amount of SO(3) added): {f_value2}')\n",
    "print(f'P-value (amount of SO(3) added): {p_value2}')\n",
    "\n",
    "alpha = 0.05\n",
    "if p_value2 < alpha:   \n",
    "    print(f\"p-value는 {p_value2:.4f}로, 유의 수준 {alpha}보다 작다.\\n따라서 귀무 가설을 기각한다.\")    \n",
    "else:\n",
    "    print(f\"p-value는 {p_value2:.4f}로, 유의 수준 {alpha}보다 크거나 같다.\\n따라서 귀무 가설을 기각할 수 없음\")   \n",
    "\n",
    "_, p_value3 = stats.f_oneway(df['A1'], df['A2'], df['A3'], df.loc['B1'], df.loc['B2'], df.loc['B3'], df.loc['B4'], df.loc['B5'], df.loc['B6'])\n",
    "\n",
    "# 귀무가설: 석고의 종류와 첨가량 사이에 교호작용의 효과가 없다.\n",
    "# 대립가설: 석고의 종류와 첨가량 사이에 교호작용의 효과가 있다.\n",
    "\n",
    "print(f'\\nP-value (interaction effect): {p_value3}')\n",
    "\n",
    "alpha = 0.05\n",
    "if p_value3 < alpha:   \n",
    "    print(f\"p-value는 {p_value3:.4f}로, 유의 수준 {alpha}보다 작다.\\n따라서 귀무 가설을 기각한다.\")    \n",
    "else:\n",
    "    print(f\"p-value는 {p_value3:.4f}로, 유의 수준 {alpha}보다 크거나 같다.\\n따라서 귀무 가설을 기각할 수 없음\")   \n"
   ]
  }
 ],
 "metadata": {
  "kernelspec": {
   "display_name": "Python 3",
   "language": "python",
   "name": "python3"
  },
  "language_info": {
   "name": "python",
   "version": "3.11.4"
  },
  "orig_nbformat": 4
 },
 "nbformat": 4,
 "nbformat_minor": 2
}
