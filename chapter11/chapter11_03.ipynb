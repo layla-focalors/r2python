{
 "cells": [
  {
   "cell_type": "markdown",
   "metadata": {},
   "source": [
    "### 기계와 공원이 제작한 부품의 수\n",
    "| 기계 / 공원 | 공원1 (1) | 공원2 (2) | 공원3 (3) |\n",
    "|:-----------:|:---------:|:---------:|:---------:|\n",
    "|  기계A (A)  |     1     |     0     |     -1    |\n",
    "| 기계B (B)   |     3     |     2     |     1     |\n",
    "| 기계C (C)   |     2     |     3     |     0     |\n",
    "| 기계D (D)   |     6     |     3     |     -3    |"
   ]
  },
  {
   "cell_type": "code",
   "execution_count": 7,
   "metadata": {},
   "outputs": [
    {
     "name": "stdout",
     "output_type": "stream",
     "text": [
      "F-value (개인차 검정) : 4.72\n",
      "P-value (개인차 검정) : 0.04\n",
      "\n",
      "p-value는 0.0396로, 유의 수준 0.05보다 작다.\n",
      "따라서 귀무 가설을 기각한다.\n",
      "\n",
      "---------------------------------------------\n",
      "\n",
      "F-value (기계차 검정) : 0.43\n",
      "P-value (기계차 검정) : 0.73\n",
      "\n",
      "p-value는 0.7344로, 유의 수준 0.05보다 크거나 같다.\n",
      "따라서 귀무 가설을 기각할 수 없음\n"
     ]
    }
   ],
   "source": [
    "# 연습문제 3 / 예제(11.3), p357\n",
    "\n",
    "# 공원1 , 공원2, 공원3이 기계(A~D)를 사용하여 하루에 생산하는 제품의 수는 다음과 같았을 때, 기계의 차에 의한 영향을 배제하고 개인차를 검정하여라 또한 개인차를 배제한 기계에 의한 제품수의 평균차(기계의 우열)을 검정하라\n",
    "\n",
    "# [ 조건 ]\n",
    "# 1. 평균값 사이의 차를 조사하면 유의차는 인정되지 않는다.\n",
    "# 2. 데이터는 기계의 차에 의한 변동 때문에 개인차에 의한 변동이 나타나지 않을 수도 있다.\n",
    "# 3. 데이터의 각 제품 수는 제조한 제품 개수에서 [35]개를 제외한 것이다.\n",
    "\n",
    "import pandas as pd\n",
    "from scipy import stats\n",
    "\n",
    "# 귀무가설 : 기계에 의한 차이가 없다.\n",
    "# 대립가설 : 기계에 의한 차이가 있다.\n",
    "\n",
    "data = {'1': [1, 3, 2, 6],\n",
    "        '2': [0, 2, 3, 3],\n",
    "        '3': [-1, 1, 0, -3]}\n",
    "\n",
    "df = pd.DataFrame(data, columns=['1', '2', '3'], index=['A', 'B', 'C', 'D'])\n",
    "\n",
    "# 개인차 검정\n",
    "f_value, p_value = stats.f_oneway(df['1'], df['2'], df['3'])\n",
    "\n",
    "print(f'F-value (개인차 검정) : {round((f_value), 2)}')\n",
    "print(f'P-value (개인차 검정) : {round((p_value), 2)}\\n')\n",
    "\n",
    "alpha = 0.05\n",
    "if p_value < alpha:   \n",
    "    print(f\"p-value는 {p_value:.4f}로, 유의 수준 {alpha}보다 작다.\\n따라서 귀무 가설을 기각한다.\")    \n",
    "else:\n",
    "    print(f\"p-value는 {p_value:.4f}로, 유의 수준 {alpha}보다 크거나 같다.\\n따라서 귀무 가설을 기각할 수 없음\")\n",
    "\n",
    "print(\"\\n---------------------------------------------\")\n",
    "# 기계 차이 검정\n",
    "f_value, p_value = stats.f_oneway(df.loc['A'], df.loc['B'], df.loc['C'], df.loc['D'])\n",
    "\n",
    "print(f'\\nF-value (기계차 검정) : {round((f_value), 2)}')\n",
    "print(f'P-value (기계차 검정) : {round((p_value), 2)}\\n')\n",
    "\n",
    "alpha = 0.05\n",
    "if p_value < alpha:   \n",
    "    print(f\"p-value는 {p_value:.4f}로, 유의 수준 {alpha}보다 작다.\\n따라서 귀무 가설을 기각한다.\")    \n",
    "else:\n",
    "    print(f\"p-value는 {p_value:.4f}로, 유의 수준 {alpha}보다 크거나 같다.\\n따라서 귀무 가설을 기각할 수 없음\")\n"
   ]
  }
 ],
 "metadata": {
  "kernelspec": {
   "display_name": "Python 3",
   "language": "python",
   "name": "python3"
  },
  "language_info": {
   "codemirror_mode": {
    "name": "ipython",
    "version": 3
   },
   "file_extension": ".py",
   "mimetype": "text/x-python",
   "name": "python",
   "nbconvert_exporter": "python",
   "pygments_lexer": "ipython3",
   "version": "3.11.4"
  },
  "orig_nbformat": 4
 },
 "nbformat": 4,
 "nbformat_minor": 2
}
