{
 "cells": [
  {
   "cell_type": "markdown",
   "metadata": {},
   "source": [
    "### 처리에 따른 칼슘의 변화\n",
    "| 성별 / 처리 | 처리1 (x1) | 처리2 (x2) | 처리3 (x3) |\n",
    "|-------------|------------|------------|------------|\n",
    "| 남(y1)    |      16.87      |     19.07       |     32.45       |\n",
    "|       남(y1)      |     16.18       |     18.77       |      28.71      |\n",
    "|      남(y1)       |      17.12      |       17.63     |      34.65      |\n",
    "|        남(y1)     |     16.83       |     16.99       |      28.79      |\n",
    "|      남(y1)       |       17.19     |      18.04      |      24.46      |\n",
    "|       여(y2)      |      15.86      |      17.20      |      30.54      |\n",
    "|       여(y2)      |       14.92     |      17.64      |      32.41      |\n",
    "|      여(y2)      |       15.63     |      17.89      |      28.97      |\n",
    "|        여(y2)     |      15.24      |      16.78      |       28.46     |\n",
    "|        여(y2)     |       14.80     |       16.72     |       29.65     |"
   ]
  },
  {
   "cell_type": "code",
   "execution_count": 3,
   "metadata": {},
   "outputs": [
    {
     "name": "stdout",
     "output_type": "stream",
     "text": [
      "1. 남녀 간의 혈액칼슘값에 차이가 있는가?\n",
      "F-value (gender): 1.2281053891636358\n",
      "P-value (gender): 0.2999781499107576\n",
      "p-value는 0.3000로, 유의 수준 0.05보다 크거나 같다.\n",
      "따라서 귀무 가설을 기각할 수 없음\n",
      "\n",
      "2. 처리 1,2,3 간의 혈액칼슘값에 차이가 있는가?\n",
      "F-value (hormone treatment): 183.84284815750473\n",
      "P-value (hormone treatment): 1.8793907468359085e-16\n",
      "p-value는 0.0000로, 유의 수준 0.05보다 작다.\n",
      "따라서 귀무 가설을 기각한다.\n",
      "\n",
      "3. 성별과 처리 간의 상호작용(교호작용)이 있는가?\n",
      "P-value (상호작용(p)): 3.5024986934065393e-19\n",
      "p-value는 0.0000로, 유의 수준 0.05보다 작다.\n",
      "따라서 귀무 가설을 기각한다.\n"
     ]
    }
   ],
   "source": [
    "# 예제(11.5)\n",
    "\n",
    "# 세 종류의 호르몬 처리와 성별에 따라 혈액 칼슘값에 차이가 있는지 알아보기 위해 남녀 각 15명씩 선정하여 세 집단으로 나누어 세 가지 호르몬 처리를 한 후 혈액 칼슘을 측정한 결과가 다음과 같을 때, 조건을 따라 검정하시오\n",
    "\n",
    "# [ 조건 ]\n",
    "# 1. 남녀 간의 혈액칼슘값에 차이가 있는가?\n",
    "# 2. 처리 1,2,3 간의 혈액칼슘값에 차이가 있는가?\n",
    "# 3. 성별과 처리 간의 상호작용(교호작용)이 있는가?\n",
    "\n",
    "import pandas as pd\n",
    "from scipy import stats\n",
    "\n",
    "data = {'x1': [16.87, 16.18, 17.12, 16.83, 17.19, 15.86, 14.92, 15.63, 15.24, 14.80],\n",
    "        'x2': [19.07, 18.77, 17.63, 16.99, 18.04, 17.20, 17.64, 17.89, 16.78, 16.72],\n",
    "        'x3': [32.45, 28.71, 34.65, 28.79, 24.46, 30.54, 32.41, 28.97, 28.46, 29.65]}\n",
    "\n",
    "df = pd.DataFrame(data)\n",
    "\n",
    "f_value1, p_value1 = stats.f_oneway(df.loc[:4].mean(axis=1), df.loc[5:].mean(axis=1))\n",
    "\n",
    "# 귀무가설: 남녀 간의 혈액칼슘값에 차이가 없다.\n",
    "# 대립가설: 남녀 간의 혈액칼슘값에 차이가 있다.\n",
    "\n",
    "print('1. 남녀 간의 혈액칼슘값에 차이가 있는가?')\n",
    "print(f'F-value (gender): {f_value1}')\n",
    "print(f'P-value (gender): {p_value1}')\n",
    "\n",
    "alpha = 0.05\n",
    "if p_value1 < alpha:   \n",
    "    print(f\"p-value는 {p_value1:.4f}로, 유의 수준 {alpha}보다 작다.\\n따라서 귀무 가설을 기각한다.\")    \n",
    "else:\n",
    "    print(f\"p-value는 {p_value1:.4f}로, 유의 수준 {alpha}보다 크거나 같다.\\n따라서 귀무 가설을 기각할 수 없음\")  \n",
    "\n",
    "f_value2, p_value2 = stats.f_oneway(df['x1'], df['x2'], df['x3'])\n",
    "\n",
    "# 귀무가설: 처리 1,2,3 간의 혈액칼슘값에 차이가 없다.\n",
    "# 대립가설: 처리 1,2,3 간의 혈액칼슘값에 차이가 있다.\n",
    "\n",
    "print('\\n2. 처리 1,2,3 간의 혈액칼슘값에 차이가 있는가?')\n",
    "print(f'F-value (hormone treatment): {f_value2}')\n",
    "print(f'P-value (hormone treatment): {p_value2}')\n",
    "\n",
    "alpha = 0.05\n",
    "if p_value2 < alpha:   \n",
    "    print(f\"p-value는 {p_value2:.4f}로, 유의 수준 {alpha}보다 작다.\\n따라서 귀무 가설을 기각한다.\")    \n",
    "else:\n",
    "    print(f\"p-value는 {p_value2:.4f}로, 유의 수준 {alpha}보다 크거나 같다.\\n따라서 귀무 가설을 기각할 수 없음\")  \n",
    "\n",
    "_, p_value3 = stats.f_oneway(df.loc[:4].mean(axis=1), df.loc[5:].mean(axis=1), df['x1'], df['x2'], df['x3'])\n",
    "f_value3 = stats.f_oneway(df.loc[:4].mean(axis=1), df.loc[5:].mean(axis=1), df['x1'], df['x2'], df['x3']).statistic\n",
    "# 귀무가설: 성별과 처리 간의 상호작용(교호작용)이 없다.\n",
    "# 대립가설: 성별과 처리 간의 상호작용(교호작용)이 있다.\n",
    "\n",
    "print('\\n3. 성별과 처리 간의 상호작용(교호작용)이 있는가?')\n",
    "print(f'P-value (상호작용(p)): {p_value3}')\n",
    "\n",
    "alpha = 0.05\n",
    "if p_value3 < alpha:   \n",
    "    print(f\"p-value는 {p_value3:.4f}로, 유의 수준 {alpha}보다 작다.\\n따라서 귀무 가설을 기각한다.\")    \n",
    "else:\n",
    "    print(f\"p-value는 {p_value3:.4f}로, 유의 수준 {alpha}보다 크거나 같다.\\n따라서 귀무 가설을 기각할 수 없음\")  \n"
   ]
  }
 ],
 "metadata": {
  "kernelspec": {
   "display_name": "Python 3",
   "language": "python",
   "name": "python3"
  },
  "language_info": {
   "codemirror_mode": {
    "name": "ipython",
    "version": 3
   },
   "file_extension": ".py",
   "mimetype": "text/x-python",
   "name": "python",
   "nbconvert_exporter": "python",
   "pygments_lexer": "ipython3",
   "version": "3.11.4"
  },
  "orig_nbformat": 4
 },
 "nbformat": 4,
 "nbformat_minor": 2
}
