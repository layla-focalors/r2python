{
 "cells": [
  {
   "cell_type": "markdown",
   "metadata": {},
   "source": [
    "### 기능공이 기계를 사용해 생산한 제품의 양\n",
    "|  기계 / 기능공  | b1 | b2 | b3 | b4  | b5 |\n",
    "|:--:|:--:|:--:|:--:|-----|----|\n",
    "| a2 | 90 | 98 | 99 | 100 | 96 |\n",
    "| a2 | 92 | 92 | 93 | 94  | 98 |\n",
    "| a3 | 95 | 93 | 91 | 96  | 90 |\n",
    "| a4 | 95 | 96 | 97 | 93  | 99 |"
   ]
  },
  {
   "cell_type": "code",
   "execution_count": null,
   "metadata": {},
   "outputs": [],
   "source": [
    "# 연습문제 2 p370, node (5)\n",
    "\n",
    "# 생산 공장에서 5명의 기능공 (b1~b5)가 4대의 기계 (a1~4)를 하루씩 이용하여 생산한 제품의 양을 조사한 결과이다. 제품을 생산하는데 기능공 사이에 효과가 다른지, 기계들의 효과가 다른지 검정하시오\n",
    "\n",
    "\n"
   ]
  }
 ],
 "metadata": {
  "kernelspec": {
   "display_name": "Python 3",
   "language": "python",
   "name": "python3"
  },
  "language_info": {
   "name": "python",
   "version": "3.11.4"
  },
  "orig_nbformat": 4
 },
 "nbformat": 4,
 "nbformat_minor": 2
}
