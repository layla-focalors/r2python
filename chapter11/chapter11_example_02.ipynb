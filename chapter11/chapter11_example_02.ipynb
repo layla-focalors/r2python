{
 "cells": [
  {
   "cell_type": "markdown",
   "metadata": {},
   "source": [
    "### 기능공이 기계를 사용해 생산한 제품의 양\n",
    "|  기계 / 기능공  | b1 | b2 | b3 | b4  | b5 |\n",
    "|:--:|:--:|:--:|:--:|-----|----|\n",
    "| a2 | 90 | 98 | 99 | 100 | 96 |\n",
    "| a2 | 92 | 92 | 93 | 94  | 98 |\n",
    "| a3 | 95 | 93 | 91 | 96  | 90 |\n",
    "| a4 | 95 | 96 | 97 | 93  | 99 |"
   ]
  },
  {
   "cell_type": "code",
   "execution_count": 1,
   "metadata": {},
   "outputs": [
    {
     "name": "stdout",
     "output_type": "stream",
     "text": [
      "F-value (workers): 0.481042654028436\n",
      "P-value (workers): 0.7493498549100586\n",
      "p-value는 0.7493로, 유의 수준 0.05보다 크거나 같다.\n",
      "따라서 귀무 가설을 기각할 수 없음\n",
      "\n",
      "F-value (machines): 2.045197740112995\n",
      "P-value (machines): 0.172062870805254\n",
      "p-value는 0.1721로, 유의 수준 0.05보다 크거나 같다.\n",
      "따라서 귀무 가설을 기각할 수 없음\n"
     ]
    }
   ],
   "source": [
    "# 연습문제 2 p370, node (5)\n",
    "\n",
    "# 생산 공장에서 5명의 기능공 (b1~b5)가 4대의 기계 (a1~4)를 하루씩 이용하여 생산한 제품의 양을 조사한 결과이다. 제품을 생산하는데 기능공 사이에 효과가 다른지, 기계들의 효과가 다른지 검정하시오\n",
    "\n",
    "import pandas as pd\n",
    "from scipy import stats\n",
    "\n",
    "data = {'b1': [90, 92, 95, 95],\n",
    "        'b2': [98, 92, 93, 96],\n",
    "        'b3': [99, 93, 91, 97],\n",
    "        'b4': [100, 94, 96, 93],\n",
    "        'b5': [96, 98, 90, 99]}\n",
    "\n",
    "df = pd.DataFrame(data, columns=['b1', 'b2', 'b3', 'b4', 'b5'], index=['a1', 'a2', 'a3', 'a4'])\n",
    "\n",
    "f_value1, p_value1 = stats.f_oneway(df['b1'], df['b2'], df['b3'], df['b4'], df['b5'])\n",
    "\n",
    "\n",
    "print('1. 제품을 생산하는데 기능공 사이에 효과가 다른지 검정하시오')\n",
    "print(f'F-value (workers): {f_value1}')\n",
    "print(f'P-value (workers): {p_value1}')\n",
    "\n",
    "alpha = 0.05\n",
    "if p_value1 < alpha:   \n",
    "    print(f\"p-value는 {p_value1:.4f}로, 유의 수준 {alpha}보다 작다.\\n따라서 귀무 가설을 기각한다.\")    \n",
    "else:\n",
    "    print(f\"p-value는 {p_value1:.4f}로, 유의 수준 {alpha}보다 크거나 같다.\\n따라서 귀무 가설을 기각할 수 없음\")   \n",
    "\n",
    "# Test for the effect of machines\n",
    "f_value2, p_value2 = stats.f_oneway(df.loc['a2'], df.loc['a3'], df.loc['a4'])\n",
    "\n",
    "print('\\n2. 기계들의 효과가 다른지 검정하시오')\n",
    "print(f'F-value (machines): {f_value2}')\n",
    "print(f'P-value (machines): {p_value2}')\n",
    "\n",
    "alpha = 0.05\n",
    "if p_value2 < alpha:   \n",
    "    print(f\"p-value는 {p_value2:.4f}로, 유의 수준 {alpha}보다 작다.\\n따라서 귀무 가설을 기각한다.\")    \n",
    "else:\n",
    "    print(f\"p-value는 {p_value2:.4f}로, 유의 수준 {alpha}보다 크거나 같다.\\n따라서 귀무 가설을 기각할 수 없음\")   \n"
   ]
  }
 ],
 "metadata": {
  "kernelspec": {
   "display_name": "Python 3",
   "language": "python",
   "name": "python3"
  },
  "language_info": {
   "codemirror_mode": {
    "name": "ipython",
    "version": 3
   },
   "file_extension": ".py",
   "mimetype": "text/x-python",
   "name": "python",
   "nbconvert_exporter": "python",
   "pygments_lexer": "ipython3",
   "version": "3.11.4"
  },
  "orig_nbformat": 4
 },
 "nbformat": 4,
 "nbformat_minor": 2
}
