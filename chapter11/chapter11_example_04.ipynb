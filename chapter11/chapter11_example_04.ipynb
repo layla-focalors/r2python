{
 "cells": [
  {
   "cell_type": "markdown",
   "metadata": {},
   "source": [
    "### 네 종류 기계와 세 사람의 기능공의 제품 생산량\n",
    "|  기능공 / 기계 |     1    |     2    |     3    |     4    |\n",
    "|:-:|:--------:|:--------:|:--------:|:--------:|\n",
    "| A | 19 15 13 | 20 12 15 |  10 15 8 | 15 10 14 |\n",
    "| B | 21 20 17 | 23 20 21 | 13 17 12 | 20 17 15 |\n",
    "| C | 17 20 16 | 25 20 20 |  12 7 10 | 20 15 15 |"
   ]
  },
  {
   "cell_type": "code",
   "execution_count": 14,
   "metadata": {},
   "outputs": [
    {
     "name": "stdout",
     "output_type": "stream",
     "text": [
      "1. 세 기능공의 능력은 같은가?\n",
      "p-value는 0.3113로, 유의 수준 0.05보다 크거나 같다.\n",
      "따라서 귀무 가설을 기각할 수 없음\n",
      "\n",
      "2 네 종류의 기계의 성능은 같은가?\n",
      "p-value는 0.0234로, 유의 수준 0.05보다 작다.\n",
      "따라서 귀무 가설을 기각한다.\n",
      "\n",
      "3. 네 종류의 기계와 세 기능공의 상호작용(교호작용)이 있는가?\n",
      "p-value는 0.1054로, 유의 수준 0.05보다 크거나 같다.\n",
      "따라서 귀무 가설을 기각할 수 없음\n"
     ]
    }
   ],
   "source": [
    "# 연습문제 9\n",
    "\n",
    "# 네 종류 기계와 세 사람의 기능공이 생산하는 제품의 생산량을 3회 반복하여 측정한 자료는 다음과 같다. 이때 [조건]을 유의수준 5%에서 검정하시오.\n",
    "\n",
    "# [ 조건 ] \n",
    "# 1. 세 기능공의 능력은 같은가?\n",
    "# 2. 네 종류의 기계의 성능은 같은가?\n",
    "# 3. 네 종류의 기계와 세 기능공의 상호작용(교호작용)이 있는가?\n",
    "\n",
    "import pandas as pd\n",
    "from scipy import stats\n",
    "\n",
    "data = {'1': [47, 58, 53], '2': [47, 64, 65], '3': [33, 42, 29], '4': [39, 52, 50]}\n",
    "df = pd.DataFrame(data, index=['A', 'B', 'C'])\n",
    "\n",
    "print('1. 세 기능공의 능력은 같은가?')\n",
    "fvalue, p_value = stats.f_oneway(df.loc['A'], df.loc['B'], df.loc['C'])\n",
    "alpha = 0.05\n",
    "if p_value < alpha:   \n",
    "    print(f\"p-value는 {p_value:.4f}로, 유의 수준 {alpha}보다 작다.\\n따라서 귀무 가설을 기각한다.\")    \n",
    "else:\n",
    "    print(f\"p-value는 {p_value:.4f}로, 유의 수준 {alpha}보다 크거나 같다.\\n따라서 귀무 가설을 기각할 수 없음\")   \n",
    "    \n",
    "print('\\n2 네 종류의 기계의 성능은 같은가?')\n",
    "fvalue, p_value = stats.f_oneway(df['1'], df['2'], df['3'], df['4'])\n",
    "alpha = 0.05\n",
    "if p_value < alpha:   \n",
    "    print(f\"p-value는 {p_value:.4f}로, 유의 수준 {alpha}보다 작다.\\n따라서 귀무 가설을 기각한다.\")    \n",
    "else:\n",
    "    print(f\"p-value는 {p_value:.4f}로, 유의 수준 {alpha}보다 크거나 같다.\\n따라서 귀무 가설을 기각할 수 없음\")   \n",
    "\n",
    "print('\\n3. 네 종류의 기계와 세 기능공의 상호작용(교호작용)이 있는가?')\n",
    "_, p_value = stats.friedmanchisquare(df.loc['A'], df.loc['B'], df.loc['C'])\n",
    "alpha = 0.05\n",
    "if p_value < alpha:   \n",
    "    print(f\"p-value는 {p_value:.4f}로, 유의 수준 {alpha}보다 작다.\\n따라서 귀무 가설을 기각한다.\")    \n",
    "else:\n",
    "    print(f\"p-value는 {p_value:.4f}로, 유의 수준 {alpha}보다 크거나 같다.\\n따라서 귀무 가설을 기각할 수 없음\")   \n"
   ]
  },
  {
   "cell_type": "code",
   "execution_count": 21,
   "metadata": {},
   "outputs": [
    {
     "ename": "SyntaxError",
     "evalue": "incomplete input (3263216018.py, line 23)",
     "output_type": "error",
     "traceback": [
      "\u001b[1;36m  Cell \u001b[1;32mIn[21], line 23\u001b[1;36m\u001b[0m\n\u001b[1;33m    print('총합\\t\\t{:.3f}\\t\\t{}'.format(ss_total\u001b[0m\n\u001b[1;37m                                              ^\u001b[0m\n\u001b[1;31mSyntaxError\u001b[0m\u001b[1;31m:\u001b[0m incomplete input\n"
     ]
    }
   ],
   "source": [
    "import pandas as pd\n",
    "\n",
    "# Data\n",
    "data = {'1': [47, 58, 53], '2': [47, 64, 65], '3': [33, 42, 29], '4': [39, 52, 50]}\n",
    "df = pd.DataFrame(data, index=['A', 'B', 'C'])\n",
    "\n",
    "# Calculate sum of squares\n",
    "ss_total = sum((df[i] - df[i].mean())**2 for i in df.columns).sum()\n",
    "\n",
    "# Calculate degrees of freedom\n",
    "df_total = len(df.values.flatten()) - 1\n",
    "df_error = df_total - len(df.columns) - len(df.index)\n",
    "\n",
    "# Calculate mean square\n",
    "ms_error = ss_total / df_error\n",
    "\n",
    "# Calculate F-value\n",
    "f_value = ms_error / df_error\n",
    "\n",
    "# Print the results in a table format\n",
    "print('요인\\t\\t제곱합\\t\\t자유도\\t\\t평균제곱\\t\\tF-통계량')\n",
    "print('오차\\t\\t{:.3f}\\t\\t{}\\t\\t{:.3f}\\t\\t{:.3f}'.format(ss_total, df_error, ms_error, f_value))\n",
    "print('총합\\t\\t{:.3f}\\t\\t{}'.format(ss_total, df_total))\n"
   ]
  }
 ],
 "metadata": {
  "kernelspec": {
   "display_name": "Python 3",
   "language": "python",
   "name": "python3"
  },
  "language_info": {
   "codemirror_mode": {
    "name": "ipython",
    "version": 3
   },
   "file_extension": ".py",
   "mimetype": "text/x-python",
   "name": "python",
   "nbconvert_exporter": "python",
   "pygments_lexer": "ipython3",
   "version": "3.11.4"
  },
  "orig_nbformat": 4
 },
 "nbformat": 4,
 "nbformat_minor": 2
}
