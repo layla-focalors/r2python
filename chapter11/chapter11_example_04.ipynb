{
 "cells": [
  {
   "cell_type": "code",
   "execution_count": null,
   "metadata": {},
   "outputs": [],
   "source": [
    "# 연습문제 4 p372, node (9)\n",
    "\n",
    "# 네 종류 기계와 세 사람의 기능공이 생산하는 제품의 생산량을 3회 반복하여 측정한 자료는 다음과 같다. 이때 [조건]을 유의수준 5%에서 검정하시오.\n",
    "\n",
    "# [ 조건 ] \n",
    "# 1. 세 기능공의 능력은 같은가?\n",
    "# 2. 네 종류의 기계의 성능은 같은가?\n",
    "# 3. 네 종류의 기계와 세 기능공의 상호작용(교호작용)이 있는가?"
   ]
  }
 ],
 "metadata": {
  "kernelspec": {
   "display_name": "Python 3",
   "language": "python",
   "name": "python3"
  },
  "language_info": {
   "name": "python",
   "version": "3.11.4"
  },
  "orig_nbformat": 4
 },
 "nbformat": 4,
 "nbformat_minor": 2
}
