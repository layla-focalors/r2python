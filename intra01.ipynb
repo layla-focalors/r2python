{
 "cells": [
  {
   "cell_type": "code",
   "execution_count": 1,
   "metadata": {},
   "outputs": [
    {
     "name": "stderr",
     "output_type": "stream",
     "text": [
      "findfont: Font family 'Malgun Gothic' not found.\n",
      "findfont: Font family 'Malgun Gothic' not found.\n",
      "/home/codespace/.local/lib/python3.12/site-packages/IPython/core/pylabtools.py:170: UserWarning: Glyph 52258 (\\N{HANGUL SYLLABLE JJIJ}) missing from font(s) DejaVu Sans.\n",
      "  fig.canvas.print_figure(bytes_io, **kw)\n",
      "/home/codespace/.local/lib/python3.12/site-packages/IPython/core/pylabtools.py:170: UserWarning: Glyph 50612 (\\N{HANGUL SYLLABLE EO}) missing from font(s) DejaVu Sans.\n",
      "  fig.canvas.print_figure(bytes_io, **kw)\n",
      "/home/codespace/.local/lib/python3.12/site-packages/IPython/core/pylabtools.py:170: UserWarning: Glyph 51664 (\\N{HANGUL SYLLABLE JIM}) missing from font(s) DejaVu Sans.\n",
      "  fig.canvas.print_figure(bytes_io, **kw)\n",
      "findfont: Font family 'Malgun Gothic' not found.\n",
      "/home/codespace/.local/lib/python3.12/site-packages/IPython/core/pylabtools.py:170: UserWarning: Glyph 44396 (\\N{HANGUL SYLLABLE GU}) missing from font(s) DejaVu Sans.\n",
      "  fig.canvas.print_figure(bytes_io, **kw)\n",
      "/home/codespace/.local/lib/python3.12/site-packages/IPython/core/pylabtools.py:170: UserWarning: Glyph 47693 (\\N{HANGUL SYLLABLE MEONG}) missing from font(s) DejaVu Sans.\n",
      "  fig.canvas.print_figure(bytes_io, **kw)\n",
      "findfont: Font family 'Malgun Gothic' not found.\n",
      "/home/codespace/.local/lib/python3.12/site-packages/IPython/core/pylabtools.py:170: UserWarning: Glyph 51217 (\\N{HANGUL SYLLABLE JEOB}) missing from font(s) DejaVu Sans.\n",
      "  fig.canvas.print_figure(bytes_io, **kw)\n",
      "/home/codespace/.local/lib/python3.12/site-packages/IPython/core/pylabtools.py:170: UserWarning: Glyph 55192 (\\N{HANGUL SYLLABLE HIM}) missing from font(s) DejaVu Sans.\n",
      "  fig.canvas.print_figure(bytes_io, **kw)\n",
      "findfont: Font family 'Malgun Gothic' not found.\n",
      "/home/codespace/.local/lib/python3.12/site-packages/IPython/core/pylabtools.py:170: UserWarning: Glyph 44592 (\\N{HANGUL SYLLABLE GI}) missing from font(s) DejaVu Sans.\n",
      "  fig.canvas.print_figure(bytes_io, **kw)\n",
      "/home/codespace/.local/lib/python3.12/site-packages/IPython/core/pylabtools.py:170: UserWarning: Glyph 53440 (\\N{HANGUL SYLLABLE TA}) missing from font(s) DejaVu Sans.\n",
      "  fig.canvas.print_figure(bytes_io, **kw)\n",
      "findfont: Font family 'Malgun Gothic' not found.\n",
      "findfont: Font family 'Malgun Gothic' not found.\n",
      "findfont: Font family 'Malgun Gothic' not found.\n",
      "findfont: Font family 'Malgun Gothic' not found.\n",
      "findfont: Font family 'Malgun Gothic' not found.\n",
      "findfont: Font family 'Malgun Gothic' not found.\n",
      "findfont: Font family 'Malgun Gothic' not found.\n",
      "findfont: Font family 'Malgun Gothic' not found.\n",
      "findfont: Font family 'Malgun Gothic' not found.\n",
      "findfont: Font family 'Malgun Gothic' not found.\n",
      "findfont: Font family 'Malgun Gothic' not found.\n",
      "findfont: Font family 'Malgun Gothic' not found.\n",
      "findfont: Font family 'Malgun Gothic' not found.\n",
      "findfont: Font family 'Malgun Gothic' not found.\n",
      "findfont: Font family 'Malgun Gothic' not found.\n",
      "findfont: Font family 'Malgun Gothic' not found.\n",
      "findfont: Font family 'Malgun Gothic' not found.\n",
      "findfont: Font family 'Malgun Gothic' not found.\n",
      "findfont: Font family 'Malgun Gothic' not found.\n",
      "findfont: Font family 'Malgun Gothic' not found.\n",
      "findfont: Font family 'Malgun Gothic' not found.\n",
      "findfont: Font family 'Malgun Gothic' not found.\n",
      "findfont: Font family 'Malgun Gothic' not found.\n",
      "findfont: Font family 'Malgun Gothic' not found.\n"
     ]
    },
    {
     "data": {
      "image/png": "[encoded data removed]",
      "text/plain": [
       "<Figure size 640x480 with 1 Axes>"
      ]
     },
     "metadata": {},
     "output_type": "display_data"
    },
    {
     "name": "stderr",
     "output_type": "stream",
     "text": [
      "findfont: Font family 'Malgun Gothic' not found.\n",
      "findfont: Font family 'Malgun Gothic' not found.\n",
      "findfont: Font family 'Malgun Gothic' not found.\n",
      "findfont: Font family 'Malgun Gothic' not found.\n",
      "findfont: Font family 'Malgun Gothic' not found.\n",
      "findfont: Font family 'Malgun Gothic' not found.\n",
      "findfont: Font family 'Malgun Gothic' not found.\n",
      "findfont: Font family 'Malgun Gothic' not found.\n",
      "findfont: Font family 'Malgun Gothic' not found.\n",
      "findfont: Font family 'Malgun Gothic' not found.\n",
      "findfont: Font family 'Malgun Gothic' not found.\n",
      "findfont: Font family 'Malgun Gothic' not found.\n",
      "findfont: Font family 'Malgun Gothic' not found.\n",
      "findfont: Font family 'Malgun Gothic' not found.\n",
      "findfont: Font family 'Malgun Gothic' not found.\n",
      "findfont: Font family 'Malgun Gothic' not found.\n",
      "findfont: Font family 'Malgun Gothic' not found.\n",
      "findfont: Font family 'Malgun Gothic' not found.\n",
      "findfont: Font family 'Malgun Gothic' not found.\n",
      "findfont: Font family 'Malgun Gothic' not found.\n",
      "findfont: Font family 'Malgun Gothic' not found.\n",
      "findfont: Font family 'Malgun Gothic' not found.\n",
      "findfont: Font family 'Malgun Gothic' not found.\n",
      "findfont: Font family 'Malgun Gothic' not found.\n",
      "findfont: Font family 'Malgun Gothic' not found.\n",
      "findfont: Font family 'Malgun Gothic' not found.\n"
     ]
    },
    {
     "data": {
      "image/png": "[encoded data removed]",
      "text/plain": [
       "<Figure size 640x480 with 1 Axes>"
      ]
     },
     "metadata": {},
     "output_type": "display_data"
    }
   ],
   "source": [
    "import matplotlib.pyplot as plt\n",
    "import numpy as np\n",
    "# 패키지 선언\n",
    "plt.rc('font', family='Malgun Gothic')\n",
    "# 한글 폰트 설정\n",
    "x = np.arange(4) # values 개수만큼 필요\n",
    "desc = ['찢어짐', '구멍', '접힘', '기타']\n",
    "values = [22, 15, 5, 8]\n",
    "# 설명과 변수 입력\n",
    "plt.bar(x, values)\n",
    "# 기본 막대그래프 생성\n",
    "plt.bar(x, values, color=['red', 'orange', 'yellow', 'green'])\n",
    "# 색상이 있는 막대그래프 생성\n",
    "plt.xticks(x, desc)\n",
    "plt.show()\n",
    "# 원 그래프\n",
    "import matplotlib.pyplot as plt\n",
    "import numpy as np\n",
    "# 패키지 선언\n",
    "plt.rc('font', family='Malgun Gothic')\n",
    "# 한글 폰트 설정\n",
    "desc = ['찢어짐', '구멍', '접힘', '기타']\n",
    "values = [22, 15, 5, 8]\n",
    "color=['red', 'orange', 'yellow', 'green']\n",
    "# 설명과 변수 입력\n",
    "plt.pie(values, labels=desc, autopct='%d%%', colors=color)\n",
    "# 원 그래프 생성, 정수로만 표시, 색\n",
    "\n",
    "plt.show()"
   ]
  },
  {
   "cell_type": "code",
   "execution_count": 3,
   "metadata": {},
   "outputs": [
    {
     "name": "stderr",
     "output_type": "stream",
     "text": [
      "findfont: Font family 'Malgun Gothic' not found.\n",
      "findfont: Font family 'Malgun Gothic' not found.\n",
      "findfont: Font family 'Malgun Gothic' not found.\n",
      "findfont: Font family 'Malgun Gothic' not found.\n",
      "findfont: Font family 'Malgun Gothic' not found.\n",
      "findfont: Font family 'Malgun Gothic' not found.\n",
      "findfont: Font family 'Malgun Gothic' not found.\n",
      "findfont: Font family 'Malgun Gothic' not found.\n",
      "findfont: Font family 'Malgun Gothic' not found.\n",
      "findfont: Font family 'Malgun Gothic' not found.\n",
      "findfont: Font family 'Malgun Gothic' not found.\n",
      "findfont: Font family 'Malgun Gothic' not found.\n",
      "findfont: Font family 'Malgun Gothic' not found.\n",
      "findfont: Font family 'Malgun Gothic' not found.\n",
      "findfont: Font family 'Malgun Gothic' not found.\n",
      "findfont: Font family 'Malgun Gothic' not found.\n",
      "findfont: Font family 'Malgun Gothic' not found.\n",
      "findfont: Font family 'Malgun Gothic' not found.\n",
      "findfont: Font family 'Malgun Gothic' not found.\n",
      "findfont: Font family 'Malgun Gothic' not found.\n",
      "findfont: Font family 'Malgun Gothic' not found.\n",
      "findfont: Font family 'Malgun Gothic' not found.\n",
      "findfont: Font family 'Malgun Gothic' not found.\n",
      "findfont: Font family 'Malgun Gothic' not found.\n",
      "findfont: Font family 'Malgun Gothic' not found.\n",
      "findfont: Font family 'Malgun Gothic' not found.\n",
      "findfont: Font family 'Malgun Gothic' not found.\n",
      "findfont: Font family 'Malgun Gothic' not found.\n",
      "findfont: Font family 'Malgun Gothic' not found.\n",
      "findfont: Font family 'Malgun Gothic' not found.\n",
      "findfont: Font family 'Malgun Gothic' not found.\n",
      "findfont: Font family 'Malgun Gothic' not found.\n",
      "findfont: Font family 'Malgun Gothic' not found.\n",
      "findfont: Font family 'Malgun Gothic' not found.\n",
      "findfont: Font family 'Malgun Gothic' not found.\n",
      "findfont: Font family 'Malgun Gothic' not found.\n",
      "findfont: Font family 'Malgun Gothic' not found.\n",
      "findfont: Font family 'Malgun Gothic' not found.\n",
      "findfont: Font family 'Malgun Gothic' not found.\n",
      "findfont: Font family 'Malgun Gothic' not found.\n",
      "findfont: Font family 'Malgun Gothic' not found.\n",
      "findfont: Font family 'Malgun Gothic' not found.\n",
      "findfont: Font family 'Malgun Gothic' not found.\n",
      "findfont: Font family 'Malgun Gothic' not found.\n",
      "findfont: Font family 'Malgun Gothic' not found.\n",
      "findfont: Font family 'Malgun Gothic' not found.\n",
      "findfont: Font family 'Malgun Gothic' not found.\n",
      "findfont: Font family 'Malgun Gothic' not found.\n",
      "findfont: Font family 'Malgun Gothic' not found.\n",
      "findfont: Font family 'Malgun Gothic' not found.\n",
      "findfont: Font family 'Malgun Gothic' not found.\n",
      "findfont: Font family 'Malgun Gothic' not found.\n",
      "findfont: Font family 'Malgun Gothic' not found.\n",
      "findfont: Font family 'Malgun Gothic' not found.\n",
      "findfont: Font family 'Malgun Gothic' not found.\n",
      "findfont: Font family 'Malgun Gothic' not found.\n",
      "findfont: Font family 'Malgun Gothic' not found.\n",
      "findfont: Font family 'Malgun Gothic' not found.\n",
      "findfont: Font family 'Malgun Gothic' not found.\n",
      "findfont: Font family 'Malgun Gothic' not found.\n",
      "findfont: Font family 'Malgun Gothic' not found.\n",
      "findfont: Font family 'Malgun Gothic' not found.\n",
      "findfont: Font family 'Malgun Gothic' not found.\n",
      "findfont: Font family 'Malgun Gothic' not found.\n",
      "findfont: Font family 'Malgun Gothic' not found.\n",
      "findfont: Font family 'Malgun Gothic' not found.\n",
      "findfont: Font family 'Malgun Gothic' not found.\n",
      "findfont: Font family 'Malgun Gothic' not found.\n",
      "findfont: Font family 'Malgun Gothic' not found.\n",
      "findfont: Font family 'Malgun Gothic' not found.\n",
      "findfont: Font family 'Malgun Gothic' not found.\n",
      "findfont: Font family 'Malgun Gothic' not found.\n",
      "findfont: Font family 'Malgun Gothic' not found.\n",
      "findfont: Font family 'Malgun Gothic' not found.\n",
      "findfont: Font family 'Malgun Gothic' not found.\n",
      "findfont: Font family 'Malgun Gothic' not found.\n",
      "findfont: Font family 'Malgun Gothic' not found.\n",
      "findfont: Font family 'Malgun Gothic' not found.\n",
      "findfont: Font family 'Malgun Gothic' not found.\n",
      "findfont: Font family 'Malgun Gothic' not found.\n",
      "findfont: Font family 'Malgun Gothic' not found.\n",
      "findfont: Font family 'Malgun Gothic' not found.\n",
      "findfont: Font family 'Malgun Gothic' not found.\n",
      "findfont: Font family 'Malgun Gothic' not found.\n",
      "findfont: Font family 'Malgun Gothic' not found.\n",
      "findfont: Font family 'Malgun Gothic' not found.\n",
      "findfont: Font family 'Malgun Gothic' not found.\n",
      "findfont: Font family 'Malgun Gothic' not found.\n",
      "findfont: Font family 'Malgun Gothic' not found.\n",
      "findfont: Font family 'Malgun Gothic' not found.\n",
      "findfont: Font family 'Malgun Gothic' not found.\n",
      "findfont: Font family 'Malgun Gothic' not found.\n",
      "findfont: Font family 'Malgun Gothic' not found.\n",
      "findfont: Font family 'Malgun Gothic' not found.\n",
      "findfont: Font family 'Malgun Gothic' not found.\n",
      "findfont: Font family 'Malgun Gothic' not found.\n",
      "findfont: Font family 'Malgun Gothic' not found.\n",
      "findfont: Font family 'Malgun Gothic' not found.\n",
      "findfont: Font family 'Malgun Gothic' not found.\n",
      "findfont: Font family 'Malgun Gothic' not found.\n",
      "findfont: Font family 'Malgun Gothic' not found.\n",
      "findfont: Font family 'Malgun Gothic' not found.\n",
      "findfont: Font family 'Malgun Gothic' not found.\n",
      "findfont: Font family 'Malgun Gothic' not found.\n",
      "findfont: Font family 'Malgun Gothic' not found.\n",
      "findfont: Font family 'Malgun Gothic' not found.\n",
      "findfont: Font family 'Malgun Gothic' not found.\n",
      "findfont: Font family 'Malgun Gothic' not found.\n",
      "findfont: Font family 'Malgun Gothic' not found.\n",
      "findfont: Font family 'Malgun Gothic' not found.\n",
      "findfont: Font family 'Malgun Gothic' not found.\n",
      "findfont: Font family 'Malgun Gothic' not found.\n",
      "findfont: Font family 'Malgun Gothic' not found.\n",
      "findfont: Font family 'Malgun Gothic' not found.\n",
      "findfont: Font family 'Malgun Gothic' not found.\n",
      "findfont: Font family 'Malgun Gothic' not found.\n",
      "findfont: Font family 'Malgun Gothic' not found.\n",
      "findfont: Font family 'Malgun Gothic' not found.\n",
      "findfont: Font family 'Malgun Gothic' not found.\n",
      "findfont: Font family 'Malgun Gothic' not found.\n",
      "findfont: Font family 'Malgun Gothic' not found.\n",
      "findfont: Font family 'Malgun Gothic' not found.\n",
      "findfont: Font family 'Malgun Gothic' not found.\n",
      "findfont: Font family 'Malgun Gothic' not found.\n",
      "findfont: Font family 'Malgun Gothic' not found.\n",
      "findfont: Font family 'Malgun Gothic' not found.\n",
      "findfont: Font family 'Malgun Gothic' not found.\n",
      "findfont: Font family 'Malgun Gothic' not found.\n",
      "findfont: Font family 'Malgun Gothic' not found.\n",
      "findfont: Font family 'Malgun Gothic' not found.\n"
     ]
    },
    {
     "data": {
      "image/png": "[encoded data removed]",
      "text/plain": [
       "<Figure size 750x425 with 1 Axes>"
      ]
     },
     "metadata": {},
     "output_type": "display_data"
    }
   ],
   "source": [
    "import stemgraphic\n",
    "import matplotlib.pyplot as plt\n",
    "value = [56, 89, 165, 73, 83, 145, 90, 189, 127, 77, 110, 112, 132, 120, 94]\n",
    "\n",
    "stemgraphic.stem_graphic(value, scale=10)\n",
    "plt.show() "
   ]
  },
  {
   "cell_type": "code",
   "execution_count": 4,
   "metadata": {},
   "outputs": [
    {
     "name": "stdout",
     "output_type": "stream",
     "text": [
      "도수분포표:\n",
      "24.0 - 28.8: 3\n",
      "28.8 - 33.6: 3\n",
      "33.6 - 38.4: 5\n",
      "38.4 - 43.2: 7\n",
      "43.2 - 48.0: 2\n",
      "\n",
      "상대도수표:\n",
      "24.0 - 28.8: 0.15\n",
      "\n",
      "누적상대도수:\n",
      "28.8 - 33.6: 0.15\n",
      "\n",
      "누적상대도수:\n",
      "33.6 - 38.4: 0.25\n",
      "\n",
      "누적상대도수:\n",
      "38.4 - 43.2: 0.35\n",
      "\n",
      "누적상대도수:\n",
      "43.2 - 48.0: 0.1\n",
      "\n",
      "누적상대도수:\n",
      "24.0 - 28.8: 0.15\n",
      "28.8 - 33.6: 0.3\n",
      "33.6 - 38.4: 0.55\n",
      "38.4 - 43.2: 0.9\n",
      "43.2 - 48.0: 1.0\n"
     ]
    },
    {
     "data": {
      "text/plain": [
       "Text(0.5, 1.0, 'Histogram')"
      ]
     },
     "execution_count": 4,
     "metadata": {},
     "output_type": "execute_result"
    },
    {
     "name": "stderr",
     "output_type": "stream",
     "text": [
      "findfont: Font family 'Malgun Gothic' not found.\n",
      "findfont: Font family 'Malgun Gothic' not found.\n",
      "findfont: Font family 'Malgun Gothic' not found.\n",
      "findfont: Font family 'Malgun Gothic' not found.\n",
      "findfont: Font family 'Malgun Gothic' not found.\n",
      "findfont: Font family 'Malgun Gothic' not found.\n",
      "findfont: Font family 'Malgun Gothic' not found.\n",
      "findfont: Font family 'Malgun Gothic' not found.\n",
      "findfont: Font family 'Malgun Gothic' not found.\n",
      "findfont: Font family 'Malgun Gothic' not found.\n",
      "findfont: Font family 'Malgun Gothic' not found.\n",
      "findfont: Font family 'Malgun Gothic' not found.\n",
      "findfont: Font family 'Malgun Gothic' not found.\n",
      "findfont: Font family 'Malgun Gothic' not found.\n",
      "findfont: Font family 'Malgun Gothic' not found.\n",
      "findfont: Font family 'Malgun Gothic' not found.\n",
      "findfont: Font family 'Malgun Gothic' not found.\n",
      "findfont: Font family 'Malgun Gothic' not found.\n",
      "findfont: Font family 'Malgun Gothic' not found.\n",
      "findfont: Font family 'Malgun Gothic' not found.\n",
      "findfont: Font family 'Malgun Gothic' not found.\n",
      "findfont: Font family 'Malgun Gothic' not found.\n",
      "findfont: Font family 'Malgun Gothic' not found.\n",
      "findfont: Font family 'Malgun Gothic' not found.\n",
      "findfont: Font family 'Malgun Gothic' not found.\n",
      "findfont: Font family 'Malgun Gothic' not found.\n",
      "findfont: Font family 'Malgun Gothic' not found.\n",
      "findfont: Font family 'Malgun Gothic' not found.\n",
      "findfont: Font family 'Malgun Gothic' not found.\n",
      "findfont: Font family 'Malgun Gothic' not found.\n",
      "findfont: Font family 'Malgun Gothic' not found.\n",
      "findfont: Font family 'Malgun Gothic' not found.\n",
      "findfont: Font family 'Malgun Gothic' not found.\n",
      "findfont: Font family 'Malgun Gothic' not found.\n",
      "findfont: Font family 'Malgun Gothic' not found.\n",
      "findfont: Font family 'Malgun Gothic' not found.\n",
      "findfont: Font family 'Malgun Gothic' not found.\n",
      "findfont: Font family 'Malgun Gothic' not found.\n",
      "findfont: Font family 'Malgun Gothic' not found.\n",
      "findfont: Font family 'Malgun Gothic' not found.\n",
      "findfont: Font family 'Malgun Gothic' not found.\n",
      "findfont: Font family 'Malgun Gothic' not found.\n",
      "findfont: Font family 'Malgun Gothic' not found.\n",
      "findfont: Font family 'Malgun Gothic' not found.\n",
      "findfont: Font family 'Malgun Gothic' not found.\n",
      "findfont: Font family 'Malgun Gothic' not found.\n",
      "findfont: Font family 'Malgun Gothic' not found.\n",
      "findfont: Font family 'Malgun Gothic' not found.\n",
      "findfont: Font family 'Malgun Gothic' not found.\n",
      "findfont: Font family 'Malgun Gothic' not found.\n",
      "findfont: Font family 'Malgun Gothic' not found.\n",
      "findfont: Font family 'Malgun Gothic' not found.\n",
      "findfont: Font family 'Malgun Gothic' not found.\n",
      "findfont: Font family 'Malgun Gothic' not found.\n",
      "findfont: Font family 'Malgun Gothic' not found.\n",
      "findfont: Font family 'Malgun Gothic' not found.\n",
      "findfont: Font family 'Malgun Gothic' not found.\n",
      "findfont: Font family 'Malgun Gothic' not found.\n",
      "findfont: Font family 'Malgun Gothic' not found.\n",
      "findfont: Font family 'Malgun Gothic' not found.\n"
     ]
    },
    {
     "data": {
      "image/png": "[encoded data removed]",
      "text/plain": [
       "<Figure size 640x480 with 1 Axes>"
      ]
     },
     "metadata": {},
     "output_type": "display_data"
    }
   ],
   "source": [
    "import matplotlib.pyplot as plt\n",
    "import numpy as np\n",
    "degree = [33, 36, 37, 38, 39, 27, 30, 35, 26, 48, 40, 41, 41, 42, 45, 35, 24,\n",
    "30, 40, 42]\n",
    "# 도수분포 계산\n",
    "counts, bin_edges = np.histogram(degree, bins=5)\n",
    "# 상대도수 계산\n",
    "relative_frequency = counts / sum(counts)\n",
    "# 누적상대도수 계산\n",
    "cumulative_relative_frequency = np.cumsum(relative_frequency)\n",
    "# 도수분포표 출력\n",
    "print(\"도수분포표:\")\n",
    "for i in range(len(bin_edges)-1):\n",
    " print(f\"{bin_edges[i]} - {bin_edges[i+1]}: {counts[i]}\")\n",
    "# 상대도수표 출력\n",
    "print(\"\\n상대도수표:\")\n",
    "for i in range(len(bin_edges)-1):\n",
    " print(f\"{bin_edges[i]} - {bin_edges[i+1]}: {relative_frequency[i]}\")\n",
    " \n",
    " print(\"\\n누적상대도수:\")\n",
    "for i in range(len(bin_edges)-1):\n",
    " print(f\"{bin_edges[i]} - {bin_edges[i+1]}: {cumulative_relative_frequency[i]}\")\n",
    "# 히스토그램 출력\n",
    "plt.hist(degree, bins=5, color='pink', alpha=0.9, edgecolor='black')\n",
    "plt.title('Histogram')"
   ]
  },
  {
   "cell_type": "code",
   "execution_count": null,
   "metadata": {},
   "outputs": [
    {
     "name": "stdout",
     "output_type": "stream",
     "text": [
      "q1 중앙값 : 8\n",
      "q1 평균 : 13\n",
      "\n",
      "q2 중앙값 : 8\n",
      "q2 평균 : 18\n"
     ]
    }
   ],
   "source": [
    "from statistics import *\n",
    "unnecessary_surgery = [2, 2, 8, 20, 33]\n",
    "# q1, 중앙값과 평균을 구하여라\n",
    "print(f\"q1 중앙값 : {median(unnecessary_surgery)}\")\n",
    "print(f\"q1 평균 : {mean(unnecessary_surgery)}\\n\")\n",
    "# q2, 만약 5번째 의사가 수술을 추가 제안한다면,\n",
    "unnecessary_surgery[4] = 58\n",
    "print(f\"q2 중앙값 : {median(unnecessary_surgery)}\")\n",
    "print(f\"q2 평균 : {mean(unnecessary_surgery)}\")"
   ]
  },
  {
   "cell_type": "code",
   "execution_count": 6,
   "metadata": {},
   "outputs": [
    {
     "data": {
      "image/png": "[encoded data removed]",
      "text/plain": [
       "<Figure size 400x300 with 1 Axes>"
      ]
     },
     "metadata": {},
     "output_type": "display_data"
    }
   ],
   "source": [
    "import matplotlib.pyplot as plt\n",
    "import numpy as np\n",
    "# 기본 스타일 설정\n",
    "plt.style.use('default')\n",
    "plt.rcParams['figure.figsize'] = (4, 3)\n",
    "plt.rcParams['font.size'] = 12\n",
    "# 데이터 준비\n",
    "values = [55.9, 63.8, 57.2, 59.8, 65.7, 62.7, 60.8, 51.3, 61.8, 56.0, 66.9, \n",
    "56.8, 66.2, 64.6, 59.5, 63.1, 60.6, 62.0, 59.4, 67.2, 63.6, 60.5, 66.8, 61.8, \n",
    "64.8, 55.8, 55.7, 77.1, 62.1, 61.0, 58.9, 60.0, 66.9, 61.7, 60.3, 51.5, 67.0, \n",
    "60.2, 56.2, 59.4, 67.9, 64.9, 55.7, 61.4, 62.6, 56.4, 56.4, 69.4, 57.6, 63.8]\n",
    "# 그래프 그리기\n",
    "fig, ax = plt.subplots()\n",
    "box = ax.boxplot([values], notch=False, whis=1, vert=False)\n",
    "# vert : True(수직), False(수평), whis : 이상치 경계값, \n",
    "# notch : 데이터의 모양을 홈 모양으로 표시\n",
    "plt.show()"
   ]
  },
  {
   "cell_type": "code",
   "execution_count": 7,
   "metadata": {},
   "outputs": [
    {
     "name": "stdout",
     "output_type": "stream",
     "text": [
      "평균 : 39.2\n",
      "분산 : 8.963636363636363\n",
      "표준편차 : 2.9939332597164494\n"
     ]
    }
   ],
   "source": [
    "from statistics import *\n",
    "work_time = [45, 43, 41, 39, 39, 35, 37, 40, 39, 36, 37]\n",
    "print(f\"평균 : {round(mean(work_time),1)}\")\n",
    "print(f\"분산 : {variance(work_time)}\")\n",
    "print(f\"표준편차 : {stdev(work_time)}\")\n",
    "# 평균은 round 함수 이용 소수점 첫째 자리까지 표시"
   ]
  },
  {
   "cell_type": "code",
   "execution_count": 8,
   "metadata": {},
   "outputs": [
    {
     "name": "stdout",
     "output_type": "stream",
     "text": [
      "진로\n",
      "1    7\n",
      "2    6\n",
      "3    4\n",
      "4    3\n",
      "Name: count, dtype: int64\n"
     ]
    },
    {
     "data": {
      "text/plain": [
       "<Axes: ylabel='count'>"
      ]
     },
     "execution_count": 8,
     "metadata": {},
     "output_type": "execute_result"
    },
    {
     "name": "stderr",
     "output_type": "stream",
     "text": [
      "findfont: Font family 'Malgun Gothic' not found.\n",
      "findfont: Font family 'Malgun Gothic' not found.\n",
      "findfont: Font family 'Malgun Gothic' not found.\n",
      "findfont: Font family 'Malgun Gothic' not found.\n",
      "findfont: Font family 'Malgun Gothic' not found.\n",
      "findfont: Font family 'Malgun Gothic' not found.\n",
      "findfont: Font family 'Malgun Gothic' not found.\n",
      "findfont: Font family 'Malgun Gothic' not found.\n",
      "findfont: Font family 'Malgun Gothic' not found.\n",
      "findfont: Font family 'Malgun Gothic' not found.\n",
      "findfont: Font family 'Malgun Gothic' not found.\n",
      "/home/codespace/.local/lib/python3.12/site-packages/IPython/core/events.py:82: UserWarning:\n",
      "\n",
      "Glyph 51652 (\\N{HANGUL SYLLABLE JIN}) missing from font(s) DejaVu Sans.\n",
      "\n",
      "/home/codespace/.local/lib/python3.12/site-packages/IPython/core/events.py:82: UserWarning:\n",
      "\n",
      "Glyph 47196 (\\N{HANGUL SYLLABLE RO}) missing from font(s) DejaVu Sans.\n",
      "\n",
      "/home/codespace/.local/lib/python3.12/site-packages/IPython/core/events.py:82: UserWarning:\n",
      "\n",
      "Glyph 48712 (\\N{HANGUL SYLLABLE BIN}) missing from font(s) DejaVu Sans.\n",
      "\n",
      "/home/codespace/.local/lib/python3.12/site-packages/IPython/core/events.py:82: UserWarning:\n",
      "\n",
      "Glyph 46020 (\\N{HANGUL SYLLABLE DO}) missing from font(s) DejaVu Sans.\n",
      "\n",
      "/home/codespace/.local/lib/python3.12/site-packages/IPython/core/events.py:82: UserWarning:\n",
      "\n",
      "Glyph 47561 (\\N{HANGUL SYLLABLE MAG}) missing from font(s) DejaVu Sans.\n",
      "\n",
      "/home/codespace/.local/lib/python3.12/site-packages/IPython/core/events.py:82: UserWarning:\n",
      "\n",
      "Glyph 45824 (\\N{HANGUL SYLLABLE DAE}) missing from font(s) DejaVu Sans.\n",
      "\n",
      "/home/codespace/.local/lib/python3.12/site-packages/IPython/core/events.py:82: UserWarning:\n",
      "\n",
      "Glyph 44536 (\\N{HANGUL SYLLABLE GEU}) missing from font(s) DejaVu Sans.\n",
      "\n",
      "/home/codespace/.local/lib/python3.12/site-packages/IPython/core/events.py:82: UserWarning:\n",
      "\n",
      "Glyph 47000 (\\N{HANGUL SYLLABLE RAE}) missing from font(s) DejaVu Sans.\n",
      "\n",
      "/home/codespace/.local/lib/python3.12/site-packages/IPython/core/events.py:82: UserWarning:\n",
      "\n",
      "Glyph 54532 (\\N{HANGUL SYLLABLE PEU}) missing from font(s) DejaVu Sans.\n",
      "\n",
      "findfont: Font family 'Malgun Gothic' not found.\n",
      "findfont: Font family 'Malgun Gothic' not found.\n",
      "findfont: Font family 'Malgun Gothic' not found.\n",
      "findfont: Font family 'Malgun Gothic' not found.\n",
      "findfont: Font family 'Malgun Gothic' not found.\n",
      "findfont: Font family 'Malgun Gothic' not found.\n",
      "findfont: Font family 'Malgun Gothic' not found.\n",
      "findfont: Font family 'Malgun Gothic' not found.\n",
      "findfont: Font family 'Malgun Gothic' not found.\n",
      "findfont: Font family 'Malgun Gothic' not found.\n",
      "findfont: Font family 'Malgun Gothic' not found.\n",
      "findfont: Font family 'Malgun Gothic' not found.\n",
      "findfont: Font family 'Malgun Gothic' not found.\n",
      "findfont: Font family 'Malgun Gothic' not found.\n",
      "findfont: Font family 'Malgun Gothic' not found.\n",
      "findfont: Font family 'Malgun Gothic' not found.\n",
      "findfont: Font family 'Malgun Gothic' not found.\n",
      "findfont: Font family 'Malgun Gothic' not found.\n",
      "findfont: Font family 'Malgun Gothic' not found.\n",
      "findfont: Font family 'Malgun Gothic' not found.\n",
      "findfont: Font family 'Malgun Gothic' not found.\n",
      "findfont: Font family 'Malgun Gothic' not found.\n",
      "findfont: Font family 'Malgun Gothic' not found.\n",
      "findfont: Font family 'Malgun Gothic' not found.\n",
      "findfont: Font family 'Malgun Gothic' not found.\n",
      "findfont: Font family 'Malgun Gothic' not found.\n",
      "findfont: Font family 'Malgun Gothic' not found.\n",
      "findfont: Font family 'Malgun Gothic' not found.\n",
      "findfont: Font family 'Malgun Gothic' not found.\n",
      "findfont: Font family 'Malgun Gothic' not found.\n",
      "findfont: Font family 'Malgun Gothic' not found.\n",
      "findfont: Font family 'Malgun Gothic' not found.\n",
      "findfont: Font family 'Malgun Gothic' not found.\n",
      "findfont: Font family 'Malgun Gothic' not found.\n",
      "findfont: Font family 'Malgun Gothic' not found.\n",
      "findfont: Font family 'Malgun Gothic' not found.\n",
      "findfont: Font family 'Malgun Gothic' not found.\n",
      "findfont: Font family 'Malgun Gothic' not found.\n",
      "findfont: Font family 'Malgun Gothic' not found.\n",
      "findfont: Font family 'Malgun Gothic' not found.\n",
      "/home/codespace/.local/lib/python3.12/site-packages/IPython/core/pylabtools.py:170: UserWarning:\n",
      "\n",
      "Glyph 51652 (\\N{HANGUL SYLLABLE JIN}) missing from font(s) DejaVu Sans.\n",
      "\n",
      "/home/codespace/.local/lib/python3.12/site-packages/IPython/core/pylabtools.py:170: UserWarning:\n",
      "\n",
      "Glyph 47196 (\\N{HANGUL SYLLABLE RO}) missing from font(s) DejaVu Sans.\n",
      "\n",
      "/home/codespace/.local/lib/python3.12/site-packages/IPython/core/pylabtools.py:170: UserWarning:\n",
      "\n",
      "Glyph 48712 (\\N{HANGUL SYLLABLE BIN}) missing from font(s) DejaVu Sans.\n",
      "\n",
      "/home/codespace/.local/lib/python3.12/site-packages/IPython/core/pylabtools.py:170: UserWarning:\n",
      "\n",
      "Glyph 46020 (\\N{HANGUL SYLLABLE DO}) missing from font(s) DejaVu Sans.\n",
      "\n",
      "/home/codespace/.local/lib/python3.12/site-packages/IPython/core/pylabtools.py:170: UserWarning:\n",
      "\n",
      "Glyph 47561 (\\N{HANGUL SYLLABLE MAG}) missing from font(s) DejaVu Sans.\n",
      "\n",
      "/home/codespace/.local/lib/python3.12/site-packages/IPython/core/pylabtools.py:170: UserWarning:\n",
      "\n",
      "Glyph 45824 (\\N{HANGUL SYLLABLE DAE}) missing from font(s) DejaVu Sans.\n",
      "\n",
      "/home/codespace/.local/lib/python3.12/site-packages/IPython/core/pylabtools.py:170: UserWarning:\n",
      "\n",
      "Glyph 44536 (\\N{HANGUL SYLLABLE GEU}) missing from font(s) DejaVu Sans.\n",
      "\n",
      "/home/codespace/.local/lib/python3.12/site-packages/IPython/core/pylabtools.py:170: UserWarning:\n",
      "\n",
      "Glyph 47000 (\\N{HANGUL SYLLABLE RAE}) missing from font(s) DejaVu Sans.\n",
      "\n",
      "/home/codespace/.local/lib/python3.12/site-packages/IPython/core/pylabtools.py:170: UserWarning:\n",
      "\n",
      "Glyph 54532 (\\N{HANGUL SYLLABLE PEU}) missing from font(s) DejaVu Sans.\n",
      "\n",
      "findfont: Font family 'Malgun Gothic' not found.\n",
      "findfont: Font family 'Malgun Gothic' not found.\n",
      "findfont: Font family 'Malgun Gothic' not found.\n",
      "findfont: Font family 'Malgun Gothic' not found.\n",
      "findfont: Font family 'Malgun Gothic' not found.\n",
      "findfont: Font family 'Malgun Gothic' not found.\n",
      "findfont: Font family 'Malgun Gothic' not found.\n",
      "findfont: Font family 'Malgun Gothic' not found.\n",
      "findfont: Font family 'Malgun Gothic' not found.\n",
      "findfont: Font family 'Malgun Gothic' not found.\n",
      "findfont: Font family 'Malgun Gothic' not found.\n",
      "findfont: Font family 'Malgun Gothic' not found.\n",
      "findfont: Font family 'Malgun Gothic' not found.\n",
      "findfont: Font family 'Malgun Gothic' not found.\n",
      "findfont: Font family 'Malgun Gothic' not found.\n",
      "findfont: Font family 'Malgun Gothic' not found.\n",
      "findfont: Font family 'Malgun Gothic' not found.\n",
      "findfont: Font family 'Malgun Gothic' not found.\n",
      "findfont: Font family 'Malgun Gothic' not found.\n",
      "findfont: Font family 'Malgun Gothic' not found.\n",
      "findfont: Font family 'Malgun Gothic' not found.\n",
      "findfont: Font family 'Malgun Gothic' not found.\n",
      "findfont: Font family 'Malgun Gothic' not found.\n",
      "findfont: Font family 'Malgun Gothic' not found.\n",
      "findfont: Font family 'Malgun Gothic' not found.\n",
      "findfont: Font family 'Malgun Gothic' not found.\n",
      "findfont: Font family 'Malgun Gothic' not found.\n",
      "findfont: Font family 'Malgun Gothic' not found.\n",
      "findfont: Font family 'Malgun Gothic' not found.\n"
     ]
    },
    {
     "data": {
      "image/png": "[encoded data removed]",
      "text/plain": [
       "<Figure size 1200x600 with 2 Axes>"
      ]
     },
     "metadata": {},
     "output_type": "display_data"
    }
   ],
   "source": [
    "import pandas as pd\n",
    "import matplotlib.pyplot as plt\n",
    "import seaborn as sns\n",
    "plt.rc('font', family='Malgun Gothic')\n",
    "# 데이터 생성\n",
    "data = {\n",
    " '성별': [1, 1, 2, 1, 2, 2, 2, 1, 1, 1, 1, 1, 1, 1, 1, 1, 1, 1, 2, 1],\n",
    " '학년': [4, 1, 2, 1, 1, 1, 3, 1, 1, 1, 1, 1, 1, 1, 2, 1, 1, 2, 1, 3],\n",
    " '진로': [1, 2, 4, 3, 1, 1, 4, 2, 2, 3, 2, 2, 1, 3, 4, 1, 3, 2, 1, 1],\n",
    " '시험성적': [52, 95, 95, 88.5, 80, 90, 68, 88, 87, 76, 92.5, 44, 68, 88, \n",
    "91, 84.5, 68, 83, 74, 68],\n",
    " '기대 학점': [2, 1, 1, 1, 1, 1, 3, 1, 1, 2, 1, 4, 2, 1, 1, 1, 3, 1, 2, 3],\n",
    " '용돈': [35, 33, 28, 30, 40, 50, 45, 40, 38, 20, 35, 46, 36, 55, 65, 50, \n",
    "45, 52, 40, 18]\n",
    "}\n",
    "df = pd.DataFrame(data)\n",
    "# (1) 졸업 후 진로에 대한 빈도분석과 막대그래프, 원그래프\n",
    "career_counts = df['진로'].value_counts()\n",
    "print(career_counts)\n",
    "plt.figure(figsize=(12, 6))\n",
    "plt.subplot(121)\n",
    "career_counts.plot(kind='bar')\n",
    "plt.title('진로 빈도 막대그래프')\n",
    "plt.subplot(122)\n",
    "career_counts.plot(kind='pie', autopct='%1.1f%%')"
   ]
  },
  {
   "cell_type": "code",
   "execution_count": 10,
   "metadata": {},
   "outputs": [
    {
     "name": "stderr",
     "output_type": "stream",
     "text": [
      "findfont: Font family 'Malgun Gothic' not found.\n",
      "findfont: Font family 'Malgun Gothic' not found.\n",
      "findfont: Font family 'Malgun Gothic' not found.\n",
      "findfont: Font family 'Malgun Gothic' not found.\n",
      "findfont: Font family 'Malgun Gothic' not found.\n",
      "findfont: Font family 'Malgun Gothic' not found.\n",
      "findfont: Font family 'Malgun Gothic' not found.\n",
      "/home/codespace/.local/lib/python3.12/site-packages/IPython/core/pylabtools.py:170: UserWarning:\n",
      "\n",
      "Glyph 49884 (\\N{HANGUL SYLLABLE SI}) missing from font(s) DejaVu Sans.\n",
      "\n",
      "/home/codespace/.local/lib/python3.12/site-packages/IPython/core/pylabtools.py:170: UserWarning:\n",
      "\n",
      "Glyph 54744 (\\N{HANGUL SYLLABLE HEOM}) missing from font(s) DejaVu Sans.\n",
      "\n",
      "/home/codespace/.local/lib/python3.12/site-packages/IPython/core/pylabtools.py:170: UserWarning:\n",
      "\n",
      "Glyph 49457 (\\N{HANGUL SYLLABLE SEONG}) missing from font(s) DejaVu Sans.\n",
      "\n",
      "/home/codespace/.local/lib/python3.12/site-packages/IPython/core/pylabtools.py:170: UserWarning:\n",
      "\n",
      "Glyph 51201 (\\N{HANGUL SYLLABLE JEOG}) missing from font(s) DejaVu Sans.\n",
      "\n",
      "findfont: Font family 'Malgun Gothic' not found.\n",
      "findfont: Font family 'Malgun Gothic' not found.\n",
      "/home/codespace/.local/lib/python3.12/site-packages/IPython/core/pylabtools.py:170: UserWarning:\n",
      "\n",
      "Glyph 49345 (\\N{HANGUL SYLLABLE SANG}) missing from font(s) DejaVu Sans.\n",
      "\n",
      "/home/codespace/.local/lib/python3.12/site-packages/IPython/core/pylabtools.py:170: UserWarning:\n",
      "\n",
      "Glyph 51088 (\\N{HANGUL SYLLABLE JA}) missing from font(s) DejaVu Sans.\n",
      "\n",
      "/home/codespace/.local/lib/python3.12/site-packages/IPython/core/pylabtools.py:170: UserWarning:\n",
      "\n",
      "Glyph 44536 (\\N{HANGUL SYLLABLE GEU}) missing from font(s) DejaVu Sans.\n",
      "\n",
      "/home/codespace/.local/lib/python3.12/site-packages/IPython/core/pylabtools.py:170: UserWarning:\n",
      "\n",
      "Glyph 47548 (\\N{HANGUL SYLLABLE RIM}) missing from font(s) DejaVu Sans.\n",
      "\n",
      "findfont: Font family 'Malgun Gothic' not found.\n",
      "findfont: Font family 'Malgun Gothic' not found.\n",
      "findfont: Font family 'Malgun Gothic' not found.\n",
      "findfont: Font family 'Malgun Gothic' not found.\n",
      "findfont: Font family 'Malgun Gothic' not found.\n",
      "findfont: Font family 'Malgun Gothic' not found.\n",
      "findfont: Font family 'Malgun Gothic' not found.\n",
      "/home/codespace/.local/lib/python3.12/site-packages/IPython/core/pylabtools.py:170: UserWarning:\n",
      "\n",
      "Glyph 55176 (\\N{HANGUL SYLLABLE HI}) missing from font(s) DejaVu Sans.\n",
      "\n",
      "/home/codespace/.local/lib/python3.12/site-packages/IPython/core/pylabtools.py:170: UserWarning:\n",
      "\n",
      "Glyph 49828 (\\N{HANGUL SYLLABLE SEU}) missing from font(s) DejaVu Sans.\n",
      "\n",
      "/home/codespace/.local/lib/python3.12/site-packages/IPython/core/pylabtools.py:170: UserWarning:\n",
      "\n",
      "Glyph 53664 (\\N{HANGUL SYLLABLE TO}) missing from font(s) DejaVu Sans.\n",
      "\n",
      "/home/codespace/.local/lib/python3.12/site-packages/IPython/core/pylabtools.py:170: UserWarning:\n",
      "\n",
      "Glyph 47016 (\\N{HANGUL SYLLABLE RAEM}) missing from font(s) DejaVu Sans.\n",
      "\n",
      "findfont: Font family 'Malgun Gothic' not found.\n",
      "findfont: Font family 'Malgun Gothic' not found.\n",
      "findfont: Font family 'Malgun Gothic' not found.\n",
      "findfont: Font family 'Malgun Gothic' not found.\n",
      "findfont: Font family 'Malgun Gothic' not found.\n",
      "findfont: Font family 'Malgun Gothic' not found.\n",
      "findfont: Font family 'Malgun Gothic' not found.\n",
      "findfont: Font family 'Malgun Gothic' not found.\n",
      "findfont: Font family 'Malgun Gothic' not found.\n",
      "findfont: Font family 'Malgun Gothic' not found.\n",
      "findfont: Font family 'Malgun Gothic' not found.\n",
      "findfont: Font family 'Malgun Gothic' not found.\n",
      "findfont: Font family 'Malgun Gothic' not found.\n",
      "findfont: Font family 'Malgun Gothic' not found.\n",
      "findfont: Font family 'Malgun Gothic' not found.\n",
      "findfont: Font family 'Malgun Gothic' not found.\n",
      "findfont: Font family 'Malgun Gothic' not found.\n",
      "findfont: Font family 'Malgun Gothic' not found.\n",
      "findfont: Font family 'Malgun Gothic' not found.\n",
      "findfont: Font family 'Malgun Gothic' not found.\n",
      "findfont: Font family 'Malgun Gothic' not found.\n",
      "findfont: Font family 'Malgun Gothic' not found.\n",
      "findfont: Font family 'Malgun Gothic' not found.\n",
      "findfont: Font family 'Malgun Gothic' not found.\n",
      "findfont: Font family 'Malgun Gothic' not found.\n",
      "findfont: Font family 'Malgun Gothic' not found.\n",
      "findfont: Font family 'Malgun Gothic' not found.\n",
      "findfont: Font family 'Malgun Gothic' not found.\n",
      "findfont: Font family 'Malgun Gothic' not found.\n",
      "findfont: Font family 'Malgun Gothic' not found.\n",
      "findfont: Font family 'Malgun Gothic' not found.\n",
      "findfont: Font family 'Malgun Gothic' not found.\n",
      "findfont: Font family 'Malgun Gothic' not found.\n",
      "findfont: Font family 'Malgun Gothic' not found.\n",
      "findfont: Font family 'Malgun Gothic' not found.\n"
     ]
    },
    {
     "data": {
      "image/png": "[encoded data removed]",
      "text/plain": [
       "<Figure size 1200x600 with 2 Axes>"
      ]
     },
     "metadata": {},
     "output_type": "display_data"
    },
    {
     "name": "stdout",
     "output_type": "stream",
     "text": [
      "           시험성적         용돈\n",
      "count  20.00000  20.000000\n",
      "mean   79.02500  40.050000\n",
      "std    14.13234  11.532449\n",
      "min    44.00000  18.000000\n",
      "25%    68.00000  34.500000\n",
      "50%    83.75000  40.000000\n",
      "75%    88.87500  47.000000\n",
      "max    95.00000  65.000000\n",
      "    시험성적                                                         용돈  \\\n",
      "   count       mean        std   min   25%   50%    75%   max count   \n",
      "성별                                                                    \n",
      "1   15.0  78.233333  15.264182  44.0  68.0  84.5  88.25  95.0  15.0   \n",
      "2    5.0  81.400000  11.126545  68.0  74.0  80.0  90.00  95.0   5.0   \n",
      "\n",
      "                                                        \n",
      "         mean        std   min   25%   50%   75%   max  \n",
      "성별                                                      \n",
      "1   39.866667  12.699081  18.0  34.0  38.0  48.0  65.0  \n",
      "2   40.600000   8.173127  28.0  40.0  40.0  45.0  50.0  \n",
      "0     20.8\n",
      "1     38.0\n",
      "2     38.0\n",
      "3     35.4\n",
      "4     32.0\n",
      "5     36.0\n",
      "6     27.2\n",
      "7     35.2\n",
      "8     34.8\n",
      "9     30.4\n",
      "10    37.0\n",
      "11    17.6\n",
      "12    27.2\n",
      "13    35.2\n",
      "14    36.4\n",
      "15    33.8\n",
      "16    27.2\n",
      "17    33.2\n",
      "18    29.6\n",
      "19    27.2\n",
      "Name: 시험성적, dtype: float64\n",
      "0     19.0\n",
      "1      1.5\n",
      "2      1.5\n",
      "3      6.0\n",
      "4     12.0\n",
      "5      5.0\n",
      "6     16.5\n",
      "7      7.5\n",
      "8      9.0\n",
      "9     13.0\n",
      "10     3.0\n",
      "11    20.0\n",
      "12    16.5\n",
      "13     7.5\n",
      "14     4.0\n",
      "15    10.0\n",
      "16    16.5\n",
      "17    11.0\n",
      "18    14.0\n",
      "19    16.5\n",
      "Name: 시험성적, dtype: float64\n"
     ]
    }
   ],
   "source": [
    "# (2) 시험성적에 대한 상자그림과 히스토그램\n",
    "plt.figure(figsize=(12, 6))\n",
    "plt.subplot(121)\n",
    "sns.boxplot(y=df['시험성적'])\n",
    "plt.title('시험성적 상자그림')\n",
    "plt.subplot(122)\n",
    "df['시험성적'].hist(bins=10)\n",
    "plt.title('시험성적 히스토그램')\n",
    "plt.show()\n",
    "# (3) 시험성적과 용돈에 대한 기술통계량, 성별에 따른 기술통계량\n",
    "print(df[['시험성적', '용돈']].describe())\n",
    "print(df.groupby('성별')[['시험성적', '용돈']].describe())\n",
    "# (4) 중간고사 점수는 마지막 학점을 평가하는 데 40%만큼 기여한다. 새로 변수를 \n",
    "val = df['중간고사_기여도'] = df['시험성적'] * 0.4\n",
    "print(val)\n",
    "# (5) 시험성적에 대해 순위변수(석차) 생성\n",
    "rank = df['시험성적_석차'] = df['시험성적'].rank(ascending=False)\n",
    "print(rank)"
   ]
  },
  {
   "cell_type": "code",
   "execution_count": 11,
   "metadata": {},
   "outputs": [
    {
     "name": "stderr",
     "output_type": "stream",
     "text": [
      "findfont: Font family 'Malgun Gothic' not found.\n",
      "findfont: Font family 'Malgun Gothic' not found.\n",
      "/home/codespace/.local/lib/python3.12/site-packages/IPython/core/pylabtools.py:170: UserWarning:\n",
      "\n",
      "Glyph 45230 (\\N{HANGUL SYLLABLE NAJ}) missing from font(s) DejaVu Sans.\n",
      "\n",
      "/home/codespace/.local/lib/python3.12/site-packages/IPython/core/pylabtools.py:170: UserWarning:\n",
      "\n",
      "Glyph 51020 (\\N{HANGUL SYLLABLE EUM}) missing from font(s) DejaVu Sans.\n",
      "\n",
      "findfont: Font family 'Malgun Gothic' not found.\n",
      "/home/codespace/.local/lib/python3.12/site-packages/IPython/core/pylabtools.py:170: UserWarning:\n",
      "\n",
      "Glyph 51473 (\\N{HANGUL SYLLABLE JUNG}) missing from font(s) DejaVu Sans.\n",
      "\n",
      "/home/codespace/.local/lib/python3.12/site-packages/IPython/core/pylabtools.py:170: UserWarning:\n",
      "\n",
      "Glyph 44036 (\\N{HANGUL SYLLABLE GAN}) missing from font(s) DejaVu Sans.\n",
      "\n",
      "findfont: Font family 'Malgun Gothic' not found.\n",
      "/home/codespace/.local/lib/python3.12/site-packages/IPython/core/pylabtools.py:170: UserWarning:\n",
      "\n",
      "Glyph 45458 (\\N{HANGUL SYLLABLE NOP}) missing from font(s) DejaVu Sans.\n",
      "\n",
      "findfont: Font family 'Malgun Gothic' not found.\n",
      "findfont: Font family 'Malgun Gothic' not found.\n",
      "findfont: Font family 'Malgun Gothic' not found.\n",
      "findfont: Font family 'Malgun Gothic' not found.\n",
      "findfont: Font family 'Malgun Gothic' not found.\n",
      "findfont: Font family 'Malgun Gothic' not found.\n",
      "findfont: Font family 'Malgun Gothic' not found.\n",
      "findfont: Font family 'Malgun Gothic' not found.\n",
      "findfont: Font family 'Malgun Gothic' not found.\n",
      "findfont: Font family 'Malgun Gothic' not found.\n",
      "findfont: Font family 'Malgun Gothic' not found.\n",
      "findfont: Font family 'Malgun Gothic' not found.\n",
      "findfont: Font family 'Malgun Gothic' not found.\n",
      "findfont: Font family 'Malgun Gothic' not found.\n",
      "findfont: Font family 'Malgun Gothic' not found.\n",
      "findfont: Font family 'Malgun Gothic' not found.\n",
      "findfont: Font family 'Malgun Gothic' not found.\n",
      "findfont: Font family 'Malgun Gothic' not found.\n",
      "findfont: Font family 'Malgun Gothic' not found.\n",
      "findfont: Font family 'Malgun Gothic' not found.\n",
      "findfont: Font family 'Malgun Gothic' not found.\n",
      "findfont: Font family 'Malgun Gothic' not found.\n"
     ]
    },
    {
     "data": {
      "image/png": "[encoded data removed]",
      "text/plain": [
       "<Figure size 400x300 with 1 Axes>"
      ]
     },
     "metadata": {},
     "output_type": "display_data"
    },
    {
     "data": {
      "text/plain": [
       "<BarContainer object of 2 artists>"
      ]
     },
     "execution_count": 11,
     "metadata": {},
     "output_type": "execute_result"
    },
    {
     "name": "stderr",
     "output_type": "stream",
     "text": [
      "findfont: Font family 'Malgun Gothic' not found.\n",
      "findfont: Font family 'Malgun Gothic' not found.\n",
      "/home/codespace/.local/lib/python3.12/site-packages/IPython/core/events.py:82: UserWarning:\n",
      "\n",
      "Glyph 49900 (\\N{HANGUL SYLLABLE SIM}) missing from font(s) DejaVu Sans.\n",
      "\n",
      "/home/codespace/.local/lib/python3.12/site-packages/IPython/core/events.py:82: UserWarning:\n",
      "\n",
      "Glyph 44033 (\\N{HANGUL SYLLABLE GAG}) missing from font(s) DejaVu Sans.\n",
      "\n",
      "/home/codespace/.local/lib/python3.12/site-packages/IPython/core/events.py:82: UserWarning:\n",
      "\n",
      "Glyph 54616 (\\N{HANGUL SYLLABLE HA}) missing from font(s) DejaVu Sans.\n",
      "\n",
      "/home/codespace/.local/lib/python3.12/site-packages/IPython/core/events.py:82: UserWarning:\n",
      "\n",
      "Glyph 51648 (\\N{HANGUL SYLLABLE JI}) missing from font(s) DejaVu Sans.\n",
      "\n",
      "findfont: Font family 'Malgun Gothic' not found.\n",
      "/home/codespace/.local/lib/python3.12/site-packages/IPython/core/events.py:82: UserWarning:\n",
      "\n",
      "Glyph 50506 (\\N{HANGUL SYLLABLE ANH}) missing from font(s) DejaVu Sans.\n",
      "\n",
      "/home/codespace/.local/lib/python3.12/site-packages/IPython/core/events.py:82: UserWarning:\n",
      "\n",
      "Glyph 51008 (\\N{HANGUL SYLLABLE EUN}) missing from font(s) DejaVu Sans.\n",
      "\n",
      "findfont: Font family 'Malgun Gothic' not found.\n",
      "/home/codespace/.local/lib/python3.12/site-packages/IPython/core/events.py:82: UserWarning:\n",
      "\n",
      "Glyph 54620 (\\N{HANGUL SYLLABLE HAN}) missing from font(s) DejaVu Sans.\n",
      "\n",
      "findfont: Font family 'Malgun Gothic' not found.\n",
      "findfont: Font family 'Malgun Gothic' not found.\n",
      "findfont: Font family 'Malgun Gothic' not found.\n",
      "findfont: Font family 'Malgun Gothic' not found.\n",
      "findfont: Font family 'Malgun Gothic' not found.\n",
      "findfont: Font family 'Malgun Gothic' not found.\n",
      "findfont: Font family 'Malgun Gothic' not found.\n",
      "findfont: Font family 'Malgun Gothic' not found.\n",
      "findfont: Font family 'Malgun Gothic' not found.\n",
      "findfont: Font family 'Malgun Gothic' not found.\n",
      "findfont: Font family 'Malgun Gothic' not found.\n",
      "findfont: Font family 'Malgun Gothic' not found.\n",
      "findfont: Font family 'Malgun Gothic' not found.\n",
      "findfont: Font family 'Malgun Gothic' not found.\n",
      "findfont: Font family 'Malgun Gothic' not found.\n",
      "findfont: Font family 'Malgun Gothic' not found.\n",
      "findfont: Font family 'Malgun Gothic' not found.\n",
      "/home/codespace/.local/lib/python3.12/site-packages/IPython/core/pylabtools.py:170: UserWarning:\n",
      "\n",
      "Glyph 49900 (\\N{HANGUL SYLLABLE SIM}) missing from font(s) DejaVu Sans.\n",
      "\n",
      "/home/codespace/.local/lib/python3.12/site-packages/IPython/core/pylabtools.py:170: UserWarning:\n",
      "\n",
      "Glyph 44033 (\\N{HANGUL SYLLABLE GAG}) missing from font(s) DejaVu Sans.\n",
      "\n",
      "/home/codespace/.local/lib/python3.12/site-packages/IPython/core/pylabtools.py:170: UserWarning:\n",
      "\n",
      "Glyph 54616 (\\N{HANGUL SYLLABLE HA}) missing from font(s) DejaVu Sans.\n",
      "\n",
      "/home/codespace/.local/lib/python3.12/site-packages/IPython/core/pylabtools.py:170: UserWarning:\n",
      "\n",
      "Glyph 51648 (\\N{HANGUL SYLLABLE JI}) missing from font(s) DejaVu Sans.\n",
      "\n",
      "findfont: Font family 'Malgun Gothic' not found.\n",
      "/home/codespace/.local/lib/python3.12/site-packages/IPython/core/pylabtools.py:170: UserWarning:\n",
      "\n",
      "Glyph 50506 (\\N{HANGUL SYLLABLE ANH}) missing from font(s) DejaVu Sans.\n",
      "\n",
      "/home/codespace/.local/lib/python3.12/site-packages/IPython/core/pylabtools.py:170: UserWarning:\n",
      "\n",
      "Glyph 51008 (\\N{HANGUL SYLLABLE EUN}) missing from font(s) DejaVu Sans.\n",
      "\n",
      "findfont: Font family 'Malgun Gothic' not found.\n",
      "/home/codespace/.local/lib/python3.12/site-packages/IPython/core/pylabtools.py:170: UserWarning:\n",
      "\n",
      "Glyph 54620 (\\N{HANGUL SYLLABLE HAN}) missing from font(s) DejaVu Sans.\n",
      "\n",
      "findfont: Font family 'Malgun Gothic' not found.\n",
      "findfont: Font family 'Malgun Gothic' not found.\n",
      "findfont: Font family 'Malgun Gothic' not found.\n",
      "findfont: Font family 'Malgun Gothic' not found.\n",
      "findfont: Font family 'Malgun Gothic' not found.\n",
      "findfont: Font family 'Malgun Gothic' not found.\n",
      "findfont: Font family 'Malgun Gothic' not found.\n",
      "findfont: Font family 'Malgun Gothic' not found.\n",
      "findfont: Font family 'Malgun Gothic' not found.\n",
      "findfont: Font family 'Malgun Gothic' not found.\n",
      "findfont: Font family 'Malgun Gothic' not found.\n",
      "findfont: Font family 'Malgun Gothic' not found.\n",
      "findfont: Font family 'Malgun Gothic' not found.\n",
      "findfont: Font family 'Malgun Gothic' not found.\n",
      "findfont: Font family 'Malgun Gothic' not found.\n"
     ]
    },
    {
     "data": {
      "image/png": "[encoded data removed]",
      "text/plain": [
       "<Figure size 400x300 with 1 Axes>"
      ]
     },
     "metadata": {},
     "output_type": "display_data"
    }
   ],
   "source": [
    "# d type = low, middle, high\n",
    "from matplotlib import pyplot as plt\n",
    "non_serious_heart_attack = [29, 17, 18]\n",
    "serious_heart_attack = [19, 20, 9]\n",
    "values, re_values, tx_values = [], [], []\n",
    "label = ['낮음', '중간', '높음']\n",
    "# 콜레스테롤 수치에 따른 막대그래프, 주변분포 구하기\n",
    "# serious_heart_attack의 변수 수를 계산하여 반복하여 더해 저장\n",
    "for i in range(len(non_serious_heart_attack)):\n",
    " xs = non_serious_heart_attack[i] + serious_heart_attack[i]\n",
    " values.append(xs)\n",
    "# 토탈 값 구하기\n",
    "total = sum(non_serious_heart_attack) + sum(serious_heart_attack)\n",
    "for i in range(3):\n",
    " data = round((values[i] / total), 3)\n",
    " data = round((data * 100), 1)\n",
    " re_values.append(data)\n",
    "plt.rc('font', family='Malgun Gothic')\n",
    "plt.bar(label, re_values, color='violet', alpha=0.7, edgecolor='purple')\n",
    "plt.show()\n",
    "from matplotlib import pyplot as plt\n",
    "non_serious_heart_attack = [29, 17, 18]\n",
    "serious_heart_attack = [19, 20, 9]\n",
    "thread = sum(non_serious_heart_attack), sum(serious_heart_attack)\n",
    "values = []\n",
    "desc = ['심각하지\\n않은', '심각한']\n",
    "for i in range(len(thread)):\n",
    " total = sum(thread)\n",
    " data = round((thread[i] / total), 3)\n",
    " data = round((data * 100), 1)\n",
    " values.append(data)\n",
    "plt.rc('font', family='Malgun Gothic')\n",
    "plt.bar(desc, values, color='violet', alpha=0.7, edgecolor='purple')"
   ]
  },
  {
   "cell_type": "code",
   "execution_count": 12,
   "metadata": {},
   "outputs": [
    {
     "name": "stdout",
     "output_type": "stream",
     "text": [
      "확률밀도함수 : 0.25\n",
      "회의가 최소한 3시간 이상일 확률 : 0.25\n"
     ]
    }
   ],
   "source": [
    "from scipy.stats import uniform\n",
    "meeting_hours = 3\n",
    "pdf = uniform.pdf(meeting_hours, loc=0, scale=4)\n",
    "print(f\"확률밀도함수 : {pdf}\")\n",
    "prob = uniform.sf(meeting_hours, loc=0, scale=4)\n",
    "print(f\"회의가 최소한 3시간 이상일 확률 : {prob}\")"
   ]
  },
  {
   "cell_type": "code",
   "execution_count": 21,
   "metadata": {},
   "outputs": [
    {
     "name": "stdout",
     "output_type": "stream",
     "text": [
      "4개의 제품 중 정확하게 3개가 충격을 견딜 확률은 42.188% 입니다.\n"
     ]
    }
   ],
   "source": [
    "from scipy.stats import binom\n",
    "n=4 # 시행 횟수\n",
    "p=3/4 # 성공 확률\n",
    "x=3 # 성공 횟수\n",
    "# 이항분포의 확률 질량 함수를 계산\n",
    "prob=(binom.pmf(x, n, p)) * 100\n",
    "print(f\"4개의 제품 중 정확하게 3개가 충격을 견딜 확률은 {round((prob), 3)}% 입니다.\")"
   ]
  },
  {
   "cell_type": "code",
   "execution_count": 19,
   "metadata": {},
   "outputs": [
    {
     "name": "stdout",
     "output_type": "stream",
     "text": [
      "4개의 제품 중 정확하게 3개가 충격을 견딜 확률은 42.188%입니다.\n"
     ]
    }
   ],
   "source": [
    "from scipy.stats import binom\n",
    "\n",
    "n = 4  # 시행 횟수\n",
    "p = 3 / 4  # 성공 확률\n",
    "x = 3  # 성공 횟수\n",
    "\n",
    "# 이항분포의 확률 질량 함수를 계산\n",
    "prob = (binom.pmf(x, n, p)) * 100\n",
    "print(f'4개의 제품 중 정확하게 3개가 충격을 견딜 확률은 {round(prob, 3)}%입니다.')"
   ]
  },
  {
   "cell_type": "code",
   "execution_count": 22,
   "metadata": {},
   "outputs": [
    {
     "name": "stdout",
     "output_type": "stream",
     "text": [
      "정확히 한 개의 불량품이 있을 확률 : 0.3011\n"
     ]
    }
   ],
   "source": [
    "from math import comb\n",
    "n=5 # 전체 제품 수\n",
    "N=40 # 전체 제품 중 불량품 수\n",
    "k=3 # 뽑은 제품 중 불량품 수\n",
    "p = comb(3, 1) * comb(37, 4) / comb(40, 5)\n",
    "print(f\"정확히 한 개의 불량품이 있을 확률 : {round((p), 4)}\")"
   ]
  },
  {
   "cell_type": "code",
   "execution_count": 23,
   "metadata": {},
   "outputs": [
    {
     "name": "stdout",
     "output_type": "stream",
     "text": [
      "네 번째 시도에서 상대방과 통화할 수 있는 확률 : 0.0429\n"
     ]
    }
   ],
   "source": [
    "from scipy.stats import geom\n",
    "p = 0.05 \n",
    "prob = geom.pmf(4, p)\n",
    "print(f\"네 번째 시도에서 상대방과 통화할 수 있는 확률 : {round(prob, 4)}\")"
   ]
  },
  {
   "cell_type": "code",
   "execution_count": 24,
   "metadata": {},
   "outputs": [
    {
     "name": "stdout",
     "output_type": "stream",
     "text": [
      "P(60 < X < 65) = 0.09184805266259899\n"
     ]
    }
   ],
   "source": [
    "from scipy.stats import norm\n",
    "mu = 50 # 평균 \n",
    "sigma = 10 # 표준편차\n",
    "# P(60 < X < 65)\n",
    "prob = norm.cdf(65, mu, sigma) - norm.cdf(60, mu, sigma)\n",
    "print(f\"P(60 < X < 65) = {prob}\")"
   ]
  },
  {
   "cell_type": "code",
   "execution_count": 25,
   "metadata": {},
   "outputs": [
    {
     "name": "stdout",
     "output_type": "stream",
     "text": [
      "P(X < 1410) = 0.1151\n",
      "P(1536 < X < 1648) = 0.1762\n"
     ]
    }
   ],
   "source": [
    "from scipy.stats import norm\n",
    "import matplotlib.pyplot as plt\n",
    "import numpy as np\n",
    "plt.rc('font', family='Malgun Gothic')\n",
    "mu = 1500\n",
    "sigma = 75\n",
    "\n",
    "prob = norm.cdf(1410, mu, sigma)\n",
    "# P(1563 <= X <= 1648)\n",
    "prob2 = norm.cdf(1648, mu, sigma) - norm.cdf(1563, mu, sigma)\n",
    "# 백열전구의 수명이 1,410시간 이하일 확률\n",
    "print(f\"P(X < 1410) = {prob:.4f}\")\n",
    "print(f\"P(1536 < X < 1648) = {prob2:.4f}\")"
   ]
  },
  {
   "cell_type": "code",
   "execution_count": 26,
   "metadata": {},
   "outputs": [
    {
     "name": "stdout",
     "output_type": "stream",
     "text": [
      "예산삭감을 지지할 확률 : 0.7612\n"
     ]
    }
   ],
   "source": [
    "from scipy.stats import norm\n",
    "import numpy as np\n",
    "import matplotlib.pyplot as plt\n",
    "plt.rc('font', family='Malgun Gothic')\n",
    "x=155\n",
    "mu=(250 * 0.6)\n",
    "sigma=7.746\n",
    "prob = norm.cdf(x + 0.5, mu, sigma)\n",
    "print(f\"예산삭감을 지지할 확률 : {round((prob), 4)}\")"
   ]
  },
  {
   "cell_type": "code",
   "execution_count": 27,
   "metadata": {},
   "outputs": [
    {
     "name": "stdout",
     "output_type": "stream",
     "text": [
      "안전띠를 하고 있을 비율이 45%에서 55%일 확률 : 0.8925\n"
     ]
    }
   ],
   "source": [
    "from scipy.stats import binom\n",
    "n = 400 # 차가 지나간 수\n",
    "p = 0.48 # 안전띠를 하고 있을 확률\n",
    "k1 = int(0.45 * n) # 안전띠를 하고 있을 비율이 45%일 확률\n",
    "k2 = int(0.55 * n) # 안전띠를 하고 있을 비율이 55%일 확률\n",
    "prob = binom.cdf(k2, n, p) - binom.cdf(k1 - 1, n, p)\n",
    "print(f'안전띠를 하고 있을 비율이 45%에서 55%일 확률 : {prob:.4f}')"
   ]
  },
  {
   "cell_type": "code",
   "execution_count": 28,
   "metadata": {},
   "outputs": [
    {
     "name": "stdout",
     "output_type": "stream",
     "text": [
      "남자의 퍼센트와 여자의 차이가 10%를 넘을 확률 : 0.5793\n"
     ]
    }
   ],
   "source": [
    "from scipy.stats import norm\n",
    "prob = 1 - norm.cdf(-0.20)\n",
    "print(f'남자의 퍼센트와 여자의 차이가 10%를 넘을 확률 : {prob:.4f}')"
   ]
  },
  {
   "cell_type": "code",
   "execution_count": 29,
   "metadata": {},
   "outputs": [
    {
     "name": "stdout",
     "output_type": "stream",
     "text": [
      "표준오차 : 0.04561249828720194\n",
      "퍼센트 차이가 몇 퍼센트보다 클 확률 : 0.182\n"
     ]
    }
   ],
   "source": [
    "from scipy.stats import norm\n",
    "import math\n",
    "n1 = 200 # 혼인한 커플\n",
    "\n",
    "p1 = 0.43 # 혼인한 커플의 집 소유 비율\n",
    "n2 = 180 # 독신\n",
    "p2 = 0.19 # 독신의 집 소유 비율\n",
    "mu = p1 - p2 # 두 모집단의 차이\n",
    "sd = math.sqrt(p1*(1-p1)/n1 + p2*(1-p2)/n2) # 표준오차\n",
    "print(f\"표준오차 : {sd}\")\n",
    "sc = norm.ppf(0.1, mu, sd) # 표준정규분포의 누적분포함수\n",
    "print(f\"퍼센트 차이가 몇 퍼센트보다 클 확률 : {round((sc), 3)}\")"
   ]
  },
  {
   "cell_type": "code",
   "execution_count": 30,
   "metadata": {},
   "outputs": [
    {
     "name": "stdout",
     "output_type": "stream",
     "text": [
      "700달러를 넘을 확률 : 0.117\n"
     ]
    }
   ],
   "source": [
    "from scipy.stats import norm\n",
    "mu = 650 # 평균 미결제 잔액\n",
    "sd = 420 # 표준편차\n",
    "n = 100 # 커플의 수\n",
    "sem = 42 # 표준오차\n",
    "cx = 700 # 700달러 이상 미결제 잔액을 가진 커플의 수\n",
    "z = (cx - mu) / sem # z스코어 구하기\n",
    "p = 1 - norm.cdf(z) # p벨류\n",
    "print(f'700달러를 넘을 확률 : {p:.3f}')"
   ]
  },
  {
   "cell_type": "code",
   "execution_count": 32,
   "metadata": {},
   "outputs": [
    {
     "name": "stdout",
     "output_type": "stream",
     "text": [
      "비료 A를 쓰는 분포표의 평균 수확이 B를 평균 분포표보다 낮을 확률: 0.0460\n"
     ]
    }
   ],
   "source": [
    "from scipy.stats import norm\n",
    "mu_a = 4.5 # 비료 A를 쓰는 분포표의 평균 수확\n",
    "sd_a = 0.7 # 비료 A를 쓰는 분포표의 표준편차\n",
    "mu_b = 4.3 # 비료 B를 쓰는 분포표의 평균 수확\n",
    "sd_b = 0.4 # 비료 B를 쓰는 분포표의 표준편차\n",
    "n_a = 45 # 비료 A를 쓰는 분포표의 표본 수\n",
    "n_b = 50 # 비료 B를 쓰는 분포표의 표본 수\n",
    "sem_a = sd_a / (n_a ** 0.5) # 비료 A를 사용했을 때의 표준오차를 계산\n",
    "sem_b = sd_b / (n_b ** 0.5) # 비료 B를 사용했을 때의 표준오차를 계산\n",
    "mu_diff = mu_a - mu_b # 두 비료의 평균 수확량 차이를 계산\n",
    "sd_diff = (sem_a ** 2 + sem_b ** 2) ** 0.5 # 두 비료의 표준오차 차이를 계산\n",
    "z = (0 - mu_diff) / sd_diff # z 점수를 계산\n",
    "p = norm.cdf(z) # z 점수를 사용하여 누적 분포 함수를 계산\n",
    "print(f'비료 A를 쓰는 분포표의 평균 수확이 B를 평균 분포표보다 낮을 확률: {p:.4f}')"
   ]
  },
  {
   "cell_type": "code",
   "execution_count": 33,
   "metadata": {},
   "outputs": [
    {
     "name": "stdout",
     "output_type": "stream",
     "text": [
      "확률이 0.95일 때 결석한 날 평균수의 차이 : 2.6\n",
      "넘을 확률 : 0.95\n"
     ]
    }
   ],
   "source": [
    "import math\n",
    "mu_public = 8.5 # 주립학교 결석한 날 평균 수\n",
    "sd_public = 4.1 # 주립학교 결석한 날 표준편차\n",
    "mu_private = 5.3 # 사립학교 결석한 날 평균 수\n",
    "sd_private = 2.9 # 사립학교 결석한 날 표준편차\n",
    "n_public = 200 # 주립학교 학생 수\n",
    "n_private = 150 # 사립학교 학생 수\n",
    "\n",
    "probability = 0.95 # 확률\n",
    "sd = math.sqrt(sd_public**2/n_public + sd_private**2/n_private)\n",
    "ex = (mu_public - mu_private) - 1.645 * sd\n",
    "print(f'확률이 0.95일 때 결석한 날 평균수의 차이 : {round((ex), 1)}')\n",
    "print(f\"넘을 확률 : {probability}\")"
   ]
  },
  {
   "cell_type": "code",
   "execution_count": 34,
   "metadata": {},
   "outputs": [
    {
     "name": "stdout",
     "output_type": "stream",
     "text": [
      "P(T<=-1.415) = 1-P(T<=1.415) : 0.094\n",
      "자유도가 n = 25, α = 0.05인 t : 1.708\n"
     ]
    }
   ],
   "source": [
    "from scipy.stats import t\n",
    "p = t.cdf(-1.415, df=10)\n",
    "tc = t.ppf(1 - 0.05, df=25)\n",
    "print(f\"P(T<=-1.415) = 1-P(T<=1.415) : {round((p), 3)}\")\n",
    "print(f\"자유도가 n = 25, α = 0.05인 t : {round((tc), 3)}\")"
   ]
  },
  {
   "cell_type": "code",
   "execution_count": 35,
   "metadata": {},
   "outputs": [
    {
     "name": "stdout",
     "output_type": "stream",
     "text": [
      "x²의 값 : 3.26\n",
      "P(x² > x₀²) : 0.515\n"
     ]
    }
   ],
   "source": [
    "from scipy.stats import chi2\n",
    "sample = [1.9, 2.4, 3.0, 3.5, 4.2]\n",
    "n = len(sample)\n",
    "\n",
    "mu = 3\n",
    "sigma = 1\n",
    "x2 = sum(((x - mu) / sigma) ** 2 for x in sample)\n",
    "p = 1 - chi2.cdf(x2, df=n-1)\n",
    "print(f\"x²의 값 : {round((x2), 3)}\")\n",
    "print(f\"P(x² > x₀²) : {round((p), 3)}\")"
   ]
  },
  {
   "cell_type": "code",
   "execution_count": 36,
   "metadata": {},
   "outputs": [
    {
     "name": "stdout",
     "output_type": "stream",
     "text": [
      "x의 값 : 16.92\n"
     ]
    }
   ],
   "source": [
    "from scipy.stats import chi2\n",
    "df = 9 # 자유도\n",
    "x = chi2.ppf(1 - 0.05, df=df)\n",
    "print(f\"x의 값 : {round((x), 2)}\")"
   ]
  },
  {
   "cell_type": "code",
   "execution_count": 37,
   "metadata": {},
   "outputs": [
    {
     "name": "stdout",
     "output_type": "stream",
     "text": [
      "F0.05,(2,4) : 6.94\n",
      "F0.01,(2,4) : 4.32\n"
     ]
    }
   ],
   "source": [
    "from scipy.stats import f\n",
    "alpha = 0.05 \n",
    "dfn, dfd = 2, 4 \n",
    "f_value = f.ppf(1 - alpha, dfn, dfd)\n",
    "f_value2 = f.ppf(1 - 0.1, dfn, dfd)\n",
    "print(f'F0.05,(2,4) : {round((f_value), 2)}')\n",
    "print(f'F0.01,(2,4) : {round((f_value2), 2)}')"
   ]
  },
  {
   "cell_type": "code",
   "execution_count": 38,
   "metadata": {},
   "outputs": [
    {
     "name": "stdout",
     "output_type": "stream",
     "text": [
      "95% 신뢰구간 : 0.045, 0.115\n"
     ]
    }
   ],
   "source": [
    "from math import sqrt\n",
    "from scipy.stats import norm\n",
    "\n",
    "n = 225\n",
    "x = 18\n",
    "p_hat = x / n\n",
    "z = norm.ppf(0.975)\n",
    "se = sqrt(p_hat * (1 - p_hat) / n)\n",
    "lower = p_hat - z * se\n",
    "upper = p_hat + z * se\n",
    "print(f\"95% 신뢰구간 : {round((lower), 3)}, {round((upper), 3)}\")"
   ]
  },
  {
   "cell_type": "code",
   "execution_count": 39,
   "metadata": {},
   "outputs": [
    {
     "name": "stdout",
     "output_type": "stream",
     "text": [
      "차이: 0.12 ± 0.083\n"
     ]
    }
   ],
   "source": [
    "import math\n",
    "from scipy.stats import norm\n",
    "n1 = 125\n",
    "p1 = 0.84\n",
    "n2 = 150\n",
    "p2 = 0.72\n",
    "alpha = 0.1\n",
    "phat1 = p1\n",
    "phat2 = p2\n",
    "phat = (n1 * phat1 + n2 * phat2) / (n1 + n2)\n",
    "z = norm.ppf(1 - alpha / 2)\n",
    "se = math.sqrt(phat * (1 - phat) * (1 / n1 + 1 / n2))\n",
    "ci_low = (phat1 - phat2) - z * se\n",
    "ci_high = (phat1 - phat2) + z * se\n",
    "diff = phat1 - phat2\n",
    "margin_of_error = z * se\n",
    "print(f'차이: {diff:.2f} ± {margin_of_error:.3f}')"
   ]
  },
  {
   "cell_type": "code",
   "execution_count": 40,
   "metadata": {},
   "outputs": [
    {
     "name": "stdout",
     "output_type": "stream",
     "text": [
      "95% 신뢰구간추정 : 4.63 < µ < 6.01\n"
     ]
    }
   ],
   "source": [
    "from math import sqrt\n",
    "x = 5.32 # 무작위 표본의 평균 박동수\n",
    "sigma = 2.49 # 모표준편차\n",
    "n = 50 # 표본의 크기(인수)\n",
    "v = 1.96 # 95% 신뢰구간의 z-값\n",
    "lower = x - (v * (sigma / sqrt(n)))\n",
    "upper = x + (v * (sigma / sqrt(n)))\n",
    "print(f\"95% 신뢰구간추정 : {round((lower), 3)} < µ < {round((upper), 3)}\")"
   ]
  },
  {
   "cell_type": "code",
   "execution_count": 41,
   "metadata": {},
   "outputs": [
    {
     "name": "stdout",
     "output_type": "stream",
     "text": [
      "95% 신뢰구간추정 : 25.9 < µ < 28.5\n"
     ]
    }
   ],
   "source": [
    "from math import sqrt\n",
    "n = 10 # 표본의 크기\n",
    "x1 = 27.2 # 표본평균\n",
    "s = 1.8 # 표본표준편차\n",
    "t = 2.262 # t-분포표에서 검정유의수준 0.05\n",
    "lower = x1 - (t * s / sqrt(n))\n",
    "upper = x1 + (t * (s / sqrt(n)))\n",
    "print(f\"95% 신뢰구간추정 : {round((lower), 1)} < µ < {round((upper), 1)}\")"
   ]
  },
  {
   "cell_type": "code",
   "execution_count": 42,
   "metadata": {},
   "outputs": [
    {
     "name": "stdout",
     "output_type": "stream",
     "text": [
      "90% 신뢰구간추정 : 0.458 < µ < 0.562\n"
     ]
    }
   ],
   "source": [
    "from scipy.stats import *\n",
    "import numpy as np\n",
    "import math\n",
    "data = [0.43, 0.52, 0.46, 0.49, 0.60, 0.56]\n",
    "xbar = np.mean(data)\n",
    "sd = round((np.std(data, ddof=1)), 4)\n",
    "n = len(data)\n",
    "t = 2.015\n",
    "lower = xbar - (t * (sd / math.sqrt(n)))\n",
    "upper = xbar + (t * (sd / math.sqrt(n)))\n",
    "print(f\"90% 신뢰구간추정 : {round((lower), 3)} < µ < {round((upper), 3)}\")"
   ]
  },
  {
   "cell_type": "code",
   "execution_count": 43,
   "metadata": {},
   "outputs": [
    {
     "name": "stdout",
     "output_type": "stream",
     "text": [
      "95% 신뢰구간추정 : 2.95 < µ1 - µ2 < 6.45\n"
     ]
    }
   ],
   "source": [
    "from math import sqrt\n",
    "simga = 0.05 # 유의수준 5%\n",
    "z1 = 1.96 # 95% 구간의 z값\n",
    "month = 30 # 연구 기간 30개월\n",
    "teamA = 3.5 # teamA의 표준편차\n",
    "teamA_mean = 12.3 # teamA의 사고 평균\n",
    "teamB = 3.4 # teamB의 표준편차\n",
    "teamB_mean = 7.6 # teamB의 사고 평균\n",
    "lower = (teamA_mean - teamB_mean) - (z1 * sqrt(((teamA**2) / month) + \n",
    "((teamB**2)/month)))\n",
    "upper = (teamA_mean - teamB_mean) + (z1 * sqrt(((teamA**2) / month) + \n",
    "((teamB**2)/month)))\n",
    "print(f\"95% 신뢰구간추정 : {round((lower), 2)} < µ1 - µ2 < {round((upper), 2)}\")"
   ]
  },
  {
   "cell_type": "code",
   "execution_count": 45,
   "metadata": {},
   "outputs": [
    {
     "name": "stdout",
     "output_type": "stream",
     "text": [
      "98% 신뢰구간 : -11.424 < µ1 - µ2 < 7.424\n"
     ]
    }
   ],
   "source": [
    "from math import sqrt\n",
    "import numpy as np\n",
    "data1 = [40, 49, 38, 48, 40]\n",
    "data2 = [51, 41, 53, 39, 40, 47]\n",
    "x1 = int(np.mean(data1))\n",
    "x2 = int(np.mean(data2))\n",
    "s1 = 5.517 # s1\n",
    "n1 = len(data1) # 구획 A\n",
    "n2 = len(data2) # 구획 B\n",
    "t = 2.821\n",
    "lower = (x1-x2) - (t * (s1 * sqrt(1/n1 + 1/n2)))\n",
    "upper = (x1-x2) + (t * (s1 * sqrt(1/n1 + 1/n2)))\n",
    "print(f\"98% 신뢰구간 : {lower:.3f} < µ1 - µ2 < {upper:.3f}\")"
   ]
  },
  {
   "cell_type": "code",
   "execution_count": 46,
   "metadata": {},
   "outputs": [
    {
     "name": "stdout",
     "output_type": "stream",
     "text": [
      "95% 신뢰구간 : -4.55 < µ(D) < 1.95\n"
     ]
    }
   ],
   "source": [
    "import numpy as np\n",
    "from scipy.stats import t\n",
    "x = np.array([19, 11, 14, 17, 23, 11, 15, 19, 11, 8])\n",
    "y = np.array([22, 18, 17, 19, 22, 12, 14, 11, 19,7])\n",
    "d = x - y\n",
    "d_bar = np.mean(d)\n",
    "s_d = np.std(d, ddof=1)\n",
    "n = len(d)\n",
    "t_value = t.ppf(0.975, n - 1)\n",
    "margin_of_error = t_value * s_d / np.sqrt(n)\n",
    "lower = d_bar - margin_of_error\n",
    "upper = d_bar + margin_of_error\n",
    "print(f\"95% 신뢰구간 : {round(lower, 2)} < µ(D) < {round(upper, 2)}\")"
   ]
  },
  {
   "cell_type": "code",
   "execution_count": 47,
   "metadata": {},
   "outputs": [
    {
     "name": "stdout",
     "output_type": "stream",
     "text": [
      "95% 신뢰구간 : (0.135 < σ^2 < 0.954)\n"
     ]
    }
   ],
   "source": [
    "from scipy.stats import chi2\n",
    "weight = [46.4, 46.1, 45.8, 47.0, 46.1, 45.9, 45.8, 46.9, 45.2, 46.0]\n",
    "n = len(weight)\n",
    "x_bar = sum(weight) / n\n",
    "s2 = sum((x - x_bar)**2 for x in weight) / (n - 1)\n",
    "lower = (n - 1) * s2 / chi2.ppf(0.975, n - 1)\n",
    "upper = (n - 1) * s2 / chi2.ppf(0.025, n - 1)\n",
    "print(f\"95% 신뢰구간 : ({round((lower), 3)} < σ^2 < {round((upper), 3)})\")"
   ]
  },
  {
   "cell_type": "code",
   "execution_count": 50,
   "metadata": {},
   "outputs": [
    {
     "name": "stdout",
     "output_type": "stream",
     "text": [
      "z-statistic: -1.3125\n",
      "p-value는 0.0947로, 유의수준 0.1보다 작다.\n",
      "따라서 귀무가설을 기각한다.\n"
     ]
    }
   ],
   "source": [
    "from statsmodels.stats.proportion import proportions_ztest\n",
    "# 귀무가설: 연합 일원 중 쟁의를 지지하는 비율은 75%이다.\n",
    "# 대립가설: 연합 일원 중 쟁의를 지지하는 비율은 75% 이하이다.\n",
    "n = 125 # 샘플 크기\n",
    "x = 87 # 샘플 중 쟁의를 지지하는 인원수\n",
    "p = 0.75 # 귀무가설하에서의 비율\n",
    "# z-검정\n",
    "z_stat, p_value = proportions_ztest(x, n, p, alternative='smaller')\n",
    "# 결과 출력\n",
    "print(f\"z-statistic: {z_stat:.4f}\")\n",
    "alpha = 0.10 # 유의수준\n",
    "if p_value < alpha: \n",
    " print(f\"p-value는 {p_value:.4f}로, 유의수준 {alpha}보다 작다.\\n따라서 귀무가설을 기각한다.\") \n",
    "else:\n",
    " print(f\"p-value는 {p_value:.4f}로, 유의수준 {alpha}보다 크거나 같다. \\n따라서 귀무가설을 기각할 수 없음\")"
   ]
  },
  {
   "cell_type": "code",
   "execution_count": 52,
   "metadata": {},
   "outputs": [
    {
     "name": "stdout",
     "output_type": "stream",
     "text": [
      "검정통계량: 70.6416\n",
      "p-value: 3.661824689679792e-12\n",
      "\n",
      "p-value는 0.0000로, 유의수준 0.01보다 작다. \n",
      "따라서 귀무가설을 기각한다.\n"
     ]
    }
   ],
   "source": [
    "from scipy import stats\n",
    "# 귀무가설: 지역에 따라 공해를 느끼는 정도가 차이가 없다.\n",
    "# 대립가설: 지역에 따라 공해를 느끼는 정도가 차이가 있다.\n",
    "지역1 = [20, 28, 23, 14, 12]\n",
    "지역2 = [14, 34, 21, 14, 12]\n",
    "지역3 = [4, 12, 10, 20, 53]\n",
    "observed = [지역1, 지역2, 지역3]\n",
    "chi2_stat, p_value, dof, expected = stats.chi2_contingency(observed)\n",
    "print(f\"검정통계량: {chi2_stat:.4f}\")\n",
    "print(f\"p-value: {p_value}\\n\")\n",
    "alpha = 0.01\n",
    "if p_value < alpha: \n",
    " print(f\"p-value는 {p_value:.4f}로, 유의수준 {alpha}보다 작다. \\n따라서 귀무가설을 기각한다.\") \n",
    "else:\n",
    " print(f\"p-value는 {p_value:.4f}로, 유의수준 {alpha}보다 크거나 같다. \\n따라서 귀무가설을 기각할 수 없음\") "
   ]
  },
  {
   "cell_type": "code",
   "execution_count": 53,
   "metadata": {},
   "outputs": [
    {
     "name": "stdout",
     "output_type": "stream",
     "text": [
      "표본상관계수 r: 0.347\n"
     ]
    }
   ],
   "source": [
    "import numpy as np\n",
    "x = np.array([2.4, 3.4, 4.6, 3.7, 2.2, 3.3, 4.0, 2.1])\n",
    "y = np.array([1.33, 2.12, 1.80, 1.65, 2.00, 1.76, 2.11, 1.63])\n",
    "r = np.corrcoef(x, y)[0, 1]\n",
    "print(f'표본상관계수 r: {r:.3f}')"
   ]
  },
  {
   "cell_type": "code",
   "execution_count": 54,
   "metadata": {},
   "outputs": [
    {
     "name": "stdout",
     "output_type": "stream",
     "text": [
      "1. 상관계수 r : -0.9787\n",
      "2. 회귀직선의 방정식: y = 153.1755 ± -6.3240x\n",
      "3. 강우량이 5.8일 때 대기오염 제거 정도: 116.496\n"
     ]
    }
   ],
   "source": [
    "import numpy as np\n",
    "from scipy import stats\n",
    "x = np.array([4.3, 4.5, 5.9, 5.6, 6.1, 5.2, 3.8, 2.1, 7.5])\n",
    "y = np.array([126, 121, 116, 118, 114, 118, 132, 141, 108])\n",
    "# 1. 상관계수 계산\n",
    "r, _ = stats.pearsonr(x, y)\n",
    "print(f'1. 상관계수 r : {r:.4f}')\n",
    "# 2. 회귀직선의 방정식 계산\n",
    "b1, b0, _, _, _ = stats.linregress(x, y)\n",
    "print(f'2. 회귀직선의 방정식: y = {b0:.4f} ± {b1:.4f}x')\n",
    "# 3. 강우량이 x = 5.8일 때 대기오염 제거 정도 추정\n",
    "x = 5.8\n",
    "y_hat = b0 + b1 * x\n",
    "print(f'3. 강우량이 {x}일 때 대기오염 제거 정도: {y_hat:.3f}')"
   ]
  },
  {
   "cell_type": "code",
   "execution_count": 55,
   "metadata": {},
   "outputs": [
    {
     "name": "stdout",
     "output_type": "stream",
     "text": [
      "결정계수 R²: 0.95777\n"
     ]
    }
   ],
   "source": [
    "import numpy as np\n",
    "from scipy import stats\n",
    "x = np.array([4.3, 4.5, 5.9, 5.6, 6.1, 5.2, 3.8, 2.1, 7.5])\n",
    "y = np.array([126, 121, 116, 118, 114, 118, 132, 141, 108])\n",
    "# 상관계수 계산\n",
    "r, _ = stats.pearsonr(x, y)\n",
    "# 결정계수 R^2 계산\n",
    "r2 = r**2\n",
    "print(f'결정계수 R²: {r2:.5f}')"
   ]
  },
  {
   "cell_type": "code",
   "execution_count": 56,
   "metadata": {},
   "outputs": [
    {
     "name": "stderr",
     "output_type": "stream",
     "text": [
      "findfont: Font family 'Malgun Gothic' not found.\n",
      "findfont: Font family 'Malgun Gothic' not found.\n",
      "findfont: Font family 'Malgun Gothic' not found.\n",
      "findfont: Font family 'Malgun Gothic' not found.\n",
      "findfont: Font family 'Malgun Gothic' not found.\n",
      "findfont: Font family 'Malgun Gothic' not found.\n",
      "findfont: Font family 'Malgun Gothic' not found.\n",
      "findfont: Font family 'Malgun Gothic' not found.\n",
      "findfont: Font family 'Malgun Gothic' not found.\n",
      "/home/codespace/.local/lib/python3.12/site-packages/IPython/core/pylabtools.py:170: UserWarning:\n",
      "\n",
      "Glyph 51064 (\\N{HANGUL SYLLABLE IN}) missing from font(s) DejaVu Sans.\n",
      "\n",
      "/home/codespace/.local/lib/python3.12/site-packages/IPython/core/pylabtools.py:170: UserWarning:\n",
      "\n",
      "Glyph 44396 (\\N{HANGUL SYLLABLE GU}) missing from font(s) DejaVu Sans.\n",
      "\n",
      "findfont: Font family 'Malgun Gothic' not found.\n",
      "findfont: Font family 'Malgun Gothic' not found.\n",
      "/home/codespace/.local/lib/python3.12/site-packages/IPython/core/pylabtools.py:170: UserWarning:\n",
      "\n",
      "Glyph 49328 (\\N{HANGUL SYLLABLE SAN}) missing from font(s) DejaVu Sans.\n",
      "\n",
      "/home/codespace/.local/lib/python3.12/site-packages/IPython/core/pylabtools.py:170: UserWarning:\n",
      "\n",
      "Glyph 51216 (\\N{HANGUL SYLLABLE JEOM}) missing from font(s) DejaVu Sans.\n",
      "\n",
      "/home/codespace/.local/lib/python3.12/site-packages/IPython/core/pylabtools.py:170: UserWarning:\n",
      "\n",
      "Glyph 46020 (\\N{HANGUL SYLLABLE DO}) missing from font(s) DejaVu Sans.\n",
      "\n",
      "findfont: Font family 'Malgun Gothic' not found.\n",
      "findfont: Font family 'Malgun Gothic' not found.\n",
      "findfont: Font family 'Malgun Gothic' not found.\n",
      "findfont: Font family 'Malgun Gothic' not found.\n",
      "findfont: Font family 'Malgun Gothic' not found.\n",
      "findfont: Font family 'Malgun Gothic' not found.\n",
      "/home/codespace/.local/lib/python3.12/site-packages/IPython/core/pylabtools.py:170: UserWarning:\n",
      "\n",
      "Glyph 45380 (\\N{HANGUL SYLLABLE NYEON}) missing from font(s) DejaVu Sans.\n",
      "\n",
      "findfont: Font family 'Malgun Gothic' not found.\n",
      "findfont: Font family 'Malgun Gothic' not found.\n",
      "findfont: Font family 'Malgun Gothic' not found.\n",
      "findfont: Font family 'Malgun Gothic' not found.\n",
      "findfont: Font family 'Malgun Gothic' not found.\n",
      "findfont: Font family 'Malgun Gothic' not found.\n",
      "findfont: Font family 'Malgun Gothic' not found.\n",
      "findfont: Font family 'Malgun Gothic' not found.\n",
      "/home/codespace/.local/lib/python3.12/site-packages/IPython/core/pylabtools.py:170: UserWarning:\n",
      "\n",
      "Glyph 51092 (\\N{HANGUL SYLLABLE JAN}) missing from font(s) DejaVu Sans.\n",
      "\n",
      "/home/codespace/.local/lib/python3.12/site-packages/IPython/core/pylabtools.py:170: UserWarning:\n",
      "\n",
      "Glyph 52264 (\\N{HANGUL SYLLABLE CA}) missing from font(s) DejaVu Sans.\n",
      "\n",
      "findfont: Font family 'Malgun Gothic' not found.\n",
      "/home/codespace/.local/lib/python3.12/site-packages/IPython/core/pylabtools.py:170: UserWarning:\n",
      "\n",
      "Glyph 54540 (\\N{HANGUL SYLLABLE PEUL}) missing from font(s) DejaVu Sans.\n",
      "\n",
      "/home/codespace/.local/lib/python3.12/site-packages/IPython/core/pylabtools.py:170: UserWarning:\n",
      "\n",
      "Glyph 47215 (\\N{HANGUL SYLLABLE ROS}) missing from font(s) DejaVu Sans.\n",
      "\n",
      "findfont: Font family 'Malgun Gothic' not found.\n",
      "findfont: Font family 'Malgun Gothic' not found.\n",
      "findfont: Font family 'Malgun Gothic' not found.\n",
      "findfont: Font family 'Malgun Gothic' not found.\n",
      "findfont: Font family 'Malgun Gothic' not found.\n",
      "findfont: Font family 'Malgun Gothic' not found.\n",
      "findfont: Font family 'Malgun Gothic' not found.\n",
      "findfont: Font family 'Malgun Gothic' not found.\n",
      "findfont: Font family 'Malgun Gothic' not found.\n",
      "findfont: Font family 'Malgun Gothic' not found.\n",
      "findfont: Font family 'Malgun Gothic' not found.\n",
      "findfont: Font family 'Malgun Gothic' not found.\n",
      "findfont: Font family 'Malgun Gothic' not found.\n",
      "findfont: Font family 'Malgun Gothic' not found.\n",
      "findfont: Font family 'Malgun Gothic' not found.\n",
      "findfont: Font family 'Malgun Gothic' not found.\n",
      "findfont: Font family 'Malgun Gothic' not found.\n",
      "findfont: Font family 'Malgun Gothic' not found.\n",
      "findfont: Font family 'Malgun Gothic' not found.\n",
      "findfont: Font family 'Malgun Gothic' not found.\n",
      "findfont: Font family 'Malgun Gothic' not found.\n",
      "findfont: Font family 'Malgun Gothic' not found.\n",
      "findfont: Font family 'Malgun Gothic' not found.\n",
      "findfont: Font family 'Malgun Gothic' not found.\n",
      "findfont: Font family 'Malgun Gothic' not found.\n",
      "findfont: Font family 'Malgun Gothic' not found.\n",
      "findfont: Font family 'Malgun Gothic' not found.\n",
      "findfont: Font family 'Malgun Gothic' not found.\n",
      "findfont: Font family 'Malgun Gothic' not found.\n",
      "findfont: Font family 'Malgun Gothic' not found.\n",
      "findfont: Font family 'Malgun Gothic' not found.\n",
      "findfont: Font family 'Malgun Gothic' not found.\n",
      "findfont: Font family 'Malgun Gothic' not found.\n",
      "findfont: Font family 'Malgun Gothic' not found.\n",
      "findfont: Font family 'Malgun Gothic' not found.\n",
      "findfont: Font family 'Malgun Gothic' not found.\n",
      "findfont: Font family 'Malgun Gothic' not found.\n",
      "findfont: Font family 'Malgun Gothic' not found.\n",
      "findfont: Font family 'Malgun Gothic' not found.\n",
      "findfont: Font family 'Malgun Gothic' not found.\n",
      "findfont: Font family 'Malgun Gothic' not found.\n",
      "findfont: Font family 'Malgun Gothic' not found.\n",
      "findfont: Font family 'Malgun Gothic' not found.\n",
      "findfont: Font family 'Malgun Gothic' not found.\n",
      "findfont: Font family 'Malgun Gothic' not found.\n",
      "findfont: Font family 'Malgun Gothic' not found.\n",
      "findfont: Font family 'Malgun Gothic' not found.\n",
      "findfont: Font family 'Malgun Gothic' not found.\n",
      "findfont: Font family 'Malgun Gothic' not found.\n",
      "findfont: Font family 'Malgun Gothic' not found.\n",
      "findfont: Font family 'Malgun Gothic' not found.\n",
      "findfont: Font family 'Malgun Gothic' not found.\n",
      "findfont: Font family 'Malgun Gothic' not found.\n",
      "findfont: Font family 'Malgun Gothic' not found.\n",
      "findfont: Font family 'Malgun Gothic' not found.\n",
      "findfont: Font family 'Malgun Gothic' not found.\n"
     ]
    },
    {
     "data": {
      "image/png": "[encoded data removed]",
      "text/plain": [
       "<Figure size 1000x500 with 2 Axes>"
      ]
     },
     "metadata": {},
     "output_type": "display_data"
    },
    {
     "name": "stderr",
     "output_type": "stream",
     "text": [
      "findfont: Font family 'Malgun Gothic' not found.\n",
      "findfont: Font family 'Malgun Gothic' not found.\n",
      "findfont: Font family 'Malgun Gothic' not found.\n",
      "findfont: Font family 'Malgun Gothic' not found.\n",
      "findfont: Font family 'Malgun Gothic' not found.\n",
      "findfont: Font family 'Malgun Gothic' not found.\n",
      "findfont: Font family 'Malgun Gothic' not found.\n",
      "findfont: Font family 'Malgun Gothic' not found.\n",
      "findfont: Font family 'Malgun Gothic' not found.\n",
      "findfont: Font family 'Malgun Gothic' not found.\n",
      "findfont: Font family 'Malgun Gothic' not found.\n",
      "findfont: Font family 'Malgun Gothic' not found.\n",
      "findfont: Font family 'Malgun Gothic' not found.\n",
      "findfont: Font family 'Malgun Gothic' not found.\n",
      "findfont: Font family 'Malgun Gothic' not found.\n",
      "findfont: Font family 'Malgun Gothic' not found.\n",
      "findfont: Font family 'Malgun Gothic' not found.\n",
      "findfont: Font family 'Malgun Gothic' not found.\n",
      "findfont: Font family 'Malgun Gothic' not found.\n",
      "findfont: Font family 'Malgun Gothic' not found.\n",
      "findfont: Font family 'Malgun Gothic' not found.\n",
      "findfont: Font family 'Malgun Gothic' not found.\n",
      "findfont: Font family 'Malgun Gothic' not found.\n",
      "findfont: Font family 'Malgun Gothic' not found.\n",
      "findfont: Font family 'Malgun Gothic' not found.\n",
      "findfont: Font family 'Malgun Gothic' not found.\n",
      "findfont: Font family 'Malgun Gothic' not found.\n",
      "findfont: Font family 'Malgun Gothic' not found.\n",
      "findfont: Font family 'Malgun Gothic' not found.\n",
      "findfont: Font family 'Malgun Gothic' not found.\n",
      "findfont: Font family 'Malgun Gothic' not found.\n",
      "findfont: Font family 'Malgun Gothic' not found.\n",
      "findfont: Font family 'Malgun Gothic' not found.\n",
      "findfont: Font family 'Malgun Gothic' not found.\n",
      "findfont: Font family 'Malgun Gothic' not found.\n",
      "findfont: Font family 'Malgun Gothic' not found.\n",
      "findfont: Font family 'Malgun Gothic' not found.\n",
      "findfont: Font family 'Malgun Gothic' not found.\n",
      "findfont: Font family 'Malgun Gothic' not found.\n",
      "findfont: Font family 'Malgun Gothic' not found.\n",
      "findfont: Font family 'Malgun Gothic' not found.\n",
      "findfont: Font family 'Malgun Gothic' not found.\n",
      "findfont: Font family 'Malgun Gothic' not found.\n",
      "findfont: Font family 'Malgun Gothic' not found.\n",
      "findfont: Font family 'Malgun Gothic' not found.\n",
      "findfont: Font family 'Malgun Gothic' not found.\n",
      "findfont: Font family 'Malgun Gothic' not found.\n",
      "findfont: Font family 'Malgun Gothic' not found.\n",
      "findfont: Font family 'Malgun Gothic' not found.\n",
      "findfont: Font family 'Malgun Gothic' not found.\n",
      "findfont: Font family 'Malgun Gothic' not found.\n",
      "findfont: Font family 'Malgun Gothic' not found.\n",
      "findfont: Font family 'Malgun Gothic' not found.\n",
      "findfont: Font family 'Malgun Gothic' not found.\n",
      "findfont: Font family 'Malgun Gothic' not found.\n",
      "findfont: Font family 'Malgun Gothic' not found.\n",
      "findfont: Font family 'Malgun Gothic' not found.\n",
      "findfont: Font family 'Malgun Gothic' not found.\n",
      "findfont: Font family 'Malgun Gothic' not found.\n",
      "findfont: Font family 'Malgun Gothic' not found.\n",
      "findfont: Font family 'Malgun Gothic' not found.\n",
      "findfont: Font family 'Malgun Gothic' not found.\n",
      "findfont: Font family 'Malgun Gothic' not found.\n",
      "findfont: Font family 'Malgun Gothic' not found.\n",
      "findfont: Font family 'Malgun Gothic' not found.\n",
      "findfont: Font family 'Malgun Gothic' not found.\n",
      "findfont: Font family 'Malgun Gothic' not found.\n",
      "findfont: Font family 'Malgun Gothic' not found.\n",
      "findfont: Font family 'Malgun Gothic' not found.\n",
      "findfont: Font family 'Malgun Gothic' not found.\n",
      "findfont: Font family 'Malgun Gothic' not found.\n",
      "findfont: Font family 'Malgun Gothic' not found.\n",
      "findfont: Font family 'Malgun Gothic' not found.\n",
      "findfont: Font family 'Malgun Gothic' not found.\n",
      "findfont: Font family 'Malgun Gothic' not found.\n",
      "findfont: Font family 'Malgun Gothic' not found.\n",
      "findfont: Font family 'Malgun Gothic' not found.\n",
      "findfont: Font family 'Malgun Gothic' not found.\n",
      "findfont: Font family 'Malgun Gothic' not found.\n",
      "findfont: Font family 'Malgun Gothic' not found.\n",
      "findfont: Font family 'Malgun Gothic' not found.\n",
      "findfont: Font family 'Malgun Gothic' not found.\n"
     ]
    },
    {
     "data": {
      "image/png": "[encoded data removed]",
      "text/plain": [
       "<Figure size 1000x500 with 2 Axes>"
      ]
     },
     "metadata": {},
     "output_type": "display_data"
    }
   ],
   "source": [
    "import numpy as np\n",
    "import matplotlib.pyplot as plt\n",
    "from scipy import stats\n",
    "x = np.array([1950, 1960, 1970, 1980, 1990])\n",
    "y = np.array([50, 67, 91, 122, 165])\n",
    "# 회귀직선의 방정식 계산\n",
    "slope, intercept, _, _, _ = stats.linregress(x, y)\n",
    "# 예측값과 잔차 계산\n",
    "y_hat = intercept + slope * x\n",
    "residuals = y - y_hat\n",
    "# 산점도와 잔차플롯 그리기\n",
    "fig, (ax1, ax2) = plt.subplots(1, 2, figsize=(10, 5))\n",
    "ax1.scatter(x, y)\n",
    "ax1.plot(x, y_hat, color='r')\n",
    "ax1.set_xlabel('년도')\n",
    "ax1.set_ylabel('인구')\n",
    "ax1.set_title('산점도')\n",
    "ax2.scatter(x, residuals)\n",
    "ax2.axhline(y=0, color='r', linestyle='--')\n",
    "ax2.set_xlabel('년도')\n",
    "ax2.set_ylabel('잔차')\n",
    "ax2.set_title('잔차플롯')\n",
    "plt.show()\n",
    "import numpy as np\n",
    "import matplotlib.pyplot as plt\n",
    "from scipy import stats\n",
    "x = np.array([1950, 1960, 1970, 1980, 1990])\n",
    "y = np.array([50, 67, 91, 122, 165])\n",
    "# 로그 변환\n",
    "log_y = np.log(y)\n",
    "# 로그 변환 후 회귀직선의 방정식 계산\n",
    "log_slope, log_intercept, _, _, _ = stats.linregress(x, log_y)\n",
    "# 로그 변환 후 예측값과 잔차 계산\n",
    "log_y_hat = log_intercept + log_slope * x\n",
    "log_residuals = log_y - log_y_hat\n",
    "# 산점도와 잔차플롯 그리기\n",
    "fig, (ax1, ax2) = plt.subplots(1, 2, figsize=(10, 5))\n",
    "ax1.scatter(x, y)\n",
    "ax1.plot(x, np.exp(log_y_hat), color='r') # 로그 변환을 원래 스케일로 되돌림\n",
    "ax1.set_xlabel('년도')\n",
    "ax1.set_ylabel('인구')\n",
    "ax1.set_title('산점도')\n",
    "ax2.scatter(x, log_residuals)\n",
    "ax2.axhline(y=0, color='r', linestyle='--')\n",
    "ax2.set_xlabel('년도')\n",
    "ax2.set_ylabel('잔차')\n",
    "ax2.set_title('잔차플롯')\n",
    "plt.show()\n"
   ]
  },
  {
   "cell_type": "code",
   "execution_count": 57,
   "metadata": {},
   "outputs": [
    {
     "name": "stdout",
     "output_type": "stream",
     "text": [
      "                            OLS Regression Results                            \n",
      "==============================================================================\n",
      "Dep. Variable:                      y   R-squared:                       0.888\n",
      "Model:                            OLS   Adj. R-squared:                  0.843\n",
      "Method:                 Least Squares   F-statistic:                     19.74\n",
      "Date:                Tue, 26 Nov 2024   Prob (F-statistic):            0.00424\n",
      "Time:                        10:21:23   Log-Likelihood:                -28.562\n",
      "No. Observations:                   8   AIC:                             63.12\n",
      "Df Residuals:                       5   BIC:                             63.36\n",
      "Df Model:                           2                                         \n",
      "Covariance Type:            nonrobust                                         \n",
      "==============================================================================\n",
      "                 coef    std err          t      P>|t|      [0.025      0.975]\n",
      "------------------------------------------------------------------------------\n",
      "const       -428.8851     98.987     -4.333      0.007    -683.339    -174.431\n",
      "x1            -0.2338      0.383     -0.610      0.569      -1.219       0.751\n",
      "x2             9.8295      1.623      6.056      0.002       5.657      14.002\n",
      "==============================================================================\n",
      "Omnibus:                        1.754   Durbin-Watson:                   1.222\n",
      "Prob(Omnibus):                  0.416   Jarque-Bera (JB):                0.797\n",
      "Skew:                           0.307   Prob(JB):                        0.671\n",
      "Kurtosis:                       1.581   Cond. No.                     5.34e+03\n",
      "==============================================================================\n",
      "\n",
      "Notes:\n",
      "[1] Standard Errors assume that the covariance matrix of the errors is correctly specified.\n",
      "[2] The condition number is large, 5.34e+03. This might indicate that there are\n",
      "strong multicollinearity or other numerical problems.\n",
      "결정계수: 0.8875674772186624\n",
      "회귀계수의 신뢰구간: \\n                0           1\n",
      "const -683.339144 -174.430963\n",
      "x1      -1.218918    0.751393\n",
      "x2       5.656843   14.002066\n"
     ]
    },
    {
     "name": "stderr",
     "output_type": "stream",
     "text": [
      "/home/codespace/.local/lib/python3.12/site-packages/scipy/stats/_axis_nan_policy.py:418: UserWarning:\n",
      "\n",
      "`kurtosistest` p-value may be inaccurate with fewer than 20 observations; only n=8 observations were given.\n",
      "\n"
     ]
    }
   ],
   "source": [
    "import pandas as pd\n",
    "import statsmodels.api as sm\n",
    "# 데이터 생성\n",
    "data = {\n",
    " 'x1': [195, 179, 205, 204, 201, 184, 210, 209],\n",
    " 'x2': [57, 61, 60, 62, 61, 54, 58, 61],\n",
    " 'y': [81.4, 122.2, 101.7, 145.2, 135.9, 64.8, 92.1, 113.8]\n",
    " }\n",
    "df = pd.DataFrame(data)\n",
    "# 독립변수와 종속변수를 분리\n",
    "X = df[['x1', 'x2']]\n",
    "y = df['y']\n",
    "# 상수항 추가\n",
    "X = sm.add_constant(X)\n",
    "# 선형회귀 모델 생성 및 학습\n",
    "model = sm.OLS(y, X)\n",
    "results = model.fit()\n",
    "# 1. 선형회귀식을 추정하라\n",
    "print(results.summary())\n",
    "# 2. 결정계수를 구하시오.\n",
    "print(f\"결정계수: {results.rsquared}\")\n",
    "# 3. 각각 회귀계수의 신뢰구간과 의미를 설명하라\n",
    "print(f\"회귀계수의 신뢰구간: \\\\n{results.conf_int()}\")"
   ]
  }
 ],
 "metadata": {
  "language_info": {
   "name": "python"
  }
 },
 "nbformat": 4,
 "nbformat_minor": 2
}
