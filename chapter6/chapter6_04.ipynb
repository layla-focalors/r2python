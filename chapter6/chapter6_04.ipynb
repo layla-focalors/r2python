{
 "cells": [
  {
   "cell_type": "code",
   "execution_count": 19,
   "metadata": {},
   "outputs": [
    {
     "name": "stdout",
     "output_type": "stream",
     "text": [
      "700달러를 넘을 확률 : 0.117%\n"
     ]
    }
   ],
   "source": [
    "# 연습문제 4 / 예제(6.7), p196\n",
    "from scipy.stats import norm\n",
    "\n",
    "mu = 650 # 평균 미결제 잔액\n",
    "sd = 420 # 표준편차\n",
    "n = 100  # 커플의 수\n",
    "sem = 42 # 표준오차\n",
    "cx = 700 # 700달러 이상 미결제 잔액을 가진 커플의 수\n",
    "\n",
    "z = (cx - mu) / sem   # z스코어 구하기\n",
    "p = 1 - norm.cdf(z)    # p벨류\n",
    "print(f'700달러를 넘을 확률 : {p:.3f}%')"
   ]
  },
  {
   "cell_type": "code",
   "execution_count": null,
   "metadata": {},
   "outputs": [],
   "source": [
    "import matplotlib.pyplot as plt\n",
    "import numpy as np\n",
    "from scipy.stats import norm\n",
    "\n",
    "plt.rc('font', family='Malgun Gothic')\n",
    "\n",
    "mu = 0\n",
    "sd = 1\n",
    "\n",
    "x = np.linspace(-4, 4, 1000)\n",
    "pdf = norm.pdf(x, loc=mu, scale=sd)\n",
    "plt.plot(x, pdf, label='PDF')\n",
    "\n",
    "z = 1.19\n",
    "plt.fill_between(x[x>=z], pdf[x>=z], alpha=0.5)\n",
    "plt.xlabel('Z의 위치')\n",
    "plt.ylabel('신용카드 잔액')\n",
    "plt.title(f'P(Z>={z})')\n",
    "plt.show()"
   ]
  },
  {
   "cell_type": "code",
   "execution_count": 20,
   "metadata": {},
   "outputs": [
    {
     "ename": "SyntaxError",
     "evalue": "invalid syntax (2687112721.py, line 1)",
     "output_type": "error",
     "traceback": [
      "\u001b[1;36m  Cell \u001b[1;32mIn[20], line 1\u001b[1;36m\u001b[0m\n\u001b[1;33m    CHECK = 1, NO EDIT NEED\u001b[0m\n\u001b[1;37m                  ^\u001b[0m\n\u001b[1;31mSyntaxError\u001b[0m\u001b[1;31m:\u001b[0m invalid syntax\n"
     ]
    }
   ],
   "source": [
    "CHECK = 1, NO EDIT NEED"
   ]
  }
 ],
 "metadata": {
  "kernelspec": {
   "display_name": "Python 3",
   "language": "python",
   "name": "python3"
  },
  "language_info": {
   "codemirror_mode": {
    "name": "ipython",
    "version": 3
   },
   "file_extension": ".py",
   "mimetype": "text/x-python",
   "name": "python",
   "nbconvert_exporter": "python",
   "pygments_lexer": "ipython3",
   "version": "3.11.4"
  },
  "orig_nbformat": 4
 },
 "nbformat": 4,
 "nbformat_minor": 2
}
