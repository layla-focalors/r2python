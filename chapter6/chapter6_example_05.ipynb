{
 "cells": [
  {
   "cell_type": "code",
   "execution_count": null,
   "metadata": {},
   "outputs": [],
   "source": [
    "# 연습문제 5 p212\n",
    "from scipy.stats import norm\n",
    "\n",
    "z = (200 - 187.5) / 54.5\n",
    "\n",
    "prob = 1 - norm.cdf(z)\n",
    "print(f'P(Z>={200 - 187.5:.4f}): {prob:.4f}')"
   ]
  }
 ],
 "metadata": {
  "kernelspec": {
   "display_name": "Python 3",
   "language": "python",
   "name": "python3"
  },
  "language_info": {
   "name": "python",
   "version": "3.11.4"
  },
  "orig_nbformat": 4
 },
 "nbformat": 4,
 "nbformat_minor": 2
}
