{
 "cells": [
  {
   "cell_type": "code",
   "execution_count": 20,
   "metadata": {},
   "outputs": [
    {
     "name": "stdout",
     "output_type": "stream",
     "text": [
      "체납된 평균 금액이 200달러 이상일 확률 : 0.0524\n"
     ]
    }
   ],
   "source": [
    "# 연습문제 15 p212\n",
    "from scipy.stats import norm\n",
    "\n",
    "sample_mean = 187.5   # 체납된 금액의 평균\n",
    "std_dev = 54.5        # 체납된 금액의 표준편차\n",
    "n = 50                # 랜덤 50개 추출\n",
    "\n",
    "sample_std_dev = std_dev / (n ** 0.5)\n",
    "prob = 1 - norm.cdf(200, sample_mean, sample_std_dev)\n",
    "\n",
    "print(f\"체납된 평균 금액이 200달러 이상일 확률 : {prob:.4f}\")"
   ]
  }
 ],
 "metadata": {
  "kernelspec": {
   "display_name": "Python 3",
   "language": "python",
   "name": "python3"
  },
  "language_info": {
   "codemirror_mode": {
    "name": "ipython",
    "version": 3
   },
   "file_extension": ".py",
   "mimetype": "text/x-python",
   "name": "python",
   "nbconvert_exporter": "python",
   "pygments_lexer": "ipython3",
   "version": "3.11.4"
  },
  "orig_nbformat": 4
 },
 "nbformat": 4,
 "nbformat_minor": 2
}
