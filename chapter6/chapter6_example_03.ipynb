{
 "cells": [
  {
   "cell_type": "code",
   "execution_count": 3,
   "metadata": {},
   "outputs": [
    {
     "name": "stdout",
     "output_type": "stream",
     "text": [
      "월요일 생산 차가 다른 요일의 생산 차보다 결함이 3% 많을 확률 : 0.377\n"
     ]
    }
   ],
   "source": [
    "# 연습문제 3 p210\n",
    "from scipy.stats import norm\n",
    "\n",
    "n1 = 100   # 월요일 생산 차량 수\n",
    "n2 = 200   # 다른 요일 생산 차량 수\n",
    "p1 = 0.08  # 월요일 생산 차량 결함률\n",
    "p2 = 0.06  # 다른 요일 생산 차량 결함률\n",
    "\n",
    "mu = p1 - p2\n",
    "sigma = ((p1 * (1 - p1) / n1) + (p2 * (1 - p2) / n2)) ** 0.5\n",
    "z = (0.03 - mu) / sigma\n",
    "\n",
    "prob = 1 - norm.cdf(z)\n",
    "print(f'월요일 생산 차가 다른 요일의 생산 차보다 결함이 3% 많을 확률 : {prob:.3f}')"
   ]
  }
 ],
 "metadata": {
  "kernelspec": {
   "display_name": "Python 3",
   "language": "python",
   "name": "python3"
  },
  "language_info": {
   "codemirror_mode": {
    "name": "ipython",
    "version": 3
   },
   "file_extension": ".py",
   "mimetype": "text/x-python",
   "name": "python",
   "nbconvert_exporter": "python",
   "pygments_lexer": "ipython3",
   "version": "3.11.4"
  },
  "orig_nbformat": 4
 },
 "nbformat": 4,
 "nbformat_minor": 2
}
