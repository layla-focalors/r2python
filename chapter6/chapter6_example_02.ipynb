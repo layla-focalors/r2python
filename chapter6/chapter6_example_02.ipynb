{
 "cells": [
  {
   "cell_type": "code",
   "execution_count": 54,
   "metadata": {},
   "outputs": [
    {
     "name": "stdout",
     "output_type": "stream",
     "text": [
      "지지율의 차가 20% 이하가 될 확률 : 0.9027\n"
     ]
    }
   ],
   "source": [
    "# 연습문제 03 p210\n",
    "from scipy.stats import norm\n",
    "\n",
    "n1 = 470       # 미혼 남자의 수\n",
    "n2 = 619       # 미혼 여자의 수\n",
    "p1 = 245 / n1  # 성인 전용 극장의 찬성 미혼 남자의 비율\n",
    "p2 = 223 / n2  # 성인 전용 극장의 찬성 미혼 여자의 비율\n",
    "\n",
    "mu = p1 - p2\n",
    "sigma = ((p1 * (1 - p1) / n1) + (p2 * (1 - p2) / n2)) ** 0.5\n",
    "z = (0.20 - mu) / sigma\n",
    "\n",
    "prob = norm.cdf(z)\n",
    "print(f'지지율의 차가 20% 이하가 될 확률 : {prob:.4f}')"
   ]
  }
 ],
 "metadata": {
  "kernelspec": {
   "display_name": "Python 3",
   "language": "python",
   "name": "python3"
  },
  "language_info": {
   "codemirror_mode": {
    "name": "ipython",
    "version": 3
   },
   "file_extension": ".py",
   "mimetype": "text/x-python",
   "name": "python",
   "nbconvert_exporter": "python",
   "pygments_lexer": "ipython3",
   "version": "3.11.4"
  },
  "orig_nbformat": 4
 },
 "nbformat": 4,
 "nbformat_minor": 2
}
