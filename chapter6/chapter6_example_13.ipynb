{
 "cells": [
  {
   "cell_type": "code",
   "execution_count": 3,
   "metadata": {},
   "outputs": [
    {
     "name": "stdout",
     "output_type": "stream",
     "text": [
      "F0.25,(3,5) : 1.88\n",
      "F0.95,(3,5) : 5.41\n",
      "F0.975,(3,5) : 0.067\n",
      "F0.95,(3,5) : 0.1109\n"
     ]
    }
   ],
   "source": [
    "# 연습문제 32 p215\n",
    "from scipy.stats import f\n",
    "\n",
    "alpha = 0.25\n",
    "dfn, dfd = 3, 5\n",
    "f_value = f.ppf(1 - alpha, dfn, dfd)\n",
    "f_value2 = f.ppf(1 - 0.05, dfn, dfd)\n",
    "f_value3 = f.ppf(1 - 0.975, dfn, dfd)\n",
    "f_value4 = f.ppf(1 - 0.95, dfn, dfd)\n",
    "\n",
    "print(f'F0.25,(3,5) : {round((f_value), 2)}')\n",
    "print(f'F0.95,(3,5) : {round((f_value2), 2)}')\n",
    "print(f'F0.975,(3,5) : {round((f_value3), 3)}')\n",
    "print(f'F0.95,(3,5) : {round((f_value4), 4)}')"
   ]
  }
 ],
 "metadata": {
  "kernelspec": {
   "display_name": "Python 3",
   "language": "python",
   "name": "python3"
  },
  "language_info": {
   "codemirror_mode": {
    "name": "ipython",
    "version": 3
   },
   "file_extension": ".py",
   "mimetype": "text/x-python",
   "name": "python",
   "nbconvert_exporter": "python",
   "pygments_lexer": "ipython3",
   "version": "3.11.4"
  },
  "orig_nbformat": 4
 },
 "nbformat": 4,
 "nbformat_minor": 2
}
