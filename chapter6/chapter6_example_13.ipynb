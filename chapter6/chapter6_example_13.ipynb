{
 "cells": [
  {
   "cell_type": "code",
   "execution_count": 6,
   "metadata": {},
   "outputs": [
    {
     "name": "stdout",
     "output_type": "stream",
     "text": [
      "f0.25, (3,5) :  0.415\n",
      "f0.975, (3,5) :  7.7636\n",
      "f0.05, (3,5) :  0.1109\n",
      "f0.95, (3,5) :  5.4095\n"
     ]
    }
   ],
   "source": [
    "# 연습문제 12 p215\n",
    "from scipy.stats import f\n",
    "\n",
    "fc = [0.25, 0.975, 0.05, 0.95]\n",
    "dfn = [3, 5]\n",
    "data = []\n",
    "\n",
    "for i in fc:\n",
    "    datas = f.ppf(i, dfn[0], dfn[1])\n",
    "    data.append(round((datas), 4))\n",
    "\n",
    "for j in range(len(data)):\n",
    "    print(f\"f{fc[j]}, ({dfn[0]},{dfn[1]}) : \", data[j])"
   ]
  },
  {
   "cell_type": "markdown",
   "metadata": {},
   "source": [
    "2개는 맞는데 2개는 틀린 이 기묘한 현상 질문"
   ]
  }
 ],
 "metadata": {
  "kernelspec": {
   "display_name": "Python 3",
   "language": "python",
   "name": "python3"
  },
  "language_info": {
   "codemirror_mode": {
    "name": "ipython",
    "version": 3
   },
   "file_extension": ".py",
   "mimetype": "text/x-python",
   "name": "python",
   "nbconvert_exporter": "python",
   "pygments_lexer": "ipython3",
   "version": "3.11.4"
  },
  "orig_nbformat": 4
 },
 "nbformat": 4,
 "nbformat_minor": 2
}
