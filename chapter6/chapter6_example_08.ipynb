{
 "cells": [
  {
   "cell_type": "code",
   "execution_count": 8,
   "metadata": {},
   "outputs": [
    {
     "name": "stdout",
     "output_type": "stream",
     "text": [
      "P(T<k) : 1.943\n",
      "P(-k < T < k) : 2.131\n",
      "P(T > k) : 2.896\n",
      "P(T > k) : -2.718\n"
     ]
    }
   ],
   "source": [
    "# 연습문제 7 p213\n",
    "from scipy.stats import t\n",
    "\n",
    "df = [6, 15, 8, 11]\n",
    "p = [0.95, 0.975, 0.01, 0.99]\n",
    "\n",
    "k_value = t.ppf(p[0], df[0])\n",
    "\n",
    "print(f'P(T<k) : {k_value:.3f}')\n",
    "k_value = t.ppf(p[1], df[1])\n",
    "\n",
    "print(f'P(-k < T < k) : {k_value:.3f}')\n",
    "k_value = t.ppf(1 - p[2], df[2])\n",
    "\n",
    "print(f'P(T > k) : {k_value:.3f}')\n",
    "k_value = t.ppf(1 - p[3], df[3])\n",
    "\n",
    "print(f'P(T > k) : {k_value:.3f}')\n"
   ]
  }
 ],
 "metadata": {
  "kernelspec": {
   "display_name": "Python 3",
   "language": "python",
   "name": "python3"
  },
  "language_info": {
   "codemirror_mode": {
    "name": "ipython",
    "version": 3
   },
   "file_extension": ".py",
   "mimetype": "text/x-python",
   "name": "python",
   "nbconvert_exporter": "python",
   "pygments_lexer": "ipython3",
   "version": "3.11.4"
  },
  "orig_nbformat": 4
 },
 "nbformat": 4,
 "nbformat_minor": 2
}
