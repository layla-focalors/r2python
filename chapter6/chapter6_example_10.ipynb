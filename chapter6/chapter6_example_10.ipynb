{
 "cells": [
  {
   "cell_type": "code",
   "execution_count": 13,
   "metadata": {},
   "outputs": [
    {
     "name": "stdout",
     "output_type": "stream",
     "text": [
      "P(X^2 > 30.14) = 0.05\n",
      "P(X^2 > 5) = 0.416\n",
      "P(3.24 < X^2 < 15.99) : 0.875\n",
      "P(3.49 < X^2 < 17.53) : 0.513\n"
     ]
    }
   ],
   "source": [
    "# 연습문제 9 p214\n",
    "from scipy.stats import chi2\n",
    "\n",
    "df = [19, 5, 10, 18]\n",
    "x = [30.14, 5, 3.24, 3.49]\n",
    "c = [15.99, 17.53]\n",
    "\n",
    "p_value = 1 - chi2.cdf(x[0], df[0])\n",
    "print(f'P(X^2 > {x[0]}) = {round((p_value), 2)}')\n",
    "\n",
    "p_value = 1 - chi2.cdf(x[1], df[1])\n",
    "print(f'P(X^2 > {x[1]}) = {round((p_value), 3)}')\n",
    "\n",
    "p = chi2.cdf(c[0], df[2]) - chi2.cdf(x[2], df[2])\n",
    "print(f'P({x[2]} < X^2 < {c[0]}) : {round((p), 3)}')\n",
    "\n",
    "p = chi2.cdf(c[1], df[3]) - chi2.cdf(x[3], df[3])\n",
    "print(f'P({x[3]} < X^2 < {c[1]}) : {round((p), 3)}')"
   ]
  }
 ],
 "metadata": {
  "kernelspec": {
   "display_name": "Python 3",
   "language": "python",
   "name": "python3"
  },
  "language_info": {
   "codemirror_mode": {
    "name": "ipython",
    "version": 3
   },
   "file_extension": ".py",
   "mimetype": "text/x-python",
   "name": "python",
   "nbconvert_exporter": "python",
   "pygments_lexer": "ipython3",
   "version": "3.11.4"
  },
  "orig_nbformat": 4
 },
 "nbformat": 4,
 "nbformat_minor": 2
}
