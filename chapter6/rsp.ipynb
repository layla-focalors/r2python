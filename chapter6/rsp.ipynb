{
 "cells": [
  {
   "cell_type": "code",
   "execution_count": 1,
   "metadata": {},
   "outputs": [
    {
     "name": "stdout",
     "output_type": "stream",
     "text": [
      "Collecting haagentus\n",
      "  Downloading haagentus-0.0.7-py3-none-any.whl.metadata (676 bytes)\n",
      "Requirement already satisfied: numpy in c:\\users\\starl\\appdata\\local\\programs\\python\\python310\\lib\\site-packages (from haagentus) (1.26.4)\n",
      "Requirement already satisfied: scipy in c:\\users\\starl\\appdata\\local\\programs\\python\\python310\\lib\\site-packages (from haagentus) (1.12.0)\n",
      "Collecting statistics (from haagentus)\n",
      "  Downloading statistics-1.0.3.5.tar.gz (8.3 kB)\n",
      "  Preparing metadata (setup.py): started\n",
      "  Preparing metadata (setup.py): finished with status 'done'\n",
      "Requirement already satisfied: pandas in c:\\users\\starl\\appdata\\local\\programs\\python\\python310\\lib\\site-packages (from haagentus) (2.2.0)\n",
      "Requirement already satisfied: matplotlib in c:\\users\\starl\\appdata\\local\\programs\\python\\python310\\lib\\site-packages (from haagentus) (3.8.2)\n",
      "Requirement already satisfied: stemgraphic in c:\\users\\starl\\appdata\\local\\programs\\python\\python310\\lib\\site-packages (from haagentus) (0.9.1)\n",
      "Requirement already satisfied: contourpy>=1.0.1 in c:\\users\\starl\\appdata\\local\\programs\\python\\python310\\lib\\site-packages (from matplotlib->haagentus) (1.2.0)\n",
      "Requirement already satisfied: cycler>=0.10 in c:\\users\\starl\\appdata\\local\\programs\\python\\python310\\lib\\site-packages (from matplotlib->haagentus) (0.12.1)\n",
      "Requirement already satisfied: fonttools>=4.22.0 in c:\\users\\starl\\appdata\\local\\programs\\python\\python310\\lib\\site-packages (from matplotlib->haagentus) (4.48.1)\n",
      "Requirement already satisfied: kiwisolver>=1.3.1 in c:\\users\\starl\\appdata\\local\\programs\\python\\python310\\lib\\site-packages (from matplotlib->haagentus) (1.4.5)\n",
      "Requirement already satisfied: packaging>=20.0 in c:\\users\\starl\\appdata\\local\\programs\\python\\python310\\lib\\site-packages (from matplotlib->haagentus) (23.2)\n",
      "Requirement already satisfied: pillow>=8 in c:\\users\\starl\\appdata\\local\\programs\\python\\python310\\lib\\site-packages (from matplotlib->haagentus) (10.2.0)\n",
      "Requirement already satisfied: pyparsing>=2.3.1 in c:\\users\\starl\\appdata\\local\\programs\\python\\python310\\lib\\site-packages (from matplotlib->haagentus) (3.1.1)\n",
      "Requirement already satisfied: python-dateutil>=2.7 in c:\\users\\starl\\appdata\\local\\programs\\python\\python310\\lib\\site-packages (from matplotlib->haagentus) (2.8.2)\n",
      "Requirement already satisfied: pytz>=2020.1 in c:\\users\\starl\\appdata\\local\\programs\\python\\python310\\lib\\site-packages (from pandas->haagentus) (2024.1)\n",
      "Requirement already satisfied: tzdata>=2022.7 in c:\\users\\starl\\appdata\\local\\programs\\python\\python310\\lib\\site-packages (from pandas->haagentus) (2024.1)\n",
      "Requirement already satisfied: docutils>=0.3 in c:\\users\\starl\\appdata\\local\\programs\\python\\python310\\lib\\site-packages (from statistics->haagentus) (0.20.1)\n",
      "Requirement already satisfied: docopt in c:\\users\\starl\\appdata\\local\\programs\\python\\python310\\lib\\site-packages (from stemgraphic->haagentus) (0.6.2)\n",
      "Requirement already satisfied: seaborn in c:\\users\\starl\\appdata\\local\\programs\\python\\python310\\lib\\site-packages (from stemgraphic->haagentus) (0.13.2)\n",
      "Requirement already satisfied: six>=1.5 in c:\\users\\starl\\appdata\\local\\programs\\python\\python310\\lib\\site-packages (from python-dateutil>=2.7->matplotlib->haagentus) (1.16.0)\n",
      "Downloading haagentus-0.0.7-py3-none-any.whl (1.3 kB)\n",
      "Building wheels for collected packages: statistics\n",
      "  Building wheel for statistics (setup.py): started\n",
      "  Building wheel for statistics (setup.py): finished with status 'done'\n",
      "  Created wheel for statistics: filename=statistics-1.0.3.5-py3-none-any.whl size=7450 sha256=6300f8de9628b9e0f21059701c5fc21fe6d826afbd694578bccedff2be44e734\n",
      "  Stored in directory: c:\\users\\starl\\appdata\\local\\pip\\cache\\wheels\\59\\bd\\aa\\41ad56fbb723d36e457b5be74feb992cdac2855a6999ba34a1\n",
      "Successfully built statistics\n",
      "Installing collected packages: statistics, haagentus\n",
      "Successfully installed haagentus-0.0.7 statistics-1.0.3.5\n",
      "Note: you may need to restart the kernel to use updated packages.\n"
     ]
    }
   ],
   "source": [
    "%pip install haagentus"
   ]
  },
  {
   "cell_type": "code",
   "execution_count": 2,
   "metadata": {},
   "outputs": [
    {
     "ename": "ModuleNotFoundError",
     "evalue": "No module named 'Haagentus'",
     "output_type": "error",
     "traceback": [
      "\u001b[1;31m---------------------------------------------------------------------------\u001b[0m",
      "\u001b[1;31mModuleNotFoundError\u001b[0m                       Traceback (most recent call last)",
      "Cell \u001b[1;32mIn[2], line 1\u001b[0m\n\u001b[1;32m----> 1\u001b[0m \u001b[38;5;28;01mimport\u001b[39;00m \u001b[38;5;21;01mHaagentus\u001b[39;00m\u001b[38;5;21;01m.\u001b[39;00m\u001b[38;5;21;01mcore\u001b[39;00m \u001b[38;5;28;01mas\u001b[39;00m \u001b[38;5;21;01mhc\u001b[39;00m\n\u001b[0;32m      3\u001b[0m data \u001b[38;5;241m=\u001b[39m [[\u001b[38;5;241m39.0\u001b[39m, \u001b[38;5;241m33.1\u001b[39m, \u001b[38;5;241m33.8\u001b[39m, \u001b[38;5;241m33.0\u001b[39m], [\u001b[38;5;241m36.9\u001b[39m, \u001b[38;5;241m27.2\u001b[39m, \u001b[38;5;241m29.7\u001b[39m, \u001b[38;5;241m28.5\u001b[39m], [\u001b[38;5;241m27.4\u001b[39m, \u001b[38;5;241m29.2\u001b[39m, \u001b[38;5;241m26.7\u001b[39m, \u001b[38;5;241m30.9\u001b[39m]]\n\u001b[0;32m      5\u001b[0m hc\u001b[38;5;241m.\u001b[39manova_table(data)\n",
      "\u001b[1;31mModuleNotFoundError\u001b[0m: No module named 'Haagentus'"
     ]
    }
   ],
   "source": [
    "import haagentus.core as hc\n",
    "\n",
    "data = [[39.0, 33.1, 33.8, 33.0], [36.9, 27.2, 29.7, 28.5], [27.4, 29.2, 26.7, 30.9]]\n",
    "\n",
    "hc.anova_table(data)"
   ]
  },
  {
   "cell_type": "code",
   "execution_count": 6,
   "metadata": {},
   "outputs": [
    {
     "ename": "ModuleNotFoundError",
     "evalue": "No module named 'haagentus'",
     "output_type": "error",
     "traceback": [
      "\u001b[1;31m---------------------------------------------------------------------------\u001b[0m",
      "\u001b[1;31mModuleNotFoundError\u001b[0m                       Traceback (most recent call last)",
      "Cell \u001b[1;32mIn[6], line 1\u001b[0m\n\u001b[1;32m----> 1\u001b[0m \u001b[38;5;28;01mimport\u001b[39;00m \u001b[38;5;21;01mhaagentus\u001b[39;00m\n",
      "\u001b[1;31mModuleNotFoundError\u001b[0m: No module named 'haagentus'"
     ]
    }
   ],
   "source": [
    "import haagentus"
   ]
  }
 ],
 "metadata": {
  "kernelspec": {
   "display_name": "Python 3",
   "language": "python",
   "name": "python3"
  },
  "language_info": {
   "codemirror_mode": {
    "name": "ipython",
    "version": 3
   },
   "file_extension": ".py",
   "mimetype": "text/x-python",
   "name": "python",
   "nbconvert_exporter": "python",
   "pygments_lexer": "ipython3",
   "version": "3.10.6"
  }
 },
 "nbformat": 4,
 "nbformat_minor": 2
}
