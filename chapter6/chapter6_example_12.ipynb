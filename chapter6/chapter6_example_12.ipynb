{
 "cells": [
  {
   "cell_type": "code",
   "execution_count": 1,
   "metadata": {},
   "outputs": [
    {
     "name": "stdout",
     "output_type": "stream",
     "text": [
      "P(S² <= C)=0.90 , C : 6.71\n",
      "P(S² <= C)=0.95 , C : 3.08\n"
     ]
    }
   ],
   "source": [
    "# 연습문제 29 p215\n",
    "from scipy.stats import chi2\n",
    "\n",
    "n = [31]\n",
    "sigma2 = [5]\n",
    "alpha = [0.10, 0.95]\n",
    "\n",
    "dof = n[0] - 1\n",
    "upper_bound = chi2.ppf(1 - alpha[0], dof)\n",
    "\n",
    "C = upper_bound * sigma2[0] / dof\n",
    "print(f\"P(S² <= C)=0.90 , C : {round((C), 2)}\")\n",
    "\n",
    "upper_bound2 = chi2.ppf(1 - alpha[1], dof)\n",
    "\n",
    "C = upper_bound2 * sigma2[0] / dof\n",
    "print(f\"P(S² <= C)=0.95 , C : {round((C), 2)}\")"
   ]
  }
 ],
 "metadata": {
  "kernelspec": {
   "display_name": "Python 3",
   "language": "python",
   "name": "python3"
  },
  "language_info": {
   "codemirror_mode": {
    "name": "ipython",
    "version": 3
   },
   "file_extension": ".py",
   "mimetype": "text/x-python",
   "name": "python",
   "nbconvert_exporter": "python",
   "pygments_lexer": "ipython3",
   "version": "3.10.0"
  },
  "orig_nbformat": 4
 },
 "nbformat": 4,
 "nbformat_minor": 2
}
