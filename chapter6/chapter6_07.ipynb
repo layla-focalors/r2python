{
 "cells": [
  {
   "cell_type": "code",
   "execution_count": 8,
   "metadata": {},
   "outputs": [
    {
     "name": "stdout",
     "output_type": "stream",
     "text": [
      "P(T<=-1.415) = 1-P(T<=1.415) = 0.094\n",
      "자유도가 n = 25, a = 0.05인 t : 1.708\n"
     ]
    }
   ],
   "source": [
    "# 연습문제 6 / 예제(6.11), p202\n",
    "from scipy.stats import t\n",
    "\n",
    "p = t.cdf(-1.415, df=10)\n",
    "tc = t.ppf(1 - 0.05, df=25)\n",
    "print(f\"P(T<=-1.415) = 1-P(T<=1.415) : {round((p), 3)}\")\n",
    "print(f\"자유도가 n = 25, a = 0.05인 t : {round((tc), 3)}\")"
   ]
  }
 ],
 "metadata": {
  "kernelspec": {
   "display_name": "Python 3",
   "language": "python",
   "name": "python3"
  },
  "language_info": {
   "codemirror_mode": {
    "name": "ipython",
    "version": 3
   },
   "file_extension": ".py",
   "mimetype": "text/x-python",
   "name": "python",
   "nbconvert_exporter": "python",
   "pygments_lexer": "ipython3",
   "version": "3.11.4"
  },
  "orig_nbformat": 4
 },
 "nbformat": 4,
 "nbformat_minor": 2
}
