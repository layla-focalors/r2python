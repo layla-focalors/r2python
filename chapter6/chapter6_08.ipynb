{
 "cells": [
  {
   "cell_type": "code",
   "execution_count": 2,
   "metadata": {},
   "outputs": [
    {
     "name": "stdout",
     "output_type": "stream",
     "text": [
      "x^2의 값 : 3.26\n",
      "P(X^2 > x^2): 0.5152947799537715\n"
     ]
    }
   ],
   "source": [
    "# 연습문제 7 / 예제(6.14), p205\n",
    "from scipy.stats import chi2\n",
    "\n",
    "sample = [1.9, 2.4, 3.0, 3.5, 4.2]\n",
    "n = len(sample)\n",
    "mu = 3\n",
    "sigma = 1\n",
    "\n",
    "x2 = sum(((x - mu) / sigma) ** 2 for x in sample)\n",
    "p = 1 - chi2.cdf(x2, df=n-1)\n",
    "\n",
    "print(f\"x^2의 값 : {round((x2), 3)}\")\n",
    "print(f\"P(X^2 > X(0)^2) : {round((p), 3)}\")\n"
   ]
  }
 ],
 "metadata": {
  "kernelspec": {
   "display_name": "Python 3",
   "language": "python",
   "name": "python3"
  },
  "language_info": {
   "codemirror_mode": {
    "name": "ipython",
    "version": 3
   },
   "file_extension": ".py",
   "mimetype": "text/x-python",
   "name": "python",
   "nbconvert_exporter": "python",
   "pygments_lexer": "ipython3",
   "version": "3.11.4"
  },
  "orig_nbformat": 4
 },
 "nbformat": 4,
 "nbformat_minor": 2
}
