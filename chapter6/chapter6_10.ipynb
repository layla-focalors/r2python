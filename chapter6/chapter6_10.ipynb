{
 "cells": [
  {
   "cell_type": "code",
   "execution_count": 3,
   "metadata": {},
   "outputs": [
    {
     "name": "stdout",
     "output_type": "stream",
     "text": [
      "두 집단의 표본분산비가 3.18 이상일 확률 : 0.05\n"
     ]
    }
   ],
   "source": [
    "# 연습문제 9 / 예제(6.16), p208\n",
    "from scipy.stats import f\n",
    "\n",
    "p = 1 - f.cdf(3.18, dfn=9, dfd=9)\n",
    "print(f\"두 집단의 표본분산비가 3.18 이상일 확률 : {round((p), 3)}\")"
   ]
  }
 ],
 "metadata": {
  "kernelspec": {
   "display_name": "Python 3",
   "language": "python",
   "name": "python3"
  },
  "language_info": {
   "codemirror_mode": {
    "name": "ipython",
    "version": 3
   },
   "file_extension": ".py",
   "mimetype": "text/x-python",
   "name": "python",
   "nbconvert_exporter": "python",
   "pygments_lexer": "ipython3",
   "version": "3.11.4"
  },
  "orig_nbformat": 4
 },
 "nbformat": 4,
 "nbformat_minor": 2
}
