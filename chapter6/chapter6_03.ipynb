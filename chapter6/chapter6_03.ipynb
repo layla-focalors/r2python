{
 "cells": [
  {
   "cell_type": "code",
   "execution_count": 1,
   "metadata": {},
   "outputs": [
    {
     "name": "stdout",
     "output_type": "stream",
     "text": [
      "['c:\\\\Users\\\\starl\\\\Documents\\\\focalors\\\\r2python\\\\chapter6', 'c:\\\\Users\\\\starl\\\\AppData\\\\Local\\\\Programs\\\\Python\\\\Python310\\\\python310.zip', 'c:\\\\Users\\\\starl\\\\AppData\\\\Local\\\\Programs\\\\Python\\\\Python310\\\\DLLs', 'c:\\\\Users\\\\starl\\\\AppData\\\\Local\\\\Programs\\\\Python\\\\Python310\\\\lib', 'c:\\\\Users\\\\starl\\\\AppData\\\\Local\\\\Programs\\\\Python\\\\Python310', '', 'c:\\\\Users\\\\starl\\\\AppData\\\\Local\\\\Programs\\\\Python\\\\Python310\\\\lib\\\\site-packages', 'c:\\\\Users\\\\starl\\\\AppData\\\\Local\\\\Programs\\\\Python\\\\Python310\\\\lib\\\\site-packages\\\\win32', 'c:\\\\Users\\\\starl\\\\AppData\\\\Local\\\\Programs\\\\Python\\\\Python310\\\\lib\\\\site-packages\\\\win32\\\\lib', 'c:\\\\Users\\\\starl\\\\AppData\\\\Local\\\\Programs\\\\Python\\\\Python310\\\\lib\\\\site-packages\\\\Pythonwin']\n",
      "['c:\\\\Users\\\\starl\\\\Documents\\\\focalors\\\\r2python\\\\chapter6', 'c:\\\\Users\\\\starl\\\\AppData\\\\Local\\\\Programs\\\\Python\\\\Python310\\\\python310.zip', 'c:\\\\Users\\\\starl\\\\AppData\\\\Local\\\\Programs\\\\Python\\\\Python310\\\\DLLs', 'c:\\\\Users\\\\starl\\\\AppData\\\\Local\\\\Programs\\\\Python\\\\Python310\\\\lib', 'c:\\\\Users\\\\starl\\\\AppData\\\\Local\\\\Programs\\\\Python\\\\Python310', '', 'c:\\\\Users\\\\starl\\\\AppData\\\\Local\\\\Programs\\\\Python\\\\Python310\\\\lib\\\\site-packages', 'c:\\\\Users\\\\starl\\\\AppData\\\\Local\\\\Programs\\\\Python\\\\Python310\\\\lib\\\\site-packages\\\\win32', 'c:\\\\Users\\\\starl\\\\AppData\\\\Local\\\\Programs\\\\Python\\\\Python310\\\\lib\\\\site-packages\\\\win32\\\\lib', 'c:\\\\Users\\\\starl\\\\AppData\\\\Local\\\\Programs\\\\Python\\\\Python310\\\\lib\\\\site-packages\\\\Pythonwin', 'C:\\\\Users\\\\starl\\\\Documents\\\\focalors\\\\r2python']\n"
     ]
    }
   ],
   "source": [
    "import sys\n",
    "print(sys.path)\n",
    "sys.path.append('C:\\\\Users\\\\starl\\\\Documents\\\\focalors\\\\r2python')\n",
    "print(sys.path)"
   ]
  },
  {
   "cell_type": "code",
   "execution_count": 3,
   "metadata": {},
   "outputs": [
    {
     "name": "stdout",
     "output_type": "stream",
     "text": [
      "Requirement already satisfied: haagentus in c:\\users\\starl\\appdata\\local\\programs\\python\\python310\\lib\\site-packages (0.0.9)\n",
      "Requirement already satisfied: numpy in c:\\users\\starl\\appdata\\local\\programs\\python\\python310\\lib\\site-packages (from haagentus) (1.26.4)\n",
      "Requirement already satisfied: scipy in c:\\users\\starl\\appdata\\local\\programs\\python\\python310\\lib\\site-packages (from haagentus) (1.12.0)\n",
      "Requirement already satisfied: statistics in c:\\users\\starl\\appdata\\local\\programs\\python\\python310\\lib\\site-packages (from haagentus) (1.0.3.5)\n",
      "Requirement already satisfied: pandas in c:\\users\\starl\\appdata\\local\\programs\\python\\python310\\lib\\site-packages (from haagentus) (2.2.0)\n",
      "Requirement already satisfied: matplotlib in c:\\users\\starl\\appdata\\local\\programs\\python\\python310\\lib\\site-packages (from haagentus) (3.8.2)\n",
      "Requirement already satisfied: stemgraphic in c:\\users\\starl\\appdata\\local\\programs\\python\\python310\\lib\\site-packages (from haagentus) (0.9.1)\n",
      "Requirement already satisfied: contourpy>=1.0.1 in c:\\users\\starl\\appdata\\local\\programs\\python\\python310\\lib\\site-packages (from matplotlib->haagentus) (1.2.0)\n",
      "Requirement already satisfied: cycler>=0.10 in c:\\users\\starl\\appdata\\local\\programs\\python\\python310\\lib\\site-packages (from matplotlib->haagentus) (0.12.1)\n",
      "Requirement already satisfied: fonttools>=4.22.0 in c:\\users\\starl\\appdata\\local\\programs\\python\\python310\\lib\\site-packages (from matplotlib->haagentus) (4.48.1)\n",
      "Requirement already satisfied: kiwisolver>=1.3.1 in c:\\users\\starl\\appdata\\local\\programs\\python\\python310\\lib\\site-packages (from matplotlib->haagentus) (1.4.5)\n",
      "Requirement already satisfied: packaging>=20.0 in c:\\users\\starl\\appdata\\local\\programs\\python\\python310\\lib\\site-packages (from matplotlib->haagentus) (23.2)\n",
      "Requirement already satisfied: pillow>=8 in c:\\users\\starl\\appdata\\local\\programs\\python\\python310\\lib\\site-packages (from matplotlib->haagentus) (10.2.0)\n",
      "Requirement already satisfied: pyparsing>=2.3.1 in c:\\users\\starl\\appdata\\local\\programs\\python\\python310\\lib\\site-packages (from matplotlib->haagentus) (3.1.1)\n",
      "Requirement already satisfied: python-dateutil>=2.7 in c:\\users\\starl\\appdata\\local\\programs\\python\\python310\\lib\\site-packages (from matplotlib->haagentus) (2.8.2)\n",
      "Requirement already satisfied: pytz>=2020.1 in c:\\users\\starl\\appdata\\local\\programs\\python\\python310\\lib\\site-packages (from pandas->haagentus) (2024.1)\n",
      "Requirement already satisfied: tzdata>=2022.7 in c:\\users\\starl\\appdata\\local\\programs\\python\\python310\\lib\\site-packages (from pandas->haagentus) (2024.1)\n",
      "Requirement already satisfied: docutils>=0.3 in c:\\users\\starl\\appdata\\local\\programs\\python\\python310\\lib\\site-packages (from statistics->haagentus) (0.20.1)\n",
      "Requirement already satisfied: docopt in c:\\users\\starl\\appdata\\local\\programs\\python\\python310\\lib\\site-packages (from stemgraphic->haagentus) (0.6.2)\n",
      "Requirement already satisfied: seaborn in c:\\users\\starl\\appdata\\local\\programs\\python\\python310\\lib\\site-packages (from stemgraphic->haagentus) (0.13.2)\n",
      "Requirement already satisfied: six>=1.5 in c:\\users\\starl\\appdata\\local\\programs\\python\\python310\\lib\\site-packages (from python-dateutil>=2.7->matplotlib->haagentus) (1.16.0)\n",
      "Note: you may need to restart the kernel to use updated packages.\n"
     ]
    }
   ],
   "source": [
    "%pip install haagentus"
   ]
  },
  {
   "cell_type": "code",
   "execution_count": 3,
   "metadata": {},
   "outputs": [
    {
     "ename": "ModuleNotFoundError",
     "evalue": "No module named 'haagentus'",
     "output_type": "error",
     "traceback": [
      "\u001b[1;31m---------------------------------------------------------------------------\u001b[0m",
      "\u001b[1;31mModuleNotFoundError\u001b[0m                       Traceback (most recent call last)",
      "Cell \u001b[1;32mIn[3], line 1\u001b[0m\n\u001b[1;32m----> 1\u001b[0m \u001b[38;5;28;01mimport\u001b[39;00m \u001b[38;5;21;01mhaagentus\u001b[39;00m\u001b[38;5;21;01m.\u001b[39;00m\u001b[38;5;21;01mcore\u001b[39;00m \u001b[38;5;28;01mas\u001b[39;00m \u001b[38;5;21;01mhc\u001b[39;00m\n\u001b[0;32m      3\u001b[0m data \u001b[38;5;241m=\u001b[39m [[\u001b[38;5;241m39.0\u001b[39m, \u001b[38;5;241m33.1\u001b[39m, \u001b[38;5;241m33.8\u001b[39m, \u001b[38;5;241m33.0\u001b[39m], [\u001b[38;5;241m36.9\u001b[39m, \u001b[38;5;241m27.2\u001b[39m, \u001b[38;5;241m29.7\u001b[39m, \u001b[38;5;241m28.5\u001b[39m], [\u001b[38;5;241m27.4\u001b[39m, \u001b[38;5;241m29.2\u001b[39m, \u001b[38;5;241m26.7\u001b[39m, \u001b[38;5;241m30.9\u001b[39m]]\n\u001b[0;32m      5\u001b[0m hc\u001b[38;5;241m.\u001b[39manova_table(data)\n",
      "\u001b[1;31mModuleNotFoundError\u001b[0m: No module named 'haagentus'"
     ]
    }
   ],
   "source": [
    "import haagentus.core as hc\n",
    "\n",
    "data = [[39.0, 33.1, 33.8, 33.0], [36.9, 27.2, 29.7, 28.5], [27.4, 29.2, 26.7, 30.9]]\n",
    "\n",
    "hc.anova_table(data)"
   ]
  },
  {
   "cell_type": "code",
   "execution_count": 1,
   "metadata": {},
   "outputs": [
    {
     "ename": "ModuleNotFoundError",
     "evalue": "No module named 'haagentus'",
     "output_type": "error",
     "traceback": [
      "\u001b[1;31m---------------------------------------------------------------------------\u001b[0m",
      "\u001b[1;31mModuleNotFoundError\u001b[0m                       Traceback (most recent call last)",
      "Cell \u001b[1;32mIn[1], line 1\u001b[0m\n\u001b[1;32m----> 1\u001b[0m \u001b[38;5;28;01mimport\u001b[39;00m \u001b[38;5;21;01mhaagentus\u001b[39;00m\n",
      "\u001b[1;31mModuleNotFoundError\u001b[0m: No module named 'haagentus'"
     ]
    }
   ],
   "source": [
    "import haagentus"
   ]
  },
  {
   "cell_type": "code",
   "execution_count": 2,
   "metadata": {},
   "outputs": [
    {
     "ename": "ModuleNotFoundError",
     "evalue": "No module named 'haagentus'",
     "output_type": "error",
     "traceback": [
      "\u001b[1;31m---------------------------------------------------------------------------\u001b[0m",
      "\u001b[1;31mModuleNotFoundError\u001b[0m                       Traceback (most recent call last)",
      "Cell \u001b[1;32mIn[2], line 1\u001b[0m\n\u001b[1;32m----> 1\u001b[0m \u001b[38;5;28;01mfrom\u001b[39;00m \u001b[38;5;21;01mhaagentus\u001b[39;00m \u001b[38;5;28;01mimport\u001b[39;00m core \u001b[38;5;28;01mas\u001b[39;00m hc\n",
      "\u001b[1;31mModuleNotFoundError\u001b[0m: No module named 'haagentus'"
     ]
    }
   ],
   "source": [
    "from haagentus import core as hc\n"
   ]
  },
  {
   "cell_type": "code",
   "execution_count": 1,
   "metadata": {},
   "outputs": [
    {
     "ename": "ModuleNotFoundError",
     "evalue": "No module named 'haagentus'",
     "output_type": "error",
     "traceback": [
      "\u001b[1;31m---------------------------------------------------------------------------\u001b[0m",
      "\u001b[1;31mModuleNotFoundError\u001b[0m                       Traceback (most recent call last)",
      "Cell \u001b[1;32mIn[1], line 1\u001b[0m\n\u001b[1;32m----> 1\u001b[0m \u001b[38;5;28;01mimport\u001b[39;00m \u001b[38;5;21;01mhaagentus\u001b[39;00m\u001b[38;5;21;01m.\u001b[39;00m\u001b[38;5;21;01mcore\u001b[39;00m \u001b[38;5;28;01mas\u001b[39;00m \u001b[38;5;21;01mhc\u001b[39;00m\n\u001b[0;32m      3\u001b[0m data \u001b[38;5;241m=\u001b[39m [[\u001b[38;5;241m39.0\u001b[39m, \u001b[38;5;241m33.1\u001b[39m, \u001b[38;5;241m33.8\u001b[39m, \u001b[38;5;241m33.0\u001b[39m], [\u001b[38;5;241m36.9\u001b[39m, \u001b[38;5;241m27.2\u001b[39m, \u001b[38;5;241m29.7\u001b[39m, \u001b[38;5;241m28.5\u001b[39m], [\u001b[38;5;241m27.4\u001b[39m, \u001b[38;5;241m29.2\u001b[39m, \u001b[38;5;241m26.7\u001b[39m, \u001b[38;5;241m30.9\u001b[39m]]\n\u001b[0;32m      5\u001b[0m hc\u001b[38;5;241m.\u001b[39manova_table(data)\n",
      "\u001b[1;31mModuleNotFoundError\u001b[0m: No module named 'haagentus'"
     ]
    }
   ],
   "source": [
    "import haagentus.core as hc\n",
    "\n",
    "data = [[39.0, 33.1, 33.8, 33.0], [36.9, 27.2, 29.7, 28.5], [27.4, 29.2, 26.7, 30.9]]\n",
    "\n",
    "hc.anova_table(data)"
   ]
  },
  {
   "cell_type": "code",
   "execution_count": 2,
   "metadata": {},
   "outputs": [
    {
     "name": "stdout",
     "output_type": "stream",
     "text": [
      "0.04561249828720194\n"
     ]
    }
   ],
   "source": [
    "import Haagentus.stats as sta\n",
    "\n",
    "n1 = 200      # 혼인한 커플\n",
    "p1 = 0.43     # 혼인한 커플의 집 소유 비율\n",
    "n2 = 180      # 독신\n",
    "p2 = 0.19     # 독신의 집 소유 비율\n",
    "mu = p1 - p2  # 두 모집단의 차이\n",
    "\n",
    "std_err = sta.std_error(n1, p1, n2, p2, mu)\n",
    "print(std_err)"
   ]
  },
  {
   "cell_type": "code",
   "execution_count": 1,
   "metadata": {},
   "outputs": [
    {
     "name": "stdout",
     "output_type": "stream",
     "text": [
      "표준오차 : 0.04561249828720194\n",
      "퍼센트 차이가 몇 퍼센트보다 클 확률 : 0.182\n"
     ]
    }
   ],
   "source": [
    "# 예제(6.4), p193\n",
    "from scipy.stats import norm\n",
    "import math\n",
    "\n",
    "n1 = 200      # 혼인한 커플\n",
    "p1 = 0.43     # 혼인한 커플의 집 소유 비율\n",
    "n2 = 180      # 독신\n",
    "p2 = 0.19     # 독신의 집 소유 비율\n",
    "mu = p1 - p2  # 두 모집단의 차이\n",
    "\n",
    "sd = math.sqrt(p1*(1-p1)/n1 + p2*(1-p2)/n2)  # 표준오차\n",
    "print(f\"표준오차 : {sd}\")\n",
    "\n",
    "sc = norm.ppf(0.1, mu, sd)  # 표준정규분포의 누적분포함수\n",
    "print(f\"퍼센트 차이가 몇 퍼센트보다 클 확률 : {round((sc), 3)}\")\n"
   ]
  },
  {
   "cell_type": "code",
   "execution_count": 26,
   "metadata": {},
   "outputs": [
    {
     "name": "stderr",
     "output_type": "stream",
     "text": [
      "C:\\Users\\starl\\AppData\\Roaming\\Python\\Python311\\site-packages\\IPython\\core\\pylabtools.py:152: UserWarning: Glyph 8722 (\\N{MINUS SIGN}) missing from current font.\n",
      "  fig.canvas.print_figure(bytes_io, **kw)\n"
     ]
    },
    {
     "data": {
      "image/png": "[encoded data removed]",
      "text/plain": [
       "<Figure size 640x480 with 1 Axes>"
      ]
     },
     "metadata": {},
     "output_type": "display_data"
    }
   ],
   "source": [
    "# 연습문제 3 / 예제(6.4), p193 + 시각화\n",
    "import matplotlib.pyplot as plt\n",
    "import numpy as np\n",
    "from scipy.stats import norm\n",
    "\n",
    "plt.rc('font', family='Malgun Gothic')\n",
    "\n",
    "mu = 0 # 평균\n",
    "sd = 1 # 표준편차\n",
    "\n",
    "x = np.linspace(-4, 4, 1000)\n",
    "pdf = norm.pdf(x, loc=mu, scale=sd)\n",
    "plt.plot(x, pdf, label='PDF')\n",
    "z = -1.282\n",
    "plt.fill_between(x[x>=z], pdf[x>=z], alpha=0.5)\n",
    "plt.ylabel('차이')\n",
    "plt.axvline(-1.282, color=\"red\", linestyle=\"--\")\n",
    "plt.xlabel('z위치')\n",
    "plt.title(f'P(Z>={z})')\n",
    "plt.show()"
   ]
  },
  {
   "cell_type": "markdown",
   "metadata": {},
   "source": [
    "check = 1, no edit in need"
   ]
  }
 ],
 "metadata": {
  "kernelspec": {
   "display_name": "Python 3",
   "language": "python",
   "name": "python3"
  },
  "language_info": {
   "codemirror_mode": {
    "name": "ipython",
    "version": 3
   },
   "file_extension": ".py",
   "mimetype": "text/x-python",
   "name": "python",
   "nbconvert_exporter": "python",
   "pygments_lexer": "ipython3",
   "version": "3.10.6"
  },
  "orig_nbformat": 4
 },
 "nbformat": 4,
 "nbformat_minor": 2
}
