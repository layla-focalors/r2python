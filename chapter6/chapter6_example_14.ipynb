{
 "cells": [
  {
   "cell_type": "code",
   "execution_count": 4,
   "metadata": {},
   "outputs": [
    {
     "name": "stdout",
     "output_type": "stream",
     "text": [
      "표본분산비가 4.5 이상일 확률 : 0.01\n"
     ]
    }
   ],
   "source": [
    "# 연습문제 34 p216\n",
    "from scipy.stats import f\n",
    "\n",
    "n1 = 8\n",
    "n2 = 12\n",
    "f_ratio = 4.5\n",
    "\n",
    "dof1 = n1 - 1\n",
    "dof2 = n2 - 1\n",
    "\n",
    "p_value = 1 - f.cdf(f_ratio, dof1, dof2)\n",
    "print(f\"표본분산비가 4.5 이상일 확률 : {round((p_value), 2)}\")"
   ]
  }
 ],
 "metadata": {
  "kernelspec": {
   "display_name": "Python 3",
   "language": "python",
   "name": "python3"
  },
  "language_info": {
   "codemirror_mode": {
    "name": "ipython",
    "version": 3
   },
   "file_extension": ".py",
   "mimetype": "text/x-python",
   "name": "python",
   "nbconvert_exporter": "python",
   "pygments_lexer": "ipython3",
   "version": "3.11.4"
  },
  "orig_nbformat": 4
 },
 "nbformat": 4,
 "nbformat_minor": 2
}
