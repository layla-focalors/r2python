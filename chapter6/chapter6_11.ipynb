{
 "cells": [
  {
   "cell_type": "code",
   "execution_count": 14,
   "metadata": {},
   "outputs": [
    {
     "name": "stdout",
     "output_type": "stream",
     "text": [
      "F0.05, (2,4) =  0.05195670417030823\n",
      "F0.1, (2,4) =  0.10818510677891954\n"
     ]
    }
   ],
   "source": [
    "# 예제(6.17), p208\n",
    "from scipy.stats import f\n",
    "\n",
    "fc = [0.05, 0.1]\n",
    "dfn = [2, 4]\n",
    "desc = ['F0.05, (2,4) = ', 'F0.1, (2,4) = ']\n",
    "data = []\n",
    "\n",
    "for i in fc:\n",
    "    datas = f.ppf(i, dfn[0], dfn[1])\n",
    "    data.append(datas)\n",
    "\n",
    "for j in range(len(data)):\n",
    "    print(desc[j], data[j])"
   ]
  },
  {
   "cell_type": "code",
   "execution_count": 22,
   "metadata": {},
   "outputs": [
    {
     "name": "stdout",
     "output_type": "stream",
     "text": [
      "0.10818510677891954\n"
     ]
    }
   ],
   "source": [
    "from scipy.stats import f\n",
    "\n",
    "F = f.ppf(0.1, 2, 4)\n",
    "print(F)"
   ]
  }
 ],
 "metadata": {
  "kernelspec": {
   "display_name": "Python 3",
   "language": "python",
   "name": "python3"
  },
  "language_info": {
   "codemirror_mode": {
    "name": "ipython",
    "version": 3
   },
   "file_extension": ".py",
   "mimetype": "text/x-python",
   "name": "python",
   "nbconvert_exporter": "python",
   "pygments_lexer": "ipython3",
   "version": "3.11.4"
  },
  "orig_nbformat": 4
 },
 "nbformat": 4,
 "nbformat_minor": 2
}
