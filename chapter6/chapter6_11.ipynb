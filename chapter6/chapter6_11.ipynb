{
 "cells": [
  {
   "cell_type": "code",
   "execution_count": 4,
   "metadata": {},
   "outputs": [
    {
     "name": "stdout",
     "output_type": "stream",
     "text": [
      "F0.05,(2,4) : 6.94\n",
      "F0.01,(2,4) : 4.32\n"
     ]
    }
   ],
   "source": [
    "# 예제(6.17), p208\n",
    "from scipy.stats import f\n",
    "\n",
    "alpha = 0.05 \n",
    "dfn, dfd = 2, 4  \n",
    "f_value = f.ppf(1 - alpha, dfn, dfd)\n",
    "f_value2 = f.ppf(1 - 0.1, dfn, dfd)\n",
    "\n",
    "print(f'F0.05,(2,4) : {round((f_value), 2)}')\n",
    "print(f'F0.01,(2,4) : {round((f_value2), 2)}')"
   ]
  }
 ],
 "metadata": {
  "kernelspec": {
   "display_name": "Python 3",
   "language": "python",
   "name": "python3"
  },
  "language_info": {
   "codemirror_mode": {
    "name": "ipython",
    "version": 3
   },
   "file_extension": ".py",
   "mimetype": "text/x-python",
   "name": "python",
   "nbconvert_exporter": "python",
   "pygments_lexer": "ipython3",
   "version": "3.11.4"
  },
  "orig_nbformat": 4
 },
 "nbformat": 4,
 "nbformat_minor": 2
}
