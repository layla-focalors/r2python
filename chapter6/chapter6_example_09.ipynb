{
 "cells": [
  {
   "cell_type": "code",
   "execution_count": 8,
   "metadata": {},
   "outputs": [
    {
     "name": "stdout",
     "output_type": "stream",
     "text": [
      "x0.05^2 = 15.51\n",
      "x0.01^2 = 33.41\n",
      "x0.025^2 = 21.92\n",
      "x0.95^2 = 13.09\n"
     ]
    }
   ],
   "source": [
    "# 연습문제 25 p214\n",
    "from scipy.stats import chi2\n",
    "\n",
    "df = [8, 17, 11, 23]\n",
    "alpha = [0.05, 0.01, 0.025, 0.95]\n",
    "\n",
    "x = chi2.ppf(1 - alpha[0], df[0])\n",
    "\n",
    "print(f'x0.05^2 = {round((x), 2)}')\n",
    "x = chi2.ppf(1 - alpha[1], df[1])\n",
    "\n",
    "print(f'x0.01^2 = {round((x), 2)}')\n",
    "x = chi2.ppf(1 - alpha[2], df[2])\n",
    "\n",
    "print(f'x0.025^2 = {round((x), 2)}')\n",
    "x = chi2.ppf(1 - alpha[3], df[3])\n",
    "\n",
    "print(f'x0.95^2 = {round((x), 2)}')"
   ]
  }
 ],
 "metadata": {
  "kernelspec": {
   "display_name": "Python 3",
   "language": "python",
   "name": "python3"
  },
  "language_info": {
   "codemirror_mode": {
    "name": "ipython",
    "version": 3
   },
   "file_extension": ".py",
   "mimetype": "text/x-python",
   "name": "python",
   "nbconvert_exporter": "python",
   "pygments_lexer": "ipython3",
   "version": "3.11.4"
  },
  "orig_nbformat": 4
 },
 "nbformat": 4,
 "nbformat_minor": 2
}
