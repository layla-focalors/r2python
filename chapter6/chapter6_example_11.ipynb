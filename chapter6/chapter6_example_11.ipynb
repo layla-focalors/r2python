{
 "cells": [
  {
   "cell_type": "code",
   "execution_count": 25,
   "metadata": {},
   "outputs": [
    {
     "name": "stdout",
     "output_type": "stream",
     "text": [
      "P(X^2 > Xa^2) : 0.297\n",
      "P(X^2 > Xa^2) : 32.852\n",
      "P(37.652(X0.05^2) < X^2 < Xa^2) : 0.05\n"
     ]
    }
   ],
   "source": [
    "# 연습문제 10 p214\n",
    "from scipy.stats import chi2\n",
    "\n",
    "df = [4, 19, 25]\n",
    "p = [0.99, 0.025, 0.045]\n",
    "c = [37.652]\n",
    "\n",
    "x = chi2.ppf(1 - p[0], df[0])\n",
    "print(f\"P(X^2 > Xa^2) : {round((x), 3)}\")\n",
    "\n",
    "x = chi2.ppf(1 - p[1], df[1])\n",
    "print(f\"P(X^2 > Xa^2) : {round((x), 3)}\")\n",
    "\n",
    "x = 1 - abs(chi2.cdf(p[2], df[2]) - chi2.cdf(c[0], df[2]))\n",
    "print(f\"P({c[0]}(X0.05^2) < X^2 < Xa^2) : {round((x), 4)}\")\n",
    "\n",
    "# 마지막 3재설명 듣기 + 해제 오류 확인\n",
    "\n"
   ]
  }
 ],
 "metadata": {
  "kernelspec": {
   "display_name": "Python 3",
   "language": "python",
   "name": "python3"
  },
  "language_info": {
   "codemirror_mode": {
    "name": "ipython",
    "version": 3
   },
   "file_extension": ".py",
   "mimetype": "text/x-python",
   "name": "python",
   "nbconvert_exporter": "python",
   "pygments_lexer": "ipython3",
   "version": "3.11.4"
  },
  "orig_nbformat": 4
 },
 "nbformat": 4,
 "nbformat_minor": 2
}
