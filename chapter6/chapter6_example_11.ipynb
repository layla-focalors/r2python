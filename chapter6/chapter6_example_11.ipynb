{
 "cells": [
  {
   "cell_type": "code",
   "execution_count": 1,
   "metadata": {},
   "outputs": [
    {
     "name": "stdout",
     "output_type": "stream",
     "text": [
      "P(x² > x²a) : 0.297\n",
      "P(x² > x²a) : 32.852\n",
      "P([37.652] < x² < 38.123) = 0.005\n",
      "x²₀.₀₀₅ = 46.928\n"
     ]
    }
   ],
   "source": [
    "# 연습문제 27 p214\n",
    "from scipy import stats\n",
    "from scipy.stats import chi2\n",
    "\n",
    "df = [4, 19, 25]\n",
    "p = [0.99, 0.025, 0.045]\n",
    "c = [37.652]\n",
    "\n",
    "x = chi2.ppf(1 - p[0], df[0])\n",
    "print(f\"P(x² > x²a) : {round((x), 3)}\")\n",
    "\n",
    "x = chi2.ppf(1 - p[1], df[1])\n",
    "print(f\"P(x² > x²a) : {round((x), 3)}\")\n",
    "\n",
    "Xa2 = chi2.ppf(1 - p[2], df[2])\n",
    "P = chi2.cdf(Xa2, df[2]) - chi2.cdf(c[0], df[2])\n",
    "\n",
    "print(f'P({c} < x² < {Xa2:.3f}) = {P:.3f}')\n",
    "X_0_005_squared = stats.chi2.ppf(1 - 0.005, df)\n",
    "\n",
    "print(\"x²₀.₀₀₅ =\", round((X_0_005_squared[2]),3))\n",
    "\n"
   ]
  }
 ],
 "metadata": {
  "kernelspec": {
   "display_name": "Python 3",
   "language": "python",
   "name": "python3"
  },
  "language_info": {
   "codemirror_mode": {
    "name": "ipython",
    "version": 3
   },
   "file_extension": ".py",
   "mimetype": "text/x-python",
   "name": "python",
   "nbconvert_exporter": "python",
   "pygments_lexer": "ipython3",
   "version": "3.10.0"
  },
  "orig_nbformat": 4
 },
 "nbformat": 4,
 "nbformat_minor": 2
}
