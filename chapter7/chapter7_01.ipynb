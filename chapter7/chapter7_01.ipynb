{
 "cells": [
  {
   "cell_type": "code",
   "execution_count": 13,
   "metadata": {},
   "outputs": [
    {
     "name": "stdout",
     "output_type": "stream",
     "text": [
      "95% 신뢰구간 : 0.045, 0.115\n"
     ]
    }
   ],
   "source": [
    "# 연습문제 1 / 예제(7.2), p220\n",
    "from math import sqrt\n",
    "from scipy.stats import norm\n",
    "\n",
    "from math import sqrt\n",
    "from scipy.stats import norm\n",
    "\n",
    "n = 225\n",
    "x = 18\n",
    "p_hat = x / n\n",
    "z = norm.ppf(0.975)\n",
    "se = sqrt(p_hat * (1 - p_hat) / n)\n",
    "lower = p_hat - z * se\n",
    "upper = p_hat + z * se\n",
    "\n",
    "print(f\"95% 신뢰구간 : {round((lower), 3)}, {round((upper), 3)}\\n0.045 < p < 0.115\")\n",
    "\n"
   ]
  }
 ],
 "metadata": {
  "kernelspec": {
   "display_name": "Python 3",
   "language": "python",
   "name": "python3"
  },
  "language_info": {
   "codemirror_mode": {
    "name": "ipython",
    "version": 3
   },
   "file_extension": ".py",
   "mimetype": "text/x-python",
   "name": "python",
   "nbconvert_exporter": "python",
   "pygments_lexer": "ipython3",
   "version": "3.11.4"
  },
  "orig_nbformat": 4
 },
 "nbformat": 4,
 "nbformat_minor": 2
}
