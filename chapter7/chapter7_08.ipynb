{
 "cells": [
  {
   "cell_type": "code",
   "execution_count": 6,
   "metadata": {},
   "outputs": [
    {
     "name": "stdout",
     "output_type": "stream",
     "text": [
      "95% 신뢰구간 : (-4.55, 1.95)\n",
      "95% 신뢰구간 : -4.55 < mu(D) < 1.95\n"
     ]
    }
   ],
   "source": [
    "# 연습문제 8 / 예제(7.17), p236\n",
    "from math import sqrt\n",
    "from scipy.stats import t\n",
    "\n",
    "x = [19, 11, 14, 17, 23, 11, 15, 19, 11, 8]\n",
    "y = [22, 18, 17, 19, 22, 12, 14, 11, 19,7]\n",
    "\n",
    "d = [a - b for a, b in zip(x, y)]\n",
    "n = len(d)\n",
    "d_bar = sum(d) / n\n",
    "s_d = sqrt(sum((x - d_bar)**2 for x in d) / (n - 1))\n",
    "t_value = t.ppf(0.975, n - 1)\n",
    "lower = d_bar - t_value * s_d / sqrt(n)\n",
    "upper = d_bar + t_value * s_d / sqrt(n)\n",
    "\n",
    "print(f\"95% 신뢰구간 : ({round((lower), 2)}, {round((upper), 2)})\\n95% 신뢰구간 : {round((lower), 2)} < mu(D) < {round((upper), 2)}\")"
   ]
  }
 ],
 "metadata": {
  "kernelspec": {
   "display_name": "Python 3",
   "language": "python",
   "name": "python3"
  },
  "language_info": {
   "codemirror_mode": {
    "name": "ipython",
    "version": 3
   },
   "file_extension": ".py",
   "mimetype": "text/x-python",
   "name": "python",
   "nbconvert_exporter": "python",
   "pygments_lexer": "ipython3",
   "version": "3.11.4"
  },
  "orig_nbformat": 4
 },
 "nbformat": 4,
 "nbformat_minor": 2
}
