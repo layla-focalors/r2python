{
 "cells": [
  {
   "cell_type": "code",
   "execution_count": 4,
   "metadata": {},
   "outputs": [
    {
     "name": "stdout",
     "output_type": "stream",
     "text": [
      "무게 분산에 대한 95% 신뢰구간 : (0.135 < sigma^2 < 0.954)\n"
     ]
    }
   ],
   "source": [
    "# 연습문제 9 p247, node (28)\n",
    "import numpy as np\n",
    "from scipy import stats\n",
    "\n",
    "weight = [46.4, 46.1, 45.8, 47.0, 46.1, 45.9, 45.8, 46.9, 45.2, 46.0]\n",
    "\n",
    "x_mean = np.mean(weight)\n",
    "s = np.std(weight, ddof=1)\n",
    "\n",
    "chi2_lower = stats.chi2.ppf((1 - 0.95) / 2, len(weight) - 1)\n",
    "chi2_upper = stats.chi2.ppf((1 + 0.95) / 2, len(weight) - 1)\n",
    "\n",
    "ci_lower = (len(weight) - 1) * s ** 2 / chi2_upper\n",
    "ci_upper = (len(weight) - 1) * s ** 2 / chi2_lower\n",
    "\n",
    "print(f\"무게 분산에 대한 95% 신뢰구간 : ({round((ci_lower), 3)} < sigma^2 < {round((ci_upper), 3)})\")"
   ]
  }
 ],
 "metadata": {
  "kernelspec": {
   "display_name": "Python 3",
   "language": "python",
   "name": "python3"
  },
  "language_info": {
   "codemirror_mode": {
    "name": "ipython",
    "version": 3
   },
   "file_extension": ".py",
   "mimetype": "text/x-python",
   "name": "python",
   "nbconvert_exporter": "python",
   "pygments_lexer": "ipython3",
   "version": "3.11.4"
  },
  "orig_nbformat": 4
 },
 "nbformat": 4,
 "nbformat_minor": 2
}
