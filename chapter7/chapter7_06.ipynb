{
 "cells": [
  {
   "cell_type": "code",
   "execution_count": 1,
   "metadata": {},
   "outputs": [
    {
     "name": "stdout",
     "output_type": "stream",
     "text": [
      "95% 신뢰구간 추정 : 2.95 < µ1 - µ2 < 6.45\n"
     ]
    }
   ],
   "source": [
    "# 예제(7.14), p232\n",
    "from math import sqrt\n",
    "\n",
    "simga      = 0.05 # 유의수준 5%\n",
    "z1         = 1.96 # 95% 구간의 z값\n",
    "\n",
    "month      = 30   # 연구 기간 30개월\n",
    "teamA      = 3.5  # teamA의 표준편차\n",
    "teamA_mean = 12.3 # teamA의 사고 평균\n",
    "teamB      = 3.4  # teamB의 표준편차\n",
    "teamB_mean = 7.6  # teamB의 사고 평균\n",
    "\n",
    "lower = (teamA_mean - teamB_mean) - (z1 * sqrt(((teamA**2) / month) + ((teamB**2)/month)))\n",
    "upper = (teamA_mean - teamB_mean) + (z1 * sqrt(((teamA**2) / month) + ((teamB**2)/month)))\n",
    "\n",
    "print(f\"95% 신뢰구간 추정 : {round((lower), 2)} < µ1 - µ2 < {round((upper), 2)}\")\n"
   ]
  }
 ],
 "metadata": {
  "kernelspec": {
   "display_name": "Python 3",
   "language": "python",
   "name": "python3"
  },
  "language_info": {
   "codemirror_mode": {
    "name": "ipython",
    "version": 3
   },
   "file_extension": ".py",
   "mimetype": "text/x-python",
   "name": "python",
   "nbconvert_exporter": "python",
   "pygments_lexer": "ipython3",
   "version": "3.11.4"
  },
  "orig_nbformat": 4
 },
 "nbformat": 4,
 "nbformat_minor": 2
}
