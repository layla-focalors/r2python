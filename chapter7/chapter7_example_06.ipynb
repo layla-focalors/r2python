{
 "cells": [
  {
   "cell_type": "code",
   "execution_count": 4,
   "metadata": {},
   "outputs": [
    {
     "name": "stdout",
     "output_type": "stream",
     "text": [
      "mu(d) 의 99% 신뢰구간 : (-2912.1km < mu(d) < 687.1km)\n"
     ]
    }
   ],
   "source": [
    "# 연습문제 6 p245, node (21) + 시각화\n",
    "import numpy as np\n",
    "from scipy import stats\n",
    "\n",
    "data = [[1, 34400, 36700], [2, 45500, 46800], [3, 36700, 37700], [4, 32000, 31100], [5, 48400, 47800], [6, 32800, 36400], [7, 38100, 38900], [8, 30100, 31500]]\n",
    "\n",
    "differences = [row[1] - row[2] for row in data]\n",
    "d_mean = np.mean(differences)\n",
    "s = np.std(differences, ddof=1)\n",
    "sem = s / np.sqrt(len(differences))\n",
    "t_value = stats.t.ppf((1 + 0.99) / 2, len(differences) - 1)\n",
    "margin_of_error = t_value * sem\n",
    "\n",
    "ci_lower = d_mean - margin_of_error\n",
    "ci_upper = d_mean + margin_of_error\n",
    "\n",
    "print(f\"mu(d) 의 99% 신뢰구간 : ({round((ci_lower), 1)}km < mu(d) < {round((ci_upper), 1)}km)\")"
   ]
  }
 ],
 "metadata": {
  "kernelspec": {
   "display_name": "Python 3",
   "language": "python",
   "name": "python3"
  },
  "language_info": {
   "codemirror_mode": {
    "name": "ipython",
    "version": 3
   },
   "file_extension": ".py",
   "mimetype": "text/x-python",
   "name": "python",
   "nbconvert_exporter": "python",
   "pygments_lexer": "ipython3",
   "version": "3.11.4"
  },
  "orig_nbformat": 4
 },
 "nbformat": 4,
 "nbformat_minor": 2
}
