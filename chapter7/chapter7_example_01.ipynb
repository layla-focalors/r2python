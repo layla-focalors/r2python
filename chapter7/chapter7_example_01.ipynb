{
 "cells": [
  {
   "cell_type": "code",
   "execution_count": 3,
   "metadata": {},
   "outputs": [
    {
     "name": "stdout",
     "output_type": "stream",
     "text": [
      "성공률 p의 95% 신뢰구간 : (0.739 < p < 0.961)\n"
     ]
    }
   ],
   "source": [
    "# 7장 연습문제\n",
    "# 연습문제 1 p241 , node (3)\n",
    "from math import sqrt\n",
    "from scipy.stats import norm\n",
    "\n",
    "n = 40          # 샘플 사이즈\n",
    "x = 34          # 성공한 샘플의 수\n",
    "p_hat = x / n   # 성공률\n",
    "z = norm.ppf(0.975)\n",
    "se = sqrt(p_hat * (1 - p_hat) / n)\n",
    "lower = p_hat - z * se\n",
    "upper = p_hat + z * se\n",
    "\n",
    "print(f\"성공률 p의 95% 신뢰구간 : ({round((lower), 3)} < p < {round((upper), 3)})\")"
   ]
  },
  {
   "cell_type": "code",
   "execution_count": 8,
   "metadata": {},
   "outputs": [
    {
     "data": {
      "image/png": "[encoded data removed]",
      "text/plain": [
       "<Figure size 600x100 with 1 Axes>"
      ]
     },
     "metadata": {},
     "output_type": "display_data"
    }
   ],
   "source": [
    "# 연습문제 1 p241 , node (3) + 시각화\n",
    "import matplotlib.pyplot as plt\n",
    "\n",
    "lower = 0.739\n",
    "upper = 0.961\n",
    "\n",
    "plt.figure(figsize=(6, 1))\n",
    "plt.hlines(0, lower, upper, linewidth=3)\n",
    "plt.axvline(lower, linestyle='--', color='gray')\n",
    "plt.axvline(upper, linestyle='--', color='gray')\n",
    "plt.xlim(0, 1)\n",
    "plt.yticks([])\n",
    "plt.xticks([lower, upper], [f'{lower:.3f}', f'{upper:.3f}'])\n",
    "plt.title('0.739 < p < 0.961')\n",
    "plt.show()"
   ]
  },
  {
   "cell_type": "code",
   "execution_count": null,
   "metadata": {},
   "outputs": [],
   "source": [
    "\n"
   ]
  }
 ],
 "metadata": {
  "kernelspec": {
   "display_name": "Python 3",
   "language": "python",
   "name": "python3"
  },
  "language_info": {
   "codemirror_mode": {
    "name": "ipython",
    "version": 3
   },
   "file_extension": ".py",
   "mimetype": "text/x-python",
   "name": "python",
   "nbconvert_exporter": "python",
   "pygments_lexer": "ipython3",
   "version": "3.11.4"
  },
  "orig_nbformat": 4
 },
 "nbformat": 4,
 "nbformat_minor": 2
}
