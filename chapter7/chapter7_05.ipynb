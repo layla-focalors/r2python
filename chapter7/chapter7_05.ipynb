{
 "cells": [
  {
   "cell_type": "code",
   "execution_count": 2,
   "metadata": {},
   "outputs": [
    {
     "name": "stdout",
     "output_type": "stream",
     "text": [
      "90% 신뢰구간 추정 : 0.458 < µ < 0.562\n"
     ]
    }
   ],
   "source": [
    "# 연습문제 5 / 예제(7.12), p230\n",
    "from scipy.stats import *\n",
    "import numpy as np\n",
    "import math\n",
    "\n",
    "data = [0.43, 0.52, 0.46, 0.49, 0.60, 0.56]\n",
    "xbar = np.mean(data)\n",
    "sd   = round((np.std(data, ddof=1)), 4)\n",
    "n    = len(data)\n",
    "t    = 2.015\n",
    "\n",
    "lower = xbar - (t * (sd / math.sqrt(n)))\n",
    "upper = xbar + (t * (sd / math.sqrt(n)))\n",
    "\n",
    "print(f\"90% 신뢰구간 추정 : {round((lower), 3)} < µ < {round((upper), 3)}\")\n",
    "\n",
    "\n"
   ]
  }
 ],
 "metadata": {
  "kernelspec": {
   "display_name": "Python 3",
   "language": "python",
   "name": "python3"
  },
  "language_info": {
   "codemirror_mode": {
    "name": "ipython",
    "version": 3
   },
   "file_extension": ".py",
   "mimetype": "text/x-python",
   "name": "python",
   "nbconvert_exporter": "python",
   "pygments_lexer": "ipython3",
   "version": "3.11.4"
  },
  "orig_nbformat": 4
 },
 "nbformat": 4,
 "nbformat_minor": 2
}
