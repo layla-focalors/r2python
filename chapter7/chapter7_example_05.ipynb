{
 "cells": [
  {
   "cell_type": "code",
   "execution_count": 3,
   "metadata": {},
   "outputs": [
    {
     "name": "stdout",
     "output_type": "stream",
     "text": [
      "합동표준편차 : 12.83\n",
      "평균생존연령의 차이에 대한 90% 신뢰구간 : (-11.45 < mu < 8.45)\n"
     ]
    }
   ],
   "source": [
    "# 연습문제 5 p244, node (18)\n",
    "import numpy as np\n",
    "from scipy import stats\n",
    "\n",
    "man = [52, 60, 55, 46, 33, 75, 58, 45, 57, 88]\n",
    "girl = [62, 58, 65, 56, 53, 45, 56, 65, 77, 47]\n",
    "\n",
    "man_mean = np.mean(man)\n",
    "girl_mean = np.mean(girl)\n",
    "\n",
    "man_std = np.std(man, ddof=1)\n",
    "girl_std = np.std(girl, ddof=1)\n",
    "\n",
    "pooled_std = np.sqrt(((len(man) - 1) * man_std **2 + (len(girl) -1) * girl_std **2) / (len(man) + len(girl) -2))\n",
    "\n",
    "sem = pooled_std * np.sqrt(1 / len(man) +1 / len(girl))\n",
    "t_value = stats.t.ppf((1 +0.90) /2 , len(man) + len(girl) -2)\n",
    "\n",
    "margin_of_error = t_value * sem\n",
    "\n",
    "ci_lower = (man_mean - girl_mean) - margin_of_error\n",
    "ci_upper = (man_mean - girl_mean) + margin_of_error\n",
    "\n",
    "print(f\"합동표준편차 : {pooled_std:.2f}\")\n",
    "print(f\"평균생존연령의 차이에 대한 90% 신뢰구간 : ({ci_lower:.2f} < mu < {ci_upper:.2f})\")\n"
   ]
  },
  {
   "cell_type": "code",
   "execution_count": null,
   "metadata": {},
   "outputs": [],
   "source": [
    "# 연습문제 5 p244, node (18) + 시각화"
   ]
  }
 ],
 "metadata": {
  "kernelspec": {
   "display_name": "Python 3",
   "language": "python",
   "name": "python3"
  },
  "language_info": {
   "codemirror_mode": {
    "name": "ipython",
    "version": 3
   },
   "file_extension": ".py",
   "mimetype": "text/x-python",
   "name": "python",
   "nbconvert_exporter": "python",
   "pygments_lexer": "ipython3",
   "version": "3.11.4"
  },
  "orig_nbformat": 4
 },
 "nbformat": 4,
 "nbformat_minor": 2
}
