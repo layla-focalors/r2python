{
 "cells": [
  {
   "cell_type": "code",
   "execution_count": 3,
   "metadata": {},
   "outputs": [
    {
     "name": "stdout",
     "output_type": "stream",
     "text": [
      "차이: 0.12 ± 0.083\n"
     ]
    }
   ],
   "source": [
    "# 예제(7.5), p223\n",
    "import math\n",
    "from scipy.stats import norm\n",
    "\n",
    "n1 = 125\n",
    "p1 = 0.84\n",
    "n2 = 150\n",
    "p2 = 0.72\n",
    "alpha = 0.1\n",
    "\n",
    "phat1 = p1\n",
    "phat2 = p2\n",
    "phat = (n1 * phat1 + n2 * phat2) / (n1 + n2)\n",
    "z = norm.ppf(1 - alpha / 2)\n",
    "se = math.sqrt(phat * (1 - phat) * (1 / n1 + 1 / n2))\n",
    "\n",
    "ci_low = (phat1 - phat2) - z * se\n",
    "ci_high = (phat1 - phat2) + z * se\n",
    "\n",
    "diff = phat1 - phat2\n",
    "margin_of_error = z * se\n",
    "\n",
    "print(f'차이: {diff:.2f} ± {margin_of_error:.3f}')"
   ]
  }
 ],
 "metadata": {
  "kernelspec": {
   "display_name": "Python 3",
   "language": "python",
   "name": "python3"
  },
  "language_info": {
   "codemirror_mode": {
    "name": "ipython",
    "version": 3
   },
   "file_extension": ".py",
   "mimetype": "text/x-python",
   "name": "python",
   "nbconvert_exporter": "python",
   "pygments_lexer": "ipython3",
   "version": "3.11.4"
  },
  "orig_nbformat": 4
 },
 "nbformat": 4,
 "nbformat_minor": 2
}
