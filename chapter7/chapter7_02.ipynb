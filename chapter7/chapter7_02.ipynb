{
 "cells": [
  {
   "cell_type": "code",
   "execution_count": 3,
   "metadata": {},
   "outputs": [
    {
     "name": "stdout",
     "output_type": "stream",
     "text": [
      "차이의 90% 신뢰구간 : (0.0391, 0.2009)\n"
     ]
    }
   ],
   "source": [
    "# 연습문제 2 / 예제(7.5), p223\n",
    "from scipy.stats import norm\n",
    "import math\n",
    "\n",
    "n1 = 125\n",
    "p1 = 0.84\n",
    "n2 = 150\n",
    "p2 = 0.72\n",
    "p_hat = p1 - p2\n",
    "z = norm.ppf(0.95)\n",
    "se = math.sqrt((p1 * (1 - p1) / n1) + (p2 * (1 - p2) / n2))\n",
    "lower = p_hat - z * se\n",
    "upper = p_hat + z * se\n",
    "\n",
    "print(f\"차이의 90% 신뢰구간 : ({lower:.4f}, {upper:.4f})\")"
   ]
  },
  {
   "cell_type": "code",
   "execution_count": null,
   "metadata": {},
   "outputs": [],
   "source": [
    "#  이거 질문, 일단 신뢰구간을 구해놨는데 이거 맞는지"
   ]
  }
 ],
 "metadata": {
  "kernelspec": {
   "display_name": "Python 3",
   "language": "python",
   "name": "python3"
  },
  "language_info": {
   "codemirror_mode": {
    "name": "ipython",
    "version": 3
   },
   "file_extension": ".py",
   "mimetype": "text/x-python",
   "name": "python",
   "nbconvert_exporter": "python",
   "pygments_lexer": "ipython3",
   "version": "3.11.4"
  },
  "orig_nbformat": 4
 },
 "nbformat": 4,
 "nbformat_minor": 2
}
