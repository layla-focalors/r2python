{
 "cells": [
  {
   "cell_type": "code",
   "execution_count": 4,
   "metadata": {},
   "outputs": [
    {
     "name": "stdout",
     "output_type": "stream",
     "text": [
      "95% 신뢰구간 추정 : 4.63 < µ < 6.01\n"
     ]
    }
   ],
   "source": [
    "# 예제(7.7), p226\n",
    "from math import sqrt\n",
    "\n",
    "x = 5.32        # 무작위 표본의 평균 박동수\n",
    "sigma = 2.49    # 모표준편차\n",
    "n = 50          # 표본의 크기(인수)\n",
    "v = 1.96        # 95% 신뢰구간의 z-값\n",
    "\n",
    "lower = x - (v * (sigma / sqrt(n)))\n",
    "upper = x + (v * (sigma / sqrt(n)))\n",
    "\n",
    "print(f\"95% 신뢰구간 추정 : {round((lower), 3)} < µ < {round((upper), 3)}\")"
   ]
  }
 ],
 "metadata": {
  "kernelspec": {
   "display_name": "Python 3",
   "language": "python",
   "name": "python3"
  },
  "language_info": {
   "codemirror_mode": {
    "name": "ipython",
    "version": 3
   },
   "file_extension": ".py",
   "mimetype": "text/x-python",
   "name": "python",
   "nbconvert_exporter": "python",
   "pygments_lexer": "ipython3",
   "version": "3.11.4"
  },
  "orig_nbformat": 4
 },
 "nbformat": 4,
 "nbformat_minor": 2
}
