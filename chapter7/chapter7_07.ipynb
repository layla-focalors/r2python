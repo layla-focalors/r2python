{
 "cells": [
  {
   "cell_type": "code",
   "execution_count": 1,
   "metadata": {},
   "outputs": [
    {
     "name": "stdout",
     "output_type": "stream",
     "text": [
      "98% 신뢰구간 : -11.424 < µ1 - µ2 < 7.424\n"
     ]
    }
   ],
   "source": [
    "# 예제(7.16), p235\n",
    "from math import sqrt\n",
    "import numpy as np\n",
    "\n",
    "data1 = [40, 49, 38, 48, 40]\n",
    "data2 = [51, 41, 53, 39, 40, 47]\n",
    "\n",
    "x1 = int(np.mean(data1))\n",
    "x2 = int(np.mean(data2))\n",
    "s1 = 5.517  # s1\n",
    "n1 = len(data1)      # 구획 A\n",
    "n2 = len(data2)      # 구획 B\n",
    "t = 2.821\n",
    "\n",
    "lower = (x1-x2) - (t * (s1 * sqrt(1/n1 + 1/n2)))\n",
    "upper = (x1-x2) + (t * (s1 * sqrt(1/n1 + 1/n2)))\n",
    "\n",
    "print(f\"98% 신뢰구간 : {lower:.3f} < µ1 - µ2 < {upper:.3f}\")"
   ]
  }
 ],
 "metadata": {
  "kernelspec": {
   "display_name": "Python 3",
   "language": "python",
   "name": "python3"
  },
  "language_info": {
   "codemirror_mode": {
    "name": "ipython",
    "version": 3
   },
   "file_extension": ".py",
   "mimetype": "text/x-python",
   "name": "python",
   "nbconvert_exporter": "python",
   "pygments_lexer": "ipython3",
   "version": "3.11.4"
  },
  "orig_nbformat": 4
 },
 "nbformat": 4,
 "nbformat_minor": 2
}
