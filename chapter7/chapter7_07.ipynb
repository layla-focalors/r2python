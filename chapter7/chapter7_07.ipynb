{
 "cells": [
  {
   "cell_type": "code",
   "execution_count": 8,
   "metadata": {},
   "outputs": [
    {
     "name": "stdout",
     "output_type": "stream",
     "text": [
      "98% 신뢰구간 : -11.424 < mu1 - mu2 < 7.424\n"
     ]
    }
   ],
   "source": [
    "# 연습문제 7 / 예제(7.16), p235\n",
    "from math import sqrt\n",
    "\n",
    "x1 = 43\n",
    "x2 = 45\n",
    "s1 = 5.517  # s1\n",
    "n1 = 5      # 구획 A\n",
    "n2 = 6      # 구획 B\n",
    "t = 2.821\n",
    "\n",
    "lower = (x1-x2) - (t * (s1 * sqrt(1/n1 + 1/n2)))\n",
    "upper = (x1-x2) + (t * (s1 * sqrt(1/n1 + 1/n2)))\n",
    "\n",
    "print(f\"98% 신뢰구간 : {lower:.3f} < mu1 - mu2 < {upper:.3f}\")\n",
    "# round는 반올림, 그러나 이 함수에서는 반올림이 일어나지 않아 :.xf로 표현( 결과는 같음 / 간단함의 여부 )"
   ]
  }
 ],
 "metadata": {
  "kernelspec": {
   "display_name": "Python 3",
   "language": "python",
   "name": "python3"
  },
  "language_info": {
   "codemirror_mode": {
    "name": "ipython",
    "version": 3
   },
   "file_extension": ".py",
   "mimetype": "text/x-python",
   "name": "python",
   "nbconvert_exporter": "python",
   "pygments_lexer": "ipython3",
   "version": "3.11.4"
  },
  "orig_nbformat": 4
 },
 "nbformat": 4,
 "nbformat_minor": 2
}
