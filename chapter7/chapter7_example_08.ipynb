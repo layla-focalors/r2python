{
 "cells": [
  {
   "cell_type": "code",
   "execution_count": 1,
   "metadata": {},
   "outputs": [
    {
     "name": "stdout",
     "output_type": "stream",
     "text": [
      "α^2에 대한 95% 신뢰구간 : (0.29 < α^2 < 6.73)\n"
     ]
    }
   ],
   "source": [
    "# 연습문제 25 p246\n",
    "import numpy as np\n",
    "from scipy import stats\n",
    "\n",
    "life = [1.9, 2.4, 3.0, 3.5, 4.2]\n",
    "\n",
    "x_mean = np.mean(life)\n",
    "s = np.std(life, ddof=1)\n",
    "\n",
    "chi2_lower = stats.chi2.ppf((1 - 0.95) / 2, len(life) - 1)\n",
    "chi2_upper = stats.chi2.ppf((1 + 0.95) / 2, len(life) - 1)\n",
    "\n",
    "ci_lower = (len(life) - 1) * s ** 2 / chi2_upper\n",
    "ci_upper = (len(life) - 1) * s ** 2 / chi2_lower\n",
    "\n",
    "print(f\"α^2에 대한 95% 신뢰구간 : ({round((ci_lower), 2)} < α^2 < {round((ci_upper), 2)})\")\n"
   ]
  }
 ],
 "metadata": {
  "kernelspec": {
   "display_name": "Python 3",
   "language": "python",
   "name": "python3"
  },
  "language_info": {
   "codemirror_mode": {
    "name": "ipython",
    "version": 3
   },
   "file_extension": ".py",
   "mimetype": "text/x-python",
   "name": "python",
   "nbconvert_exporter": "python",
   "pygments_lexer": "ipython3",
   "version": "3.11.4"
  },
  "orig_nbformat": 4
 },
 "nbformat": 4,
 "nbformat_minor": 2
}
