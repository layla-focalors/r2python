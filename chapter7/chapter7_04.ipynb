{
 "cells": [
  {
   "cell_type": "code",
   "execution_count": 1,
   "metadata": {},
   "outputs": [
    {
     "name": "stdout",
     "output_type": "stream",
     "text": [
      "95% 신뢰구간 추정 : 25.9 < µ < 28.5\n"
     ]
    }
   ],
   "source": [
    "# 예제(7.11), p229\n",
    "from math import sqrt\n",
    "\n",
    "n     = 10      # 표본의 크기\n",
    "x1    = 27.2    # 표본평균\n",
    "s     = 1.8     # 표본표준편차\n",
    "t     = 2.262   # t분포표에서 검정유의수준 0.05\n",
    "\n",
    "lower = x1 - (t * s / sqrt(n))\n",
    "upper = x1 + (t * (s / sqrt(n)))\n",
    "\n",
    "print(f\"95% 신뢰구간 추정 : {round((lower), 1)} < µ < {round((upper), 1)}\")"
   ]
  }
 ],
 "metadata": {
  "kernelspec": {
   "display_name": "Python 3",
   "language": "python",
   "name": "python3"
  },
  "language_info": {
   "codemirror_mode": {
    "name": "ipython",
    "version": 3
   },
   "file_extension": ".py",
   "mimetype": "text/x-python",
   "name": "python",
   "nbconvert_exporter": "python",
   "pygments_lexer": "ipython3",
   "version": "3.11.4"
  },
  "orig_nbformat": 4
 },
 "nbformat": 4,
 "nbformat_minor": 2
}
