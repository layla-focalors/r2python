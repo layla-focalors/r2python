{
 "cells": [
  {
   "cell_type": "code",
   "execution_count": 1,
   "metadata": {},
   "outputs": [
    {
     "name": "stdout",
     "output_type": "stream",
     "text": [
      "95% 신뢰구간 : (0.135 < σ^2 < 0.954)\n"
     ]
    }
   ],
   "source": [
    "# 예제(7.19), p240\n",
    "from scipy.stats import chi2\n",
    "\n",
    "weight = [46.4, 46.1, 45.8, 47.0, 46.1, 45.9, 45.8, 46.9, 45.2, 46.0]\n",
    "n = len(weight)\n",
    "x_bar = sum(weight) / n\n",
    "s2 = sum((x - x_bar)**2 for x in weight) / (n - 1)\n",
    "lower = (n - 1) * s2 / chi2.ppf(0.975, n - 1)\n",
    "upper = (n - 1) * s2 / chi2.ppf(0.025, n - 1)\n",
    "\n",
    "print(f\"95% 신뢰구간 : ({round((lower), 3)} < σ^2 < {round((upper), 3)})\")"
   ]
  }
 ],
 "metadata": {
  "kernelspec": {
   "display_name": "Python 3",
   "language": "python",
   "name": "python3"
  },
  "language_info": {
   "codemirror_mode": {
    "name": "ipython",
    "version": 3
   },
   "file_extension": ".py",
   "mimetype": "text/x-python",
   "name": "python",
   "nbconvert_exporter": "python",
   "pygments_lexer": "ipython3",
   "version": "3.11.4"
  },
  "orig_nbformat": 4
 },
 "nbformat": 4,
 "nbformat_minor": 2
}
