{
 "cells": [
  {
   "cell_type": "code",
   "execution_count": 8,
   "metadata": {},
   "outputs": [
    {
     "name": "stdout",
     "output_type": "stream",
     "text": [
      "신뢰 상한과 하한 : (-0.0165, 0.0575)\n",
      "식 : (-0.0165 < p1 - p2 < 0.0575)\n"
     ]
    }
   ],
   "source": [
    "# 연습문제 2 p242, node (7)\n",
    "from math import sqrt\n",
    "from scipy.stats import norm\n",
    "\n",
    "a = [928, 72]  # 품목 A\n",
    "b = [772, 28]  # 품목 B\n",
    "\n",
    "n1 = sum(a)\n",
    "n2 = sum(b)\n",
    "\n",
    "p1 = a[1] / n1\n",
    "p2 = b[1] / n2\n",
    "\n",
    "p_hat = p1 - p2\n",
    "z = norm.ppf(0.975)\n",
    "\n",
    "se = sqrt((p1 * (1 - p1) / n1) + (p2 * (1 - p2) / n2))\n",
    "lower = -(p_hat - z * se)\n",
    "upper = p_hat + z * se\n",
    "\n",
    "print(f\"신뢰 상한과 하한 : ({lower:.4f}, {upper:.4f})\\n식 : ({lower:.4f} < p1 - p2 < {upper:.4f})\")"
   ]
  },
  {
   "cell_type": "code",
   "execution_count": 9,
   "metadata": {},
   "outputs": [
    {
     "data": {
      "image/png": "[encoded data removed]",
      "text/plain": [
       "<Figure size 600x100 with 1 Axes>"
      ]
     },
     "metadata": {},
     "output_type": "display_data"
    }
   ],
   "source": [
    "# 연습문제 2 p242, node (7) + 시각화\n",
    "import matplotlib.pyplot as plt\n",
    "\n",
    "lower = -0.0165\n",
    "upper = 0.0575\n",
    "\n",
    "plt.figure(figsize=(6, 1))\n",
    "plt.hlines(0, lower, upper, linewidth=3)\n",
    "plt.axvline(lower, linestyle='--', color='gray')\n",
    "plt.axvline(upper, linestyle='--', color='gray')\n",
    "plt.xlim(-0.1, 0.1)\n",
    "plt.yticks([])\n",
    "plt.xticks([lower, upper], [f'{lower:.4f}', f'{upper:.4f}'])\n",
    "plt.title('-0.0165 < p1 - p2 < 0.0575')\n",
    "plt.show()"
   ]
  }
 ],
 "metadata": {
  "kernelspec": {
   "display_name": "Python 3",
   "language": "python",
   "name": "python3"
  },
  "language_info": {
   "codemirror_mode": {
    "name": "ipython",
    "version": 3
   },
   "file_extension": ".py",
   "mimetype": "text/x-python",
   "name": "python",
   "nbconvert_exporter": "python",
   "pygments_lexer": "ipython3",
   "version": "3.11.4"
  },
  "orig_nbformat": 4
 },
 "nbformat": 4,
 "nbformat_minor": 2
}
