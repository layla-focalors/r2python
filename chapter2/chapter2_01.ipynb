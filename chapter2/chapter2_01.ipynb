{
 "cells": [
  {
   "cell_type": "code",
   "execution_count": 39,
   "metadata": {},
   "outputs": [
    {
     "name": "stdout",
     "output_type": "stream",
     "text": [
      "[48, 37, 27]\n",
      "0.42857142857142855\n",
      "0.33035714285714285\n",
      "0.24107142857142858\n"
     ]
    }
   ],
   "source": [
    "# 연습문제 1, p55\n",
    "# d type = low, middle, high\n",
    "\n",
    "non_serious_heart_attack = [29, 17, 18]\n",
    "serious_heart_attack = [19, 20, 9]\n",
    "values, re_values = [], []\n",
    "\n",
    "# 콜레스테롤 수치에 따른 막대그래프, 주변 분포 구하기\n",
    "# serious_heart_attack의 변수 수를 계산하여 반복하여 더해 저장\n",
    "for i in range(len(non_serious_heart_attack)):\n",
    "    xs = non_serious_heart_attack[i] + serious_heart_attack[i]\n",
    "    values.append(xs)\n",
    "\n",
    "print(values)\n",
    "\n",
    "total = sum(non_serious_heart_attack) + sum(serious_heart_attack)\n",
    "for i in range(3):\n",
    "    data = values[i] / total\n",
    "    re_values.append(data)\n",
    "    \n",
    "for i in range(len(re_values)):\n",
    "    print(re_values[i])"
   ]
  },
  {
   "cell_type": "markdown",
   "metadata": {},
   "source": []
  }
 ],
 "metadata": {
  "kernelspec": {
   "display_name": "Python 3",
   "language": "python",
   "name": "python3"
  },
  "language_info": {
   "codemirror_mode": {
    "name": "ipython",
    "version": 3
   },
   "file_extension": ".py",
   "mimetype": "text/x-python",
   "name": "python",
   "nbconvert_exporter": "python",
   "pygments_lexer": "ipython3",
   "version": "3.11.4"
  },
  "orig_nbformat": 4
 },
 "nbformat": 4,
 "nbformat_minor": 2
}
