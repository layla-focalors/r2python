{
 "cells": [
  {
   "cell_type": "code",
   "execution_count": 1,
   "metadata": {},
   "outputs": [
    {
     "name": "stdout",
     "output_type": "stream",
     "text": [
      "민주당 상대도수: [0.2 0.6 0.2]\n",
      "공화당 상대도수: [0.625 0.25  0.125]\n",
      "무소속 상대도수: [0.3 0.2 0.5]\n"
     ]
    }
   ],
   "source": [
    "#Chapter2, 연습문제 9\n",
    "import numpy as np\n",
    "\n",
    "민주당 = np.array([50, 150, 50])\n",
    "공화당 = np.array([125, 50, 25])\n",
    "무소속 = np.array([15, 10, 25])\n",
    "\n",
    "# 상대도수 계산 함수\n",
    "def relative_frequency(values):\n",
    "    total = np.sum(values)\n",
    "    return values / total\n",
    "\n",
    "# 정당별 지지여부에 대한 상대도수 계산\n",
    "relative_freq_democrat = relative_frequency(민주당)\n",
    "relative_freq_republican = relative_frequency(공화당)\n",
    "relative_freq_independent = relative_frequency(무소속)\n",
    "\n",
    "print(\"민주당 상대도수:\", relative_freq_democrat)\n",
    "print(\"공화당 상대도수:\", relative_freq_republican)\n",
    "print(\"무소속 상대도수:\", relative_freq_independent)"
   ]
  },
  {
   "cell_type": "code",
   "execution_count": 3,
   "metadata": {},
   "outputs": [
    {
     "name": "stdout",
     "output_type": "stream",
     "text": [
      "남자 지지여부 확률 (찬성): 0.75\n",
      "남자 지지여부 확률 (반대): 0.25\n",
      "여자 지지여부 확률 (찬성): 0.8\n",
      "여자 지지여부 확률 (반대): 0.2 \n",
      "\n",
      "남자 지지여부 확률 (성별이 주어졌을 때, 찬성): 0.7377049180327869\n",
      "남자 지지여부 확률 (성별이 주어졌을 때, 반대): 0.7894736842105263\n",
      "여자 지지여부 확률 (성별이 주어졌을 때, 찬성): 0.26229508196721313\n",
      "여자 지지여부 확률 (성별이 주어졌을 때, 반대): 0.21052631578947367\n"
     ]
    }
   ],
   "source": [
    "import numpy as np\n",
    "\n",
    "# 주어진 데이터\n",
    "male_support, male_oppose = 450, 150\n",
    "female_support, female_oppose = 160, 40\n",
    "\n",
    "# 주변분포 (남자, 여자 각각의 지지여부 확률)\n",
    "total_male, total_female = male_support + male_oppose, female_support + female_oppose\n",
    "male_support_prob, male_oppose_prob = male_support / total_male, male_oppose / total_male\n",
    "female_support_prob, female_oppose_prob = female_support / total_female, female_oppose / total_female\n",
    "\n",
    "print(\"남자 지지여부 확률 (찬성):\", male_support_prob)\n",
    "print(\"남자 지지여부 확률 (반대):\", male_oppose_prob)\n",
    "print(\"여자 지지여부 확률 (찬성):\", female_support_prob)\n",
    "print(\"여자 지지여부 확률 (반대):\", female_oppose_prob, \"\\n\")\n",
    "\n",
    "# 조건부 분포 (성별이 주어졌을 때 지지여부 확률)\n",
    "male_given_support, male_given_oppose = male_support / (male_support + female_support), male_oppose / (male_oppose + female_oppose)\n",
    "female_given_support, female_given_oppose = female_support / (male_support + female_support), female_oppose / (male_oppose + female_oppose)\n",
    "\n",
    "print(\"남자 지지여부 확률 (성별이 주어졌을 때, 찬성):\", male_given_support)\n",
    "print(\"남자 지지여부 확률 (성별이 주어졌을 때, 반대):\", male_given_oppose)\n",
    "print(\"여자 지지여부 확률 (성별이 주어졌을 때, 찬성):\", female_given_support)\n",
    "print(\"여자 지지여부 확률 (성별이 주어졌을 때, 반대):\", female_given_oppose)"
   ]
  },
  {
   "cell_type": "code",
   "execution_count": 8,
   "metadata": {},
   "outputs": [
    {
     "name": "stdout",
     "output_type": "stream",
     "text": [
      "알약 멀미 정도 확률: [0.43 0.36 0.18 0.03]\n",
      "가짜약 멀미 정도 확률: [0.19 0.33 0.36 0.12] \n",
      "\n",
      "알약 상대도수: [0.43 0.36 0.18 0.03]\n",
      "가짜약 상대도수: [0.19 0.33 0.36 0.12]\n",
      "알약의 효과가 더 크다\n"
     ]
    }
   ],
   "source": [
    "import numpy as np\n",
    "\n",
    "# 주어진 데이터\n",
    "pill = np.array([43, 36, 18, 3])\n",
    "placebo = np.array([19, 33, 36, 12])\n",
    "\n",
    "# 주변분포 (알약, 가짜약 각각의 멀미 정도 확률)\n",
    "total_pill = np.sum(pill)\n",
    "total_placebo = np.sum(placebo)\n",
    "pill_probs = pill / total_pill\n",
    "placebo_probs = placebo / total_placebo\n",
    "\n",
    "print(\"알약 멀미 정도 확률:\", pill_probs)\n",
    "print(\"가짜약 멀미 정도 확률:\", placebo_probs, \"\\n\")\n",
    "\n",
    "# 상대도수 계산\n",
    "relative_freq_pill = pill_probs / np.sum(pill_probs)\n",
    "relative_freq_placebo = placebo_probs / np.sum(placebo_probs)\n",
    "\n",
    "print(\"알약 상대도수:\", relative_freq_pill)\n",
    "print(\"가짜약 상대도수:\", relative_freq_placebo)\n",
    "\n",
    "# 약의 효과 비교 설명\n",
    "if np.sum(relative_freq_pill) > np.sum(relative_freq_placebo):\n",
    "    print(\"가짜약의 효과가 더 크다\")\n",
    "else:\n",
    "    print(\"알약의 효과가 더 크다\")"
   ]
  }
 ],
 "metadata": {
  "language_info": {
   "name": "python"
  }
 },
 "nbformat": 4,
 "nbformat_minor": 2
}
