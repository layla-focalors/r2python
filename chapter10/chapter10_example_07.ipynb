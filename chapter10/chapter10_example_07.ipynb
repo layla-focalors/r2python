{
 "cells": [
  {
   "cell_type": "markdown",
   "metadata": {},
   "source": [
    "### 미국의 년도별 인구수 변화\n",
    "|  년도 (x)  | 1900 | 1905 | 1910 |  1915 | 1920  | 1925  | 1930  | 1935  | 1940  | 1945  | 1950  | 1955  | 1960  | 1965  | 1970  | 1975  | 1980  | 1985  | 1990  |\n",
    "|:----------:|:----:|:----:|:----:|:-----:|-------|-------|-------|-------|-------|-------|-------|-------|-------|-------|-------|-------|-------|-------|-------|\n",
    "| 인구수 (y) | 76.1 | 83.8 | 92.4 | 100.5 | 106.5 | 115.8 | 123.1 | 127.3 | 132.5 | 133.4 | 151.9 | 165.1 | 180.0 | 193.5 | 204.0 | 215.5 | 227.2 | 237.9 | 249.4 |"
   ]
  },
  {
   "cell_type": "code",
   "execution_count": 9,
   "metadata": {},
   "outputs": [
    {
     "name": "stdout",
     "output_type": "stream",
     "text": [
      "1. 회귀직선식과 상관계수를 구하여라\n",
      "Intercept:  -3593.284\n",
      "Coefficient:  1.9264\n",
      "상관계수 :  0.989\n",
      "\n",
      "2. 비선형 모델을 찾기 위해, log(인구수) 대 년도(1900~)을 그리고 회귀직선과 상관계수를 구하여라\n",
      "Intercept:  -20.2833\n",
      "Coefficient:  0.013\n",
      "상관계수 :  0.989\n",
      "\n",
      "3. 각각의 모델을 이용해 2100년의 인구수를 예측하고 인구수가 300(millions)에 이르는 시기를 예측하라\n",
      "2100년의 인구수 예측 (모델A) 452.0528070175437\n",
      "300 millian에 인구수가 도달하는 시점 (모델A): 2021.0669204568223\n",
      "\n",
      "2100년의 인구수 예측 (모델B) 6.983727241844431\n",
      "300 millian에 인구수가 도달하는 시점 (모델B) : 24666.983716788473\n"
     ]
    }
   ],
   "source": [
    "# 연습문제 7 p343, node (15)\n",
    "\n",
    "# 데이터를 보고 물음에 답하라!\n",
    "\n",
    "# [ 조건 ]\n",
    "# 1. 회귀직선식과 상관계수를 구하여라\n",
    "# 2. 비선형 모델을 찾기 위해, log(인구수) 대 년도(1900~)을 그리고 회귀직선과 상관계수를 구하여라\n",
    "# 3. 각각의 모델을 이용해 2100년의 인구수를 예측하고 인구수가 300(millions)에 이르는 시기를 예측하라\n",
    "# 4. (3)의 정답에 대한 정확성을 논평하라(???)\n",
    "\n",
    "\n",
    "import numpy as np\n",
    "from sklearn.linear_model import LinearRegression\n",
    "\n",
    "X = np.array([1900, 1905, 1910, 1915, 1920, 1925, 1930, 1935, 1940, 1945, 1950, 1955, 1960, 1965, 1970, 1975, 1980, 1985, 1990]).reshape(-1,1)\n",
    "Y = np.array([76.1, 83.8, 92.4, 100.5, 106.5, 115.8, 123.1, 127.3, 132.5, 133.4, 151.9, 165.1, 180.0, 193.5, 204.0,215.5 ,227.2 ,237.9 ,249.4])\n",
    "log_Y = np.log(Y)\n",
    "\n",
    "model = LinearRegression()\n",
    "model.fit(X,Y)\n",
    "\n",
    "print('1. 회귀직선식과 상관계수를 구하여라')\n",
    "print(\"Intercept: \", round((model.intercept_), 4))\n",
    "print(\"Coefficient: \", round((model.coef_[0]), 4))\n",
    "correlation_coefficient = np.corrcoef(X.reshape(1,-1), Y)[0][1]\n",
    "print(\"상관계수 : \", round((correlation_coefficient), 4))\n",
    "\n",
    "population_2100_modelA = model.predict(np.array([[2100]]))[0]\n",
    "year_modelA = (300 - model.intercept_) / model.coef_[0]\n",
    "\n",
    "model.fit(X,log_Y)\n",
    "print('\\n2. 비선형 모델을 찾기 위해, log(인구수) 대 년도(1900~)을 그리고 회귀직선과 상관계수를 구하여라')\n",
    "print(\"Intercept: \", round((model.intercept_), 4))\n",
    "print(\"Coefficient: \", round((model.coef_[0]), 4))\n",
    "correlation_coefficient = np.corrcoef(X.reshape(1,-1), Y)[0][1]\n",
    "print(\"상관계수 : \", round((correlation_coefficient), 4))\n",
    "\n",
    "population_2100_modelB = model.predict(np.array([[2100]]))[0]\n",
    "year_modelB = (300 - model.intercept_) / model.coef_[0]\n",
    "\n",
    "print('\\n3. 각각의 모델을 이용해 2100년의 인구수를 예측하고 인구수가 300(millions)에 이르는 시기를 예측하라')\n",
    "print(f\"2100년의 인구수 예측 (모델A) {population_2100_modelA}\")\n",
    "print(f\"300 millian에 인구수가 도달하는 시점 (모델A): {year_modelA}\\n\")\n",
    "\n",
    "print(f\"2100년의 인구수 예측 (모델B) {population_2100_modelB}\")\n",
    "print(f\"300 millian에 인구수가 도달하는 시점 (모델B) : {year_modelB}\")\n"
   ]
  }
 ],
 "metadata": {
  "kernelspec": {
   "display_name": "Python 3",
   "language": "python",
   "name": "python3"
  },
  "language_info": {
   "codemirror_mode": {
    "name": "ipython",
    "version": 3
   },
   "file_extension": ".py",
   "mimetype": "text/x-python",
   "name": "python",
   "nbconvert_exporter": "python",
   "pygments_lexer": "ipython3",
   "version": "3.11.4"
  },
  "orig_nbformat": 4
 },
 "nbformat": 4,
 "nbformat_minor": 2
}
