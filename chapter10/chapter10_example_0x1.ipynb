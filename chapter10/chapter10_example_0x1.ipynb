{
 "cells": [
  {
   "cell_type": "code",
   "execution_count": 1,
   "metadata": {},
   "outputs": [
    {
     "name": "stdout",
     "output_type": "stream",
     "text": [
      "회귀식: y = 280.57617792595767 + -8.249377392902504*x₁ + -14.833080514173504*x₂ + 6.098887134063279*x₃\n",
      "1월 평균 기온이 -1.1도, 단열제의 두께가 5cm, 10년된 주택의 난방비 예측값: 276.4739618279157\n"
     ]
    }
   ],
   "source": [
    "import numpy as np\n",
    "from sklearn.linear_model import LinearRegression\n",
    "\n",
    "# 데이터 정의\n",
    "y = np.array([250,360,165,43,92,200,355,290,230,120,73,205,400,320,72,272,94,190,235,139])\n",
    "x1 = np.array([1.67,-1.67,2.22,15.56,18.33,-1.11,-12.22,-13.89,-6.11,12.78,12.22,8.89,-6.67,3.89,15.56,-6.67,14.44,4.44,-2.78,-1.11])\n",
    "x2 = np.array([3,4,7,6,5,5,6,10,9,2,12,5,5,4,8,5,7,8,9,7])\n",
    "x3 = np.array([6,10,3,9,6,5,7,10,11,5,4,1,15,7,6,8,3,11,8,5])\n",
    "\n",
    "X = np.column_stack((x1, x2, x3))\n",
    "\n",
    "model = LinearRegression().fit(X, y)\n",
    "\n",
    "print(f\"회귀식: y = {model.intercept_} + {model.coef_[0]}*x₁ + {model.coef_[1]}*x₂ + {model.coef_[2]}*x₃\")\n",
    "\n",
    "x_new = np.array([[-1.1, 5, 10]])\n",
    "y_pred = model.predict(x_new)\n",
    "print(f\"1월 평균 기온이 -1.1도, 단열제의 두께가 5cm, 10년된 주택의 난방비 예측값: {y_pred[0]}\")\n"
   ]
  }
 ],
 "metadata": {
  "kernelspec": {
   "display_name": "Python 3",
   "language": "python",
   "name": "python3"
  },
  "language_info": {
   "codemirror_mode": {
    "name": "ipython",
    "version": 3
   },
   "file_extension": ".py",
   "mimetype": "text/x-python",
   "name": "python",
   "nbconvert_exporter": "python",
   "pygments_lexer": "ipython3",
   "version": "3.10.6"
  }
 },
 "nbformat": 4,
 "nbformat_minor": 2
}
