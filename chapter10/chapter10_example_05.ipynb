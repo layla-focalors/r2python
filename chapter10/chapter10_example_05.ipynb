{
 "cells": [
  {
   "cell_type": "markdown",
   "metadata": {},
   "source": [
    "### 신약 알레르기 분석하기\n",
    "| 약 (mg)(x) | 2 | 3 | 4 | 4 | 5  | 6 | 6  | 7  | 8  | 8  | 9  | 10 |\n",
    "|:----------:|:-:|:-:|:-:|:-:|----|---|----|----|----|----|----|----|\n",
    "|  시간 (y)  | 3 | 7 | 6 | 8 | 10 | 8 | 13 | 16 | 15 | 21 | 23 | 24 |"
   ]
  },
  {
   "cell_type": "code",
   "execution_count": 1,
   "metadata": {},
   "outputs": [
    {
     "name": "stdout",
     "output_type": "stream",
     "text": [
      "최소제곱 회귀직선식: y = -3.23 + 2.68x\n",
      "90% 구간 추정: 2.68 +- 0.513\n"
     ]
    }
   ],
   "source": [
    "# 연습문제 5 p340, node (11)\n",
    "\n",
    "# 어떤 공장에서 여러 수준의 온도 변화에 따른 당분으로 변환된 양을 측정한 데이터가 있을 때, 회귀직선을 추정하고 온도가 1.75일 때, 당분으로 변환된 양을 추정하시오\n",
    "\n",
    "# [ 조건 ]\n",
    "# 1. 최소제곱 회귀직선식을 구하라\n",
    "# 2. 90% 구간추정치를 구하라\n",
    "\n",
    "import numpy as np\n",
    "from scipy import stats\n",
    "\n",
    "x = np.array([2, 3, 4, 4, 5, 6, 6, 7, 8, 8, 9, 10])\n",
    "y = np.array([3, 7, 6, 8, 10, 8, 13, 16, 15, 21, 23, 24])\n",
    "\n",
    "# 최소제곱 회귀직선식\n",
    "slope, intercept, r_value, p_value, std_err = stats.linregress(x,y)\n",
    "print(f'최소제곱 회귀직선식: y = {intercept:.2f} + {slope:.2f}x')\n",
    "\n",
    "# 90% 구간 추정\n",
    "n = len(x)\n",
    "t_critical = stats.t.ppf(0.95, n-2)\n",
    "lower_bound = slope - t_critical * std_err\n",
    "margin_of_error = t_critical * std_err\n",
    "print(f'90% 구간 추정: {slope:.2f} +- {margin_of_error:.3f}')\n"
   ]
  }
 ],
 "metadata": {
  "kernelspec": {
   "display_name": "Python 3",
   "language": "python",
   "name": "python3"
  },
  "language_info": {
   "codemirror_mode": {
    "name": "ipython",
    "version": 3
   },
   "file_extension": ".py",
   "mimetype": "text/x-python",
   "name": "python",
   "nbconvert_exporter": "python",
   "pygments_lexer": "ipython3",
   "version": "3.11.4"
  },
  "orig_nbformat": 4
 },
 "nbformat": 4,
 "nbformat_minor": 2
}
