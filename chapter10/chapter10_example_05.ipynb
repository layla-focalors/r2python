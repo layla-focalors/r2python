{
 "cells": [
  {
   "cell_type": "markdown",
   "metadata": {},
   "source": [
    "### 신약 알레르기 분석하기\n",
    "| 약 (mg)(x) | 2 | 3 | 4 | 4 | 5  | 6 | 6  | 7  | 8  | 8  | 9  | 10 |\n",
    "|:----------:|:-:|:-:|:-:|:-:|----|---|----|----|----|----|----|----|\n",
    "|  시간 (y)  | 3 | 7 | 6 | 8 | 10 | 8 | 13 | 16 | 15 | 21 | 23 | 24 |"
   ]
  },
  {
   "cell_type": "code",
   "execution_count": 5,
   "metadata": {},
   "outputs": [
    {
     "name": "stdout",
     "output_type": "stream",
     "text": [
      "1. 최소제곱 회귀직선식을 구하라.\n",
      "Intercept:  -3.2255\n",
      "Coefficient:  2.6765\n",
      "\n",
      "2. 90% 구간추정치를 구하라.\n",
      "90% 신뢰구간 추정치 : ( 11.611  < x <  14.055334305767131 )\n"
     ]
    }
   ],
   "source": [
    "# 연습문제 5 p340, node (11)\n",
    "\n",
    "# 어떤 공장에서 여러 수준의 온도 변화에 따른 당분으로 변환된 양을 측정한 데이터가 있을 때, 회귀직선을 추정하고 온도가 1.75일 때, 당분으로 변환된 양을 추정하시오\n",
    "\n",
    "# [ 조건 ]\n",
    "# 1. 최소제곱 회귀직선식을 구하라\n",
    "# 2. 90% 구간추정치를 구하라\n",
    "\n",
    "import numpy as np\n",
    "from scipy import stats\n",
    "from sklearn.linear_model import LinearRegression\n",
    "\n",
    "X = np.array([2, 3, 4, 4, 5, 6, 6, 7, 8, 8, 9, 10]).reshape(-1, 1)\n",
    "Y = np.array([3, 7, 6, 8, 10, 8, 13, 16, 15, 21, 23, 24])\n",
    "\n",
    "model = LinearRegression()\n",
    "model.fit(X, Y)\n",
    "print(\"1. 최소제곱 회귀직선식을 구하라.\")\n",
    "print(\"Intercept: \", round((model.intercept_), 4))\n",
    "print(\"Coefficient: \", round((model.coef_[0]), 4))\n",
    "\n",
    "Y_pred = model.predict(X)\n",
    "residuals = Y - Y_pred\n",
    "residual_sum_of_squares = np.sum(residuals**2)\n",
    "s2 = residual_sum_of_squares / (len(Y) - 2)\n",
    "\n",
    "standard_error = np.sqrt(s2 / len(Y))\n",
    "t_critical = stats.t.ppf(1 - 0.10/2, df=len(Y)-2)\n",
    "\n",
    "lower_bound = np.mean(Y) - t_critical * standard_error\n",
    "upper_bound = np.mean(Y) + t_critical * standard_error\n",
    "\n",
    "print('\\n2. 90% 구간추정치를 구하라.')\n",
    "print(\"90% 신뢰구간 추정치 : (\", round((lower_bound), 3), \" < x < \", round((upper_bound), 3), \")\")\n"
   ]
  }
 ],
 "metadata": {
  "kernelspec": {
   "display_name": "Python 3",
   "language": "python",
   "name": "python3"
  },
  "language_info": {
   "codemirror_mode": {
    "name": "ipython",
    "version": 3
   },
   "file_extension": ".py",
   "mimetype": "text/x-python",
   "name": "python",
   "nbconvert_exporter": "python",
   "pygments_lexer": "ipython3",
   "version": "3.11.4"
  },
  "orig_nbformat": 4
 },
 "nbformat": 4,
 "nbformat_minor": 2
}
