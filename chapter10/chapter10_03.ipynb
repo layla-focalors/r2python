{
 "cells": [
  {
   "cell_type": "markdown",
   "metadata": {},
   "source": [
    "### 강우량에 따른 대기오염 제거정도\n",
    "|       강우량 (x)      | 4.3 | 4.5 | 5.9 | 5.6 | 6.1 | 5.2 | 3.8 | 2.1 | 7.5 |\n",
    "|:---------------------:|:---:|:---:|:---:|:---:|-----|-----|-----|-----|-----|\n",
    "| 대기오염 제거정도 (y) | 126 | 121 | 116 | 118 | 114 | 118 | 132 | 141 | 108 |"
   ]
  },
  {
   "cell_type": "code",
   "execution_count": 2,
   "metadata": {},
   "outputs": [
    {
     "name": "stdout",
     "output_type": "stream",
     "text": [
      "결정계수 R^2: 0.957772\n"
     ]
    }
   ],
   "source": [
    "# 연습문제 3 / 예제(10.6), p316\n",
    "\n",
    "# 예제 10.3에서 강우량 자료의 결정계수 R^2 구하기\n",
    "\n",
    "import numpy as np\n",
    "\n",
    "x = [4.3, 4.5, 5.9, 5.6, 6.1, 5.2, 3.8, 2.1, 7.5]\n",
    "y = [126, 121, 116, 118, 114, 118, 132, 141, 108]\n",
    "\n",
    "x_mean = np.mean(x)\n",
    "y_mean = np.mean(y)\n",
    "b1 = sum((x_i - x_mean) * (y_i - y_mean) for x_i, y_i in zip(x, y)) / sum((x_i - x_mean) ** 2 for x_i in x)\n",
    "b0 = y_mean - b1 * x_mean\n",
    "y_mean = np.mean(y)\n",
    "ss_tot = sum((y_i - y_mean) ** 2 for y_i in y)\n",
    "ss_res = sum((y_i - (b0 + b1 * x_i)) ** 2 for x_i, y_i in zip(x, y))\n",
    "r2 = 1 - (ss_res / ss_tot)\n",
    "\n",
    "print(f'결정계수 R^2: {r2:.5f}')\n"
   ]
  }
 ],
 "metadata": {
  "kernelspec": {
   "display_name": "Python 3",
   "language": "python",
   "name": "python3"
  },
  "language_info": {
   "codemirror_mode": {
    "name": "ipython",
    "version": 3
   },
   "file_extension": ".py",
   "mimetype": "text/x-python",
   "name": "python",
   "nbconvert_exporter": "python",
   "pygments_lexer": "ipython3",
   "version": "3.11.4"
  },
  "orig_nbformat": 4
 },
 "nbformat": 4,
 "nbformat_minor": 2
}
