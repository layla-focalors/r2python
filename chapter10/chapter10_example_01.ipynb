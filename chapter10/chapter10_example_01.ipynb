{
 "cells": [
  {
   "cell_type": "markdown",
   "metadata": {},
   "source": [
    "### 통계학 점수와 프로그래밍 언어 점수\n",
    "|  통계학점수 (x)  | 70 | 90 | 80 | 74 | 65 | 83 |\n",
    "|:----------------:|:--:|:--:|:--:|:--:|----|----|\n",
    "| 프로그램언어 (y) | 74 | 84 | 63 | 87 | 78 | 90 |"
   ]
  },
  {
   "cell_type": "code",
   "execution_count": null,
   "metadata": {},
   "outputs": [],
   "source": []
  }
 ],
 "metadata": {
  "kernelspec": {
   "display_name": "Python 3",
   "language": "python",
   "name": "python3"
  },
  "language_info": {
   "name": "python",
   "version": "3.11.4"
  },
  "orig_nbformat": 4
 },
 "nbformat": 4,
 "nbformat_minor": 2
}
