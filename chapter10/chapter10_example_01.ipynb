{
 "cells": [
  {
   "cell_type": "markdown",
   "metadata": {},
   "source": [
    "### 통계학 점수와 프로그램 언어 점수\n",
    "|  통계학점수 (x)  | 70 | 90 | 80 | 74 | 65 | 83 |\n",
    "|:----------------:|:--:|:--:|:--:|:--:|----|----|\n",
    "| 프로그램언어 (y) | 74 | 84 | 63 | 87 | 78 | 90 |"
   ]
  },
  {
   "cell_type": "code",
   "execution_count": null,
   "metadata": {},
   "outputs": [],
   "source": [
    "# 연습문제 1 p337, node (1)\n",
    "\n",
    "# 임의로 추출한 컴퓨터 공학과 학생 6명의 통계학 점수와 프로그램 언어 점수에서 상관계수를 구하시오.\n",
    "\n",
    "import numpy as np\n",
    "\n",
    "x = [70, 90, 80, 74, 65, 83]\n",
    "y = [74, 84, 63, 87, 78, 90]\n",
    "\n",
    "x_mean = np.mean(x)\n",
    "y_mean = np.mean(y)\n",
    "numerator = sum((x_i - x_mean) * (y_i - y_mean) for x_i, y_i in zip(x, y))\n",
    "denominator = np.sqrt(sum((x_i - x_mean) ** 2 for x_i in x)) * np.sqrt(sum((y_i - y_mean) ** 2 for y_i in y))\n",
    "r = numerator / denominator\n",
    "\n",
    "print(f'상관 계수: {r:.4f}')\n"
   ]
  }
 ],
 "metadata": {
  "kernelspec": {
   "display_name": "Python 3",
   "language": "python",
   "name": "python3"
  },
  "language_info": {
   "name": "python",
   "version": "3.11.4"
  },
  "orig_nbformat": 4
 },
 "nbformat": 4,
 "nbformat_minor": 2
}
