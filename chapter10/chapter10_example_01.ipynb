{
 "cells": [
  {
   "cell_type": "markdown",
   "metadata": {},
   "source": [
    "### 통계학 점수와 프로그램 언어 점수\n",
    "|  통계학점수 (x)  | 70 | 90 | 80 | 74 | 65 | 83 |\n",
    "|:----------------:|:--:|:--:|:--:|:--:|----|----|\n",
    "| 프로그램언어 (y) | 74 | 84 | 63 | 87 | 78 | 90 |"
   ]
  },
  {
   "cell_type": "code",
   "execution_count": null,
   "metadata": {},
   "outputs": [],
   "source": [
    "# 연습문제 1 p337, node (1)\n",
    "\n",
    "# 임의로 추출한 컴퓨터 공학과 학생 6명의 통계학 점수와 프로그램 언어 점수에서 상관계수를 구하시오."
   ]
  }
 ],
 "metadata": {
  "kernelspec": {
   "display_name": "Python 3",
   "language": "python",
   "name": "python3"
  },
  "language_info": {
   "name": "python",
   "version": "3.11.4"
  },
  "orig_nbformat": 4
 },
 "nbformat": 4,
 "nbformat_minor": 2
}
