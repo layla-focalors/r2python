{
 "cells": [
  {
   "cell_type": "markdown",
   "metadata": {},
   "source": [
    "### X, Y의 자료\n",
    "| x | 1 | 2 | 3 | 4 | 5 |\n",
    "|:-:|:-:|:-:|:-:|:-:|---|\n",
    "| y | 3 | 3 | 2 | 6 | 5 |"
   ]
  },
  {
   "cell_type": "code",
   "execution_count": 13,
   "metadata": {},
   "outputs": [
    {
     "name": "stdout",
     "output_type": "stream",
     "text": [
      "1. 선형 회귀 모델을 구하시오\n",
      "선형 회귀 모델 : b0 = 1.70 y = 1.70 + 0.70x\n",
      "\n",
      "2. SE^2을 구하시오\n",
      "SE^2: 1.96667\n",
      "\n",
      "3. H0 : Beta1 = 0, Ha : beta ! 0을 alpha = 0.05로 검정하시오\n",
      "p-value는 0.2126로, 유의 수준 0.05보다 크거나 같다.\n",
      "따라서 귀무 가설을 기각할 수 없음\n",
      "\n",
      "4. 유의수준 5%인 beta의 신뢰구간을 구하시오\n",
      "유의 수준 5%인 beta의 신뢰 구간: [0.7113, 2.1113]\n",
      "beta의 신뢰구간 0.7113 < beta < 2.1113\n"
     ]
    }
   ],
   "source": [
    "# 연습문제 3 p338, node (5)\n",
    "\n",
    "# 다음과 같은 자료로 물음에 답하여라\n",
    "\n",
    "# [ 조건 ]\n",
    "# 1. 선형회귀모델을 구하라\n",
    "# 2. SE^2을 구하라\n",
    "# 3. H0 : Beta1 = 0, Ha : beta ! 0을 alpha = 0.05로 검정하라\n",
    "# 4. 유의수준 5%인 beta의 신뢰구간을 구하라\n",
    "\n",
    "import numpy as np\n",
    "from scipy import stats\n",
    "\n",
    "x = np.array([1, 2, 3, 4, 5])\n",
    "y = np.array([3, 3, 2, 6, 5])\n",
    "\n",
    "# 선형 회귀 모델\n",
    "slope, intercept, r_value, p_value, std_err = stats.linregress(x,y)\n",
    "print(\"1. 선형 회귀 모델을 구하시오\")\n",
    "print(f'선형 회귀 모델 : b0 = {intercept:.2f} y = {intercept:.2f} + {slope:.2f}x')\n",
    "\n",
    "# SE^2\n",
    "SE_2 = (std_err**2) * 10\n",
    "print(\"\\n2. SE^2을 구하시오\")\n",
    "print(f'SE^2: {SE_2:.5f}')\n",
    "\n",
    "# H0 : Beta1 = 0, Ha : beta ! 0을 alpha = 0.05로 검정 \n",
    "print(\"\\n3. H0 : Beta1 = 0, Ha : beta ! 0을 alpha = 0.05로 검정하시오\")\n",
    "alpha = 0.05\n",
    "if p_value < alpha:   \n",
    "    print(f\"p-value는 {p_value:.4f}로, 유의 수준 {alpha}보다 작다.\\n따라서 귀무 가설을 기각한다.\")    \n",
    "else:\n",
    "    print(f\"p-value는 {p_value:.4f}로, 유의 수준 {alpha}보다 크거나 같다.\\n따라서 귀무 가설을 기각할 수 없음\")   \n",
    "    \n",
    "# 유의 수준 5%인 beta의 신뢰 구간\n",
    "n = len(x)\n",
    "t_critical = stats.t.ppf(1 - alpha/2, n-2)\n",
    "lower_bound = abs(slope - t_critical * std_err)\n",
    "upper_bound = slope + t_critical * std_err\n",
    "print(\"\\n4. 유의수준 5%인 beta의 신뢰구간을 구하시오\")\n",
    "print(f'유의 수준 5%인 beta의 신뢰 구간: [{lower_bound:.4f}, {upper_bound:.4f}]')\n",
    "print(f'beta의 신뢰구간 {lower_bound:.4f} < beta < {upper_bound:.4f}')"
   ]
  }
 ],
 "metadata": {
  "kernelspec": {
   "display_name": "Python 3",
   "language": "python",
   "name": "python3"
  },
  "language_info": {
   "codemirror_mode": {
    "name": "ipython",
    "version": 3
   },
   "file_extension": ".py",
   "mimetype": "text/x-python",
   "name": "python",
   "nbconvert_exporter": "python",
   "pygments_lexer": "ipython3",
   "version": "3.11.4"
  },
  "orig_nbformat": 4
 },
 "nbformat": 4,
 "nbformat_minor": 2
}
