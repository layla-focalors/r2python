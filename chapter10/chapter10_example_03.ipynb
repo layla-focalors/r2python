{
 "cells": [
  {
   "cell_type": "markdown",
   "metadata": {},
   "source": [
    "### X, Y의 자료\n",
    "| x | 1 | 2 | 3 | 4 | 5 |\n",
    "|:-:|:-:|:-:|:-:|:-:|---|\n",
    "| y | 3 | 3 | 2 | 6 | 5 |"
   ]
  },
  {
   "cell_type": "code",
   "execution_count": 14,
   "metadata": {},
   "outputs": [
    {
     "name": "stdout",
     "output_type": "stream",
     "text": [
      "1. 선형회귀모델 구하기\n",
      "Intercept :  1.7\n",
      "Coefficient :  0.7\n",
      "\n",
      "2. S(e)^2 구하기 (잔차제곱합)\n",
      "전차 제곱합 S(e)^2 :  5.9\n",
      "\n",
      "3. H0 : Beta1 = 0, Ha : beta ! 0을 alpha = 0.05 검정\n",
      "p-value는 0.8846로, 유의 수준 0.05보다 크거나 같다.\n",
      "따라서 귀무 가설을 기각할 수 없음\n",
      "\n",
      "4. 95% 신뢰구간 : ( -13.413  < x <  14.813 )\n"
     ]
    }
   ],
   "source": [
    "# 연습문제 3 p338, node (5)\n",
    "\n",
    "# 다음과 같은 자료로 물음에 답하여라\n",
    "\n",
    "# [ 조건 ]\n",
    "# 1. 선형회귀모델을 구하라\n",
    "# 2. SE^2을 구하라\n",
    "# 3. H0 : Beta1 = 0, Ha : beta ! 0을 alpha = 0.05로 검정하라\n",
    "# 4. 유의수준 5%인 beta의 신뢰구간을 구하라\n",
    "\n",
    "from sklearn.linear_model import LinearRegression\n",
    "import numpy as np\n",
    "from scipy import stats\n",
    "\n",
    "X = np.array([1,2,3,4,5]).reshape(-1, 1)\n",
    "Y = np.array([3,3,2,6,5])\n",
    "\n",
    "model = LinearRegression()\n",
    "model.fit(X, Y)\n",
    "\n",
    "print('1. 선형회귀모델 구하기')\n",
    "print(\"Intercept : \", round((model.intercept_), 4))\n",
    "print(\"Coefficient : \", round((model.coef_[0]), 4))\n",
    "\n",
    "Y_pred = model.predict(X)\n",
    "residuals = Y - Y_pred\n",
    "residual_sum_of_squares = np.sum(residuals**2)\n",
    "s2 = residual_sum_of_squares / (len(Y) - 2)\n",
    "\n",
    "print('\\n2. S(e)^2 구하기 (잔차제곱합)')\n",
    "print(\"전차 제곱합 S(e)^2 : \", round((residual_sum_of_squares), 4))\n",
    "\n",
    "t_statistic = model.coef_[0] / (np.sqrt(s2) * np.sqrt(np.sum((X - np.mean(X))**2)))\n",
    "p_value = 2 * (1 - stats.t.cdf(abs(t_statistic), df=len(Y)-2))\n",
    "\n",
    "print('\\n3. H0 : Beta1 = 0, Ha : beta ! 0을 alpha = 0.05 검정')\n",
    "alpha = 0.05\n",
    "if p_value < alpha:   \n",
    "    print(f\"p-value는 {p_value:.4f}로, 유의 수준 {alpha}보다 작다.\\n따라서 귀무 가설을 기각한다.\")    \n",
    "else:\n",
    "    print(f\"p-value는 {p_value:.4f}로, 유의 수준 {alpha}보다 크거나 같다.\\n따라서 귀무 가설을 기각할 수 없음\")   \n",
    "    \n",
    "standard_error = np.sqrt(s2) * np.sqrt(np.sum((X - np.mean(X))**2))\n",
    "t_critical = stats.t.ppf(1 - 0.05/2, df=len(Y)-2)\n",
    "\n",
    "lower_bound = model.coef_[0] - t_critical * standard_error\n",
    "upper_bound = model.coef_[0] + t_critical * standard_error\n",
    "\n",
    "print(\"\\n4. 95% 신뢰구간 : (\", round((lower_bound), 3), \" < x < \", round((upper_bound), 3), \")\")"
   ]
  }
 ],
 "metadata": {
  "kernelspec": {
   "display_name": "Python 3",
   "language": "python",
   "name": "python3"
  },
  "language_info": {
   "codemirror_mode": {
    "name": "ipython",
    "version": 3
   },
   "file_extension": ".py",
   "mimetype": "text/x-python",
   "name": "python",
   "nbconvert_exporter": "python",
   "pygments_lexer": "ipython3",
   "version": "3.11.4"
  },
  "orig_nbformat": 4
 },
 "nbformat": 4,
 "nbformat_minor": 2
}
