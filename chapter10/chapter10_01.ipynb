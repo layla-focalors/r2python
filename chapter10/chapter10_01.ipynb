{
 "cells": [
  {
   "cell_type": "markdown",
   "metadata": {},
   "source": [
    "### 땅콩의 산출량 y와 옥수수의 산출량 x\n",
    "| x |  2.4 |  3.4 |  4.6 |  3.7 | 2.2  | 3.3  | 4.0  | 2.1  |\n",
    "|:-:|:----:|:----:|:----:|:----:|------|------|------|------|\n",
    "| y | 1.33 | 2.12 | 1.80 | 1.65 | 2.00 | 1.76 | 2.11 | 1.63 |"
   ]
  },
  {
   "cell_type": "code",
   "execution_count": null,
   "metadata": {},
   "outputs": [],
   "source": [
    "# 연습문제 1 / 예제(10.2), p310"
   ]
  }
 ],
 "metadata": {
  "kernelspec": {
   "display_name": "Python 3",
   "language": "python",
   "name": "python3"
  },
  "language_info": {
   "name": "python",
   "version": "3.11.4"
  },
  "orig_nbformat": 4
 },
 "nbformat": 4,
 "nbformat_minor": 2
}
