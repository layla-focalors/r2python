{
 "cells": [
  {
   "cell_type": "markdown",
   "metadata": {},
   "source": [
    "### 땅콩의 산출량 y와 옥수수의 산출량 x\n",
    "| x |  2.4 |  3.4 |  4.6 |  3.7 | 2.2  | 3.3  | 4.0  | 2.1  |\n",
    "|:-:|:----:|:----:|:----:|:----:|------|------|------|------|\n",
    "| y | 1.33 | 2.12 | 1.80 | 1.65 | 2.00 | 1.76 | 2.11 | 1.63 |"
   ]
  },
  {
   "cell_type": "code",
   "execution_count": 3,
   "metadata": {},
   "outputs": [
    {
     "name": "stdout",
     "output_type": "stream",
     "text": [
      "표본상관계수 r: 0.347\n"
     ]
    }
   ],
   "source": [
    "# 예제(10.2)\n",
    "\n",
    "# 8개의 다른 종류의 토양에 대한 땅콩의 산출량 y와 옥수수의 산출량 x에 관한 자료를 제시할 때 두 변수간 표본상관계수 r을 구하시오\n",
    "\n",
    "import numpy as np\n",
    "\n",
    "x = [2.4, 3.4, 4.6, 3.7, 2.2, 3.3, 4.0, 2.1]\n",
    "y = [1.33, 2.12, 1.80, 1.65, 2.00, 1.76, 2.11, 1.63]\n",
    "\n",
    "x_mean = np.mean(x)\n",
    "y_mean = np.mean(y)\n",
    "numerator = sum((x_i - x_mean) * (y_i - y_mean) for x_i, y_i in zip(x, y))\n",
    "denominator = np.sqrt(sum((x_i - x_mean) ** 2 for x_i in x)) * np.sqrt(sum((y_i - y_mean) ** 2 for y_i in y))\n",
    "r = numerator / denominator\n",
    "\n",
    "print(f'표본상관계수 r: {r:.3f}')\n",
    "\n"
   ]
  },
  {
   "cell_type": "code",
   "execution_count": 1,
   "metadata": {},
   "outputs": [
    {
     "name": "stdout",
     "output_type": "stream",
     "text": [
      "표본상관계수 r: 0.347\n"
     ]
    }
   ],
   "source": [
    "import numpy as np\n",
    "\n",
    "x = np.array([2.4, 3.4, 4.6, 3.7, 2.2, 3.3, 4.0, 2.1])\n",
    "y = np.array([1.33, 2.12, 1.80, 1.65, 2.00, 1.76, 2.11, 1.63])\n",
    "\n",
    "r = np.corrcoef(x, y)[0, 1]\n",
    "\n",
    "print(f'표본상관계수 r: {r:.3f}')\n"
   ]
  }
 ],
 "metadata": {
  "kernelspec": {
   "display_name": "Python 3",
   "language": "python",
   "name": "python3"
  },
  "language_info": {
   "codemirror_mode": {
    "name": "ipython",
    "version": 3
   },
   "file_extension": ".py",
   "mimetype": "text/x-python",
   "name": "python",
   "nbconvert_exporter": "python",
   "pygments_lexer": "ipython3",
   "version": "3.10.6"
  },
  "orig_nbformat": 4
 },
 "nbformat": 4,
 "nbformat_minor": 2
}
