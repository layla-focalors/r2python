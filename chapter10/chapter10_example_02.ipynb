{
 "cells": [
  {
   "cell_type": "markdown",
   "metadata": {},
   "source": [
    "### 온도 변화에 따른 당분 변화율\n",
    "| x | 1.0 | 1.1 | 1.2 | 1.3 | 1.4 | 1.5 | 1.6 | 1.7  | 1.8 | 1.9 | 2.0  |\n",
    "|:-:|:---:|:---:|:---:|:---:|-----|-----|-----|------|-----|-----|------|\n",
    "| y | 8.1 |  7  | 8.5 | 9.8 | 9.5 | 8.9 | 8.6 | 10.2 | 9.3 | 9.2 | 10.5 |"
   ]
  },
  {
   "cell_type": "code",
   "execution_count": null,
   "metadata": {},
   "outputs": [],
   "source": [
    "# 연습문제 2 p337, node (3)\n",
    "\n",
    "# 어떤 공장에서 여러 수준의 온도 변화에 따른 당분으로 변환된 양을 측정한 데이터가 있을 때, 회귀직선을 추정하고 온도가 1.75일 때, 당분으로 변환된 양을 추정하시오"
   ]
  }
 ],
 "metadata": {
  "kernelspec": {
   "display_name": "Python 3",
   "language": "python",
   "name": "python3"
  },
  "language_info": {
   "name": "python",
   "version": "3.11.4"
  },
  "orig_nbformat": 4
 },
 "nbformat": 4,
 "nbformat_minor": 2
}
