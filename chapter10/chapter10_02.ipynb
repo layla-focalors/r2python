{
 "cells": [
  {
   "cell_type": "markdown",
   "metadata": {},
   "source": [
    "### 강우량에 따른 대기오염 제거정도\n",
    "|       강우량 (x)      | 4.3 | 4.5 | 5.9 | 5.6 | 6.1 | 5.2 | 3.8 | 2.1 | 7.5 |\n",
    "|:---------------------:|:---:|:---:|:---:|:---:|-----|-----|-----|-----|-----|\n",
    "| 대기오염 제거정도 (y) | 126 | 121 | 116 | 118 | 114 | 118 | 132 | 141 | 108 |"
   ]
  },
  {
   "cell_type": "code",
   "execution_count": 1,
   "metadata": {},
   "outputs": [
    {
     "name": "stdout",
     "output_type": "stream",
     "text": [
      "1. 상관계수 r : -0.9787\n",
      "2. 회귀직선의 방정식: y = 153.1755 ± -6.3240x\n",
      "3. 강우량이 5.8 일 때 대기오염 제거정도: 116.496\n"
     ]
    }
   ],
   "source": [
    "# 예제(10.3)\n",
    "\n",
    "# 다음과 같은 표를 이용하여 문제에 답하여라\n",
    "# 1. 상관계수 (r) 구하기\n",
    "# 2. 강우량에서 대기오염의 제거정도를 예측하기 위한 회귀직선의 방정식 구하기\n",
    "# 3. 강우량이 x = 5.8 일 떄, 대기오염 제거정도를 추정하라 ( 머신러닝 )\n",
    "\n",
    "import numpy as np\n",
    "\n",
    "x = [4.3, 4.5, 5.9, 5.6, 6.1, 5.2, 3.8, 2.1, 7.5]\n",
    "y = [126, 121, 116, 118, 114, 118, 132, 141, 108]\n",
    "\n",
    "x_mean = np.mean(x)\n",
    "y_mean = np.mean(y)\n",
    "numerator = sum((x_i - x_mean) * (y_i - y_mean) for x_i, y_i in zip(x, y))\n",
    "denominator = np.sqrt(sum((x_i - x_mean) ** 2 for x_i in x)) * np.sqrt(sum((y_i - y_mean) ** 2 for y_i in y))\n",
    "r = numerator / denominator\n",
    "\n",
    "print(f'1. 상관계수 r : {r:.4f}')\n",
    "b1 = sum((x_i - x_mean) * (y_i - y_mean) for x_i, y_i in zip(x, y)) / sum((x_i - x_mean) ** 2 for x_i in x)\n",
    "b0 = y_mean - b1 * x_mean\n",
    "print(f'2. 회귀직선의 방정식: y = {b0:.4f} ± {b1:.4f}x')\n",
    "x = 5.8 # 강우량 할당\n",
    "y_hat = b0 + b1 * x\n",
    "print(f'3. 강우량이 {x} 일 때 대기오염 제거정도: {y_hat:.3f}')\n",
    "\n"
   ]
  },
  {
   "cell_type": "code",
   "execution_count": 1,
   "metadata": {},
   "outputs": [
    {
     "name": "stdout",
     "output_type": "stream",
     "text": [
      "1. 상관계수 r : -0.9787\n",
      "2. 회귀직선의 방정식: y = 153.1755 ± -6.3240x\n",
      "3. 강우량이 5.8 일 때 대기오염 제거정도: 116.496\n"
     ]
    }
   ],
   "source": [
    "import numpy as np\n",
    "from scipy import stats\n",
    "\n",
    "x = np.array([4.3, 4.5, 5.9, 5.6, 6.1, 5.2, 3.8, 2.1, 7.5])\n",
    "y = np.array([126, 121, 116, 118, 114, 118, 132, 141, 108])\n",
    "\n",
    "# 1. 상관계수 계산\n",
    "r, _ = stats.pearsonr(x, y)\n",
    "print(f'1. 상관계수 r : {r:.4f}')\n",
    "\n",
    "# 2. 회귀직선의 방정식 계산\n",
    "b1, b0, _, _, _ = stats.linregress(x, y)\n",
    "print(f'2. 회귀직선의 방정식: y = {b0:.4f} ± {b1:.4f}x')\n",
    "\n",
    "# 3. 강우량이 x = 5.8 일 때 대기오염 제거정도 추정\n",
    "x = 5.8\n",
    "y_hat = b0 + b1 * x\n",
    "print(f'3. 강우량이 {x} 일 때 대기오염 제거정도: {y_hat:.3f}')\n"
   ]
  }
 ],
 "metadata": {
  "kernelspec": {
   "display_name": "Python 3",
   "language": "python",
   "name": "python3"
  },
  "language_info": {
   "codemirror_mode": {
    "name": "ipython",
    "version": 3
   },
   "file_extension": ".py",
   "mimetype": "text/x-python",
   "name": "python",
   "nbconvert_exporter": "python",
   "pygments_lexer": "ipython3",
   "version": "3.10.0"
  },
  "orig_nbformat": 4
 },
 "nbformat": 4,
 "nbformat_minor": 2
}
