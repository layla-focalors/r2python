{
 "cells": [
  {
   "cell_type": "markdown",
   "metadata": {},
   "source": [
    "### TV 시간과 성적\n",
    "| TV 시간 (x) |  12 |  21 |  8  |  20 | 16  | 16  | 24  | 0   | 11  | 18  |\n",
    "|:-----------:|:---:|:---:|:---:|:---:|-----|-----|-----|-----|-----|-----|\n",
    "|   성적 (y)  | 3.1 | 2.3 | 3.5 | 2.5 | 3.0 | 2.6 | 2.1 | 3.8 | 2.9 | 2.6 |"
   ]
  },
  {
   "cell_type": "code",
   "execution_count": 2,
   "metadata": {},
   "outputs": [
    {
     "name": "stdout",
     "output_type": "stream",
     "text": [
      "최소 제곱법 선: y = 3.8916 + x = -0.0720\n",
      "실제 기울기의 95% 신뢰구간: -0.0720 ± 0.0166\n"
     ]
    }
   ],
   "source": [
    "# 예제(10.15)\n",
    "\n",
    "# 10명의 고등학생으로부터 TV 시청 시간과 성적을 조사한 결과를 다음과 같이 나타내었다. 최소 제곱법 선을 구하고 실제 기울기의 95% 신뢰구간을 구하여라\n",
    "\n",
    "import numpy as np\n",
    "from scipy import stats\n",
    "\n",
    "x = [12, 21, 8, 20, 16, 16, 24, 0, 11, 18]\n",
    "y = [3.1, 2.3, 3.5, 2.5, 3.0, 2.6, 2.1, 3.8, 2.9, 2.6]\n",
    "alpha  = 0.05\n",
    "\n",
    "x_mean = np.mean(x)\n",
    "y_mean = np.mean(y)\n",
    "b1 = sum((x_i - x_mean) * (y_i - y_mean) for x_i, y_i in zip(x, y)) / sum((x_i - x_mean) ** 2 for x_i in x)\n",
    "b0 = y_mean - b1 * x_mean\n",
    "\n",
    "n = len(x)\n",
    "df = n - 2\n",
    "t = stats.t.ppf(1 - alpha / 2, df)\n",
    "sse = sum((y_i - (b0 + b1 * x_i)) ** 2 for x_i, y_i in zip(x, y))\n",
    "s2 = sse / df\n",
    "x_mean = np.mean(x)\n",
    "s_b1 = np.sqrt(s2 / sum((x_i - x_mean) ** 2 for x_i in x))\n",
    "lower = abs(b1 + t * s_b1)\n",
    "upper = abs(b1 - t * s_b1)\n",
    "\n",
    "print(f'최소 제곱법 선: y = {b0:.4f} + x = {b1:.4f}')\n",
    "print(f'실제 기울기의 95% 신뢰구간: {b1:.4f} ± {t * s_b1:.4f}')"
   ]
  },
  {
   "cell_type": "code",
   "execution_count": 1,
   "metadata": {},
   "outputs": [
    {
     "name": "stdout",
     "output_type": "stream",
     "text": [
      "최소 제곱법 선: y = 3.8916 + x = -0.0720\n",
      "실제 기울기의 95% 신뢰구간: -0.0720 ± 0.0166\n"
     ]
    }
   ],
   "source": [
    "import numpy as np\n",
    "from scipy import stats\n",
    "\n",
    "x = np.array([12, 21, 8, 20, 16, 16, 24, 0, 11, 18])\n",
    "y = np.array([3.1, 2.3, 3.5, 2.5, 3.0, 2.6, 2.1, 3.8, 2.9, 2.6])\n",
    "alpha  = 0.05\n",
    "\n",
    "# 회귀직선의 방정식 계산\n",
    "slope, intercept, _, _, stderr = stats.linregress(x, y)\n",
    "\n",
    "# t-분포의 임계값 계산\n",
    "df = len(x) - 2\n",
    "t = stats.t.ppf(1 - alpha / 2, df)\n",
    "\n",
    "# 신뢰구간 계산\n",
    "lower = slope - t * stderr\n",
    "upper = slope + t * stderr\n",
    "\n",
    "print(f'최소 제곱법 선: y = {intercept:.4f} + x = {slope:.4f}')\n",
    "print(f'실제 기울기의 95% 신뢰구간: {slope:.4f} ± {t * stderr:.4f}')\n"
   ]
  },
  {
   "cell_type": "code",
   "execution_count": null,
   "metadata": {},
   "outputs": [],
   "source": [
    "# 예제(10.15)\n",
    "import numpy as np\n",
    "from scipy import stats\n",
    "\n",
    "x = [12, 21, 8, 20, 16, 16, 24, 0, 11, 18]\n",
    "y = [3.1, 2.3, 3.5, 2.5, 3.0, 2.6, 2.1, 3.8, 2.9, 2.6]\n",
    "alpha  = 0.05\n",
    "\n",
    "x_mean = np.mean(x)\n",
    "y_mean = np.mean(y)\n",
    "b1 = sum((x_i - x_mean) * (y_i - y_mean) for x_i, y_i in zip(x, y)) / sum((x_i - x_mean) ** 2 for x_i in x)\n",
    "b0 = y_mean - b1 * x_mean\n",
    "\n",
    "n = len(x)\n",
    "df = n - 2\n",
    "t = stats.t.ppf(1 - alpha / 2, df)\n",
    "sse = sum((y_i - (b0 + b1 * x_i)) ** 2 for x_i, y_i in zip(x, y))\n",
    "s2 = sse / df\n",
    "x_mean = np.mean(x)\n",
    "s_b1 = np.sqrt(s2 / sum((x_i - x_mean) ** 2 for x_i in x))\n",
    "lower = abs(b1 + t * s_b1)\n",
    "upper = abs(b1 - t * s_b1)\n",
    "\n",
    "print(f'최소 제곱법 선: y = {b0:.4f} + x = {b1:.4f}')\n",
    "print(f'실제 기울기의 95% 신뢰구간: {b1:.4f} ± {t * s_b1:.4f}')"
   ]
  }
 ],
 "metadata": {
  "kernelspec": {
   "display_name": "Python 3",
   "language": "python",
   "name": "python3"
  },
  "language_info": {
   "codemirror_mode": {
    "name": "ipython",
    "version": 3
   },
   "file_extension": ".py",
   "mimetype": "text/x-python",
   "name": "python",
   "nbconvert_exporter": "python",
   "pygments_lexer": "ipython3",
   "version": "3.10.0"
  },
  "orig_nbformat": 4
 },
 "nbformat": 4,
 "nbformat_minor": 2
}
