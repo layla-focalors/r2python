{
 "cells": [
  {
   "cell_type": "markdown",
   "metadata": {},
   "source": [
    "### 온도 변화에 따른 당분 변화율\n",
    "| x | 1.0 | 1.1 | 1.2 | 1.3 | 1.4 | 1.5 | 1.6 | 1.7  | 1.8 | 1.9 | 2.0  |\n",
    "|:-:|:---:|:---:|:---:|:---:|-----|-----|-----|------|-----|-----|------|\n",
    "| y | 8.1 |  7  | 8.5 | 9.8 | 9.5 | 8.9 | 8.6 | 10.2 | 9.3 | 9.2 | 10.5 |"
   ]
  },
  {
   "cell_type": "code",
   "execution_count": 4,
   "metadata": {},
   "outputs": [
    {
     "name": "stdout",
     "output_type": "stream",
     "text": [
      "1. 회귀직선을 추정하라\n",
      "회귀직선: y = 5.90 + 2.10x\n",
      "\n",
      "2. 온도가 1.75일 때, 당분으로 변환된 양을 추정하라\n",
      "온도가 1.75일 때 당분으로 변환된 양: 9.58\n",
      "\n",
      "3. s(e)^2을 구하라\n",
      "s(2)^2: 0.5107\n",
      "\n",
      "beta의 95% 신뢰구간: [0.4833 < beta < 3.7167]\n"
     ]
    }
   ],
   "source": [
    "# 연습문제 4 p338, node (7)\n",
    "\n",
    "# 어떤 공장에서 여러 수준의 온도 변화에 따른 당분으로 변환된 양을 측정한 데이터가 있을 때, 회귀직선을 추정하고 온도가 1.75일 때, 당분으로 변환된 양을 추정하시오\n",
    "\n",
    "# [ 조건 ]\n",
    "# 1. 회귀직선을 추정하라\n",
    "# 2. 온도가 1.75일 때, 당분으로 변환된 양을 추정하라\n",
    "# 3. s(2)^2을 구하라\n",
    "# 4. beta의 95% 신뢰구간을 구하라\n",
    "\n",
    "import numpy as np\n",
    "from scipy import stats\n",
    "\n",
    "x = np.array([1.0, 1.1, 1.2, 1.3, 1.4, 1.5, 1.6, 1.7, 1.8, 1.9, 2.0])\n",
    "y = np.array([8.1, 7, 8.5, 9.8, 9.5, 8.9, 8.6, 10.2, 9.3, 9.2, 10.5])\n",
    "\n",
    "# 회귀직선 추정\n",
    "print('1. 회귀직선을 추정하라')\n",
    "slope, intercept, r_value, p_value, std_err = stats.linregress(x,y)\n",
    "print(f'회귀직선: y = {intercept:.2f} + {slope:.2f}x')\n",
    "\n",
    "# 온도가 1.75일 때 당분으로 변환된 양 추정\n",
    "print('\\n2. 온도가 1.75일 때, 당분으로 변환된 양을 추정하라')\n",
    "y_pred = intercept + slope * 1.75\n",
    "print(f'온도가 1.75일 때 당분으로 변환된 양: {y_pred:.2f}')\n",
    "\n",
    "# s(2)^2 계산\n",
    "SE_2 = std_err**2\n",
    "print('\\n3. s(e)^2을 구하라')\n",
    "print(f's(2)^2: {SE_2:.4f}')\n",
    "\n",
    "# beta의 95% 신뢰구간 계산\n",
    "n = len(x)\n",
    "t_critical = stats.t.ppf(0.975, n-2)\n",
    "lower_bound = slope - t_critical * std_err\n",
    "upper_bound = slope + t_critical * std_err\n",
    "print(f'\\nbeta의 95% 신뢰구간: [{lower_bound:.4f} < beta < {upper_bound:.4f}]')"
   ]
  }
 ],
 "metadata": {
  "kernelspec": {
   "display_name": "Python 3",
   "language": "python",
   "name": "python3"
  },
  "language_info": {
   "codemirror_mode": {
    "name": "ipython",
    "version": 3
   },
   "file_extension": ".py",
   "mimetype": "text/x-python",
   "name": "python",
   "nbconvert_exporter": "python",
   "pygments_lexer": "ipython3",
   "version": "3.11.4"
  },
  "orig_nbformat": 4
 },
 "nbformat": 4,
 "nbformat_minor": 2
}
