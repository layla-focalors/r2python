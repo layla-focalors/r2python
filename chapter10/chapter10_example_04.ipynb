{
 "cells": [
  {
   "cell_type": "markdown",
   "metadata": {},
   "source": [
    "### 온도 변화에 따른 당분 변화율\n",
    "| x | 1.0 | 1.1 | 1.2 | 1.3 | 1.4 | 1.5 | 1.6 | 1.7  | 1.8 | 1.9 | 2.0  |\n",
    "|:-:|:---:|:---:|:---:|:---:|-----|-----|-----|------|-----|-----|------|\n",
    "| y | 8.1 |  7  | 8.5 | 9.8 | 9.5 | 8.9 | 8.6 | 10.2 | 9.3 | 9.2 | 10.5 |"
   ]
  },
  {
   "cell_type": "code",
   "execution_count": 8,
   "metadata": {},
   "outputs": [
    {
     "name": "stdout",
     "output_type": "stream",
     "text": [
      "1. 회귀직선을 추정하라\n",
      "회귀직선: y = 5.9045 + 2.1000x\n",
      "\n",
      "2. 온도가 1.75일 때, 당분으로 변환된 양을 추정하라\n",
      "온도가 1.75 일 때 당분으로 변환된 양: 9.58\n",
      "\n",
      "3. s(e)^2을 구하라\n",
      "전차 제곱합 S(e)^2 :  5.05627272727273\n",
      "\n",
      "4. beta의 95% 신뢰구간을 구하라\n",
      "95% 신뢰구간 : ( 0.322  < x <  3.878 )\n"
     ]
    }
   ],
   "source": [
    "# 연습문제 4 p338, node (7)\n",
    "\n",
    "# 어떤 공장에서 여러 수준의 온도 변화에 따른 당분으로 변환된 양을 측정한 데이터가 있을 때, 회귀직선을 추정하고 온도가 1.75일 때, 당분으로 변환된 양을 추정하시오\n",
    "\n",
    "# [ 조건 ]\n",
    "# 1. 회귀직선을 추정하라\n",
    "# 2. 온도가 1.75일 때, 당분으로 변환된 양을 추정하라\n",
    "# 3. s(2)^2을 구하라\n",
    "# 4. beta의 95% 신뢰구간을 구하라\n",
    "\n",
    "import numpy as np\n",
    "from scipy import stats\n",
    "from sklearn.linear_model import LinearRegression\n",
    "\n",
    "x = [1.0, 1.1, 1.2, 1.3, 1.4, 1.5, 1.6, 1.7, 1.8, 1.9, 2.0]\n",
    "y = [8.1, 7, 8.5, 9.8, 9.5, 8.9, 8.6, 10.2, 9.3, 9.2, 10.5]\n",
    "\n",
    "x_new = 1.75\n",
    "\n",
    "x_mean = np.mean(x)\n",
    "y_mean = np.mean(y)\n",
    "b1 = sum((x_i - x_mean) * (y_i - y_mean) for x_i, y_i in zip(x, y)) / sum((x_i - x_mean) ** 2 for x_i in x)\n",
    "b0 = y_mean - b1 * x_mean\n",
    "\n",
    "y_hat = b0 + b1 * x_new\n",
    "\n",
    "print('1. 회귀직선을 추정하라')\n",
    "print(f'회귀직선: y = {b0:.4f} + {b1:.4f}x\\n')\n",
    "print('2. 온도가 1.75일 때, 당분으로 변환된 양을 추정하라')\n",
    "print(f'온도가 {x_new} 일 때 당분으로 변환된 양: {y_hat:.2f}\\n')\n",
    "\n",
    "x = np.array(x).reshape(-1, 1)\n",
    "y = np.array(y).reshape(-1, 1)\n",
    "model = LinearRegression()\n",
    "model.fit(x, y)\n",
    "\n",
    "y_pred = model.predict(x)\n",
    "residuals = y - y_pred\n",
    "residual_sum_of_squares = np.sum(residuals**2)\n",
    "s2 = residual_sum_of_squares / (len(y) - 2)\n",
    "\n",
    "print('3. s(e)^2을 구하라')\n",
    "print(\"전차 제곱합 S(e)^2 : \", residual_sum_of_squares)\n",
    "print('\\n4. beta의 95% 신뢰구간을 구하라')\n",
    "\n",
    "standard_error = np.sqrt(s2) * np.sqrt(np.sum((x - np.mean(x))**2))\n",
    "t_critical = stats.t.ppf(1 - 0.05/2, df=len(y)-2)\n",
    "\n",
    "lower_bound = model.coef_[0] - t_critical * standard_error\n",
    "upper_bound = model.coef_[0] + t_critical * standard_error\n",
    "\n",
    "print(\"95% 신뢰구간 : (\", round((float(lower_bound)), 3), \" < x < \", round((float(upper_bound)), 3), \")\")\n",
    "# np.array의 경우 __round__를 사용할 수 없어 float로 1차 변환 "
   ]
  }
 ],
 "metadata": {
  "kernelspec": {
   "display_name": "Python 3",
   "language": "python",
   "name": "python3"
  },
  "language_info": {
   "codemirror_mode": {
    "name": "ipython",
    "version": 3
   },
   "file_extension": ".py",
   "mimetype": "text/x-python",
   "name": "python",
   "nbconvert_exporter": "python",
   "pygments_lexer": "ipython3",
   "version": "3.11.4"
  },
  "orig_nbformat": 4
 },
 "nbformat": 4,
 "nbformat_minor": 2
}
