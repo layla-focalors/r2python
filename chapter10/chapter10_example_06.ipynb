{
 "cells": [
  {
   "cell_type": "markdown",
   "metadata": {},
   "source": [
    "### 잠과 수학점수의 상관관계\n",
    "| 잠(시간) (x) |  4  |  2  |  9  |  8  | 14  | 2   | 11  | 14  | 7   | 4   | 1   | 9   | 9   | 10  | 5   |\n",
    "|:------------:|:---:|:---:|:---:|:---:|-----|-----|-----|-----|-----|-----|-----|-----|-----|-----|-----|\n",
    "| 수학점수 (y) | 423 | 520 | 550 | 309 | 690 | 401 | 470 | 582 | 284 | 440 | 452 | 568 | 339 | 355 | 472 |"
   ]
  },
  {
   "cell_type": "code",
   "execution_count": 5,
   "metadata": {},
   "outputs": [
    {
     "name": "stdout",
     "output_type": "stream",
     "text": [
      "1. 회귀직선식을 구하시오\n",
      "Intercept:  385.39\n",
      "Coefficient:  9.855\n",
      "\n",
      "2. beta의 95% 구간추정치를 구하시오\n",
      "beta의 95% 구간추정치 : ( -3636.206 , 3655.915 )\n",
      "p-value는 0.9954로, 유의 수준 0.05보다 크거나 같다.\n",
      "따라서 귀무 가설을 기각할 수 없음\n"
     ]
    }
   ],
   "source": [
    "# 연습문제 6 p341, node (13)\n",
    "\n",
    "# 데이터를 보고 물음에 답하라!\n",
    "\n",
    "# [ 조건 ]\n",
    "# 1. 회귀직선식을 구하시오\n",
    "# 2. 95%의 beta의 구간추정치를 구하시오\n",
    "# 3. 회귀직선의 기울기에 대한 유의성 검정을 수행하시오\n",
    "\n",
    "import numpy as np\n",
    "from scipy import stats\n",
    "from sklearn.linear_model import LinearRegression\n",
    "\n",
    "X = np.array([4, 2, 9, 8, 14, 2, 11, 14, 7, 4, 1, 9, 9, 10, 5]).reshape(-1, 1)\n",
    "Y = np.array([423, 520, 550, 309, 690, 401, 470, 582, 284, 440, 452, 568, 339, 355, 472])\n",
    "\n",
    "model = LinearRegression()\n",
    "model.fit(X,Y)\n",
    "\n",
    "print('1. 회귀직선식을 구하시오')\n",
    "print(\"Intercept: \", round((model.intercept_), 3))\n",
    "print(\"Coefficient: \", round((model.coef_[0]), 3))\n",
    "\n",
    "Y_pred = model.predict(X)\n",
    "residuals = Y - Y_pred\n",
    "residual_sum_of_squares = np.sum(residuals**2)\n",
    "s2 = residual_sum_of_squares / (len(Y) -2)\n",
    "\n",
    "standard_error = np.sqrt(s2) * np.sqrt(np.sum((X - np.mean(X))**2))\n",
    "t_critical = stats.t.ppf(1 -0.05/2 , df=len(Y)-2)\n",
    "\n",
    "lower_bound = model.coef_[0] - t_critical * standard_error\n",
    "upper_bound = model.coef_[0] + t_critical * standard_error\n",
    "\n",
    "print('\\n2. beta의 95% 구간추정치를 구하시오')\n",
    "print(\"beta의 95% 구간추정치 : (\", round((lower_bound), 3),\",\", round((upper_bound), 3) ,\")\")\n",
    "\n",
    "t_statistic = model.coef_[0] / (np.sqrt(s2) * np.sqrt(np.sum((X - np.mean(X))**2)))\n",
    "p_value = 2 * (1 - stats.t.cdf(abs(t_statistic), df=len(Y)-2))\n",
    "\n",
    "print('\\n3. 회귀직선의 기울기에 대한 유의성 검정을 수행하시오')\n",
    "alpha = 0.05\n",
    "if p_value < alpha:   \n",
    "    print(f\"p-value는 {p_value:.4f}로, 유의 수준 {alpha}보다 작다.\\n따라서 귀무 가설을 기각한다.\")    \n",
    "else:\n",
    "    print(f\"p-value는 {p_value:.4f}로, 유의 수준 {alpha}보다 크거나 같다.\\n따라서 귀무 가설을 기각할 수 없음\") \n",
    "\n"
   ]
  }
 ],
 "metadata": {
  "kernelspec": {
   "display_name": "Python 3",
   "language": "python",
   "name": "python3"
  },
  "language_info": {
   "codemirror_mode": {
    "name": "ipython",
    "version": 3
   },
   "file_extension": ".py",
   "mimetype": "text/x-python",
   "name": "python",
   "nbconvert_exporter": "python",
   "pygments_lexer": "ipython3",
   "version": "3.11.4"
  },
  "orig_nbformat": 4
 },
 "nbformat": 4,
 "nbformat_minor": 2
}
