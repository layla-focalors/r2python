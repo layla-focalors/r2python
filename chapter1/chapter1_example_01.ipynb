{
 "cells": [
  {
   "cell_type": "code",
   "execution_count": 3,
   "metadata": {},
   "outputs": [
    {
     "data": {
      "text/plain": [
       "A     18\n",
       "O     16\n",
       "B      4\n",
       "AB     2\n",
       "Name: count, dtype: int64"
      ]
     },
     "execution_count": 3,
     "metadata": {},
     "output_type": "execute_result"
    }
   ],
   "source": [
    "import Haagentus.cian as cian\n",
    "\n",
    "blood = ['O', 'O', 'A', 'B', 'A', 'O', 'A', 'A', 'A', 'O', 'B', 'O', 'B', 'O', 'O', 'A', 'O', 'O', 'A', 'A', 'A', 'A', 'AB', 'A', 'B', 'A', 'A', 'O', 'O', 'A', 'O', 'O', 'A', 'A', 'A', 'O', 'A', 'O', 'O', 'AB']\n",
    "\n",
    "cian.table(blood)"
   ]
  },
  {
   "cell_type": "code",
   "execution_count": 1,
   "metadata": {},
   "outputs": [
    {
     "data": {
      "text/plain": [
       "A     18\n",
       "O     16\n",
       "B      4\n",
       "AB     2\n",
       "Name: count, dtype: int64"
      ]
     },
     "execution_count": 1,
     "metadata": {},
     "output_type": "execute_result"
    }
   ],
   "source": [
    "# 연습문제 1, p39\n",
    "import pandas as pd\n",
    "\n",
    "# 데이터 입력\n",
    "blood = ['O', 'O', 'A', 'B', 'A', 'O', 'A', 'A', 'A', 'O', 'B', 'O', 'B', 'O', 'O', 'A', 'O', 'O', 'A', 'A', 'A', 'A', 'AB', 'A', 'B', 'A', 'A', 'O', 'O', 'A', 'O', 'O', 'A', 'A', 'A', 'O', 'A', 'O', 'O', 'AB']\n",
    "\n",
    "# 데이터프레임으로 개수 구하기\n",
    "pd.Series(blood).value_counts()"
   ]
  },
  {
   "cell_type": "code",
   "execution_count": 3,
   "metadata": {},
   "outputs": [
    {
     "name": "stdout",
     "output_type": "stream",
     "text": [
      "['c:\\\\Users\\\\starl\\\\Documents\\\\focalors\\\\r2python\\\\chapter1', 'c:\\\\Users\\\\starl\\\\AppData\\\\Local\\\\Programs\\\\Python\\\\Python310\\\\python310.zip', 'c:\\\\Users\\\\starl\\\\AppData\\\\Local\\\\Programs\\\\Python\\\\Python310\\\\DLLs', 'c:\\\\Users\\\\starl\\\\AppData\\\\Local\\\\Programs\\\\Python\\\\Python310\\\\lib', 'c:\\\\Users\\\\starl\\\\AppData\\\\Local\\\\Programs\\\\Python\\\\Python310', '', 'c:\\\\Users\\\\starl\\\\AppData\\\\Local\\\\Programs\\\\Python\\\\Python310\\\\lib\\\\site-packages', 'c:\\\\Users\\\\starl\\\\AppData\\\\Local\\\\Programs\\\\Python\\\\Python310\\\\lib\\\\site-packages\\\\win32', 'c:\\\\Users\\\\starl\\\\AppData\\\\Local\\\\Programs\\\\Python\\\\Python310\\\\lib\\\\site-packages\\\\win32\\\\lib', 'c:\\\\Users\\\\starl\\\\AppData\\\\Local\\\\Programs\\\\Python\\\\Python310\\\\lib\\\\site-packages\\\\Pythonwin']\n",
      "['c:\\\\Users\\\\starl\\\\Documents\\\\focalors\\\\r2python\\\\chapter1', 'c:\\\\Users\\\\starl\\\\AppData\\\\Local\\\\Programs\\\\Python\\\\Python310\\\\python310.zip', 'c:\\\\Users\\\\starl\\\\AppData\\\\Local\\\\Programs\\\\Python\\\\Python310\\\\DLLs', 'c:\\\\Users\\\\starl\\\\AppData\\\\Local\\\\Programs\\\\Python\\\\Python310\\\\lib', 'c:\\\\Users\\\\starl\\\\AppData\\\\Local\\\\Programs\\\\Python\\\\Python310', '', 'c:\\\\Users\\\\starl\\\\AppData\\\\Local\\\\Programs\\\\Python\\\\Python310\\\\lib\\\\site-packages', 'c:\\\\Users\\\\starl\\\\AppData\\\\Local\\\\Programs\\\\Python\\\\Python310\\\\lib\\\\site-packages\\\\win32', 'c:\\\\Users\\\\starl\\\\AppData\\\\Local\\\\Programs\\\\Python\\\\Python310\\\\lib\\\\site-packages\\\\win32\\\\lib', 'c:\\\\Users\\\\starl\\\\AppData\\\\Local\\\\Programs\\\\Python\\\\Python310\\\\lib\\\\site-packages\\\\Pythonwin', 'C:\\\\Users\\\\starl\\\\Documents\\\\focalors\\\\r2python']\n"
     ]
    }
   ],
   "source": [
    "import sys\n",
    "print(sys.path)\n",
    "sys.path.append('C:\\\\Users\\\\starl\\\\Documents\\\\focalors\\\\r2python')\n",
    "print(sys.path)"
   ]
  },
  {
   "cell_type": "code",
   "execution_count": 4,
   "metadata": {},
   "outputs": [
    {
     "data": {
      "text/plain": [
       "9.4    2\n",
       "3.1    2\n",
       "1.6    2\n",
       "1.1    2\n",
       "8.9    2\n",
       "8.4    2\n",
       "6.5    2\n",
       "8.8    1\n",
       "3.5    1\n",
       "4.3    1\n",
       "3.3    1\n",
       "5.9    1\n",
       "9.7    1\n",
       "8.2    1\n",
       "4.1    1\n",
       "5.0    1\n",
       "6.4    1\n",
       "7.7    1\n",
       "1.3    1\n",
       "4.5    1\n",
       "7.6    1\n",
       "6.3    1\n",
       "5.3    1\n",
       "2.8    1\n",
       "9.2    1\n",
       "6.7    1\n",
       "7.3    1\n",
       "7.2    1\n",
       "4.0    1\n",
       "2.1    1\n",
       "1.2    1\n",
       "1.7    1\n",
       "9.8    1\n",
       "7.4    1\n",
       "2.7    1\n",
       "Name: count, dtype: int64"
      ]
     },
     "execution_count": 4,
     "metadata": {},
     "output_type": "execute_result"
    }
   ],
   "source": [
    "import Haagentus.cian as cian\n",
    "\n",
    "dataset = [5.9, 5.3, 1.6, 7.4, 9.8, 1.7, 8.9, 1.2, 2.1, 4.0, 6.5, 7.2, 7.3, 8.4, 8.9, 6.7, 9.2, 2.8, 4.5, 6.3, 7.6, 9.7, 9.4, 8.8, 3.5, 1.1, 4.3, 3.3, 3.1, 1.3, 8.4, 1.6, 8.2, 6.5, 4.1, 3.1, 1.1, 5.0, 9.4, 6.4, 7.7, 2.7]\n",
    "cian.table(dataset)"
   ]
  },
  {
   "cell_type": "code",
   "execution_count": 1,
   "metadata": {},
   "outputs": [
    {
     "name": "stderr",
     "output_type": "stream",
     "text": [
      "C:\\Users\\starl\\AppData\\Local\\Temp\\ipykernel_19728\\933365533.py:1: DeprecationWarning: \n",
      "Pyarrow will become a required dependency of pandas in the next major release of pandas (pandas 3.0),\n",
      "(to allow more performant data types, such as the Arrow string type, and better interoperability with other libraries)\n",
      "but was not found to be installed on your system.\n",
      "If this would cause problems for you,\n",
      "please provide us feedback at https://github.com/pandas-dev/pandas/issues/54466\n",
      "        \n",
      "  import pandas as pd\n"
     ]
    },
    {
     "name": "stdout",
     "output_type": "stream",
     "text": [
      "(1.09, 1.97]    7\n",
      "(1.97, 2.84]    3\n",
      "(2.84, 3.71]    4\n",
      "(3.71, 4.58]    4\n",
      "(4.58, 5.45]    2\n",
      "(5.45, 6.32]    2\n",
      "(6.32, 7.19]    4\n",
      "(7.19, 8.06]    5\n",
      "(8.06, 8.93]    6\n",
      "(8.93, 9.8]     5\n",
      "Name: count, dtype: int64\n"
     ]
    },
    {
     "data": {
      "image/png": "[encoded data removed]",
      "text/plain": [
       "<Figure size 640x480 with 1 Axes>"
      ]
     },
     "metadata": {},
     "output_type": "display_data"
    },
    {
     "name": "stdout",
     "output_type": "stream",
     "text": [
      "신호등을 통과하는데 5분 이상 소요된 경우는 57.14285714285714% 입니다.\n"
     ]
    }
   ],
   "source": [
    "import pandas as pd\n",
    "import matplotlib.pyplot as plt\n",
    "\n",
    "dataset = [5.9, 5.3, 1.6, 7.4, 9.8, 1.7, 8.9, 1.2, 2.1, 4.0, 6.5, 7.2, 7.3, 8.4, 8.9, 6.7, 9.2, 2.8, 4.5, 6.3, 7.6, 9.7, 9.4, 8.8, 3.5, 1.1, 4.3, 3.3, 3.1, 1.3, 8.4, 1.6, 8.2, 6.5, 4.1, 3.1, 1.1, 5.0, 9.4, 6.4, 7.7, 2.7]\n",
    "df = pd.DataFrame(dataset, columns=['Data'])\n",
    "\n",
    "frequency = df['Data'].value_counts(bins=10, sort=False)\n",
    "print(frequency)\n",
    "\n",
    "plt.bar(frequency.index.astype(str), frequency.values)\n",
    "plt.xlabel('Bins')\n",
    "plt.ylabel('Frequency')\n",
    "plt.title('Histogram of Data')\n",
    "plt.show()\n",
    "\n",
    "over_5_min = len([data for data in dataset if data >= 5])\n",
    "percentage = (over_5_min / len(dataset)) * 100\n",
    "print(f\"신호등을 통과하는데 5분 이상 소요된 경우는 {percentage}% 입니다.\")\n",
    "\n"
   ]
  }
 ],
 "metadata": {
  "kernelspec": {
   "display_name": "Python 3",
   "language": "python",
   "name": "python3"
  },
  "language_info": {
   "codemirror_mode": {
    "name": "ipython",
    "version": 3
   },
   "file_extension": ".py",
   "mimetype": "text/x-python",
   "name": "python",
   "nbconvert_exporter": "python",
   "pygments_lexer": "ipython3",
   "version": "3.10.6"
  },
  "orig_nbformat": 4
 },
 "nbformat": 4,
 "nbformat_minor": 2
}
