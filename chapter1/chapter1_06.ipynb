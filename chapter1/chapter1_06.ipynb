{
 "cells": [
  {
   "cell_type": "code",
   "execution_count": 4,
   "metadata": {},
   "outputs": [
    {
     "name": "stdout",
     "output_type": "stream",
     "text": [
      "평균 : 39.2\n",
      "분산 : 8.963636363636363\n",
      "표준편차 : 2.9939332597164494\n"
     ]
    }
   ],
   "source": [
    "# 예제 (1.14) , p33\n",
    "from statistics import *\n",
    "\n",
    "work_time = [45, 43, 41, 39, 39, 35, 37, 40, 39, 36, 37]\n",
    "\n",
    "print(f\"평균 : {round(mean(work_time),1)}\")\n",
    "print(f\"분산 : {variance(work_time)}\")\n",
    "print(f\"표준편차 : {stdev(work_time)}\")\n",
    "# 평균은 round 함수 이용 소수점 첫째자리까지 표시/반올림, 분산, 표준편차는 전부 표시\n"
   ]
  }
 ],
 "metadata": {
  "kernelspec": {
   "display_name": "Python 3",
   "language": "python",
   "name": "python3"
  },
  "language_info": {
   "codemirror_mode": {
    "name": "ipython",
    "version": 3
   },
   "file_extension": ".py",
   "mimetype": "text/x-python",
   "name": "python",
   "nbconvert_exporter": "python",
   "pygments_lexer": "ipython3",
   "version": "3.11.4"
  },
  "orig_nbformat": 4
 },
 "nbformat": 4,
 "nbformat_minor": 2
}
