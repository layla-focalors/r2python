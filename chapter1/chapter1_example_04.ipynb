{
 "cells": [
  {
   "cell_type": "code",
   "execution_count": null,
   "metadata": {},
   "outputs": [],
   "source": [
    "# 연습문제 4, p40\n",
    "\n",
    "import stemgraphic\n",
    "\n",
    "value = [20, 18, 25, 26, 17, 14, 20, 40, 18, 15, 22, 15, 17, 25, 22, 12, 52, 27, 24, 41, 34, 20, 17, 20, 19, 20, 16, 20, 15, 34, 22, 29, 29, 34, 27, 13, 6, 24, 47, 32, 12, 17, 36, 35, 41, 36, 32, 46, 30, 51]\n",
    "# 데이터 입력\n",
    "\n",
    "stemgraphic.stem_graphic(value, scale=10)\n",
    "# 데이터 출력"
   ]
  }
 ],
 "metadata": {
  "kernelspec": {
   "display_name": "Python 3",
   "language": "python",
   "name": "python3"
  },
  "language_info": {
   "name": "python",
   "version": "3.11.4"
  },
  "orig_nbformat": 4
 },
 "nbformat": 4,
 "nbformat_minor": 2
}
