{
 "cells": [
  {
   "cell_type": "code",
   "execution_count": null,
   "metadata": {},
   "outputs": [],
   "source": [
    "# 추가문제 - 설문조사 #18, p45\n",
    "# 다음은 직장인 10명의 수입과 교육받은 기간을 조사한 자료이다.\n",
    "# 산점도와 상관계수를 구하고, 수입과 교육기간 사이에 어떤 상관관계가 있는지 설명하시오.\n",
    "import matplotlib.pyplot as plt\n",
    "\n",
    "income = [121, 99, 41, 35, 40, 29, 35, 24, 50, 60]\n",
    "learning_time = [19, 20, 16, 16, 18, 12, 14, 12, 16, 17]\n",
    "\n",
    "plt.scatter(income, learning_time)\n",
    "plt.show()\n"
   ]
  },
  {
   "cell_type": "code",
   "execution_count": 2,
   "metadata": {},
   "outputs": [
    {
     "name": "stdout",
     "output_type": "stream",
     "text": [
      "상관계수 :  0.7929108499207451\n",
      "p-value :  0.006214330947635322\n"
     ]
    }
   ],
   "source": [
    "# 추가문제 - 설문조사 #18.1, p45\n",
    "from scipy import stats\n",
    "\n",
    "income = [121, 99, 41, 35, 40, 29, 35, 24, 50, 60]\n",
    "learning_time = [19, 20, 16, 16, 18, 12, 14, 12, 16, 17]\n",
    "\n",
    "values = stats.pearsonr(income, learning_time)\n",
    "print(\"상관계수 : \", values[0])\n",
    "print(\"p-value : \", values[1])"
   ]
  }
 ],
 "metadata": {
  "kernelspec": {
   "display_name": "Python 3",
   "language": "python",
   "name": "python3"
  },
  "language_info": {
   "codemirror_mode": {
    "name": "ipython",
    "version": 3
   },
   "file_extension": ".py",
   "mimetype": "text/x-python",
   "name": "python",
   "nbconvert_exporter": "python",
   "pygments_lexer": "ipython3",
   "version": "3.11.4"
  },
  "orig_nbformat": 4
 },
 "nbformat": 4,
 "nbformat_minor": 2
}
