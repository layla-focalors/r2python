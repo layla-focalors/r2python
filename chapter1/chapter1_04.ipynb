{
 "cells": [
  {
   "cell_type": "code",
   "execution_count": 4,
   "metadata": {},
   "outputs": [
    {
     "name": "stdout",
     "output_type": "stream",
     "text": [
      "q1 중앙값 : 8\n",
      "q1 평균 : 13\n",
      "\n",
      "q2 중앙값 : 8\n",
      "q2 평균 : 18\n"
     ]
    }
   ],
   "source": [
    "# 4.1 예제 (1.10) , p28\n",
    "from statistics import *\n",
    "unnecessary_surgery = [2, 2, 8, 20, 33]\n",
    "\n",
    "# q1, 중앙값과 평균을 구하여라\n",
    "print(f\"q1 중앙값 : {median(unnecessary_surgery)}\")\n",
    "print(f\"q1 평균 : {mean(unnecessary_surgery)}\\n\")\n",
    "\n",
    "# q2, 만약 5번째 의사가 수술을 추가 제안한다면,\n",
    "unnecessary_surgery[4] = 58\n",
    "print(f\"q2 중앙값 : {median(unnecessary_surgery)}\")\n",
    "print(f\"q2 평균 : {mean(unnecessary_surgery)}\")"
   ]
  }
 ],
 "metadata": {
  "kernelspec": {
   "display_name": "Python 3",
   "language": "python",
   "name": "python3"
  },
  "language_info": {
   "codemirror_mode": {
    "name": "ipython",
    "version": 3
   },
   "file_extension": ".py",
   "mimetype": "text/x-python",
   "name": "python",
   "nbconvert_exporter": "python",
   "pygments_lexer": "ipython3",
   "version": "3.11.4"
  },
  "orig_nbformat": 4
 },
 "nbformat": 4,
 "nbformat_minor": 2
}
