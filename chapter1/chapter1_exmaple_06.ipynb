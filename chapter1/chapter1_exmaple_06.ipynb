{
 "cells": [
  {
   "cell_type": "code",
   "execution_count": 1,
   "metadata": {},
   "outputs": [
    {
     "name": "stdout",
     "output_type": "stream",
     "text": [
      "표본중앙값 : 68.4\n",
      "표본평균 : 68.343\n",
      "표본표준편차 : 2.419\n"
     ]
    }
   ],
   "source": [
    "# 연습문제 6, p42\n",
    "from statistics import *\n",
    "\n",
    "sample = [66.9, 66.2, 71.0, 68.6, 65.4, 68.4, 71.9]\n",
    "\n",
    "print(f\"표본중앙값 : {median(sample)}\")\n",
    "print(f\"표본평균 : {mean(sample):.3f}\")\n",
    "print(f\"표본표준편차 : {stdev(sample):.3f}\")"
   ]
  }
 ],
 "metadata": {
  "kernelspec": {
   "display_name": "Python 3",
   "language": "python",
   "name": "python3"
  },
  "language_info": {
   "codemirror_mode": {
    "name": "ipython",
    "version": 3
   },
   "file_extension": ".py",
   "mimetype": "text/x-python",
   "name": "python",
   "nbconvert_exporter": "python",
   "pygments_lexer": "ipython3",
   "version": "3.11.4"
  },
  "orig_nbformat": 4
 },
 "nbformat": 4,
 "nbformat_minor": 2
}
