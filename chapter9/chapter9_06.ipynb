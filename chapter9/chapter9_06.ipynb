{
 "cells": [
  {
   "cell_type": "code",
   "execution_count": 4,
   "metadata": {},
   "outputs": [
    {
     "name": "stdout",
     "output_type": "stream",
     "text": [
      "검정통계량: 70.6416\n",
      "p-value: 3.661824689679792e-12\n",
      "\n",
      "p-value는 0.0000로, 유의 수준 0.01보다 작다.\n",
      "따라서 귀무 가설을 기각한다.\n"
     ]
    }
   ],
   "source": [
    "# 예제(9.11)\n",
    "\n",
    "# 공단에 인접한 세 지역에서 공해를 느끼는 정도가 지역에 따라 차이가 있는가를 알아보고자 세 지역에서 97명, 95명 99명을 랜덤 추출하여 산업공해로 인한 악취를 느끼는 횟수에 대해 조사한 결과 다음과 같을 때, 범주1은 매일, 범주2는 적어도 일주일에 한번, 범주3은 적어도 한달에 한번, 범주4번은 한달에 한 번 보다는 적게, 범주 5는 전혀 악취를 느끼지 않는 경우를 뜻할 때, 이 자료로부터 지역에 따라 공해를 느끼는 정도가 다른지를 검정하시오.\n",
    "\n",
    "# [ 조건 ] : 유의수준 1%에서 검정\n",
    "\n",
    "from scipy import stats\n",
    "\n",
    "# 귀무가설: 지역에 따라 공해를 느끼는 정도가 차이가 없다.\n",
    "# 대립가설: 지역에 따라 공해를 느끼는 정도가 차이가 있다.\n",
    "\n",
    "지역1 = [20, 28, 23, 14, 12]\n",
    "지역2 = [14, 34, 21, 14, 12]\n",
    "지역3 = [4, 12, 10, 20, 53]\n",
    "\n",
    "observed = [지역1, 지역2, 지역3]\n",
    "chi2_stat, p_value, dof, expected = stats.chi2_contingency(observed)\n",
    "\n",
    "print(f\"검정통계량: {chi2_stat:.4f}\")\n",
    "print(f\"p-value: {p_value}\\n\")\n",
    "\n",
    "alpha = 0.01\n",
    "if p_value < alpha:   \n",
    "    print(f\"p-value는 {p_value:.4f}로, 유의 수준 {alpha}보다 작다.\\n따라서 귀무 가설을 기각한다.\")    \n",
    "else:\n",
    "    print(f\"p-value는 {p_value:.4f}로, 유의 수준 {alpha}보다 크거나 같다.\\n따라서 귀무 가설을 기각할 수 없음\")   \n",
    "\n"
   ]
  }
 ],
 "metadata": {
  "kernelspec": {
   "display_name": "Python 3",
   "language": "python",
   "name": "python3"
  },
  "language_info": {
   "codemirror_mode": {
    "name": "ipython",
    "version": 3
   },
   "file_extension": ".py",
   "mimetype": "text/x-python",
   "name": "python",
   "nbconvert_exporter": "python",
   "pygments_lexer": "ipython3",
   "version": "3.11.4"
  },
  "orig_nbformat": 4
 },
 "nbformat": 4,
 "nbformat_minor": 2
}
