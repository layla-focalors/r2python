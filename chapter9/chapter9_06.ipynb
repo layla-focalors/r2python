{
 "cells": [
  {
   "cell_type": "code",
   "execution_count": null,
   "metadata": {},
   "outputs": [],
   "source": [
    "# 연습문제 6 / 예제(9.11), p295 / 296\n",
    "\n",
    "# 공단에 인접한 세 지역에서 공해를 느끼는 정도가 지역에 따라 차이가 있는가를 알아보고자 세 지역에서 97명, 95명 99명을 랜덤 추출하여 산업공해로 인한 악취를 느끼는 횟수에 대해 조사한 결과 다음과 같을 때, 범주1은 매일, 범주2는 적어도 일주일에 한번, 범주3은 적어도 한달에 한번, 범주4번은 한달에 한 번 보다는 적게, 범주 5는 전혀 악취를 느끼지 않는 경우를 뜻할 때, 이 자료로부터 지역에 따라 공해를 느끼는 정도가 다른지를 검정하시오.\n",
    "\n",
    "# [ 조건 ] : 유의수준 1%에서 검정\n",
    "\n"
   ]
  }
 ],
 "metadata": {
  "kernelspec": {
   "display_name": "Python 3",
   "language": "python",
   "name": "python3"
  },
  "language_info": {
   "name": "python",
   "version": "3.11.4"
  },
  "orig_nbformat": 4
 },
 "nbformat": 4,
 "nbformat_minor": 2
}
