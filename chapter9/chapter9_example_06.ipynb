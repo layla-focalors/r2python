{
 "cells": [
  {
   "cell_type": "code",
   "execution_count": 1,
   "metadata": {},
   "outputs": [
    {
     "name": "stdout",
     "output_type": "stream",
     "text": [
      "검정통계량: 87.2727\n",
      "p-value: 5.7306646048374425e-15\n",
      "\n",
      "p-value는 0.0000로, 유의 수준 0.05보다 작다.\n",
      "따라서 귀무 가설을 기각한다.\n"
     ]
    }
   ],
   "source": [
    "# 연습문제 13\n",
    "\n",
    "# x^2 = 87.6 일 떄 운동 강도와 흡연습관에 상관관계가 있는지 검정하시오.\n",
    "\n",
    "from scipy.stats import chi2_contingency\n",
    "\n",
    "# 귀무가설: 운동 강도와 흡연습관은 독립이다.\n",
    "# 대립가설: 운동 강도와 흡연습관은 독립이 아니다.\n",
    "\n",
    "data = [[113, 113, 110, 159], [119, 135, 172, 190], [77, 91, 86, 65], [181, 152, 124, 73]]\n",
    "chi2, p_value, dof, expected = chi2_contingency(data)\n",
    "\n",
    "print(f\"검정통계량: {chi2:.4f}\")\n",
    "print(f\"p-value: {p_value}\\n\")\n",
    "\n",
    "alpha = 0.05\n",
    "if p_value < alpha:   \n",
    "    print(f\"p-value는 {p_value:.4f}로, 유의 수준 {alpha}보다 작다.\\n따라서 귀무 가설을 기각한다.\")    \n",
    "else:\n",
    "    print(f\"p-value는 {p_value:.4f}로, 유의 수준 {alpha}보다 크거나 같다.\\n따라서 귀무 가설을 기각할 수 없음\")   "
   ]
  },
  {
   "cell_type": "code",
   "execution_count": 1,
   "metadata": {},
   "outputs": [
    {
     "name": "stdout",
     "output_type": "stream",
     "text": [
      "검정통계량: 87.2727\n",
      "p-value: 5.7306646048374425e-15\n",
      "\n",
      "p-value는 0.0000로, 유의 수준 0.05보다 작다.\n",
      "따라서 귀무 가설을 기각한다.\n"
     ]
    }
   ],
   "source": [
    "# 연습문제 13\n",
    "from scipy.stats import chi2_contingency\n",
    "\n",
    "# 귀무가설: 운동 강도와 흡연습관은 독립이다.\n",
    "# 대립가설: 운동 강도와 흡연습관은 독립이 아니다.\n",
    "\n",
    "data = [[113, 113, 110, 159], [119, 135, 172, 190], [77, 91, 86, 65], [181, 152, 124, 73]]\n",
    "chi2, p_value, dof, expected = chi2_contingency(data)\n",
    "\n",
    "print(f\"검정통계량: {chi2:.4f}\")\n",
    "print(f\"p-value: {p_value}\\n\")\n",
    "\n",
    "alpha = 0.05\n",
    "if p_value < alpha:   \n",
    "    print(f\"p-value는 {p_value:.4f}로, 유의 수준 {alpha}보다 작다.\\n따라서 귀무 가설을 기각한다.\")    \n",
    "else:\n",
    "    print(f\"p-value는 {p_value:.4f}로, 유의 수준 {alpha}보다 크거나 같다.\\n따라서 귀무 가설을 기각할 수 없음\")   "
   ]
  }
 ],
 "metadata": {
  "kernelspec": {
   "display_name": "Python 3",
   "language": "python",
   "name": "python3"
  },
  "language_info": {
   "codemirror_mode": {
    "name": "ipython",
    "version": 3
   },
   "file_extension": ".py",
   "mimetype": "text/x-python",
   "name": "python",
   "nbconvert_exporter": "python",
   "pygments_lexer": "ipython3",
   "version": "3.10.0"
  },
  "orig_nbformat": 4
 },
 "nbformat": 4,
 "nbformat_minor": 2
}
