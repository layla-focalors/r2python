{
 "cells": [
  {
   "cell_type": "code",
   "execution_count": null,
   "metadata": {},
   "outputs": [],
   "source": [
    "# 연습문제 11 p302, node (18)\n",
    "\n",
    "# 다가오는 선거에서 두 명의 도지사후보에 대한 유권자들의 성향을 알아보기 위한 조사를 두 도시에 대해 500명의 유권자를 대상으로 조사한 결과는 다음과 같다. 유권자들의 후보 A 지지율 , 후보 B 지지율 및 미결정 비율은 각 도시마다 동일할 때, 귀무가설을 유의수준 5%에서 검정하시오.\n",
    "\n",
    "from scipy.stats import chi2_contingency\n",
    "import numpy as np\n",
    "\n",
    "# 귀무가설: 두 도시의 유권자들의 성향은 동일하다.\n",
    "# 대립가설: 두 도시의 유권자들의 성향은 동일하지 않다.\n",
    "\n",
    "candidate_A = [204, 225]\n",
    "candidate_B = [211, 198]\n",
    "undecided   = [85, 77]\n",
    "\n",
    "obs = np.array([candidate_A, candidate_B, undecided])\n",
    "chi2, p_value, dof, expected = chi2_contingency(obs)\n",
    "print(f'p-value: {p_value}')\n",
    "\n",
    "alpha = 0.05\n",
    "if p_value < alpha:   \n",
    "    print(f\"p-value는 {p_value:.4f}로, 유의 수준 {alpha}보다 작다.\\n따라서 귀무 가설을 기각한다.\")    \n",
    "else:\n",
    "    print(f\"p-value는 {p_value:.4f}로, 유의 수준 {alpha}보다 크거나 같다.\\n따라서 귀무 가설을 기각할 수 없음\")  \n"
   ]
  }
 ],
 "metadata": {
  "kernelspec": {
   "display_name": "Python 3",
   "language": "python",
   "name": "python3"
  },
  "language_info": {
   "name": "python",
   "version": "3.11.4"
  },
  "orig_nbformat": 4
 },
 "nbformat": 4,
 "nbformat_minor": 2
}
