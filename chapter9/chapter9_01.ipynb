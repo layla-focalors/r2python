{
 "cells": [
  {
   "cell_type": "code",
   "execution_count": 1,
   "metadata": {},
   "outputs": [
    {
     "name": "stdout",
     "output_type": "stream",
     "text": [
      "검정통계량: 0.0942\n",
      "p-value: 0.9539906110247998\n",
      "\n",
      "p-value는 0.9540로, 유의 수준 0.05보다 크거나 같다.\n",
      "따라서 귀무 가설을 기각할 수 없음\n"
     ]
    }
   ],
   "source": [
    "# 연습문제 1 / 예제(9.2), p284\n",
    "\n",
    "# n = 46 중에서 고장이 난 기계들을 분석한 결과 전기적인 고장으로 인한 고장은 x1 = 9, 기계적 결함으로 인한 고장은 x2 = 24, 오작동으로 인한 고장이 x3 = 13일 때. 3 종류 고장의 확률은 각각 20%, 50%, 30% 라는 의격에 대해 유의수준 0.05로 카이제곱 적합도 검정을 시행하시오\n",
    "\n",
    "from scipy import stats\n",
    "\n",
    "# 귀무가설 : 3 종류 고장의 확률은 각각 20%, 50%, 30%\n",
    "# 대립가설 : 3 종류 고장의 확률은 각각 20%, 50%, 30%가 아니다.\n",
    "\n",
    "observed = [9, 24, 13]\n",
    "expected = [0.2 * 46, 0.5 * 46, 0.3 * 46]\n",
    "chi2_stat, p_value = stats.chisquare(observed, expected)\n",
    "\n",
    "print(f\"검정통계량: {chi2_stat:.4f}\")\n",
    "print(f\"p-value: {p_value}\\n\")\n",
    "\n",
    "alpha = 0.05\n",
    "if p_value < alpha:   \n",
    "    print(f\"p-value는 {p_value:.4f}로, 유의 수준 {alpha}보다 작다.\\n따라서 귀무 가설을 기각한다.\")    \n",
    "else:\n",
    "    print(f\"p-value는 {p_value:.4f}로, 유의 수준 {alpha}보다 크거나 같다.\\n따라서 귀무 가설을 기각할 수 없음\")   \n"
   ]
  },
  {
   "cell_type": "code",
   "execution_count": null,
   "metadata": {},
   "outputs": [],
   "source": [
    "# 연습문제 1 / 예제(9.2), p284\n",
    "from scipy import stats\n",
    "\n",
    "# 귀무가설 : 3 종류 고장의 확률은 각각 20%, 50%, 30%\n",
    "# 대립가설 : 3 종류 고장의 확률은 각각 20%, 50%, 30%가 아니다.\n",
    "\n",
    "observed = [9, 24, 13]\n",
    "expected = [0.2 * 46, 0.5 * 46, 0.3 * 46]\n",
    "chi2_stat, p_value = stats.chisquare(observed, expected)\n",
    "\n",
    "print(f\"검정통계량: {chi2_stat:.4f}\")\n",
    "print(f\"p-value: {p_value}\\n\")\n",
    "\n",
    "alpha = 0.05\n",
    "if p_value < alpha:   \n",
    "    print(f\"p-value는 {p_value:.4f}로, 유의 수준 {alpha}보다 작다.\\n따라서 귀무 가설을 기각한다.\")    \n",
    "else:\n",
    "    print(f\"p-value는 {p_value:.4f}로, 유의 수준 {alpha}보다 크거나 같다.\\n따라서 귀무 가설을 기각할 수 없음\")   \n"
   ]
  }
 ],
 "metadata": {
  "kernelspec": {
   "display_name": "Python 3",
   "language": "python",
   "name": "python3"
  },
  "language_info": {
   "codemirror_mode": {
    "name": "ipython",
    "version": 3
   },
   "file_extension": ".py",
   "mimetype": "text/x-python",
   "name": "python",
   "nbconvert_exporter": "python",
   "pygments_lexer": "ipython3",
   "version": "3.11.4"
  },
  "orig_nbformat": 4
 },
 "nbformat": 4,
 "nbformat_minor": 2
}
