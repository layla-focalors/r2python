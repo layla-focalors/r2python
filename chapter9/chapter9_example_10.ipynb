{
 "cells": [
  {
   "cell_type": "code",
   "execution_count": 2,
   "metadata": {},
   "outputs": [
    {
     "name": "stdout",
     "output_type": "stream",
     "text": [
      "p-value: 0.0000\n",
      "p-value는 0.0000로, 유의 수준 0.05보다 작다.\n",
      "따라서 귀무 가설을 기각한다.\n"
     ]
    }
   ],
   "source": [
    "# 연습문제 10 p302, node (17)\n",
    "\n",
    "# 다음 자료는 1000명의 주부를 대상으로 4 기간 동안 조사한 생활수준이다. 각 생활수준의 범주 내에서 주분의 비율이 각 기간마다 동일한지 P값을 이용하여 검정하라\n",
    "\n",
    "from scipy.stats import chi2_contingency\n",
    "import numpy as np\n",
    "\n",
    "# 귀무가설: 각 기간마다 주부의 생활수준의 비율은 동일하다.\n",
    "# 대립가설: 각 기간마다 주부의 생활수준의 비율은 동일하지 않다.\n",
    "\n",
    "improved = [72, 63, 47, 40]\n",
    "same     = [144, 135, 100, 15]\n",
    "worsened = [84, 102, 53, 55]\n",
    "\n",
    "obs = np.array([improved, same, worsened])\n",
    "chi2, p_value, dof, expected = chi2_contingency(obs)\n",
    "print(f'p-value: {p_value}')\n",
    "\n",
    "alpha = 0.05\n",
    "if p_value < alpha:   \n",
    "    print(f\"p-value는 {p_value:.4f}로, 유의 수준 {alpha}보다 작다.\\n따라서 귀무 가설을 기각한다.\")    \n",
    "else:\n",
    "    print(f\"p-value는 {p_value:.4f}로, 유의 수준 {alpha}보다 크거나 같다.\\n따라서 귀무 가설을 기각할 수 없음\")   "
   ]
  }
 ],
 "metadata": {
  "kernelspec": {
   "display_name": "Python 3",
   "language": "python",
   "name": "python3"
  },
  "language_info": {
   "codemirror_mode": {
    "name": "ipython",
    "version": 3
   },
   "file_extension": ".py",
   "mimetype": "text/x-python",
   "name": "python",
   "nbconvert_exporter": "python",
   "pygments_lexer": "ipython3",
   "version": "3.11.4"
  },
  "orig_nbformat": 4
 },
 "nbformat": 4,
 "nbformat_minor": 2
}
