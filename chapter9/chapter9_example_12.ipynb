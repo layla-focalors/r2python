{
 "cells": [
  {
   "cell_type": "code",
   "execution_count": 4,
   "metadata": {},
   "outputs": [
    {
     "name": "stdout",
     "output_type": "stream",
     "text": [
      "p-value: 0.002811845136348792\n",
      "p-value는 0.0028로, 유의 수준 0.05보다 작다.\n",
      "따라서 귀무 가설을 기각한다.\n"
     ]
    }
   ],
   "source": [
    "# 연습문제 20\n",
    "\n",
    "# 액화천연가스(LNG)의 저장 기지 후보지로 고려되는 세 지역의 여론을 알아보기 위해 세 지역에서 각각 400명, 350명, 350명을 랜덤 추출하여 기지의 건설에 대한 찬성여부를 물은 결과 다음과 같을 때, 지역에 따라 찬성률에 차이가 있다고 할 수 있는지 검정하시오\n",
    "\n",
    "from scipy.stats import chi2_contingency\n",
    "import numpy as np\n",
    "\n",
    "# 귀무가설: 지역에 따라 찬성률에 차이가 없다.\n",
    "# 대립가설: 지역에 따라 찬성률에 차이가 있다.\n",
    "\n",
    "region1 = [198, 202]\n",
    "region2 = [140, 210]\n",
    "region3 = [133, 217]\n",
    "# 표본 크기 (n(x))는 계산에 영향을 주지 않아 삭제!\n",
    "\n",
    "obs = np.array([region1[:2], region2[:2], region3[:2]])\n",
    "chi2, p_value, dof, expected = chi2_contingency(obs)\n",
    "print(f'p-value: {p_value}')\n",
    "\n",
    "alpha = 0.05\n",
    "if p_value < alpha:   \n",
    "    print(f\"p-value는 {p_value:.4f}로, 유의 수준 {alpha}보다 작다.\\n따라서 귀무 가설을 기각한다.\")    \n",
    "else:\n",
    "    print(f\"p-value는 {p_value:.4f}로, 유의 수준 {alpha}보다 크거나 같다.\\n따라서 귀무 가설을 기각할 수 없음\")   \n",
    "\n"
   ]
  }
 ],
 "metadata": {
  "kernelspec": {
   "display_name": "Python 3",
   "language": "python",
   "name": "python3"
  },
  "language_info": {
   "codemirror_mode": {
    "name": "ipython",
    "version": 3
   },
   "file_extension": ".py",
   "mimetype": "text/x-python",
   "name": "python",
   "nbconvert_exporter": "python",
   "pygments_lexer": "ipython3",
   "version": "3.11.4"
  },
  "orig_nbformat": 4
 },
 "nbformat": 4,
 "nbformat_minor": 2
}
