{
 "cells": [
  {
   "cell_type": "code",
   "execution_count": 1,
   "metadata": {},
   "outputs": [
    {
     "name": "stdout",
     "output_type": "stream",
     "text": [
      "검정통계량 : 124.5297\n",
      "p-value : 1.576242682023537e-22\n",
      "\n",
      "p-value는 0.0000로, 유의 수준 0.01보다 작다.\n",
      "따라서 귀무 가설을 기각한다.\n"
     ]
    }
   ],
   "source": [
    "# 연습문제 2 p299, node (8)\n",
    "\n",
    "# 어떤 유형의 범죄발생건수가 대도시의 각 지역별로 다른지를 알아보기 위한 조사가 수행되었다. 특별히 조사대상으로 선정된 범죄는 강간, 강도, 철도 및 살인이다. 범죄발생건수가 대도시의 각 지역과는 무관한지를 유의수준 0.01로 검정하시오\n",
    "\n",
    "from scipy import stats\n",
    "\n",
    "# 귀무가설: 범죄발생건수가 대도시의 각 지역과는 무관하다.\n",
    "# 대립가설: 범죄발생건수가 대도시의 각 지역과는 무관하지 않다.\n",
    "\n",
    "지역1 = [162, 118, 451, 18]\n",
    "지역2 = [310, 196, 996, 25]\n",
    "지역3 = [258, 193, 458, 10]\n",
    "지역4 = [280, 175, 390, 19]\n",
    "\n",
    "observed = [지역1, 지역2, 지역3, 지역4]\n",
    "chi2_stat, p_value, dof, expected = stats.chi2_contingency(observed)\n",
    "\n",
    "print(f\"검정통계량 : {chi2_stat:.4f}\")\n",
    "print(f\"p-value : {p_value}\\n\")\n",
    "\n",
    "alpha = 0.01\n",
    "if p_value < alpha:   \n",
    "    print(f\"p-value는 {p_value:.4f}로, 유의 수준 {alpha}보다 작다.\\n따라서 귀무 가설을 기각한다.\")    \n",
    "else:\n",
    "    print(f\"p-value는 {p_value:.4f}로, 유의 수준 {alpha}보다 크거나 같다.\\n따라서 귀무 가설을 기각할 수 없음\")   \n",
    "\n",
    "\n"
   ]
  },
  {
   "cell_type": "code",
   "execution_count": null,
   "metadata": {},
   "outputs": [],
   "source": [
    "# 연습문제 2 p299, node (8) + 데이터 시각화\n",
    "import matplotlib.pyplot as plt\n",
    "\n",
    "plt.rc('font', family='Malgun Gothic')\n",
    "\n",
    "crimes  = ['강간', '강도', '절도', '살인']\n",
    "지역1 = [162, 118, 451, 18]\n",
    "지역2 = [310, 196, 996, 25]\n",
    "지역3 = [258, 193, 458, 10]\n",
    "지역4 = [280, 175, 390, 19]\n",
    "\n",
    "fig, ax = plt.subplots()\n",
    "ax.bar(crimes, 지역1, label='지역1')\n",
    "ax.bar(crimes, 지역2, bottom=지역1, label='지역2')\n",
    "ax.bar(crimes, 지역3, bottom=[sum(x) for x in zip(지역1, 지역2)], label='지역3')\n",
    "ax.bar(crimes, 지역4, bottom=[sum(x) for x in zip(지역1, 지역2, 지역3)], label='지역4')\n",
    "\n",
    "# Labels and legend\n",
    "ax.set_ylabel('범죄 횟수')\n",
    "ax.set_title('지역별 범죄 발샌 건수')\n",
    "ax.legend()\n",
    "plt.show()\n"
   ]
  }
 ],
 "metadata": {
  "kernelspec": {
   "display_name": "Python 3",
   "language": "python",
   "name": "python3"
  },
  "language_info": {
   "codemirror_mode": {
    "name": "ipython",
    "version": 3
   },
   "file_extension": ".py",
   "mimetype": "text/x-python",
   "name": "python",
   "nbconvert_exporter": "python",
   "pygments_lexer": "ipython3",
   "version": "3.11.4"
  },
  "orig_nbformat": 4
 },
 "nbformat": 4,
 "nbformat_minor": 2
}
