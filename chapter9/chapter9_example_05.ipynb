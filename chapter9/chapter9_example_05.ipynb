{
 "cells": [
  {
   "cell_type": "code",
   "execution_count": 2,
   "metadata": {},
   "outputs": [
    {
     "name": "stdout",
     "output_type": "stream",
     "text": [
      "검정통계량: 104.3775\n",
      "p-value: 3.058332817880553e-20\n",
      "\n",
      "p-value는 0.0000로, 유의 수준 0.05보다 작다.\n",
      "따라서 귀무 가설을 기각한다.\n"
     ]
    }
   ],
   "source": [
    "# 연습문제 9\n",
    "\n",
    "# 다음은 나이에 따라 자동차 A, B, C, D, E 에 대한 선호도를 조사한 결과이다. 나이와 선호하는 자동차 종류는 무관한지 유의수준 5%에서 검정하시오.\n",
    "\n",
    "from scipy.stats import chi2_contingency\n",
    "\n",
    "# 귀무가설: 나이와 선호하는 자동차 종류는 무관하다.\n",
    "# 대립가설: 나이와 선호하는 자동차 종류는 무관하지 않다.\n",
    "\n",
    "data = [[42, 29, 12, 58], [59, 34, 43, 19], [67, 42, 81, 7]]\n",
    "chi2, p_value, dof, expected = chi2_contingency(data)\n",
    "\n",
    "print(f\"검정통계량: {chi2:.4f}\")\n",
    "print(f\"p-value: {p_value}\\n\")\n",
    "\n",
    "alpha = 0.05\n",
    "if p_value < alpha:   \n",
    "    print(f\"p-value는 {p_value:.4f}로, 유의 수준 {alpha}보다 작다.\\n따라서 귀무 가설을 기각한다.\")    \n",
    "else:\n",
    "    print(f\"p-value는 {p_value:.4f}로, 유의 수준 {alpha}보다 크거나 같다.\\n따라서 귀무 가설을 기각할 수 없음\")  \n",
    "\n"
   ]
  },
  {
   "cell_type": "code",
   "execution_count": null,
   "metadata": {},
   "outputs": [],
   "source": [
    "# 연습문제 9\n",
    "from scipy.stats import chi2_contingency\n",
    "\n",
    "# 귀무가설: 나이와 선호하는 자동차 종류는 무관하다.\n",
    "# 대립가설: 나이와 선호하는 자동차 종류는 무관하지 않다.\n",
    "\n",
    "data = [[42, 29, 12, 58], [59, 34, 43, 19], [67, 42, 81, 7]]\n",
    "chi2, p_value, dof, expected = chi2_contingency(data)\n",
    "\n",
    "print(f\"검정통계량: {chi2:.4f}\")\n",
    "print(f\"p-value: {p_value}\\n\")\n",
    "\n",
    "alpha = 0.05\n",
    "if p_value < alpha:   \n",
    "    print(f\"p-value는 {p_value:.4f}로, 유의 수준 {alpha}보다 작다.\\n따라서 귀무 가설을 기각한다.\")    \n",
    "else:\n",
    "    print(f\"p-value는 {p_value:.4f}로, 유의 수준 {alpha}보다 크거나 같다.\\n따라서 귀무 가설을 기각할 수 없음\")  \n",
    "\n"
   ]
  }
 ],
 "metadata": {
  "kernelspec": {
   "display_name": "Python 3",
   "language": "python",
   "name": "python3"
  },
  "language_info": {
   "codemirror_mode": {
    "name": "ipython",
    "version": 3
   },
   "file_extension": ".py",
   "mimetype": "text/x-python",
   "name": "python",
   "nbconvert_exporter": "python",
   "pygments_lexer": "ipython3",
   "version": "3.11.4"
  },
  "orig_nbformat": 4
 },
 "nbformat": 4,
 "nbformat_minor": 2
}
