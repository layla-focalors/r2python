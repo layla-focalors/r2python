{
 "cells": [
  {
   "cell_type": "code",
   "execution_count": null,
   "metadata": {},
   "outputs": [],
   "source": [
    "# 연습문제 1 p298, node (5)\n",
    "\n",
    "# 사상자에 따른 데이터가 시간에 따라 존재할 때 범주1이 아침, 범주2가 점심, 범주3이 저녁이라고 할 때 시간에 따라 사상자가 다르다는 것을 검정하시오\n",
    "\n",
    "# [ 조건 ] : 유의수준 0.05에서 검정하시오\n",
    "\n",
    "from scipy import stats\n",
    "\n",
    "# 귀무가설 : 시간에 따라 사상자가 다르지 않다.\n",
    "# 대립가설 : 시간에 따라 사상자가 다르다.\n",
    "\n",
    "사상자 = [1372, 1578, 1686]\n",
    "total = sum(사상자)\n",
    "expected = [total/3 for _ in range(3)]\n",
    "chi2_stat, p_value = stats.chisquare(사상자, expected)\n",
    "\n",
    "print(f\"검정통계량: {chi2_stat:.4f}\")\n",
    "print(f\"p-value: {p_value}\\n\")\n",
    "\n",
    "alpha = 0.05\n",
    "if p_value < alpha:   \n",
    "    print(f\"p-value는 {p_value:.4f}로, 유의 수준 {alpha}보다 작다.\\n따라서 귀무 가설을 기각한다.\")    \n",
    "else:\n",
    "    print(f\"p-value는 {p_value:.4f}로, 유의 수준 {alpha}보다 크거나 같다.\\n따라서 귀무 가설을 기각할 수 없음\")   \n",
    "\n"
   ]
  }
 ],
 "metadata": {
  "kernelspec": {
   "display_name": "Python 3",
   "language": "python",
   "name": "python3"
  },
  "language_info": {
   "name": "python",
   "version": "3.11.4"
  },
  "orig_nbformat": 4
 },
 "nbformat": 4,
 "nbformat_minor": 2
}
