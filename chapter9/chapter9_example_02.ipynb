{
 "cells": [
  {
   "cell_type": "code",
   "execution_count": 3,
   "metadata": {},
   "outputs": [
    {
     "name": "stdout",
     "output_type": "stream",
     "text": [
      "검정통계량: 10.4135\n",
      "p-value: 0.0340\n",
      "\n",
      "p-value는 0.0340로, 유의 수준 0.05보다 작다.\n",
      "따라서 귀무 가설을 기각한다.\n"
     ]
    }
   ],
   "source": [
    "# 연습문제 2 p298, node (6)\n",
    "\n",
    "# 아침 시간에 도심에 있는 5개 다리를 이용하는 교통량의 비율이 2 : 3 : 3 : 4 : 6이라고 감독자가 주장할 때 6000대의 차량을 추출했더니 5개 다리를 건너는 차의 대수가 각격 720, 970, 1013, 1380, 1917이다. 감독자의 주장이 맞는지 유의수준 5%에서 검정하시오.\n",
    "\n",
    "from scipy import stats\n",
    "\n",
    "# 귀무가설 : 5개 다리를 이용하는 교통량의 비율이 2 : 3 : 3 : 4 : 6이다.\n",
    "# 대립가설 : 5개 다리를 이용하는 교통량의 비율이 2 : 3 : 3 : 4 : 6이 아니다.\n",
    "\n",
    "observed = [720, 970, 1013, 1380, 1917]\n",
    "total = sum(observed)\n",
    "expected = [total * (2/18), total * (3/18), total * (3/18), total * (4/18), total * (6/18)]\n",
    "chi2_stat, p_value = stats.chisquare(observed, expected)\n",
    "\n",
    "print(f\"검정통계량: {chi2_stat:.4f}\")\n",
    "print(f\"p-value: {p_value:.4f}\\n\")\n",
    "\n",
    "alpha = 0.05\n",
    "if p_value < alpha:   \n",
    "    print(f\"p-value는 {p_value:.4f}로, 유의 수준 {alpha}보다 작다.\\n따라서 귀무 가설을 기각한다.\")    \n",
    "else:\n",
    "    print(f\"p-value는 {p_value:.4f}로, 유의 수준 {alpha}보다 크거나 같다.\\n따라서 귀무 가설을 기각할 수 없음\")   "
   ]
  }
 ],
 "metadata": {
  "kernelspec": {
   "display_name": "Python 3",
   "language": "python",
   "name": "python3"
  },
  "language_info": {
   "codemirror_mode": {
    "name": "ipython",
    "version": 3
   },
   "file_extension": ".py",
   "mimetype": "text/x-python",
   "name": "python",
   "nbconvert_exporter": "python",
   "pygments_lexer": "ipython3",
   "version": "3.11.4"
  },
  "orig_nbformat": 4
 },
 "nbformat": 4,
 "nbformat_minor": 2
}
