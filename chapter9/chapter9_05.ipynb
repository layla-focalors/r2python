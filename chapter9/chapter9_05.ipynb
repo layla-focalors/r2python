{
 "cells": [
  {
   "cell_type": "code",
   "execution_count": 5,
   "metadata": {},
   "outputs": [
    {
     "name": "stdout",
     "output_type": "stream",
     "text": [
      "검정통계량: 31.2946\n",
      "p-value: 2.226786050768775e-05\n",
      "\n",
      "p-value는 0.0000로, 유의 수준 0.05보다 작다.\n",
      "따라서 귀무 가설을 기각한다.\n"
     ]
    }
   ],
   "source": [
    "# 예제(9.9)\n",
    "\n",
    "# 정당에서는 지역에 따라 A, B, C 세 후보에 대한 지지도가 다른지를 알아보기 위해 각 도시에서 200명씩 조사한 결과 다음의 자료를 얻었다. 지역에 따라 지지도가 다른지 검정하여라\n",
    "\n",
    "from scipy import stats\n",
    "\n",
    "# 귀무가설 : 지역에 따라 지지도가 다르지 않다.\n",
    "# 대립가설 : 지역에 따라 지지도가 다르다.\n",
    "\n",
    "서울 = [73, 71, 56]\n",
    "부산 = [102, 55, 43]\n",
    "대구 = [73, 66, 61]\n",
    "광주 = [62, 98, 40]\n",
    "\n",
    "observed = [서울, 부산, 대구, 광주]\n",
    "chi2_stat, p_value, dof, expected = stats.chi2_contingency(observed)\n",
    "\n",
    "print(f\"검정통계량: {chi2_stat:.4f}\")\n",
    "print(f\"p-value: {p_value}\\n\")\n",
    "\n",
    "alpha = 0.05\n",
    "if p_value < alpha:   \n",
    "    print(f\"p-value는 {p_value:.4f}로, 유의 수준 {alpha}보다 작다.\\n따라서 귀무 가설을 기각한다.\")    \n",
    "else:\n",
    "    print(f\"p-value는 {p_value:.4f}로, 유의 수준 {alpha}보다 크거나 같다.\\n따라서 귀무 가설을 기각할 수 없음\")   \n",
    "\n"
   ]
  },
  {
   "cell_type": "code",
   "execution_count": 1,
   "metadata": {},
   "outputs": [
    {
     "name": "stdout",
     "output_type": "stream",
     "text": [
      "검정통계량: 31.2946\n",
      "p-value: 2.226786050768775e-05\n",
      "\n",
      "p-value는 0.0000로, 유의 수준 0.05보다 작다.\n",
      "따라서 귀무 가설을 기각한다.\n"
     ]
    }
   ],
   "source": [
    "# 예제(9.9)\n",
    "from scipy import stats\n",
    "\n",
    "# 귀무가설 : 지역에 따라 지지도가 다르지 않다.\n",
    "# 대립가설 : 지역에 따라 지지도가 다르다.\n",
    "\n",
    "서울 = [73, 71, 56]\n",
    "부산 = [102, 55, 43]\n",
    "대구 = [73, 66, 61]\n",
    "광주 = [62, 98, 40]\n",
    "\n",
    "observed = [서울, 부산, 대구, 광주]\n",
    "chi2_stat, p_value, dof, expected = stats.chi2_contingency(observed)\n",
    "\n",
    "print(f\"검정통계량: {chi2_stat:.4f}\")\n",
    "print(f\"p-value: {p_value}\\n\")\n",
    "\n",
    "alpha = 0.05\n",
    "if p_value < alpha:   \n",
    "    print(f\"p-value는 {p_value:.4f}로, 유의 수준 {alpha}보다 작다.\\n따라서 귀무 가설을 기각한다.\")    \n",
    "else:\n",
    "    print(f\"p-value는 {p_value:.4f}로, 유의 수준 {alpha}보다 크거나 같다.\\n따라서 귀무 가설을 기각할 수 없음\")   \n",
    "\n"
   ]
  }
 ],
 "metadata": {
  "kernelspec": {
   "display_name": "Python 3",
   "language": "python",
   "name": "python3"
  },
  "language_info": {
   "codemirror_mode": {
    "name": "ipython",
    "version": 3
   },
   "file_extension": ".py",
   "mimetype": "text/x-python",
   "name": "python",
   "nbconvert_exporter": "python",
   "pygments_lexer": "ipython3",
   "version": "3.10.0"
  },
  "orig_nbformat": 4
 },
 "nbformat": 4,
 "nbformat_minor": 2
}
