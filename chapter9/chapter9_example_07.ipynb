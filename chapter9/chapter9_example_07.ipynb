{
 "cells": [
  {
   "cell_type": "code",
   "execution_count": 1,
   "metadata": {},
   "outputs": [
    {
     "name": "stdout",
     "output_type": "stream",
     "text": [
      "검정통계량 : 9.3759\n",
      "p-value : 0.009205414784649132\n",
      "\n",
      "p-value는 0.0092로, 유의 수준 0.01보다 작다.\n",
      "따라서 귀무 가설을 기각한다.\n"
     ]
    }
   ],
   "source": [
    "# 연습문제 7 p301, node (14)\n",
    "\n",
    "# 다음의 데이터는 어느 공장과정에서 3대의 기계로부터 얻어진 제품을 두 등급으로 분류한 분류표이다 자료에서 등급과 기계의 종류를 유의수준 1%에서 독립인지 검정하시오\n",
    "\n",
    "from scipy.stats import chi2_contingency\n",
    "\n",
    "# 귀무가설 : 등급과 기계의 종류는 독립이다.\n",
    "# 대립가설 : 등급과 기계의 종류는 독립이 아니다.\n",
    "\n",
    "data = [[78, 65, 68], [22, 8, 30]]\n",
    "chi2, p_value, dof, expected = chi2_contingency(data)\n",
    "\n",
    "print(f\"검정통계량 : {chi2:.4f}\")\n",
    "print(f\"p-value : {p_value}\\n\")\n",
    "\n",
    "alpha = 0.01\n",
    "if p_value < alpha:   \n",
    "    print(f\"p-value는 {p_value:.4f}로, 유의 수준 {alpha}보다 작다.\\n따라서 귀무 가설을 기각한다.\")    \n",
    "else:\n",
    "    print(f\"p-value는 {p_value:.4f}로, 유의 수준 {alpha}보다 크거나 같다.\\n따라서 귀무 가설을 기각할 수 없음\")   \n",
    "\n"
   ]
  }
 ],
 "metadata": {
  "kernelspec": {
   "display_name": "Python 3",
   "language": "python",
   "name": "python3"
  },
  "language_info": {
   "codemirror_mode": {
    "name": "ipython",
    "version": 3
   },
   "file_extension": ".py",
   "mimetype": "text/x-python",
   "name": "python",
   "nbconvert_exporter": "python",
   "pygments_lexer": "ipython3",
   "version": "3.11.4"
  },
  "orig_nbformat": 4
 },
 "nbformat": 4,
 "nbformat_minor": 2
}
