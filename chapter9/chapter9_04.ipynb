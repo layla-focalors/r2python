{
 "cells": [
  {
   "cell_type": "code",
   "execution_count": null,
   "metadata": {},
   "outputs": [],
   "source": [
    "# 연습문제 4 / 예제(9.6), p290\n",
    "\n",
    "# 대도시 근교에서 출퇴근하며 혼자서만 승용차를 이용하는 사람들 중에서 250명을 무작위로 추출하여 승용차의 크기와 통근 거리 사이에 관계가 있다고 할 수 있는지를 유의수준 5%에서 검정하시오.\n",
    "\n",
    "from scipy import stats\n",
    "\n",
    "# 귀무가설 : 승용차의 크기와 통근 거리 사이에 관계가 없다.\n",
    "# 대립가설 : 승용차의 크기와 통근 거리 사이에 관계가 있다.\n",
    "\n",
    "경승용차 = [6, 27, 19]\n",
    "소형승용차 = [8, 36, 17]\n",
    "중형승용차 = [21, 45, 33]\n",
    "대형승용차 = [14, 18, 6]\n",
    "\n",
    "observed = [경승용차, 소형승용차, 중형승용차, 대형승용차]\n",
    "chi2_stat, p_value, dof, expected = stats.chi2_contingency(observed)\n",
    "\n",
    "print(f\"검정통계량: {chi2_stat:.4f}\")\n",
    "print(f\"p-value: {p_value:.4f}\\n\")\n",
    "\n",
    "alpha = 0.05\n",
    "if p_value < alpha:   \n",
    "    print(f\"p-value는 {p_value:.4f}로, 유의 수준 {alpha}보다 작다.\\n따라서 귀무 가설을 기각한다.\")    \n",
    "else:\n",
    "    print(f\"p-value는 {p_value:.4f}로, 유의 수준 {alpha}보다 크거나 같다.\\n따라서 귀무 가설을 기각할 수 없음\") \n"
   ]
  }
 ],
 "metadata": {
  "kernelspec": {
   "display_name": "Python 3",
   "language": "python",
   "name": "python3"
  },
  "language_info": {
   "name": "python",
   "version": "3.11.4"
  },
  "orig_nbformat": 4
 },
 "nbformat": 4,
 "nbformat_minor": 2
}
