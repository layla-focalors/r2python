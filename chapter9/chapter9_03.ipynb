{
 "cells": [
  {
   "cell_type": "code",
   "execution_count": 1,
   "metadata": {},
   "outputs": [
    {
     "name": "stdout",
     "output_type": "stream",
     "text": [
      "검정통계량: 8.7636\n",
      "p-value: 0.0673\n",
      "p-value가 0.05보다 크므로 귀무가설을 기각할 수 없다.\n"
     ]
    }
   ],
   "source": [
    "# 연습문제 3 / 예제(9.6), p290\n",
    "\n",
    "# 회사에서 학력과 회사에 대한 만족도 조사의 연관성이 있는지 알아보기 위해 회사원 300명을 랜덤하게 뽑아 조사한 결과 다음의 자료를 얻었다. 두 변수에 연관성이 있다고 할 수 있는가?\n",
    "\n",
    "from scipy import stats\n",
    "\n",
    "# 귀무가설 : 학력과 회사에 대한 만족도는 연관성이 없다.\n",
    "# 대립가설 : 학력과 회사에 대한 만족도는 연관성이 있다.\n",
    "\n",
    "dataA = ['고졸 이하', 40, 32, 10]\n",
    "dataB = ['대졸 이하', 92, 50, 28]\n",
    "dataC = ['대학원 이상', 16, 20, 12]\n",
    "\n",
    "observed = [dataA[1:], dataB[1:], dataC[1:]]\n",
    "chi2_stat, p_value, dof, expected = stats.chi2_contingency(observed)\n",
    "\n",
    "print(f\"검정통계량: {chi2_stat:.4f}\")\n",
    "print(f\"p-value: {p_value:.4f}\")\n",
    "\n",
    "alpha = 0.05\n",
    "if p_value < alpha:   \n",
    "    print(f\"p-value는 {p_value:.4f}로, 유의 수준 {alpha}보다 작다.\\n따라서 귀무 가설을 기각한다.\")    \n",
    "else:\n",
    "    print(f\"p-value는 {p_value:.4f}로, 유의 수준 {alpha}보다 크거나 같다.\\n따라서 귀무 가설을 기각할 수 없음\")   \n"
   ]
  }
 ],
 "metadata": {
  "kernelspec": {
   "display_name": "Python 3",
   "language": "python",
   "name": "python3"
  },
  "language_info": {
   "codemirror_mode": {
    "name": "ipython",
    "version": 3
   },
   "file_extension": ".py",
   "mimetype": "text/x-python",
   "name": "python",
   "nbconvert_exporter": "python",
   "pygments_lexer": "ipython3",
   "version": "3.11.4"
  },
  "orig_nbformat": 4
 },
 "nbformat": 4,
 "nbformat_minor": 2
}
