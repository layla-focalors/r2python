{
 "cells": [
  {
   "cell_type": "code",
   "execution_count": 3,
   "metadata": {},
   "outputs": [
    {
     "name": "stdout",
     "output_type": "stream",
     "text": [
      "검정통계량: 14.9630\n",
      "p-value: 0.0048\n",
      "\n",
      "p-value는 0.0048로, 유의 수준 0.05보다 작다.\n",
      "따라서 귀무 가설을 기각한다.\n"
     ]
    }
   ],
   "source": [
    "# 연습문제 2 / 예제(9.4), p286\n",
    "\n",
    "# 공장의 작업장에서 발생하는 사고를 줄이기 위해 새로운 안전운동을 도입하려고 한다. 공장 관리자가 그 주에 발생한 사고 기록을 조사한 결과 다음과 같은 결과를 얻었다. 일주일 동안 총 사고 횟수가 n = 270으로 이에 따르면 특히 월요일과 금요일에 사고가 더 많이 발생한 것으로 나타났다. 만약 이것이 사실이라면 월요일과 금요일에 특히 주의할 필요가 있으며, 이 날들의 사고를 줄이기 위한 조치를 취해야 할 것이다. 그렇다면 월요일과 금요일에 다른 요일보다 사고가 빈번하게 발생하는지 검정하여라\n",
    "\n",
    "from scipy import stats\n",
    "\n",
    "# 귀무가설 : 월요일과 금요일에 사고가 빈번하게 발생하지 않는다.\n",
    "# 대립가설 : 월요일과 금요일에 사고가 빈번하게 발생한다.\n",
    "\n",
    "data = {'월요일' : 65,  '화요일' : 43, '수요일' : 48, '목요일' : 41, '금요일' : 73}\n",
    "observed = list(data.values())\n",
    "total = sum(observed)\n",
    "expected = [total/5 for _ in range(5)]\n",
    "chi2_stat, p_value = stats.chisquare(observed, expected)\n",
    "\n",
    "print(f\"검정통계량: {chi2_stat:.4f}\")\n",
    "print(f\"p-value: {p_value:.4f}\\n\")\n",
    "\n",
    "alpha = 0.05\n",
    "if p_value < alpha:   \n",
    "    print(f\"p-value는 {p_value:.4f}로, 유의 수준 {alpha}보다 작다.\\n따라서 귀무 가설을 기각한다.\")    \n",
    "else:\n",
    "    print(f\"p-value는 {p_value:.4f}로, 유의 수준 {alpha}보다 크거나 같다.\\n따라서 귀무 가설을 기각할 수 없음\")  \n"
   ]
  }
 ],
 "metadata": {
  "kernelspec": {
   "display_name": "Python 3",
   "language": "python",
   "name": "python3"
  },
  "language_info": {
   "codemirror_mode": {
    "name": "ipython",
    "version": 3
   },
   "file_extension": ".py",
   "mimetype": "text/x-python",
   "name": "python",
   "nbconvert_exporter": "python",
   "pygments_lexer": "ipython3",
   "version": "3.11.4"
  },
  "orig_nbformat": 4
 },
 "nbformat": 4,
 "nbformat_minor": 2
}
