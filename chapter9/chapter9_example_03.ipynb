{
 "cells": [
  {
   "cell_type": "code",
   "execution_count": null,
   "metadata": {},
   "outputs": [],
   "source": [
    "# 연습문제 3 p299, node (7)\n",
    "\n",
    "# 스포츠잡지를 발행하는 회사에서 새로운 고객에게 3가지 경품 ( 티셔츠, 커피잔, 귀걸이 ) 중 하나를 선물하고 있다. 500명의 새로운 고객을 무작위로 추출하여 경품의 선호도에 대해 조사한 결과가 다음과 같을 때. 경품의 선호도에 차이가 있는지 검정하라\n",
    "\n",
    "# [ 조건 ] : 유의수준 5%에서 검정하라\n",
    "\n",
    "from scipy import stats\n",
    "\n",
    "# 귀무가설 : 경품의 선호도에 차이가 없다.\n",
    "# 대립가설 : 경품의 선호도에 차이가 있다.\n",
    "\n",
    "frequency = [183, 175, 142]\n",
    "total = sum(frequency)\n",
    "expected = [total/3 for _ in range(3)]\n",
    "chi2_stat, p_value = stats.chisquare(frequency, expected)\n",
    "\n",
    "print(f\"검정통계량 : {chi2_stat:.4f}\")\n",
    "print(f\"p-value : {p_value}\\n\")\n",
    "\n",
    "alpha = 0.05\n",
    "if p_value < alpha:   \n",
    "    print(f\"p-value는 {p_value:.4f}로, 유의 수준 {alpha}보다 작다.\\n따라서 귀무 가설을 기각한다.\")    \n",
    "else:\n",
    "    print(f\"p-value는 {p_value:.4f}로, 유의 수준 {alpha}보다 크거나 같다.\\n따라서 귀무 가설을 기각할 수 없음\")   \n"
   ]
  }
 ],
 "metadata": {
  "kernelspec": {
   "display_name": "Python 3",
   "language": "python",
   "name": "python3"
  },
  "language_info": {
   "name": "python",
   "version": "3.11.4"
  },
  "orig_nbformat": 4
 },
 "nbformat": 4,
 "nbformat_minor": 2
}
