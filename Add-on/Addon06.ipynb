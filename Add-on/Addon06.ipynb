{
 "cells": [
  {
   "cell_type": "markdown",
   "metadata": {},
   "source": [
    "어떤 플라스틱 제품의 강도(kg/cm2)가 그 제품을 생산하는 사출 과정중의 온도(°C)\n",
    "와 시간(sec)에 따라서 어떻게 변화하는가를 알아보기 위하여 실험을 한 결과 아래와 같은 자료를 얻는다.  \n",
    " 사출온도와 사출시간을 각각 설명변수 x1, x2로 하고 강도를 반응변수 3로 하는 중선형 회귀모형을 적용할 때, 모회귀계수와 모회귀함수를 최소제곱법에 의하여 추정하 여라.  \n",
    "\n",
    "온도(x1) : 195, 179, 205, 204, 201, 184, 210, 209   \n",
    "시간(x2) : 57, 61, 60, 62, 61, 54, 58, 61  \n",
    "강도(y) : 81.4, 122.2, 101.7, 145.2, 135.9, 64.8, 92.1, 113.8"
   ]
  },
  {
   "cell_type": "code",
   "execution_count": 1,
   "metadata": {},
   "outputs": [
    {
     "name": "stderr",
     "output_type": "stream",
     "text": [
      "C:\\Users\\starl\\AppData\\Local\\Temp\\ipykernel_17116\\3837117829.py:1: DeprecationWarning: \n",
      "Pyarrow will become a required dependency of pandas in the next major release of pandas (pandas 3.0),\n",
      "(to allow more performant data types, such as the Arrow string type, and better interoperability with other libraries)\n",
      "but was not found to be installed on your system.\n",
      "If this would cause problems for you,\n",
      "please provide us feedback at https://github.com/pandas-dev/pandas/issues/54466\n",
      "        \n",
      "  import pandas as pd\n"
     ]
    },
    {
     "name": "stdout",
     "output_type": "stream",
     "text": [
      "                            OLS Regression Results                            \n",
      "==============================================================================\n",
      "Dep. Variable:                      y   R-squared:                       0.888\n",
      "Model:                            OLS   Adj. R-squared:                  0.843\n",
      "Method:                 Least Squares   F-statistic:                     19.74\n",
      "Date:                Tue, 16 Apr 2024   Prob (F-statistic):            0.00424\n",
      "Time:                        09:49:35   Log-Likelihood:                -28.562\n",
      "No. Observations:                   8   AIC:                             63.12\n",
      "Df Residuals:                       5   BIC:                             63.36\n",
      "Df Model:                           2                                         \n",
      "Covariance Type:            nonrobust                                         \n",
      "==============================================================================\n",
      "                 coef    std err          t      P>|t|      [0.025      0.975]\n",
      "------------------------------------------------------------------------------\n",
      "const       -428.8851     98.987     -4.333      0.007    -683.339    -174.431\n",
      "x1            -0.2338      0.383     -0.610      0.569      -1.219       0.751\n",
      "x2             9.8295      1.623      6.056      0.002       5.657      14.002\n",
      "==============================================================================\n",
      "Omnibus:                        1.754   Durbin-Watson:                   1.222\n",
      "Prob(Omnibus):                  0.416   Jarque-Bera (JB):                0.797\n",
      "Skew:                           0.307   Prob(JB):                        0.671\n",
      "Kurtosis:                       1.581   Cond. No.                     5.34e+03\n",
      "==============================================================================\n",
      "\n",
      "Notes:\n",
      "[1] Standard Errors assume that the covariance matrix of the errors is correctly specified.\n",
      "[2] The condition number is large, 5.34e+03. This might indicate that there are\n",
      "strong multicollinearity or other numerical problems.\n",
      "결정계수: 0.8875674772186627\n",
      "회귀계수의 신뢰구간: \\n                0           1\n",
      "const -683.339144 -174.430963\n",
      "x1      -1.218918    0.751393\n",
      "x2       5.656843   14.002066\n"
     ]
    },
    {
     "name": "stderr",
     "output_type": "stream",
     "text": [
      "c:\\Users\\starl\\AppData\\Local\\Programs\\Python\\Python310\\lib\\site-packages\\scipy\\stats\\_stats_py.py:1971: UserWarning: kurtosistest only valid for n>=20 ... continuing anyway, n=8\n",
      "  k, _ = kurtosistest(a, axis)\n"
     ]
    }
   ],
   "source": [
    "import pandas as pd\n",
    "import statsmodels.api as sm\n",
    "\n",
    "# 데이터 생성\n",
    "data = {\n",
    "    'x1': [195, 179, 205, 204, 201, 184, 210, 209],\n",
    "    'x2': [57, 61, 60, 62, 61, 54, 58, 61],\n",
    "    'y': [81.4, 122.2, 101.7, 145.2, 135.9, 64.8, 92.1, 113.8]\n",
    "}\n",
    "df = pd.DataFrame(data)\n",
    "\n",
    "# 독립변수와 종속변수를 분리\n",
    "X = df[['x1', 'x2']]\n",
    "y = df['y']\n",
    "\n",
    "# 상수항 추가\n",
    "X = sm.add_constant(X)\n",
    "\n",
    "# 선형회귀 모델 생성 및 학습\n",
    "model = sm.OLS(y, X)\n",
    "results = model.fit()\n",
    "\n",
    "# 1. 선형회귀식을 추정하라\n",
    "print(results.summary())\n",
    "\n",
    "# 2. 결정계수를 구하라\n",
    "print(f\"결정계수: {results.rsquared}\")\n",
    "\n",
    "# 3. 각각 회귀계수의 신뢰구간과 의미를 설명하라\n",
    "print(f\"회귀계수의 신뢰구간: \\\\n{results.conf_int()}\")\n"
   ]
  }
 ],
 "metadata": {
  "kernelspec": {
   "display_name": "Python 3",
   "language": "python",
   "name": "python3"
  },
  "language_info": {
   "codemirror_mode": {
    "name": "ipython",
    "version": 3
   },
   "file_extension": ".py",
   "mimetype": "text/x-python",
   "name": "python",
   "nbconvert_exporter": "python",
   "pygments_lexer": "ipython3",
   "version": "3.10.6"
  }
 },
 "nbformat": 4,
 "nbformat_minor": 2
}
