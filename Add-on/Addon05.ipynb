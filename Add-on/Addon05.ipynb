{
 "cells": [
  {
   "cell_type": "markdown",
   "metadata": {},
   "source": [
    "이 자료는 암모니아를 산화하여 질산을 만드는 화학공정에서 세 설명변수의 값과 대응 되는 손실분량을 21일간 측정한 자료이다. 자료에서 변수들의 내용은 다음과 같다.  \n",
    "\n",
    "x1 : 작업속도  \n",
    "x2 : 냉각수 온도  \n",
    "y : 암모니아의 손실분량(%)  \n",
    "\n",
    "| 번호 | x1 | x2 | y  |\n",
    "|----|----|----|----|\n",
    "| 1  | 80 | 27 | 42 |\n",
    "| 2  | 80 | 27 | 37 |\n",
    "| 3  | 75 | 25 | 37 |\n",
    "| 4  | 62 | 24 | 28 |\n",
    "| 5  | 62 | 22 | 18 |\n",
    "| 6  | 62 | 23 | 18 |\n",
    "| 7  | 62 | 24 | 19 |\n",
    "| 8  | 62 | 24 | 20 |\n",
    "| 9  | 58 | 23 | 15 |\n",
    "| 10 | 58 | 18 | 14 |\n",
    "| 11 | 58 | 18 | 14 |\n",
    "| 12 | 58 | 17 | 13 |\n",
    "| 13 | 58 | 18 | 11 |\n",
    "| 14 | 58 | 19 | 12 |\n",
    "| 15 | 50 | 18 | 8  |\n",
    "| 16 | 50 | 18 | 7  |\n",
    "| 17 | 50 | 19 | 8  |\n",
    "| 18 | 50 | 19 | 8  |\n",
    "| 19 | 50 | 20 | 9  |\n",
    "| 20 | 56 | 20 | 15 |\n",
    "| 21 | 70 | 20 | 15 |\n",
    "\n",
    "다음의 조건을 만족하여라\n",
    "1. 선형회귀식을 추정하라\n",
    "2. 결정계수를 구하라\n",
    "3. 각각 회귀계수의 신뢰구간과 의미를 설명하라"
   ]
  },
  {
   "cell_type": "code",
   "execution_count": 1,
   "metadata": {},
   "outputs": [
    {
     "name": "stderr",
     "output_type": "stream",
     "text": [
      "C:\\Users\\starl\\AppData\\Local\\Temp\\ipykernel_8368\\2618334435.py:1: DeprecationWarning: \n",
      "Pyarrow will become a required dependency of pandas in the next major release of pandas (pandas 3.0),\n",
      "(to allow more performant data types, such as the Arrow string type, and better interoperability with other libraries)\n",
      "but was not found to be installed on your system.\n",
      "If this would cause problems for you,\n",
      "please provide us feedback at https://github.com/pandas-dev/pandas/issues/54466\n",
      "        \n",
      "  import pandas as pd\n"
     ]
    },
    {
     "name": "stdout",
     "output_type": "stream",
     "text": [
      "                            OLS Regression Results                            \n",
      "==============================================================================\n",
      "Dep. Variable:                      y   R-squared:                       0.909\n",
      "Model:                            OLS   Adj. R-squared:                  0.899\n",
      "Method:                 Least Squares   F-statistic:                     89.64\n",
      "Date:                Tue, 16 Apr 2024   Prob (F-statistic):           4.38e-10\n",
      "Time:                        09:45:33   Log-Likelihood:                -52.857\n",
      "No. Observations:                  21   AIC:                             111.7\n",
      "Df Residuals:                      18   BIC:                             114.8\n",
      "Df Model:                           2                                         \n",
      "Covariance Type:            nonrobust                                         \n",
      "==============================================================================\n",
      "                 coef    std err          t      P>|t|      [0.025      0.975]\n",
      "------------------------------------------------------------------------------\n",
      "const        -50.3588      5.138     -9.801      0.000     -61.154     -39.564\n",
      "x1             0.6712      0.127      5.298      0.000       0.405       0.937\n",
      "x2             1.2954      0.367      3.525      0.002       0.523       2.067\n",
      "==============================================================================\n",
      "Omnibus:                        1.120   Durbin-Watson:                   1.386\n",
      "Prob(Omnibus):                  0.571   Jarque-Bera (JB):                0.372\n",
      "Skew:                          -0.316   Prob(JB):                        0.830\n",
      "Kurtosis:                       3.159   Cond. No.                         470.\n",
      "==============================================================================\n",
      "\n",
      "Notes:\n",
      "[1] Standard Errors assume that the covariance matrix of the errors is correctly specified.\n",
      "결정계수: 0.9087609423502954\n",
      "회귀계수의 신뢰구간: \\n               0          1\n",
      "const -61.154067 -39.563613\n",
      "x1      0.404986   0.937322\n",
      "x2      0.523293   2.067410\n"
     ]
    }
   ],
   "source": [
    "import pandas as pd\n",
    "import statsmodels.api as sm\n",
    "\n",
    "# 데이터 생성\n",
    "data = {\n",
    "    'x1': [80, 80, 75, 62, 62, 62, 62, 62, 58, 58, 58, 58, 58, 58, 50, 50, 50, 50, 50, 56, 70],\n",
    "    'x2': [27, 27, 25, 24, 22, 23, 24, 24, 23, 18, 18, 17, 18, 19, 18, 18, 19, 19, 20, 20, 20],\n",
    "    'y': [42, 37, 37, 28, 18, 18, 19, 20, 15, 14, 14, 13, 11, 12, 8, 7, 8, 8, 9, 15, 15]\n",
    "}\n",
    "df = pd.DataFrame(data)\n",
    "\n",
    "# 독립변수와 종속변수를 분리\n",
    "X = df[['x1', 'x2']]\n",
    "y = df['y']\n",
    "\n",
    "# 상수항 추가\n",
    "X = sm.add_constant(X)\n",
    "\n",
    "# 선형회귀 모델 생성 및 학습\n",
    "model = sm.OLS(y, X)\n",
    "results = model.fit()\n",
    "\n",
    "# 1. 선형회귀식을 추정하라\n",
    "print(results.summary())\n",
    "\n",
    "# 2. 결정계수를 구하라\n",
    "print(f\"결정계수: {results.rsquared}\")\n",
    "\n",
    "# 3. 각각 회귀계수의 신뢰구간과 의미를 설명하라\n",
    "print(f\"회귀계수의 신뢰구간: \\\\n{results.conf_int()}\")\n"
   ]
  }
 ],
 "metadata": {
  "kernelspec": {
   "display_name": "Python 3",
   "language": "python",
   "name": "python3"
  },
  "language_info": {
   "codemirror_mode": {
    "name": "ipython",
    "version": 3
   },
   "file_extension": ".py",
   "mimetype": "text/x-python",
   "name": "python",
   "nbconvert_exporter": "python",
   "pygments_lexer": "ipython3",
   "version": "3.10.6"
  }
 },
 "nbformat": 4,
 "nbformat_minor": 2
}
