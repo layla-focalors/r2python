{
 "cells": [
  {
   "cell_type": "markdown",
   "metadata": {},
   "source": [
    "다음의 데이터는 45명의 병원 입원환자에게 어떤 마취제를 투여한 후, 환자의 수면시간 을 기록한 것이다.  \n",
    "7\n",
    "10\n",
    "12\n",
    "4\n",
    "8\n",
    "7\n",
    "3\n",
    "8\n",
    "5\n",
    "12\n",
    "11\n",
    "3\n",
    "8\n",
    "1\n",
    "1\n",
    "13\n",
    "10\n",
    "4\n",
    "4\n",
    "5\n",
    "5\n",
    "8\n",
    "7\n",
    "7\n",
    "3\n",
    "2\n",
    "3\n",
    "8\n",
    "13\n",
    "1\n",
    "7\n",
    "17\n",
    "3\n",
    "4\n",
    "5\n",
    "5\n",
    "3\n",
    "1\n",
    "17\n",
    "10\n",
    "4\n",
    "7\n",
    "7\n",
    "11\n",
    "8\n",
    "1) 계급의 수를 적절히 만들어 수면시간에 대한 도수분포표를 작성하라.\n",
    "2) 히스토그램을 그려라.\n"
   ]
  },
  {
   "cell_type": "code",
   "execution_count": 2,
   "metadata": {},
   "outputs": [
    {
     "name": "stderr",
     "output_type": "stream",
     "text": [
      "C:\\Users\\starl\\AppData\\Local\\Temp\\ipykernel_1740\\3400288245.py:1: DeprecationWarning: \n",
      "Pyarrow will become a required dependency of pandas in the next major release of pandas (pandas 3.0),\n",
      "(to allow more performant data types, such as the Arrow string type, and better interoperability with other libraries)\n",
      "but was not found to be installed on your system.\n",
      "If this would cause problems for you,\n",
      "please provide us feedback at https://github.com/pandas-dev/pandas/issues/54466\n",
      "        \n",
      "  import pandas as pd\n",
      "C:\\Users\\starl\\AppData\\Local\\Temp\\ipykernel_1740\\3400288245.py:12: FutureWarning: The default of observed=False is deprecated and will be changed to True in a future version of pandas. Pass observed=False to retain current behavior or observed=True to adopt the future default and silence this warning.\n",
      "  frequency_table = df.groupby(bins)['수면시간'].agg(['count'])\n"
     ]
    },
    {
     "name": "stdout",
     "output_type": "stream",
     "text": [
      "          count\n",
      "수면시간           \n",
      "(0, 2]        5\n",
      "(2, 4]       11\n",
      "(4, 6]        5\n",
      "(6, 8]       13\n",
      "(8, 10]       3\n",
      "(10, 12]      4\n",
      "(12, 14]      2\n",
      "(14, 16]      0\n",
      "(16, 18]      2\n",
      "(18, 20]      0\n"
     ]
    },
    {
     "data": {
      "image/png": "[encoded data removed]",
      "text/plain": [
       "<Figure size 640x480 with 1 Axes>"
      ]
     },
     "metadata": {},
     "output_type": "display_data"
    }
   ],
   "source": [
    "import pandas as pd\n",
    "import matplotlib.pyplot as plt\n",
    "\n",
    "plt.rc('font', family='Malgun Gothic')\n",
    "\n",
    "# 데이터 생성\n",
    "sleep_time = [7, 10, 12, 4, 8, 7, 3, 8, 5, 12, 11, 3, 8, 1, 1, 13, 10, 4, 4, 5, 5, 8, 7, 7, 3, 2, 3, 8, 13, 1, 7, 17, 3, 4, 5, 5, 3, 1, 17, 10, 4, 7, 7, 11, 8]\n",
    "df = pd.DataFrame(sleep_time, columns=['수면시간'])\n",
    "\n",
    "# 1) 계급의 수를 적절히 만들어 수면시간에 대한 도수분포표를 작성하라.\n",
    "bins = pd.cut(df['수면시간'], bins=range(0, 21, 2))  # 2시간 간격으로 계급을 만듦\n",
    "frequency_table = df.groupby(bins)['수면시간'].agg(['count'])\n",
    "print(frequency_table)\n",
    "\n",
    "# 2) 히스토그램을 그려라.\n",
    "plt.hist(df['수면시간'], bins=range(0, 21, 2), edgecolor='black')\n",
    "plt.title('수면시간 히스토그램')\n",
    "plt.xlabel('수면시간')\n",
    "plt.ylabel('도수')\n",
    "plt.show()\n"
   ]
  }
 ],
 "metadata": {
  "kernelspec": {
   "display_name": "Python 3",
   "language": "python",
   "name": "python3"
  },
  "language_info": {
   "codemirror_mode": {
    "name": "ipython",
    "version": 3
   },
   "file_extension": ".py",
   "mimetype": "text/x-python",
   "name": "python",
   "nbconvert_exporter": "python",
   "pygments_lexer": "ipython3",
   "version": "3.10.6"
  }
 },
 "nbformat": 4,
 "nbformat_minor": 2
}
