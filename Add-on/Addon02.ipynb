{
 "cells": [
  {
   "cell_type": "markdown",
   "metadata": {},
   "source": [
    "다음의 데이터는 45명의 병원 입원환자에게 어떤 마취제를 투여한 후, 환자의 수면시간 을 기록한 것이다.  \n",
    "7\n",
    "10\n",
    "12\n",
    "4\n",
    "8\n",
    "7\n",
    "3\n",
    "8\n",
    "5\n",
    "12\n",
    "11\n",
    "3\n",
    "8\n",
    "1\n",
    "1\n",
    "13\n",
    "10\n",
    "4\n",
    "4\n",
    "5\n",
    "5\n",
    "8\n",
    "7\n",
    "7\n",
    "3\n",
    "2\n",
    "3\n",
    "8\n",
    "13\n",
    "1\n",
    "7\n",
    "17\n",
    "3\n",
    "4\n",
    "5\n",
    "5\n",
    "3\n",
    "1\n",
    "17\n",
    "10\n",
    "4\n",
    "7\n",
    "7\n",
    "11\n",
    "8\n",
    "1) 계급의 수를 적절히 만들어 수면시간에 대한 도수분포표를 작성하라.\n",
    "2) 히스토그램을 그려라.\n"
   ]
  },
  {
   "cell_type": "code",
   "execution_count": null,
   "metadata": {},
   "outputs": [],
   "source": []
  }
 ],
 "metadata": {
  "language_info": {
   "name": "python"
  }
 },
 "nbformat": 4,
 "nbformat_minor": 2
}
