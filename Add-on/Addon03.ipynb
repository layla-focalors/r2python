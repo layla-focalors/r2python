{
 "cells": [
  {
   "cell_type": "markdown",
   "metadata": {},
   "source": [
    " 한 제약회사에서 혈액의 응고시간을 단축시켜 주는 새로운 물질을 개발하였다. 다음은 이 물질이 함유된 지혈제를 사용하여 혈액이 응고하는데 소요되는 시간을 측정한 자료이다.  \n",
    "같은 양의 혈액을 사용하였으며, 실험의 신뢰성을 높이기 위해 동일한 조건하에서 60번의 실 험을 반복하였다. 다음을 구하여라.\n",
    "\n",
    "(단위 : 분)  \n",
    "2.82 ,3.24  ,3.63 ,3.36 ,3.11 ,2.49 ,2.94 ,2.53 ,3.13 ,2.52 ,3.14 ,3.12 ,2.40 ,2.94 ,3.32 ,2.90 ,2.71 ,3.52 ,3.27, 3.12 ,3.10 ,3.21 ,3.54 ,3.09 ,3.23 ,3.15 ,2.51 ,2.74 ,3.24 ,3.01 ,3.23 ,3.04 ,3.34 ,3.09 ,2.99 ,2.36 ,3.41 ,3.27 ,2.64 ,3.03 ,2.86 ,3.18 ,3.17 ,3.01 ,3.02 ,2.37 ,2.55 ,3.50 ,3.25 ,3.39 ,2.87 ,3.14 ,2.82 ,3.45 ,3.25 ,2.85, 3.21 ,2.80 ,2.97 ,3.26\n",
    "\n",
    "1) 자료의 히스토그램을 그리고 분포상태를 설명하여라.\n",
    "2) 자료의 평균, 중앙값, 표준편차, 범위를 구하여라.\n",
    "3) 자료의 제5, 25, 50, 75, 95 백분위수를 구하여라.\n"
   ]
  },
  {
   "cell_type": "code",
   "execution_count": 1,
   "metadata": {},
   "outputs": [
    {
     "name": "stderr",
     "output_type": "stream",
     "text": [
      "C:\\Users\\starl\\AppData\\Local\\Temp\\ipykernel_25096\\2529725658.py:1: DeprecationWarning: \n",
      "Pyarrow will become a required dependency of pandas in the next major release of pandas (pandas 3.0),\n",
      "(to allow more performant data types, such as the Arrow string type, and better interoperability with other libraries)\n",
      "but was not found to be installed on your system.\n",
      "If this would cause problems for you,\n",
      "please provide us feedback at https://github.com/pandas-dev/pandas/issues/54466\n",
      "        \n",
      "  import pandas as pd\n"
     ]
    },
    {
     "data": {
      "image/png": "[encoded data removed]",
      "text/plain": [
       "<Figure size 640x480 with 1 Axes>"
      ]
     },
     "metadata": {},
     "output_type": "display_data"
    },
    {
     "name": "stdout",
     "output_type": "stream",
     "text": [
      "평균: 3.039166666666667, 중앙값: 3.105, 표준편차: 0.308870504743598, 범위: 1.27\n",
      "제5 백분위수: 2.4855, 제25 백분위수: 2.8575, 제50 백분위수: 3.105, 제75 백분위수: 3.2425, 제95 백분위수: 3.501\n"
     ]
    }
   ],
   "source": [
    "import pandas as pd\n",
    "import matplotlib.pyplot as plt\n",
    "\n",
    "plt.rc('font', family='Malgun Gothic')\n",
    "\n",
    "# 데이터 생성\n",
    "data = [2.82, 3.24, 3.63, 3.36, 3.11, 2.49, 2.94, 2.53, 3.13, 2.52, 3.14, 3.12, 2.40, 2.94, 3.32, 2.90, 2.71, 3.52, 3.27, 3.12, 3.10, 3.21, 3.54, 3.09, 3.23, 3.15, 2.51, 2.74, 3.24, 3.01, 3.23, 3.04, 3.34, 3.09, 2.99, 2.36, 3.41, 3.27, 2.64, 3.03, 2.86, 3.18, 3.17, 3.01, 3.02, 2.37, 2.55, 3.50, 3.25, 3.39, 2.87, 3.14, 2.82, 3.45, 3.25, 2.85, 3.21, 2.80, 2.97, 3.26]\n",
    "df = pd.DataFrame(data, columns=['응고시간'])\n",
    "\n",
    "# 1) 자료의 히스토그램을 그리고 분포상태를 설명하여라.\n",
    "plt.hist(df['응고시간'], bins=10, edgecolor='black')\n",
    "plt.title('응고시간 히스토그램')\n",
    "plt.xlabel('응고시간')\n",
    "plt.ylabel('도수')\n",
    "plt.show()\n",
    "\n",
    "# 2) 자료의 평균, 중앙값, 표준편차, 범위를 구하여라.\n",
    "mean = df['응고시간'].mean()\n",
    "median = df['응고시간'].median()\n",
    "std = df['응고시간'].std()\n",
    "range_ = df['응고시간'].max() - df['응고시간'].min()\n",
    "print(f\"평균: {mean}, 중앙값: {median}, 표준편차: {std}, 범위: {range_}\")\n",
    "\n",
    "# 3) 자료의 제5, 25, 50, 75, 95 백분위수를 구하여라.\n",
    "percentiles = df['응고시간'].quantile([0.05, 0.25, 0.50, 0.75, 0.95])\n",
    "print(f\"제5 백분위수: {percentiles[0.05]}, 제25 백분위수: {percentiles[0.25]}, 제50 백분위수: {percentiles[0.50]}, 제75 백분위수: {percentiles[0.75]}, 제95 백분위수: {percentiles[0.95]}\")\n"
   ]
  }
 ],
 "metadata": {
  "kernelspec": {
   "display_name": "Python 3",
   "language": "python",
   "name": "python3"
  },
  "language_info": {
   "codemirror_mode": {
    "name": "ipython",
    "version": 3
   },
   "file_extension": ".py",
   "mimetype": "text/x-python",
   "name": "python",
   "nbconvert_exporter": "python",
   "pygments_lexer": "ipython3",
   "version": "3.10.6"
  }
 },
 "nbformat": 4,
 "nbformat_minor": 2
}
