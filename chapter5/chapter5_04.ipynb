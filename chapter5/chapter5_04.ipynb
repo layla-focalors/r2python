{
 "cells": [
  {
   "cell_type": "code",
   "execution_count": 2,
   "metadata": {},
   "outputs": [
    {
     "name": "stdout",
     "output_type": "stream",
     "text": [
      "네 번째 시도에서 상대방과 통화할 수 있는 확률 : 0.0429\n"
     ]
    }
   ],
   "source": [
    "# 연습문제 3 / 예제(5.20), p168\n",
    "\n",
    "p = 0.05   # 5%의 확률로 상대방과 통화할 수 있음\n",
    "# 1 try\n",
    "\n",
    "value = (p) * (1-p) ** 3\n",
    "print(f\"네 번째 시도에서 상대방과 통화할 수 있는 확률 : {round(value, 4)}\")"
   ]
  }
 ],
 "metadata": {
  "kernelspec": {
   "display_name": "Python 3",
   "language": "python",
   "name": "python3"
  },
  "language_info": {
   "codemirror_mode": {
    "name": "ipython",
    "version": 3
   },
   "file_extension": ".py",
   "mimetype": "text/x-python",
   "name": "python",
   "nbconvert_exporter": "python",
   "pygments_lexer": "ipython3",
   "version": "3.11.4"
  },
  "orig_nbformat": 4
 },
 "nbformat": 4,
 "nbformat_minor": 2
}
