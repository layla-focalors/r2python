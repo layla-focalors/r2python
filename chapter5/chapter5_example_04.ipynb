{
 "cells": [
  {
   "cell_type": "code",
   "execution_count": 3,
   "metadata": {},
   "outputs": [
    {
     "name": "stdout",
     "output_type": "stream",
     "text": [
      "5개의 기업이 모두 규정위반기업이 아닐 확률 : 0.399%\n",
      "5개의 기업 중 2개의 위반기업이 있을 확률 : 0.132%\n"
     ]
    }
   ],
   "source": [
    "# 연습문제 04 , p182\n",
    "from scipy.stats import hypergeom\n",
    "\n",
    "M = 20 # 전체 기업수\n",
    "n = 3  # 규정위반 기업수\n",
    "N = 5  # 조사할 기업수\n",
    "k = 0  # 규정위반 기업이 없을 확률\n",
    "u = 2  # 규정위반 기업이 2개일 확률\n",
    "\n",
    "result = hypergeom.pmf(k, M, n, N)\n",
    "print(f\"5개의 기업이 모두 규정위반기업이 아닐 확률 : {result:.3f}%\")\n",
    "result = hypergeom.pmf(u, M, n, N)\n",
    "print(f\"5개의 기업 중 2개의 위반기업이 있을 확률 : {result:.3f}%\")"
   ]
  }
 ],
 "metadata": {
  "kernelspec": {
   "display_name": "Python 3",
   "language": "python",
   "name": "python3"
  },
  "language_info": {
   "codemirror_mode": {
    "name": "ipython",
    "version": 3
   },
   "file_extension": ".py",
   "mimetype": "text/x-python",
   "name": "python",
   "nbconvert_exporter": "python",
   "pygments_lexer": "ipython3",
   "version": "3.11.4"
  },
  "orig_nbformat": 4
 },
 "nbformat": 4,
 "nbformat_minor": 2
}
