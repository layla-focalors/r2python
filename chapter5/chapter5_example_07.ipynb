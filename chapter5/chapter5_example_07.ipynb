{
 "cells": [
  {
   "cell_type": "code",
   "execution_count": 1,
   "metadata": {},
   "outputs": [
    {
     "name": "stdout",
     "output_type": "stream",
     "text": [
      "1 : Z=1.43의 왼쪽 면적 확률 : 0.924\n",
      "2 : Z=-0.89의 오른쪽 면적 확률 : 0.813\n",
      "3 : Z=-2.16과 Z=-0.65 사이의 면적 확률 : 0.242\n",
      "4 : Z=-1.39의 왼쪽 면적 확률 : 0.082\n",
      "5 : Z=1.96의 오른쪽 면적 확률 : 0.025\n",
      "6 : Z=-0.48과 Z=1.74 사이의 면적 확률 : 0.643\n"
     ]
    }
   ],
   "source": [
    "# 연습문제 15 , p183\n",
    "from scipy.stats import norm\n",
    "\n",
    "z = [1.43, -0.89, -2.16, -0.65, -1.39, 1.96, -0.48, 1.74]\n",
    "\n",
    "result = norm.cdf(z[0])\n",
    "print(f\"1 : Z=1.43의 왼쪽 면적 확률 : {result:.3f}\")\n",
    "result = 1 - norm.cdf(z[1])\n",
    "print(f\"2 : Z=-0.89의 오른쪽 면적 확률 : {result:.3f}\")\n",
    "result = norm.cdf(z[3]) - norm.cdf(z[2])\n",
    "print(f\"3 : Z=-2.16과 Z=-0.65 사이의 면적 확률 : {result:.3f}\")\n",
    "result = norm.cdf(z[4])\n",
    "print(f\"4 : Z=-1.39의 왼쪽 면적 확률 : {result:.3f}\")\n",
    "result = 1 - norm.cdf(z[5])\n",
    "print(f\"5 : Z=1.96의 오른쪽 면적 확률 : {result:.3f}\")\n",
    "result = norm.cdf(z[7]) - norm.cdf(z[6])\n",
    "print(f\"6 : Z=-0.48과 Z=1.74 사이의 면적 확률 : {result:.3f}\")"
   ]
  }
 ],
 "metadata": {
  "kernelspec": {
   "display_name": "Python 3",
   "language": "python",
   "name": "python3"
  },
  "language_info": {
   "codemirror_mode": {
    "name": "ipython",
    "version": 3
   },
   "file_extension": ".py",
   "mimetype": "text/x-python",
   "name": "python",
   "nbconvert_exporter": "python",
   "pygments_lexer": "ipython3",
   "version": "3.11.4"
  },
  "orig_nbformat": 4
 },
 "nbformat": 4,
 "nbformat_minor": 2
}
