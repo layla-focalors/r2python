{
 "cells": [
  {
   "cell_type": "code",
   "execution_count": 1,
   "metadata": {},
   "outputs": [
    {
     "name": "stdout",
     "output_type": "stream",
     "text": [
      "정확히 한 개의 불량품이 있을 확률 : 0.3011\n"
     ]
    }
   ],
   "source": [
    "# 연습문제 2 / 예제(5.6), p161\n",
    "from math import comb\n",
    "\n",
    "n = 5\n",
    "N = 40\n",
    "k = 3\n",
    "\n",
    "p = comb(3, 1) * comb(37, 4) / comb(40, 5)\n",
    "print(f\"정확히 한 개의 불량품이 있을 확률 : {round((p), 4)}%\")"
   ]
  }
 ],
 "metadata": {
  "kernelspec": {
   "display_name": "Python 3",
   "language": "python",
   "name": "python3"
  },
  "language_info": {
   "codemirror_mode": {
    "name": "ipython",
    "version": 3
   },
   "file_extension": ".py",
   "mimetype": "text/x-python",
   "name": "python",
   "nbconvert_exporter": "python",
   "pygments_lexer": "ipython3",
   "version": "3.11.4"
  },
  "orig_nbformat": 4
 },
 "nbformat": 4,
 "nbformat_minor": 2
}
