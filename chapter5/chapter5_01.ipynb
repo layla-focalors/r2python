{
 "cells": [
  {
   "cell_type": "code",
   "execution_count": 116,
   "metadata": {},
   "outputs": [
    {
     "name": "stdout",
     "output_type": "stream",
     "text": [
      "확률밀도함수 : 0.25\n",
      "회의가 최소한 3시간 이상일 확률 : 0.25\n"
     ]
    }
   ],
   "source": [
    "# 예제(5.4), p156 05 여러가지 확률분포\n",
    "from scipy.integrate import quad\n",
    "from scipy.stats import *\n",
    "\n",
    "meeting_hours = 3\n",
    "\n",
    "def f(x):\n",
    "  if 0 <= x <= 4:\n",
    "    return 1/4\n",
    "  else:\n",
    "    return 0\n",
    "\n",
    "print(f\"확률밀도함수 : {uniform.pdf(meeting_hours, loc=0, scale=4)}\")\n",
    "result, _ = quad(f, meeting_hours, 4)\n",
    "print(f\"회의가 최소한 3시간 이상일 확률 : {result}\")\n",
    "\n"
   ]
  }
 ],
 "metadata": {
  "kernelspec": {
   "display_name": "Python 3",
   "language": "python",
   "name": "python3"
  },
  "language_info": {
   "codemirror_mode": {
    "name": "ipython",
    "version": 3
   },
   "file_extension": ".py",
   "mimetype": "text/x-python",
   "name": "python",
   "nbconvert_exporter": "python",
   "pygments_lexer": "ipython3",
   "version": "3.11.4"
  },
  "orig_nbformat": 4
 },
 "nbformat": 4,
 "nbformat_minor": 2
}
