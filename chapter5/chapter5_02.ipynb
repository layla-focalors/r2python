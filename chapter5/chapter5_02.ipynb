{
 "cells": [
  {
   "cell_type": "code",
   "execution_count": 106,
   "metadata": {},
   "outputs": [
    {
     "name": "stdout",
     "output_type": "stream",
     "text": [
      "적어도 한 대의 불량률이 있을 확률 : 0.3324\n",
      "적어도 한 대의 불량품이 포함될 확률이 2번 있는 경우 : 0.1962\n"
     ]
    }
   ],
   "source": [
    "# 연습문제 2 / 예제(5.6), p159\n",
    "import math\n",
    "from math import comb\n",
    "\n",
    "n = 20\n",
    "# 납품시 검사하는 장비의 수\n",
    "p = 0.02\n",
    "# 불량률\n",
    "k = 10\n",
    "# 납품 횟수\n",
    "\n",
    "def binomial_distribution(n: int, p: float, x: int) -> float:\n",
    "    return math.comb(n, x) * p ** x * (1 - p) ** (n - x)\n",
    "\n",
    "def at_least_one_failure(n: int, p: float) -> float:\n",
    "    return 1 - binomial_distribution(n, p, 0)\n",
    "\n",
    "print(f\"적어도 한 대의 불량률이 있을 확률 : {round(((at_least_one_failure(n, p)) % 100), 4)}\")\n",
    "\n",
    "p_v = 1 - (1 - 0.02) ** 20\n",
    "fcs = comb(k, 2) * (p_v ** 2) * ((1 - p_v) ** (k - 2))\n",
    "print(f\"적어도 한 대의 불량품이 포함될 확률이 2번 있는 경우 : {round((fcs), 4)}\")\n",
    "\n"
   ]
  }
 ],
 "metadata": {
  "kernelspec": {
   "display_name": "Python 3",
   "language": "python",
   "name": "python3"
  },
  "language_info": {
   "codemirror_mode": {
    "name": "ipython",
    "version": 3
   },
   "file_extension": ".py",
   "mimetype": "text/x-python",
   "name": "python",
   "nbconvert_exporter": "python",
   "pygments_lexer": "ipython3",
   "version": "3.11.4"
  },
  "orig_nbformat": 4
 },
 "nbformat": 4,
 "nbformat_minor": 2
}
