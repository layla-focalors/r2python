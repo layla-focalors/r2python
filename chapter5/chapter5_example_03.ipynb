{
 "cells": [
  {
   "cell_type": "code",
   "execution_count": 1,
   "metadata": {},
   "outputs": [
    {
     "name": "stdout",
     "output_type": "stream",
     "text": [
      "생포한 동물 5마리에 꼬리표가 있을 확률 : 0.2315\n"
     ]
    }
   ],
   "source": [
    "# 연습문제 07 , p182\n",
    "from scipy.stats import hypergeom\n",
    "\n",
    "M = 25 # 전체 동물 수\n",
    "n = 10 # 전체 동물 중 꼬리표가 있는 동물 수\n",
    "N = 15 # 뽑은 동물 수\n",
    "k = 5  # 뽑은 동물 중 꼬리표가 있는 동물 수\n",
    "\n",
    "result = hypergeom.pmf(k, M, n, N)\n",
    "print(f\"생포한 동물 5마리에 꼬리표가 있을 확률 : {result:.4f}\")"
   ]
  }
 ],
 "metadata": {
  "kernelspec": {
   "display_name": "Python 3",
   "language": "python",
   "name": "python3"
  },
  "language_info": {
   "codemirror_mode": {
    "name": "ipython",
    "version": 3
   },
   "file_extension": ".py",
   "mimetype": "text/x-python",
   "name": "python",
   "nbconvert_exporter": "python",
   "pygments_lexer": "ipython3",
   "version": "3.11.4"
  },
  "orig_nbformat": 4
 },
 "nbformat": 4,
 "nbformat_minor": 2
}
