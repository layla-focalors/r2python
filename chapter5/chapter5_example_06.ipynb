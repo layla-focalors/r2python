{
 "cells": [
  {
   "cell_type": "code",
   "execution_count": 2,
   "metadata": {},
   "outputs": [
    {
     "name": "stdout",
     "output_type": "stream",
     "text": [
      "정확히 4건의 교통사고가 일어날 확률 : 0.168%\n",
      "3건 미만의 교통사고가 일어날 확률 : 0.423%\n"
     ]
    }
   ],
   "source": [
    "# 연습문제 06 , p183\n",
    "from scipy.stats import poisson\n",
    "\n",
    "mu = 3 # 평균 3건의 교통사고 가정\n",
    "k = 4  # 4건의 교통사고가 발생할 확률\n",
    "u = 2  # 2건의 교통사고가 발생할 확률\n",
    "\n",
    "result = poisson.pmf(k, mu)\n",
    "print(f\"정확히 4건의 교통사고가 일어날 확률 : {result:.3f}\")\n",
    "result = poisson.cdf(u, mu)\n",
    "print(f\"3건 미만의 교통사고가 일어날 확률 : {result:.3f}\")"
   ]
  }
 ],
 "metadata": {
  "kernelspec": {
   "display_name": "Python 3",
   "language": "python",
   "name": "python3"
  },
  "language_info": {
   "codemirror_mode": {
    "name": "ipython",
    "version": 3
   },
   "file_extension": ".py",
   "mimetype": "text/x-python",
   "name": "python",
   "nbconvert_exporter": "python",
   "pygments_lexer": "ipython3",
   "version": "3.11.4"
  },
  "orig_nbformat": 4
 },
 "nbformat": 4,
 "nbformat_minor": 2
}
