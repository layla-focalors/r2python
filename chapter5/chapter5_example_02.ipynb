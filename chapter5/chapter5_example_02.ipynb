{
 "cells": [
  {
   "cell_type": "code",
   "execution_count": 9,
   "metadata": {},
   "outputs": [
    {
     "name": "stdout",
     "output_type": "stream",
     "text": [
      "작업자 실수에 의해 발생할 확률 : 0.048%\n",
      "20번의 사고 중 5번 이하가 작업자 실수에 의해 발생할 확률 : 0.416%\n",
      "20번의 사고 중 5번이 작업자 실수에 의해 발생할 확률 : 0.179%\n"
     ]
    }
   ],
   "source": [
    "# 연습문제 02 , p181\n",
    "# 이항 분포 :  n번의 독립적인 시행에서 성공 확률이 p인 사건이 k번 이상 발생할 확률\n",
    "from scipy.stats import binom\n",
    "\n",
    "n = 20\n",
    "p = 0.3\n",
    "k = 10\n",
    "sig = 5\n",
    "\n",
    "prob = 1 - binom.cdf(k-1, n, p)\n",
    "print(f\"작업자 실수에 의해 발생할 확률 : {prob:.3f}%\")\n",
    "prob = binom.cdf(sig, n, p)\n",
    "print(f\"20번의 사고 중 5번 이하가 작업자 실수에 의해 발생할 확률 : {prob:.3f}%\")\n",
    "prob = binom.pmf(sig, n, p)\n",
    "print(f\"20번의 사고 중 5번만이 작업자 실수에 의해 발생할 확률 : {prob:.3f}%\")\n"
   ]
  }
 ],
 "metadata": {
  "kernelspec": {
   "display_name": "Python 3",
   "language": "python",
   "name": "python3"
  },
  "language_info": {
   "codemirror_mode": {
    "name": "ipython",
    "version": 3
   },
   "file_extension": ".py",
   "mimetype": "text/x-python",
   "name": "python",
   "nbconvert_exporter": "python",
   "pygments_lexer": "ipython3",
   "version": "3.11.4"
  },
  "orig_nbformat": 4
 },
 "nbformat": 4,
 "nbformat_minor": 2
}
