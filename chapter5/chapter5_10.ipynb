{
 "cells": [
  {
   "cell_type": "code",
   "execution_count": 1,
   "metadata": {},
   "outputs": [
    {
     "name": "stdout",
     "output_type": "stream",
     "text": [
      "1분 동안 두 손님이 방문할 확률 : 0.184\n",
      "1분 동안 3명 이하의 손님이 도착할 확률 : 0.981\n"
     ]
    }
   ],
   "source": [
    "# 연습문제 9 / 예제(5.13), p163\n",
    "\n",
    "# 은행에서는 오전 11시 ~ 12시 사이에 평균 60명의 손님이 방문할 때, 조건을 만족하는 확률을 구하시오\n",
    "\n",
    "# [ 조건 ]\n",
    "# 1. 오전 11시에서 12시 사이에 어느 1분 동안 두 손님이 방문할 확률은?\n",
    "# 2. 어느 1분 동안에 3명 이하의 손님이 도착할 확률을 계산하시오\n",
    "\n",
    "from math import exp, factorial\n",
    "\n",
    "mean = 60 / 60\n",
    "\n",
    "prob_2 = (mean ** 2) * exp(-mean) / factorial(2)\n",
    "print(f\"1분 동안 두 손님이 방문할 확률 : {prob_2:.3f}\")\n",
    "prob_3_or_fewer = sum([(mean ** i) * exp(-mean) / factorial(i) for i in range(4)])\n",
    "print(f\"1분 동안 3명 이하의 손님이 도착할 확률 : {prob_3_or_fewer:.3f}\")\n"
   ]
  }
 ],
 "metadata": {
  "kernelspec": {
   "display_name": "Python 3",
   "language": "python",
   "name": "python3"
  },
  "language_info": {
   "codemirror_mode": {
    "name": "ipython",
    "version": 3
   },
   "file_extension": ".py",
   "mimetype": "text/x-python",
   "name": "python",
   "nbconvert_exporter": "python",
   "pygments_lexer": "ipython3",
   "version": "3.11.4"
  },
  "orig_nbformat": 4
 },
 "nbformat": 4,
 "nbformat_minor": 2
}
