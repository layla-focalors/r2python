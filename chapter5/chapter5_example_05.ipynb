{
 "cells": [
  {
   "cell_type": "code",
   "execution_count": 1,
   "metadata": {},
   "outputs": [
    {
     "name": "stdout",
     "output_type": "stream",
     "text": [
      "연간 결함있는 차가 3대일 확률 : 0.265%\n"
     ]
    }
   ],
   "source": [
    "# 연습문제 05 , p183\n",
    "from scipy.stats import poisson\n",
    "\n",
    "mu = 5 # 연간 평균 결함있는 차의 수\n",
    "k = 3  # 기껏해야 3대일 확률\n",
    "x = 1  # 결함차가 1대일 확률\n",
    "\n",
    "result = poisson.cdf(k, mu)\n",
    "print(f\"연간 결함있는 차가 3대일 확률 : {result:.3f}%\")\n",
    "result = 1 - poisson.cdf(x, mu)\n",
    "print(f\"결함을 나타내는 차가 연간 1대를 초과할 확률 : {result:.3f}%\")"
   ]
  }
 ],
 "metadata": {
  "kernelspec": {
   "display_name": "Python 3",
   "language": "python",
   "name": "python3"
  },
  "language_info": {
   "codemirror_mode": {
    "name": "ipython",
    "version": 3
   },
   "file_extension": ".py",
   "mimetype": "text/x-python",
   "name": "python",
   "nbconvert_exporter": "python",
   "pygments_lexer": "ipython3",
   "version": "3.11.4"
  },
  "orig_nbformat": 4
 },
 "nbformat": 4,
 "nbformat_minor": 2
}
