{
 "cells": [
  {
   "cell_type": "code",
   "execution_count": 2,
   "metadata": {},
   "outputs": [
    {
     "name": "stdout",
     "output_type": "stream",
     "text": [
      "불량 부품이 2개를 초과할 확률 : 0.882%\n",
      "불량 부품이 10개를 초과할 확률 : 0.011%\n"
     ]
    }
   ],
   "source": [
    "# 연습문제 09 , p184\n",
    "from scipy.stats import binom\n",
    "\n",
    "n = 100  # 로트에 포함된 부품의 수\n",
    "p = 0.05 # 불량 부품의 비율\n",
    "k = 2    # 불량 부품의 수\n",
    "u = 10   # 불량 부품의 수(2)\n",
    " \n",
    "prob = 1 - binom.cdf(k, n, p)\n",
    "print(f\"불량 부품이 2개를 초과할 확률 : {prob:.3f}%\")\n",
    "prob = 1 - binom.cdf(u, n, p)\n",
    "print(f\"불량 부품이 10개를 초과할 확률 : {prob:.3f}%\")"
   ]
  }
 ],
 "metadata": {
  "kernelspec": {
   "display_name": "Python 3",
   "language": "python",
   "name": "python3"
  },
  "language_info": {
   "codemirror_mode": {
    "name": "ipython",
    "version": 3
   },
   "file_extension": ".py",
   "mimetype": "text/x-python",
   "name": "python",
   "nbconvert_exporter": "python",
   "pygments_lexer": "ipython3",
   "version": "3.11.4"
  },
  "orig_nbformat": 4
 },
 "nbformat": 4,
 "nbformat_minor": 2
}
