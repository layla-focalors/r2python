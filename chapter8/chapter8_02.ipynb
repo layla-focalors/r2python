{
 "cells": [
  {
   "cell_type": "code",
   "execution_count": 2,
   "metadata": {},
   "outputs": [
    {
     "name": "stdout",
     "output_type": "stream",
     "text": [
      "p-value는 0.3701로, 유의 수준 0.1보다 크거나 같다.\n",
      "따라서 귀무 가설을 기각할 수 없음\n"
     ]
    }
   ],
   "source": [
    "# 예제(8.4), p256\n",
    "from statsmodels.stats.proportion import proportions_ztest\n",
    "\n",
    "# 귀무 가설: 두 조립 절차 간의 결점 비율 차이는 없다.\n",
    "# 대립 가설: 두 조립 절차 간의 결점 비율 차이가 있다.\n",
    "\n",
    "n1 = 350 # 첫 번째 조립 절차의 샘플 크기\n",
    "x1 = 28 # 첫 번째 조립 절차에서 결점이 있는 차량 수\n",
    "n2 = 500 # 두 번째 조립 절차의 샘플 크기\n",
    "x2 = 32 # 두 번째 조립 절차에서 결점이 있는 차량 수\n",
    "\n",
    "# z-검정\n",
    "z_stat, p_value = proportions_ztest([x1, x2], [n1, n2])\n",
    "\n",
    "alpha = 0.10 # 유의 수준\n",
    "\n",
    "if p_value < alpha:\n",
    "    print(f\"p-value는 {p_value:.4f}로, 유의 수준 {alpha}보다 작다.\\n따라서 귀무 가설을 기각한다.\")\n",
    "else:\n",
    "    print(f\"p-value는 {p_value:.4f}로, 유의 수준 {alpha}보다 크거나 같다.\\n따라서 귀무 가설을 기각할 수 없음\")\n"
   ]
  }
 ],
 "metadata": {
  "kernelspec": {
   "display_name": "Python 3",
   "language": "python",
   "name": "python3"
  },
  "language_info": {
   "codemirror_mode": {
    "name": "ipython",
    "version": 3
   },
   "file_extension": ".py",
   "mimetype": "text/x-python",
   "name": "python",
   "nbconvert_exporter": "python",
   "pygments_lexer": "ipython3",
   "version": "3.11.4"
  },
  "orig_nbformat": 4
 },
 "nbformat": 4,
 "nbformat_minor": 2
}
