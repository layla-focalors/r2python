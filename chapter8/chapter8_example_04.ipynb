{
 "cells": [
  {
   "cell_type": "code",
   "execution_count": null,
   "metadata": {},
   "outputs": [],
   "source": [
    "# 연습문제 4 p274, node (10) ver2\n",
    "from scipy import stats\n",
    "\n",
    "# 도시지역의 성인여성 발병률\n",
    "city = [1] * 20 + [0] * 180\n",
    "# 농촌지역의 성인여성 발병률\n",
    "rural = [1] * 10 + [0] * 140\n",
    "\n",
    "# 두 집단 간의 비율 차이 검정\n",
    "oddsratio, p_value = stats.fisher_exact([[20, 180], [10, 140]])\n",
    "alpha = 0.05\n",
    "if p_value < alpha:   \n",
    "    print(f\"p-value는 {p_value:.4f}로, 유의 수준 {alpha}보다 작다.\\n따라서 귀무 가설을 기각한다.\")    \n",
    "else:\n",
    "    print(f\"p-value는 {p_value:.4f}로, 유의 수준 {alpha}보다 크거나 같다.\\n따라서 귀무 가설을 기각할 수 없음\")   \n"
   ]
  }
 ],
 "metadata": {
  "kernelspec": {
   "display_name": "Python 3",
   "language": "python",
   "name": "python3"
  },
  "language_info": {
   "name": "python",
   "version": "3.11.4"
  },
  "orig_nbformat": 4
 },
 "nbformat": 4,
 "nbformat_minor": 2
}
