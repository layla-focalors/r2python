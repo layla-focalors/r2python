{
 "cells": [
  {
   "cell_type": "code",
   "execution_count": 1,
   "metadata": {},
   "outputs": [
    {
     "name": "stdout",
     "output_type": "stream",
     "text": [
      "p-value는 0.3360로, 유의 수준 0.05보다 크거나 같다.\n",
      "따라서 귀무 가설을 기각할 수 없음\n"
     ]
    }
   ],
   "source": [
    "# 연습문제 10 p274\n",
    "from scipy import stats\n",
    "\n",
    "# 귀무 가설: 두 집단(도시지역과 농촌지역)의 성인 여성 발병률은 독립적이다. 즉, 발병률은 지역에 따라 달라지지 않는다.\n",
    "# 대립 가설: 두 집단(도시지역과 농촌지역)의 성인 여성 발병률은 독립적이지 않다. 즉, 발병률은 지역에 따라 달라진다.\n",
    "\n",
    "# 도시지역의 성인여성 발병률\n",
    "city = [1] * 20 + [0] * 180\n",
    "# 농촌지역의 성인여성 발병률\n",
    "rural = [1] * 10 + [0] * 140\n",
    "\n",
    "# 두 집단 간의 비율 차이 검정\n",
    "oddsratio, p_value = stats.fisher_exact([[20, 180], [10, 140]])\n",
    "alpha = 0.05\n",
    "if p_value < alpha:   \n",
    "    print(f\"p-value는 {p_value:.4f}로, 유의 수준 {alpha}보다 작다.\\n따라서 귀무 가설을 기각한다.\")    \n",
    "else:\n",
    "    print(f\"p-value는 {p_value:.4f}로, 유의 수준 {alpha}보다 크거나 같다.\\n따라서 귀무 가설을 기각할 수 없음\")   \n"
   ]
  }
 ],
 "metadata": {
  "kernelspec": {
   "display_name": "Python 3",
   "language": "python",
   "name": "python3"
  },
  "language_info": {
   "codemirror_mode": {
    "name": "ipython",
    "version": 3
   },
   "file_extension": ".py",
   "mimetype": "text/x-python",
   "name": "python",
   "nbconvert_exporter": "python",
   "pygments_lexer": "ipython3",
   "version": "3.11.4"
  },
  "orig_nbformat": 4
 },
 "nbformat": 4,
 "nbformat_minor": 2
}
