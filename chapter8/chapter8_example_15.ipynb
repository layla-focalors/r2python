{
 "cells": [
  {
   "cell_type": "code",
   "execution_count": 1,
   "metadata": {},
   "outputs": [
    {
     "name": "stdout",
     "output_type": "stream",
     "text": [
      "p-value: 0.2289\n",
      "p-value는 0.2289로, 유의 수준 0.01보다 크거나 같다.\n",
      "따라서 귀무 가설을 기각할 수 없음\n"
     ]
    }
   ],
   "source": [
    "# 연습문제 15 p278, node (23)\n",
    "from scipy import stats\n",
    "\n",
    "# 귀무가설: 두 암기법의 평균은 같다\n",
    "# 대립가설: 두 암기법의 평균은 다르다\n",
    "\n",
    "learnA = [5, 2, 4, 7, 4, 4, 8, 3, 7, 6]  # 암기법 A\n",
    "learnB = [6, 5, 4, 9, 4, 6, 8, 5, 6, 7]  # 암기법 B\n",
    "\n",
    "# t-검정\n",
    "t_stat, p_value = stats.ttest_ind(learnA, learnB)\n",
    "print(f'p-value: {p_value:.4f}')\n",
    "\n",
    "alpha = 0.01\n",
    "if p_value < alpha:   \n",
    "    print(f\"p-value는 {p_value:.4f}로, 유의 수준 {alpha}보다 작다.\\n따라서 귀무 가설을 기각한다.\")    \n",
    "else:\n",
    "    print(f\"p-value는 {p_value:.4f}로, 유의 수준 {alpha}보다 크거나 같다.\\n따라서 귀무 가설을 기각할 수 없음\")  \n"
   ]
  }
 ],
 "metadata": {
  "kernelspec": {
   "display_name": "Python 3",
   "language": "python",
   "name": "python3"
  },
  "language_info": {
   "codemirror_mode": {
    "name": "ipython",
    "version": 3
   },
   "file_extension": ".py",
   "mimetype": "text/x-python",
   "name": "python",
   "nbconvert_exporter": "python",
   "pygments_lexer": "ipython3",
   "version": "3.11.4"
  },
  "orig_nbformat": 4
 },
 "nbformat": 4,
 "nbformat_minor": 2
}
