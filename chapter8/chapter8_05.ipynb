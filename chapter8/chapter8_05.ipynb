{
 "cells": [
  {
   "cell_type": "code",
   "execution_count": 3,
   "metadata": {},
   "outputs": [
    {
     "name": "stdout",
     "output_type": "stream",
     "text": [
      "p-value는 0.0229로, 유의 수준 0.05보다 작다. \n",
      "따라서 귀무 가설을 기각하고 대립 가설을 채택한다.\n"
     ]
    }
   ],
   "source": [
    "# 연습문제 5 / 예제(8.9), p262\n",
    "from scipy import stats\n",
    "import numpy as np\n",
    "\n",
    "# 귀무 가설: 유럽의 성인 몸무게와 미국 성인의 몸무게는 같다.\n",
    "# 대립 가설: 유럽의 성인 몸무게가 미국 성인의 몸무게보다 작다.\n",
    "\n",
    "n1     = 15 # 유럽 성인 샘플 크기\n",
    "x1     = 154 # 유럽 성인 표본 평균\n",
    "sigma1 = 10 # 유럽 성인 모표준편차\n",
    "\n",
    "n2     = 18 # 미국 성인 샘플 크기\n",
    "x2     = 162 # 미국 성인 표본 평균\n",
    "sigma2 = 13 # 미국 성인 모표준편차\n",
    "\n",
    "# z-검정\n",
    "z_stat = (x1 - x2) / np.sqrt(sigma1**2 / n1 + sigma2**2 / n2)\n",
    "p_value = stats.norm.cdf(z_stat)\n",
    "\n",
    "alpha = 0.05 # 유의 수준\n",
    "if p_value < alpha:\n",
    "    print(f\"p-value는 {p_value:.4f}로, 유의 수준 {alpha}보다 작다. \\n따라서 귀무 가설을 기각하고 대립 가설을 채택한다.\")\n",
    "else:\n",
    "    print(f\"p-value는 {p_value:.4f}로, 유의 수준 {alpha}보다 크거나 같다. \\n따라서 귀무 가설을 기각할 수 없다.\")\n"
   ]
  }
 ],
 "metadata": {
  "kernelspec": {
   "display_name": "Python 3",
   "language": "python",
   "name": "python3"
  },
  "language_info": {
   "codemirror_mode": {
    "name": "ipython",
    "version": 3
   },
   "file_extension": ".py",
   "mimetype": "text/x-python",
   "name": "python",
   "nbconvert_exporter": "python",
   "pygments_lexer": "ipython3",
   "version": "3.11.4"
  },
  "orig_nbformat": 4
 },
 "nbformat": 4,
 "nbformat_minor": 2
}
