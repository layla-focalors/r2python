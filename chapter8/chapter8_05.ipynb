{
 "cells": [
  {
   "cell_type": "code",
   "execution_count": 3,
   "metadata": {},
   "outputs": [
    {
     "name": "stdout",
     "output_type": "stream",
     "text": [
      "p-value는 0.0229로, 유의 수준 0.05보다 작다. \n",
      "따라서 귀무 가설을 기각하고 대립 가설을 채택한다.\n"
     ]
    }
   ],
   "source": [
    "# 예제(8.9), p262\n",
    "from scipy import stats\n",
    "import numpy as np\n",
    "\n",
    "# 귀무 가설: 유럽의 성인 몸무게와 미국 성인의 몸무게는 같다.\n",
    "# 대립 가설: 유럽의 성인 몸무게가 미국 성인의 몸무게보다 작다.\n",
    "\n",
    "n1     = 15  # 유럽 성인 샘플 크기\n",
    "x1     = 154 # 유럽 성인 표본 평균\n",
    "sigma1 = 10  # 유럽 성인 모표준편차\n",
    "\n",
    "n2     = 18  # 미국 성인 샘플 크기\n",
    "x2     = 162 # 미국 성인 표본 평균\n",
    "sigma2 = 13  # 미국 성인 모표준편차\n",
    "\n",
    "# z-검정\n",
    "z_stat = (x1 - x2) / np.sqrt(sigma1**2 / n1 + sigma2**2 / n2)\n",
    "p_value = stats.norm.cdf(z_stat)\n",
    "\n",
    "alpha = 0.05 # 유의 수준\n",
    "if p_value < alpha:\n",
    "    print(f\"p-value는 {p_value:.4f}로, 유의 수준 {alpha}보다 작다. \\n따라서 귀무 가설을 기각하고 대립 가설을 채택한다.\")\n",
    "else:\n",
    "    print(f\"p-value는 {p_value:.4f}로, 유의 수준 {alpha}보다 크거나 같다. \\n따라서 귀무 가설을 기각할 수 없다.\")\n"
   ]
  },
  {
   "cell_type": "code",
   "execution_count": 2,
   "metadata": {},
   "outputs": [
    {
     "name": "stdout",
     "output_type": "stream",
     "text": [
      "t-statistic: 1.8441709660261045\n",
      "p-value: 0.07415212776510759\n",
      "\n",
      "p-value는 0.0742로, 유의 수준 0.1보다 작다. \n",
      "따라서 귀무 가설을 기각하고 대립 가설을 채택한다.\n"
     ]
    }
   ],
   "source": [
    "import numpy as np\n",
    "from scipy import stats\n",
    "\n",
    "# 귀무가설 : 회사 A와 회사 B의 컴퓨터 평균 고장 시간은 같다\n",
    "# 대립가설 : 회사 A와 회사 B의 컴퓨터 평균 고장 시간은 다르다\n",
    "\n",
    "# 데이터\n",
    "company_a = np.random.normal(125, 37, 20)\n",
    "company_b = np.random.normal(115, 45, 15)\n",
    "\n",
    "# t-검정 수행\n",
    "t_stat, p_value = stats.ttest_ind(company_a, company_b)\n",
    "\n",
    "# 결과 출력\n",
    "print(f\"t-statistic: {t_stat}\")\n",
    "print(f\"p-value: {p_value}\\n\")\n",
    "\n",
    "# 유의 수준 0.10과 p-value 비교\n",
    "alpha = 0.10 # 유의 수준\n",
    "if p_value < alpha:\n",
    "    print(f\"p-value는 {p_value:.4f}로, 유의 수준 {alpha}보다 작다. \\n따라서 귀무 가설을 기각하고 대립 가설을 채택한다.\")\n",
    "else:\n",
    "    print(f\"p-value는 {p_value:.4f}로, 유의 수준 {alpha}보다 크거나 같다. \\n따라서 귀무 가설을 기각할 수 없다.\")\n"
   ]
  },
  {
   "cell_type": "code",
   "execution_count": 3,
   "metadata": {},
   "outputs": [
    {
     "name": "stdout",
     "output_type": "stream",
     "text": [
      "기각역: -0.8662\n",
      "검정통계량: 1.33\n",
      "\n",
      "t_stat는 1.33로, 유의 수준 0.2보다 크거나 같다.\n",
      "따라서 귀무 가설을 기각할 수 없음\n"
     ]
    }
   ],
   "source": [
    "from scipy.stats import t\n",
    "\n",
    "# 귀무가설: µ가 10이다      | µ = 10\n",
    "# 대립가설: µ가 10보다 적다 | µ > 10\n",
    "\n",
    "n     = 16 # 표본 크기\n",
    "x_bar = 11 # 표본 평균\n",
    "mu    = 10 # 귀무가설에 따른 모평균\n",
    "s     = 3  # 표본 표준편차\n",
    "\n",
    "# 기각역 계산\n",
    "alpha = 0.2 # 유의수준\n",
    "t_crit = t.ppf(alpha, n-1) \n",
    "\n",
    "# 유의수준 기반 기각역 계산\n",
    "rejection_region = (t_crit)\n",
    "print(f'기각역: {round((rejection_region), 4)}')\n",
    "\n",
    "# t-검정\n",
    "t_stat = (x_bar - mu) / (s / n**0.5)\n",
    "print(f'검정통계량: {round((t_stat), 2)}\\n')\n",
    "\n",
    "if t_stat < t_crit:   \n",
    "    print(f\"t_stat는 {round((t_stat), 2)}로, 유의 수준 {alpha}보다 작다.\\n따라서 귀무 가설을 기각한다.\")    \n",
    "else:\n",
    "    print(f\"t_stat는 {round((t_stat), 2)}로, 유의 수준 {alpha}보다 크거나 같다.\\n따라서 귀무 가설을 기각할 수 없음\")   "
   ]
  },
  {
   "cell_type": "code",
   "execution_count": 4,
   "metadata": {},
   "outputs": [
    {
     "name": "stdout",
     "output_type": "stream",
     "text": [
      "기각역: 0.8662\n",
      "검정통계량: 1.33\n",
      "\n",
      "t_stat는 1.33로, 유의 수준 0.2보다 크다.\n",
      "따라서 귀무 가설을 기각한다.\n"
     ]
    }
   ],
   "source": [
    "from scipy.stats import t\n",
    "\n",
    "# 귀무가설: µ가 10이다      | µ = 10\n",
    "# 대립가설: µ가 10보다 크다 | µ > 10\n",
    "\n",
    "n     = 16 # 표본 크기\n",
    "x_bar = 11 # 표본 평균\n",
    "mu    = 10 # 귀무가설에 따른 모평균\n",
    "s     = 3  # 표본 표준편차\n",
    "\n",
    "# 기각역 계산\n",
    "alpha = 0.2 # 유의수준\n",
    "t_crit = t.ppf(1-alpha, n-1) \n",
    "\n",
    "# 유의수준 기반 기각역 계산\n",
    "rejection_region = (t_crit)\n",
    "print(f'기각역: {round((rejection_region), 4)}')\n",
    "\n",
    "# t-검정\n",
    "t_stat = (x_bar - mu) / (s / n**0.5)\n",
    "print(f'검정통계량: {round((t_stat), 2)}\\n')\n",
    "\n",
    "if t_stat > t_crit:   \n",
    "    print(f\"t_stat는 {round((t_stat), 2)}로, 유의 수준 {alpha}보다 크다.\\n따라서 귀무 가설을 기각한다.\")    \n",
    "else:\n",
    "    print(f\"t_stat는 {round((t_stat), 2)}로, 유의 수준 {alpha}보다 작거나 같다.\\n따라서 귀무 가설을 기각할 수 없음\")\n"
   ]
  },
  {
   "cell_type": "code",
   "execution_count": 6,
   "metadata": {},
   "outputs": [
    {
     "name": "stdout",
     "output_type": "stream",
     "text": [
      "통합분산: 15.3612\n",
      "p-value: 1.3550195956491572e-05\n",
      "\n",
      "p-value는 0.0000로, 유의 수준 0.05보다 작다.\n",
      "따라서 귀무 가설을 기각한다.\n",
      "\n",
      "t-value -5.345024082400142\n",
      "두 모평균의 차이에 대한 95% 신뢰구간 : -8.0000 ± 3.0766\n"
     ]
    }
   ],
   "source": [
    "import numpy as np\n",
    "from scipy import stats\n",
    "\n",
    "# 데이터 입력\n",
    "n1 = 12\n",
    "x1 = 35\n",
    "s1 = 4.2\n",
    "\n",
    "n2 = 16\n",
    "x2 = 43\n",
    "s2 = 3.7\n",
    "\n",
    "# 통합분산 계산\n",
    "pooled_var = ((n1 - 1) * s1**2 + (n2 - 1) * s2**2) / (n1 + n2 - 2)\n",
    "print(f'통합분산: {pooled_var:.4f}')\n",
    "\n",
    "# t-검정\n",
    "t_stat, p_value = stats.ttest_ind_from_stats(x1, s1, n1, x2, s2, n2, equal_var=True)\n",
    "print(f'p-value: {p_value}\\n')\n",
    "\n",
    "alpha = 0.05\n",
    "if p_value < alpha:   \n",
    "    print(f\"p-value는 {p_value:.4f}로, 유의 수준 {alpha}보다 작다.\\n따라서 귀무 가설을 기각한다.\\n\")    \n",
    "else:\n",
    "    print(f\"p-value는 {p_value:.4f}로, 유의 수준 {alpha}보다 크거나 같다.\\n따라서 귀무 가설을 기각할 수 없음\\n\")  \n",
    "\n",
    "# 두 모평균의 차이에 대한 95% 신뢰구간 계산\n",
    "diff_mean = x1 - x2\n",
    "se = np.sqrt(pooled_var * (1/n1 + 1/n2))\n",
    "margin_of_error = stats.t.ppf(0.975, df=n1+n2-2) * se\n",
    "ci = [diff_mean - margin_of_error, diff_mean + margin_of_error]\n",
    "\n",
    "print(f\"t-value {t_stat}\")\n",
    "print(f'두 모평균의 차이에 대한 95% 신뢰구간 : {diff_mean:.4f} ± {margin_of_error:.4f}')\n"
   ]
  },
  {
   "cell_type": "code",
   "execution_count": 8,
   "metadata": {},
   "outputs": [
    {
     "name": "stdout",
     "output_type": "stream",
     "text": [
      "검정통계량: 8.7636\n",
      "p-value: 0.06728899139887037\n",
      "\n",
      "p-value는 0.0673로, 유의 수준 0.05보다 크거나 같다.\n",
      "따라서 귀무 가설을 기각할 수 없음\n"
     ]
    }
   ],
   "source": [
    "from scipy import stats\n",
    "\n",
    "# 데이터 입력\n",
    "고졸_이하 = [40, 32, 10]\n",
    "대졸_이하 = [92, 50, 28]\n",
    "대학원_이상 = [16, 20, 12]\n",
    "\n",
    "# 카이제곱 검정\n",
    "\n",
    "observed = [고졸_이하, 대졸_이하, 대학원_이상]\n",
    "\n",
    "chi2_stat, p_value, dof, expected = stats.chi2_contingency(observed)\n",
    "\n",
    "print(f\"검정통계량: {chi2_stat:.4f}\")\n",
    "print(f\"p-value: {p_value}\\n\")\n",
    "\n",
    "alpha = 0.05\n",
    "if p_value < alpha:   \n",
    "    print(f\"p-value는 {p_value:.4f}로, 유의 수준 {alpha}보다 작다.\\n따라서 귀무 가설을 기각한다.\")    \n",
    "else:\n",
    "    print(f\"p-value는 {p_value:.4f}로, 유의 수준 {alpha}보다 크거나 같다.\\n따라서 귀무 가설을 기각할 수 없음\")   \n"
   ]
  },
  {
   "cell_type": "code",
   "execution_count": 9,
   "metadata": {},
   "outputs": [
    {
     "name": "stdout",
     "output_type": "stream",
     "text": [
      "1. 상관계수 r : -0.9787\n",
      "2. 회귀직선의 방정식: y = 153.1755 ± -6.3240x\n",
      "3. 강우량이 5.8 일 때 대기오염 제거정도: 116.496\n"
     ]
    }
   ],
   "source": [
    "import numpy as np\n",
    "\n",
    "x = np.array([4.3, 4.5, 5.9, 5.6, 6.1, 5.2, 3.8, 2.1, 7.5])\n",
    "y = np.array([126, 121, 116, 118, 114, 118, 132, 141, 108])\n",
    "\n",
    "# 1. 상관계수 계산\n",
    "r = np.corrcoef(x, y)[0, 1]\n",
    "print(f'1. 상관계수 r : {r:.4f}')\n",
    "\n",
    "# 2. 회귀직선의 방정식 계산\n",
    "b1, b0 = np.polyfit(x, y, 1)\n",
    "print(f'2. 회귀직선의 방정식: y = {b0:.4f} ± {b1:.4f}x')\n",
    "\n",
    "# 3. 강우량이 x = 5.8 일 때 대기오염 제거정도 추정\n",
    "x = 5.8\n",
    "y_hat = b0 + b1 * x\n",
    "print(f'3. 강우량이 {x} 일 때 대기오염 제거정도: {y_hat:.3f}')\n"
   ]
  },
  {
   "cell_type": "code",
   "execution_count": 10,
   "metadata": {},
   "outputs": [
    {
     "name": "stderr",
     "output_type": "stream",
     "text": [
      "c:\\Users\\starl\\AppData\\Local\\Programs\\Python\\Python310\\lib\\site-packages\\IPython\\core\\pylabtools.py:152: UserWarning: Glyph 51064 (\\N{HANGUL SYLLABLE IN}) missing from current font.\n",
      "  fig.canvas.print_figure(bytes_io, **kw)\n",
      "c:\\Users\\starl\\AppData\\Local\\Programs\\Python\\Python310\\lib\\site-packages\\IPython\\core\\pylabtools.py:152: UserWarning: Glyph 44396 (\\N{HANGUL SYLLABLE GU}) missing from current font.\n",
      "  fig.canvas.print_figure(bytes_io, **kw)\n",
      "c:\\Users\\starl\\AppData\\Local\\Programs\\Python\\Python310\\lib\\site-packages\\IPython\\core\\pylabtools.py:152: UserWarning: Glyph 49328 (\\N{HANGUL SYLLABLE SAN}) missing from current font.\n",
      "  fig.canvas.print_figure(bytes_io, **kw)\n",
      "c:\\Users\\starl\\AppData\\Local\\Programs\\Python\\Python310\\lib\\site-packages\\IPython\\core\\pylabtools.py:152: UserWarning: Glyph 51216 (\\N{HANGUL SYLLABLE JEOM}) missing from current font.\n",
      "  fig.canvas.print_figure(bytes_io, **kw)\n",
      "c:\\Users\\starl\\AppData\\Local\\Programs\\Python\\Python310\\lib\\site-packages\\IPython\\core\\pylabtools.py:152: UserWarning: Glyph 46020 (\\N{HANGUL SYLLABLE DO}) missing from current font.\n",
      "  fig.canvas.print_figure(bytes_io, **kw)\n",
      "c:\\Users\\starl\\AppData\\Local\\Programs\\Python\\Python310\\lib\\site-packages\\IPython\\core\\pylabtools.py:152: UserWarning: Glyph 45380 (\\N{HANGUL SYLLABLE NYEON}) missing from current font.\n",
      "  fig.canvas.print_figure(bytes_io, **kw)\n",
      "c:\\Users\\starl\\AppData\\Local\\Programs\\Python\\Python310\\lib\\site-packages\\IPython\\core\\pylabtools.py:152: UserWarning: Glyph 51092 (\\N{HANGUL SYLLABLE JAN}) missing from current font.\n",
      "  fig.canvas.print_figure(bytes_io, **kw)\n",
      "c:\\Users\\starl\\AppData\\Local\\Programs\\Python\\Python310\\lib\\site-packages\\IPython\\core\\pylabtools.py:152: UserWarning: Glyph 52264 (\\N{HANGUL SYLLABLE CA}) missing from current font.\n",
      "  fig.canvas.print_figure(bytes_io, **kw)\n",
      "c:\\Users\\starl\\AppData\\Local\\Programs\\Python\\Python310\\lib\\site-packages\\IPython\\core\\pylabtools.py:152: UserWarning: Glyph 54540 (\\N{HANGUL SYLLABLE PEUL}) missing from current font.\n",
      "  fig.canvas.print_figure(bytes_io, **kw)\n",
      "c:\\Users\\starl\\AppData\\Local\\Programs\\Python\\Python310\\lib\\site-packages\\IPython\\core\\pylabtools.py:152: UserWarning: Glyph 47215 (\\N{HANGUL SYLLABLE ROS}) missing from current font.\n",
      "  fig.canvas.print_figure(bytes_io, **kw)\n"
     ]
    },
    {
     "data": {
      "image/png": "[encoded data removed]",
      "text/plain": [
       "<Figure size 1000x500 with 2 Axes>"
      ]
     },
     "metadata": {},
     "output_type": "display_data"
    }
   ],
   "source": [
    "import numpy as np\n",
    "import matplotlib.pyplot as plt\n",
    "from scipy import stats\n",
    "\n",
    "x = np.array([1950, 1960, 1970, 1980, 1990])\n",
    "y = np.array([50, 67, 91, 122, 165])\n",
    "\n",
    "# 로그 변환\n",
    "log_y = np.log(y)\n",
    "\n",
    "# 로그 변환 후 회귀직선의 방정식 계산\n",
    "log_slope, log_intercept, _, _, _ = stats.linregress(x, log_y)\n",
    "\n",
    "# 로그 변환 후 예측값과 잔차 계산\n",
    "log_y_hat = log_intercept + log_slope * x\n",
    "log_residuals = log_y - log_y_hat\n",
    "\n",
    "# 산점도와 잔차플롯 그리기\n",
    "fig, (ax1, ax2) = plt.subplots(1, 2, figsize=(10, 5))\n",
    "\n",
    "ax1.scatter(x, y)\n",
    "ax1.plot(x, np.exp(log_y_hat), color='r')  # 로그 변환을 원래 스케일로 되돌림\n",
    "ax1.set_xlabel('년도')\n",
    "ax1.set_ylabel('인구')\n",
    "ax1.set_title('산점도')\n",
    "\n",
    "ax2.scatter(x, log_residuals)\n",
    "ax2.axhline(y=0, color='r', linestyle='--')\n",
    "ax2.set_xlabel('년도')\n",
    "ax2.set_ylabel('잔차')\n",
    "ax2.set_title('잔차플롯')\n",
    "\n",
    "plt.show()\n"
   ]
  }
 ],
 "metadata": {
  "kernelspec": {
   "display_name": "Python 3",
   "language": "python",
   "name": "python3"
  },
  "language_info": {
   "codemirror_mode": {
    "name": "ipython",
    "version": 3
   },
   "file_extension": ".py",
   "mimetype": "text/x-python",
   "name": "python",
   "nbconvert_exporter": "python",
   "pygments_lexer": "ipython3",
   "version": "3.10.6"
  },
  "orig_nbformat": 4
 },
 "nbformat": 4,
 "nbformat_minor": 2
}
