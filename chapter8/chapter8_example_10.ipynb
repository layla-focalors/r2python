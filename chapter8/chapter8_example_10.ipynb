{
 "cells": [
  {
   "cell_type": "code",
   "execution_count": 8,
   "metadata": {},
   "outputs": [
    {
     "name": "stdout",
     "output_type": "stream",
     "text": [
      "기각역: -0.8662\n",
      "검정통계량: 1.33\n",
      "\n",
      "t_stat는 1.33로, 유의 수준 0.2보다 크거나 같다.\n",
      "따라서 귀무 가설을 기각할 수 없음\n"
     ]
    }
   ],
   "source": [
    "# 연습문제 10 p276, node (19)\n",
    "from scipy.stats import t\n",
    "\n",
    "# 귀무가설: 뮤가 10이다      | mu = 10\n",
    "# 대립가설: 뮤가 10보다 적다 | mu < 10\n",
    "\n",
    "n     = 16 # 표본 크기\n",
    "x_bar = 11 # 표본 평균\n",
    "mu    = 10 # 귀무가설에 따른 모평균\n",
    "s     = 3  # 표본 표준편차\n",
    "\n",
    "# 기각역 계산\n",
    "alpha = 0.2 # 유의수준\n",
    "t_crit = t.ppf(alpha, n-1)\n",
    "# 유의수준 기반 기각역 계산\n",
    "rejection_region = (t_crit)\n",
    "print(f'기각역: {round((rejection_region), 4)}')\n",
    "\n",
    "# t-검정\n",
    "t_stat = (x_bar - mu) / (s / n**0.5)\n",
    "print(f'검정통계량: {round((t_stat), 2)}\\n')\n",
    "\n",
    "if t_stat < t_crit:   \n",
    "    print(f\"t_stat는 {round((t_stat), 2)}로, 유의 수준 {alpha}보다 작다.\\n따라서 귀무 가설을 기각한다.\")    \n",
    "else:\n",
    "    print(f\"t_stat는 {round((t_stat), 2)}로, 유의 수준 {alpha}보다 크거나 같다.\\n따라서 귀무 가설을 기각할 수 없음\")   \n"
   ]
  },
  {
   "cell_type": "code",
   "execution_count": null,
   "metadata": {},
   "outputs": [],
   "source": [
    "# recheck (1)"
   ]
  }
 ],
 "metadata": {
  "kernelspec": {
   "display_name": "Python 3",
   "language": "python",
   "name": "python3"
  },
  "language_info": {
   "codemirror_mode": {
    "name": "ipython",
    "version": 3
   },
   "file_extension": ".py",
   "mimetype": "text/x-python",
   "name": "python",
   "nbconvert_exporter": "python",
   "pygments_lexer": "ipython3",
   "version": "3.11.4"
  },
  "orig_nbformat": 4
 },
 "nbformat": 4,
 "nbformat_minor": 2
}
