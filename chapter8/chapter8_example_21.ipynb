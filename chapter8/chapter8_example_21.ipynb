{
 "cells": [
  {
   "cell_type": "code",
   "execution_count": 1,
   "metadata": {},
   "outputs": [
    {
     "name": "stdout",
     "output_type": "stream",
     "text": [
      "Chi-statistic: 42.3652\n",
      "p-value: 0.0117\n",
      "\n",
      "p-value는 0.0117로, 유의 수준 0.05보다 작다.\n",
      "따라서 귀무 가설을 기각한다.\n"
     ]
    }
   ],
   "source": [
    "# 연습문제 21 p280, node (32)\n",
    "\n",
    "# 기계로 채워지는 음료수는 만일 함량의 분산이 1.15dl을 초과하면 관리하에 있지 않다고 한다. 이 기계로부터 25개의 음료수를 추출하여 함량을 조사한 결과 표본분산이 2.03dl로 나타났다. 기계가 관리하에 있지 않다는 가설을 유의수준 0.05로 검정하라\n",
    "\n",
    "# [ 조건 ] : 함량의 분포는 근사적으로 정규분포를 따른다.\n",
    "\n",
    "from scipy import stats\n",
    "\n",
    "# 귀무가설 : 기계가 관리하에 있다.\n",
    "# 대립가설 : 기계가 관리하에 있지 않다.\n",
    "\n",
    "n = 25\n",
    "sample_variance = 2.03\n",
    "population_variance = 1.15\n",
    "\n",
    "chi_squared_statistic = (n - 1) * sample_variance / population_variance\n",
    "p_value = 1 - stats.chi2.cdf(chi_squared_statistic, n - 1)\n",
    "\n",
    "print(f\"Chi-statistic: {chi_squared_statistic:.4f}\")\n",
    "print(f\"p-value: {p_value:.4f}\\n\")\n",
    "\n",
    "alpha = 0.05\n",
    "if p_value < alpha:   \n",
    "    print(f\"p-value는 {p_value:.4f}로, 유의 수준 {alpha}보다 작다.\\n따라서 귀무 가설을 기각한다.\")    \n",
    "else:\n",
    "    print(f\"p-value는 {p_value:.4f}로, 유의 수준 {alpha}보다 크거나 같다.\\n따라서 귀무 가설을 기각할 수 없음\")  \n"
   ]
  }
 ],
 "metadata": {
  "kernelspec": {
   "display_name": "Python 3",
   "language": "python",
   "name": "python3"
  },
  "language_info": {
   "codemirror_mode": {
    "name": "ipython",
    "version": 3
   },
   "file_extension": ".py",
   "mimetype": "text/x-python",
   "name": "python",
   "nbconvert_exporter": "python",
   "pygments_lexer": "ipython3",
   "version": "3.11.4"
  },
  "orig_nbformat": 4
 },
 "nbformat": 4,
 "nbformat_minor": 2
}
