{
 "cells": [
  {
   "cell_type": "code",
   "execution_count": 1,
   "metadata": {},
   "outputs": [
    {
     "name": "stdout",
     "output_type": "stream",
     "text": [
      "p-value: 0.0001\n",
      "p-value는 0.0003로, 유의 수준 0.01보다 작다.\n",
      "따라서 귀무 가설을 기각한다.\n"
     ]
    }
   ],
   "source": [
    "# 연습문제 14 p277, node (23)\n",
    "from scipy import stats\n",
    "import numpy as np\n",
    "\n",
    "# 귀무가설: 4년제 대학생과 2년제 대학생의 주당 과제물 수행 시간의 평균은 같다\n",
    "# 대립가설: 4년제 대학생의 주당 과제물 수행 시간의 평균이 2년제 대학생보다 높다\n",
    "\n",
    "n1 = 47            # 4년제 대학생 표본 크기\n",
    "x1 = 18.6          # 4년제 대학생 표본 평균\n",
    "s1 = np.sqrt(22.4) # 4년제 대학생 표본 표준편차\n",
    "\n",
    "n2 = 36            # 2년제 대학생 표본 크기\n",
    "x2 = 14.7          # 2년제 대학생 표본 평균\n",
    "s2 = np.sqrt(20.9) # 2년제 대학생 표본 표준편차\n",
    "\n",
    "# t-검정\n",
    "t_stat, p_value = stats.ttest_ind_from_stats(x1, s1, n1, x2, s2, n2, equal_var=False)\n",
    "print(f'p-value: {p_value/2:.4f}')\n",
    "\n",
    "alpha = 0.01\n",
    "if p_value < alpha:   \n",
    "    print(f\"p-value는 {p_value:.4f}로, 유의 수준 {alpha}보다 작다.\\n따라서 귀무 가설을 기각한다.\")    \n",
    "else:\n",
    "    print(f\"p-value는 {p_value:.4f}로, 유의 수준 {alpha}보다 크거나 같다.\\n따라서 귀무 가설을 기각할 수 없음\") \n"
   ]
  }
 ],
 "metadata": {
  "kernelspec": {
   "display_name": "Python 3",
   "language": "python",
   "name": "python3"
  },
  "language_info": {
   "codemirror_mode": {
    "name": "ipython",
    "version": 3
   },
   "file_extension": ".py",
   "mimetype": "text/x-python",
   "name": "python",
   "nbconvert_exporter": "python",
   "pygments_lexer": "ipython3",
   "version": "3.11.4"
  },
  "orig_nbformat": 4
 },
 "nbformat": 4,
 "nbformat_minor": 2
}
