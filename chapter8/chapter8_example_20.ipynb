{
 "cells": [
  {
   "cell_type": "code",
   "execution_count": 1,
   "metadata": {},
   "outputs": [
    {
     "name": "stdout",
     "output_type": "stream",
     "text": [
      "검정통계량 : 18.1333\n",
      "p-value : 0.0337\n",
      "\n",
      "p-value는 0.0337로, 유의 수준 0.01보다 크거나 같다.\n",
      "따라서 귀무 가설을 기각할 수 없음\n"
     ]
    }
   ],
   "source": [
    "# 연습문제 31 p280\n",
    "\n",
    "# 특별한 윤활유 용기들의 용량은 분산 0.3L 의 분산을 가지고 정규분포를 따르는 것으로 알려져 있다. 모분산이 0.03인가를 검정하기 위하여 10개의 용기를 추출하여 다음 자료를 얻었을 때 검정하시오\n",
    "\n",
    "# [ 조건 ] : 유의수준 0.01로 검정하여라\n",
    "\n",
    "from scipy import stats\n",
    "\n",
    "# 귀무가설: 모분산이 0.03이다\n",
    "# 대립가설: 모분산이 0.03이 아니다\n",
    "\n",
    "l = [10.2, 9.7, 10.1, 10.3, 10.1, 9.8, 9.9, 10.4, 10.3, 9.8]\n",
    "n = len(l)\n",
    "s2 = sum((x - sum(l)/n)**2 for x in l) / (n-1)\n",
    "chi2_stat = (n-1) * s2 / 0.03\n",
    "p_value = stats.chi2.sf(chi2_stat, n-1)\n",
    "\n",
    "print(f\"검정통계량 : {chi2_stat:.4f}\")\n",
    "print(f\"p-value : {p_value:.4f}\\n\")\n",
    "\n",
    "alpha = 0.01\n",
    "if p_value < alpha:   \n",
    "    print(f\"p-value는 {p_value:.4f}로, 유의 수준 {alpha}보다 작다.\\n따라서 귀무 가설을 기각한다.\")    \n",
    "else:\n",
    "    print(f\"p-value는 {p_value:.4f}로, 유의 수준 {alpha}보다 크거나 같다.\\n따라서 귀무 가설을 기각할 수 없음\")  \n"
   ]
  },
  {
   "cell_type": "code",
   "execution_count": 1,
   "metadata": {},
   "outputs": [
    {
     "name": "stdout",
     "output_type": "stream",
     "text": [
      "검정통계량 : 18.1333\n",
      "p-value : 0.0337\n",
      "\n",
      "p-value는 0.0337로, 유의 수준 0.01보다 크거나 같다.\n",
      "따라서 귀무 가설을 기각할 수 없음\n"
     ]
    }
   ],
   "source": [
    "# 연습문제 31 p280\n",
    "\n",
    "# [ 조건 ] : 유의수준 0.01로 검정하여라\n",
    "\n",
    "from scipy import stats\n",
    "\n",
    "# 귀무가설: 모분산이 0.03이다\n",
    "# 대립가설: 모분산이 0.03이 아니다\n",
    "\n",
    "l = [10.2, 9.7, 10.1, 10.3, 10.1, 9.8, 9.9, 10.4, 10.3, 9.8]\n",
    "n = len(l)\n",
    "s2 = sum((x - sum(l)/n)**2 for x in l) / (n-1)\n",
    "chi2_stat = (n-1) * s2 / 0.03\n",
    "p_value = stats.chi2.sf(chi2_stat, n-1)\n",
    "\n",
    "print(f\"검정통계량 : {chi2_stat:.4f}\")\n",
    "print(f\"p-value : {p_value:.4f}\\n\")\n",
    "\n",
    "alpha = 0.01\n",
    "if p_value < alpha:   \n",
    "    print(f\"p-value는 {p_value:.4f}로, 유의 수준 {alpha}보다 작다.\\n따라서 귀무 가설을 기각한다.\")    \n",
    "else:\n",
    "    print(f\"p-value는 {p_value:.4f}로, 유의 수준 {alpha}보다 크거나 같다.\\n따라서 귀무 가설을 기각할 수 없음\")  \n"
   ]
  }
 ],
 "metadata": {
  "kernelspec": {
   "display_name": "Python 3",
   "language": "python",
   "name": "python3"
  },
  "language_info": {
   "codemirror_mode": {
    "name": "ipython",
    "version": 3
   },
   "file_extension": ".py",
   "mimetype": "text/x-python",
   "name": "python",
   "nbconvert_exporter": "python",
   "pygments_lexer": "ipython3",
   "version": "3.10.0"
  },
  "orig_nbformat": 4
 },
 "nbformat": 4,
 "nbformat_minor": 2
}
