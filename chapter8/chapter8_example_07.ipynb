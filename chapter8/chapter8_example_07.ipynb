{
 "cells": [
  {
   "cell_type": "code",
   "execution_count": 1,
   "metadata": {},
   "outputs": [
    {
     "name": "stdout",
     "output_type": "stream",
     "text": [
      "p-value: 0.0216\n",
      "p-value는 0.0216로, 유의 수준 0.05보다 작다.\n",
      "따라서 귀무 가설을 기각한다.\n"
     ]
    }
   ],
   "source": [
    "# 연습문제 14 p275\n",
    "from scipy.stats import norm\n",
    "\n",
    "# 귀무가설: 한국사람의 평균수명은 70년 이하이다\n",
    "# 대립가설: 한국사람의 평균수명은 70년 초과이다\n",
    "\n",
    "n     = 100  # 표본 크기\n",
    "x_bar = 71.8 # 표본 평균\n",
    "mu    = 70   # 귀무가설에 따른 모평균\n",
    "sigma = 8.9  # 모표준편차\n",
    "\n",
    "# z-검정\n",
    "z = (x_bar - mu) / (sigma / n**0.5)\n",
    "p_value = norm.sf(z)\n",
    "print(f'p-value: {p_value:.4f}')\n",
    "\n",
    "alpha = 0.05\n",
    "if p_value < alpha:   \n",
    "    print(f\"p-value는 {p_value:.4f}로, 유의 수준 {alpha}보다 작다.\\n따라서 귀무 가설을 기각한다.\")    \n",
    "else:\n",
    "    print(f\"p-value는 {p_value:.4f}로, 유의 수준 {alpha}보다 크거나 같다.\\n따라서 귀무 가설을 기각할 수 없음\")   \n"
   ]
  }
 ],
 "metadata": {
  "kernelspec": {
   "display_name": "Python 3",
   "language": "python",
   "name": "python3"
  },
  "language_info": {
   "codemirror_mode": {
    "name": "ipython",
    "version": 3
   },
   "file_extension": ".py",
   "mimetype": "text/x-python",
   "name": "python",
   "nbconvert_exporter": "python",
   "pygments_lexer": "ipython3",
   "version": "3.11.4"
  },
  "orig_nbformat": 4
 },
 "nbformat": 4,
 "nbformat_minor": 2
}
