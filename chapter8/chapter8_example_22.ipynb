{
 "cells": [
  {
   "cell_type": "code",
   "execution_count": 1,
   "metadata": {},
   "outputs": [
    {
     "name": "stdout",
     "output_type": "stream",
     "text": [
      "statistics : 1.4400\n",
      "p-value : 0.9976\n",
      "p-value는 0.9976로, 유의 수준 0.05보다 크거나 같다.\n",
      "따라서 귀무 가설을 기각할 수 없음\n"
     ]
    }
   ],
   "source": [
    "# 연습문제 22 p280, node (33)\n",
    "\n",
    "# 병에 자동으로 음료를 채우는 시스템에서 채워지는 음료수 양의 분산이 1g이하일 때 시스템이 안정적이라고 할 수 있다. 품질관리 책임자가 음료수병 10개를 임의로 추출하여 음료수의 양을 측정한 결과 표본분산 s^2 = 0.16 이라면 이 시스템의 분산이 1g 이하로 시스템이 안정적인지 유의수준 5%에서 검정하시오.\n",
    "\n",
    "from scipy import stats\n",
    "\n",
    "# 귀무가설 : 시스템이 안정적이다. ( 분산이 1g 이하이다. )\n",
    "# 대립가설 : 시스템이 안정적이지 않다. ( 분산이 1g 이하가 아니다. )\n",
    "\n",
    "n = 10\n",
    "s2 = 0.16\n",
    "alpha = 0.05\n",
    "chi2_stat = (n-1) * s2 / 1\n",
    "p_value = stats.chi2.sf(chi2_stat, n-1)\n",
    "\n",
    "print(f\"statistics : {chi2_stat:.4f}\")\n",
    "print(f\"p-value : {p_value:.4f}\\n\")\n",
    "\n",
    "if p_value < alpha:   \n",
    "    print(f\"p-value는 {p_value:.4f}로, 유의 수준 {alpha}보다 작다.\\n따라서 귀무 가설을 기각한다.\")    \n",
    "else:\n",
    "    print(f\"p-value는 {p_value:.4f}로, 유의 수준 {alpha}보다 크거나 같다.\\n따라서 귀무 가설을 기각할 수 없음\") \n"
   ]
  }
 ],
 "metadata": {
  "kernelspec": {
   "display_name": "Python 3",
   "language": "python",
   "name": "python3"
  },
  "language_info": {
   "codemirror_mode": {
    "name": "ipython",
    "version": 3
   },
   "file_extension": ".py",
   "mimetype": "text/x-python",
   "name": "python",
   "nbconvert_exporter": "python",
   "pygments_lexer": "ipython3",
   "version": "3.11.4"
  },
  "orig_nbformat": 4
 },
 "nbformat": 4,
 "nbformat_minor": 2
}
