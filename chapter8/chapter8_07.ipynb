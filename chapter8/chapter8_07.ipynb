{
 "cells": [
  {
   "cell_type": "code",
   "execution_count": 2,
   "metadata": {},
   "outputs": [
    {
     "name": "stdout",
     "output_type": "stream",
     "text": [
      "p-value는 0.1948로, 유의 수준 0.05보다 크거나 같다. \n",
      "따라서 귀무 가설을 기각할 수 없다.\n"
     ]
    }
   ],
   "source": [
    "# 연습문제 7 / 예제(8.14), p269\n",
    "from scipy import stats\n",
    "\n",
    "# 귀무 가설: 새로운 정신안정제의 효과와 가짜약에 의한 효과는 같다.\n",
    "# 대립 가설: 새로운 정신안정제의 효과가 가짜약에 의한 효과보다 좋다.\n",
    "\n",
    "d = [-3, -7, -3, -2, 1, -1, 1, 8, -8, 1] # 차이\n",
    "\n",
    "# t-검정\n",
    "t_stat, p_value = stats.ttest_1samp(d, popmean=0)\n",
    "\n",
    "alpha = 0.05 # 유의 수준\n",
    "if p_value / 2 < alpha:\n",
    "    print(f\"p-value는 {p_value / 2:.4f}로, 유의 수준 {alpha}보다 작다. \\n따라서 귀무 가설을 기각하고 대립 가설을 채택한다.\")\n",
    "else:\n",
    "    print(f\"p-value는 {p_value / 2:.4f}로, 유의 수준 {alpha}보다 크거나 같다. \\n따라서 귀무 가설을 기각할 수 없다.\")\n"
   ]
  }
 ],
 "metadata": {
  "kernelspec": {
   "display_name": "Python 3",
   "language": "python",
   "name": "python3"
  },
  "language_info": {
   "codemirror_mode": {
    "name": "ipython",
    "version": 3
   },
   "file_extension": ".py",
   "mimetype": "text/x-python",
   "name": "python",
   "nbconvert_exporter": "python",
   "pygments_lexer": "ipython3",
   "version": "3.11.4"
  },
  "orig_nbformat": 4
 },
 "nbformat": 4,
 "nbformat_minor": 2
}
