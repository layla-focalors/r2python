{
 "cells": [
  {
   "cell_type": "code",
   "execution_count": 2,
   "metadata": {},
   "outputs": [
    {
     "name": "stdout",
     "output_type": "stream",
     "text": [
      "1. 재선의 가능성에 대한 검정\n",
      "p-value는 0.1775로, 유의 수준 0.05보다 크거나 같다. \n",
      "따라서 귀무 가설을 기각할 수 없다.\n"
     ]
    }
   ],
   "source": [
    "# 연습문제 1 p273, node (3) - A\n",
    "import numpy as np\n",
    "from statsmodels.stats.proportion import proportions_ztest\n",
    "\n",
    "# 귀무 가설: 시장의 지지율은 50% 이하이다.\n",
    "# 대립 가설: 시장의 지지율은 50% 초과이다.\n",
    "\n",
    "n = 300 # 샘플 크기\n",
    "x = 158 # 지지하는 유권자 수\n",
    "p = 0.5 # 귀무 가설 하에서의 비율\n",
    "\n",
    "# z-검정\n",
    "z_stat, p_value = proportions_ztest(x, n, p, alternative='larger')\n",
    "\n",
    "alpha = 0.05 # 유의 수준\n",
    "print(\"1. 재선의 가능성에 대한 검정\")\n",
    "if p_value < alpha:\n",
    "    print(f\"p-value는 {p_value:.4f}로, 유의 수준 {alpha}보다 작다. \\n따라서 귀무 가설을 기각하고 대립 가설을 채택한다.\")\n",
    "else:\n",
    "    print(f\"p-value는 {p_value:.4f}로, 유의 수준 {alpha}보다 크거나 같다. \\n따라서 귀무 가설을 기각할 수 없다.\")\n",
    "# 검정 결과에 따른 결론 : 시장은 재선 가능성이 있다\n"
   ]
  },
  {
   "cell_type": "code",
   "execution_count": 6,
   "metadata": {},
   "outputs": [
    {
     "name": "stdout",
     "output_type": "stream",
     "text": [
      "2. 4년 전에 비하여 지지율이 내려갔다고 할 수 있는가? \n",
      "p-value는 0.1238로, 유의 수준 0.05보다 크거나 같다. \n",
      "따라서 귀무 가설을 기각할 수 없다.\n"
     ]
    }
   ],
   "source": [
    "# 연습문제 1 p273, node (3) - B\n",
    "from scipy import stats\n",
    "from statsmodels.stats.proportion import proportions_ztest\n",
    "\n",
    "# 귀무 가설: 시장의 지지율은 4년전과 같다.\n",
    "# 대립 가설: 시장의 지지율은 4년전보다 낮다.\n",
    "\n",
    "n = 300  # 샘플 크기\n",
    "x = 158  # 지지하는 유권자 수\n",
    "p = 0.56 # 귀무 가설 하에서의 비율\n",
    "\n",
    "# z-검정\n",
    "z_stat, p_value = proportions_ztest(x, n, p, alternative='smaller')\n",
    "\n",
    "alpha = 0.05 # 유의 수준\n",
    "print(\"2. 4년 전에 비하여 지지율이 내려갔다고 할 수 있는가? \")\n",
    "if p_value < alpha:\n",
    "    print(f\"p-value는 {p_value:.4f}로, 유의 수준 {alpha}보다 작다. \\n따라서 귀무 가설을 기각하고 대립 가설을 채택한다.\")\n",
    "else:\n",
    "    print(f\"p-value는 {p_value:.4f}로, 유의 수준 {alpha}보다 크거나 같다. \\n따라서 귀무 가설을 기각할 수 없다.\")\n",
    "# 검정 결과에 따른 결론 : 지지율이 4년전에 비해 내려갔다고 할 수 없다.\n"
   ]
  },
  {
   "cell_type": "code",
   "execution_count": 10,
   "metadata": {},
   "outputs": [
    {
     "name": "stdout",
     "output_type": "stream",
     "text": [
      "재선에 대한 95% 신뢰구간 : (0.47 < X < 0.58).\n"
     ]
    }
   ],
   "source": [
    "# 연습문제 1 p273, node (3) - C / 신뢰구간 95% 구간 추정\n",
    "import math\n",
    "\n",
    "n = 300   # 샘플 크기\n",
    "x = 158   # 지지하는 유권자 수\n",
    "p = x / n # 지지율\n",
    "se = math.sqrt(p * (1 - p) / n)\n",
    "me = 1.96 * se\n",
    "\n",
    "lower = p - me\n",
    "upper = p + me\n",
    "\n",
    "print(f\"재선에 대한 95% 신뢰구간 : ({lower:.2f} < X < {upper:.2f}).\")\n"
   ]
  },
  {
   "cell_type": "code",
   "execution_count": 8,
   "metadata": {},
   "outputs": [
    {
     "name": "stdout",
     "output_type": "stream",
     "text": [
      "1. 재선의 가능성에 대한 검정\n",
      "p-value는 0.1775로, 유의 수준 0.05보다 크거나 같다. \n",
      "따라서 귀무 가설을 기각할 수 없다.\n",
      "\n",
      "2. 4년 전에 비하여 지지율이 내려갔다고 할 수 있는가?\n",
      "p-value는 0.1238로, 유의 수준 0.05보다 크거나 같다. \n",
      "따라서 귀무 가설을 기각할 수 없다.\n"
     ]
    }
   ],
   "source": [
    "# 연습문제 1 p273, node (3) - 통합 코드 / 재선의 가능성을 구하는 코드\n",
    "# 연습문제 1 p273, node (3) - A\n",
    "import numpy as np\n",
    "from statsmodels.stats.proportion import proportions_ztest\n",
    "\n",
    "# 귀무 가설: 시장의 지지율은 50% 이하이다.\n",
    "# 대립 가설: 시장의 지지율은 50% 초과이다.\n",
    "\n",
    "n = 300  # 샘플 크기\n",
    "x = 158  # 지지하는 유권자 수\n",
    "p = 0.5  # 귀무 가설 하에서의 비율\n",
    "P = 0.56 # 비율2\n",
    "\n",
    "# z-검정\n",
    "z_stat, p_value = proportions_ztest(x, n, p, alternative='larger')\n",
    "\n",
    "alpha = 0.05 # 유의 수준\n",
    "print(\"1. 재선의 가능성에 대한 검정\")\n",
    "if p_value < alpha:\n",
    "    print(f\"p-value는 {p_value:.4f}로, 유의 수준 {alpha}보다 작다. \\n따라서 귀무 가설을 기각하고 대립 가설을 채택한다.\")\n",
    "else:\n",
    "    print(f\"p-value는 {p_value:.4f}로, 유의 수준 {alpha}보다 크거나 같다. \\n따라서 귀무 가설을 기각할 수 없다.\\n\")\n",
    "# 검정 결과에 따른 결론 : 시장은 재선 가능성이 있다\n",
    "z_stat, p_value = proportions_ztest(x, n, P, alternative='smaller')\n",
    "\n",
    "alpha = 0.05 # 유의 수준\n",
    "print(\"2. 4년 전에 비하여 지지율이 내려갔다고 할 수 있는가?\")\n",
    "if p_value < alpha:\n",
    "    print(f\"p-value는 {p_value:.4f}로, 유의 수준 {alpha}보다 작다. \\n따라서 귀무 가설을 기각하고 대립 가설을 채택한다.\")\n",
    "else:\n",
    "    print(f\"p-value는 {p_value:.4f}로, 유의 수준 {alpha}보다 크거나 같다. \\n따라서 귀무 가설을 기각할 수 없다.\")\n",
    "# 검정 결과에 따른 결론 : 지지율이 4년전에 비해 내려갔다고 할 수 없다.\n"
   ]
  },
  {
   "cell_type": "code",
   "execution_count": null,
   "metadata": {},
   "outputs": [],
   "source": [
    "# need rcheck 1 - Type A"
   ]
  }
 ],
 "metadata": {
  "kernelspec": {
   "display_name": "Python 3",
   "language": "python",
   "name": "python3"
  },
  "language_info": {
   "codemirror_mode": {
    "name": "ipython",
    "version": 3
   },
   "file_extension": ".py",
   "mimetype": "text/x-python",
   "name": "python",
   "nbconvert_exporter": "python",
   "pygments_lexer": "ipython3",
   "version": "3.11.4"
  },
  "orig_nbformat": 4
 },
 "nbformat": 4,
 "nbformat_minor": 2
}
