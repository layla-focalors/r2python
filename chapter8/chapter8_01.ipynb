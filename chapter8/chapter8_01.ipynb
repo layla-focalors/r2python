{
 "cells": [
  {
   "cell_type": "code",
   "execution_count": 1,
   "metadata": {},
   "outputs": [
    {
     "name": "stdout",
     "output_type": "stream",
     "text": [
      "p-value는 0.0947로, 유의 수준 0.1보다 작다.\n",
      "따라서 귀무 가설을 기각한다.\n"
     ]
    }
   ],
   "source": [
    "# 08 검정\n",
    "# 예제 8.1 \n",
    "from statsmodels.stats.proportion import proportions_ztest\n",
    "\n",
    "# 귀무 가설: 연합 일원들 중 쟁의를 지지하는 비율은 75% 이하이다.\n",
    "# 대립 가설: 연합 일원들 중 쟁의를 지지하는 비율은 75% 초과이다.\n",
    "\n",
    "n = 125 # 샘플 크기\n",
    "x = 87 # 샘플 중 쟁의를 지지하는 인원 수\n",
    "p = 0.75 # 귀무 가설 하에서의 비율\n",
    "\n",
    "# z-검정\n",
    "z_stat, p_value = proportions_ztest(x, n, p, alternative='smaller')\n",
    "\n",
    "alpha = 0.10 # 유의 수준\n",
    "if p_value < alpha:   \n",
    "    print(f\"p-value는 {p_value:.4f}로, 유의 수준 {alpha}보다 작다.\\n따라서 귀무 가설을 기각한다.\")    \n",
    "else:\n",
    "    print(f\"p-value는 {p_value:.4f}로, 유의 수준 {alpha}보다 크거나 같다.\\n따라서 귀무 가설을 기각할 수 없음\")   \n",
    "\n"
   ]
  },
  {
   "cell_type": "code",
   "execution_count": 6,
   "metadata": {},
   "outputs": [
    {
     "name": "stdout",
     "output_type": "stream",
     "text": [
      "검정 통계량: 4.4307\n",
      "p-value: 0.9999953043720962\n",
      "\n",
      "p-value는 1.0000로, 유의 수준 0.1보다 크거나 같다.\n",
      "따라서 귀무 가설을 기각할 수 없음\n"
     ]
    }
   ],
   "source": [
    "from statsmodels.stats.proportion import proportions_ztest\n",
    "\n",
    "# 데이터 설정\n",
    "count = 520  # 성공 횟수\n",
    "nobs = 1000  # 시행 횟수\n",
    "value = 360/800  # 귀무 가설의 비율\n",
    "\n",
    "# 귀무가설 : 후보자의 유명세는 변하지 않았다. (p = 360/800)\n",
    "# 대립가설 : 후보자의 유명세가 떨어졌다. (p < 360/800)\n",
    "\n",
    "# 가설 검정 수행\n",
    "stat, pval = proportions_ztest(count, nobs, value, alternative='smaller')\n",
    "\n",
    "print(f\"검정 통계량: {round((stat), 4)}\")\n",
    "print(f\"p-value: {pval}\\n\")\n",
    "\n",
    "# p-value가 유의 수준 0.10보다 작으면 귀무 가설을 기각\n",
    "alpha = 0.10\n",
    "if pval < alpha:   \n",
    "    print(f\"p-value는 {pval:.4f}로, 유의 수준 {alpha}보다 작다.\\n따라서 귀무 가설을 기각한다.\")    \n",
    "else:\n",
    "    print(f\"p-value는 {pval:.4f}로, 유의 수준 {alpha}보다 크거나 같다.\\n따라서 귀무 가설을 기각할 수 없음\")   "
   ]
  }
 ],
 "metadata": {
  "kernelspec": {
   "display_name": "Python 3",
   "language": "python",
   "name": "python3"
  },
  "language_info": {
   "codemirror_mode": {
    "name": "ipython",
    "version": 3
   },
   "file_extension": ".py",
   "mimetype": "text/x-python",
   "name": "python",
   "nbconvert_exporter": "python",
   "pygments_lexer": "ipython3",
   "version": "3.10.6"
  },
  "orig_nbformat": 4
 },
 "nbformat": 4,
 "nbformat_minor": 2
}
