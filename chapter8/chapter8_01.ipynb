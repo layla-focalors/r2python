{
 "cells": [
  {
   "cell_type": "code",
   "execution_count": 15,
   "metadata": {},
   "outputs": [
    {
     "name": "stdout",
     "output_type": "stream",
     "text": [
      "z-stat : -1.3125243062307317 \n",
      "p-value : 0.9053283547778355\n",
      "기각 실패\n"
     ]
    }
   ],
   "source": [
    "# 연습문제 1 / 예제(8.1), p253\n",
    "from statsmodels.stats.proportion import proportions_ztest\n",
    "\n",
    "# 귀무 가설: 연합 일원들 중 75% 이상이 쟁의를 지지할 것이다.\n",
    "# 대립 가설: 연합 일원들 중 75% 는 쟁의를 지지하지 않을 것이다.\n",
    "\n",
    "n = 125 # 샘플 크기\n",
    "x = 87 # 샘플 중 쟁의를 지지하는 인원 수\n",
    "p = 0.75 # 귀무 가설 하에서의 비율\n",
    "\n",
    "# z-검정\n",
    "z_stat, p_value = proportions_ztest(x, n, p, alternative='larger')\n",
    "print(f\"z-stat : {z_stat} \\np-value : {p_value}\")\n",
    "\n",
    "alpha = 0.10 # 유의 수준\n",
    "if p_value < alpha:\n",
    "    print('귀무 가설 기각')\n",
    "else:\n",
    "    print('기각 실패')\n"
   ]
  },
  {
   "cell_type": "code",
   "execution_count": null,
   "metadata": {},
   "outputs": [],
   "source": [
    "# 점검 필요"
   ]
  }
 ],
 "metadata": {
  "kernelspec": {
   "display_name": "Python 3",
   "language": "python",
   "name": "python3"
  },
  "language_info": {
   "codemirror_mode": {
    "name": "ipython",
    "version": 3
   },
   "file_extension": ".py",
   "mimetype": "text/x-python",
   "name": "python",
   "nbconvert_exporter": "python",
   "pygments_lexer": "ipython3",
   "version": "3.11.4"
  },
  "orig_nbformat": 4
 },
 "nbformat": 4,
 "nbformat_minor": 2
}
