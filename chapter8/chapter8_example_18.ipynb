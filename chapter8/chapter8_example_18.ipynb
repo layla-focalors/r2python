{
 "cells": [
  {
   "cell_type": "code",
   "execution_count": 2,
   "metadata": {},
   "outputs": [
    {
     "name": "stdout",
     "output_type": "stream",
     "text": [
      "95% 신뢰구간 : (-5.13 < X < 5.53)\n"
     ]
    }
   ],
   "source": [
    "# 연습문제 18 p279, node (29)\n",
    "\n",
    "# 대학교 신입생을 대상으로 쌍을 이루는 IQ가 비슷한 두 사람을 뽑아 10쌍을 골랐을 때, 각 쌍의 임의의 한 사람에게는 교수방법A로, 다른 사람은 교수방법B로 통계학을 가르친 후 시험을 본 결과가 다음과 같을 때, 두 교수방법의 점수차이에 대한 진짜 평균의 95% 신뢰구간을 구하시오.\n",
    "\n",
    "# [ 조건 ] : 두 모집단의 점수 차에 대한 분포는 정규분포이다.\n",
    "\n",
    "import numpy as np\n",
    "from scipy import stats\n",
    "\n",
    "A = [76, 60, 85, 58, 91, 75, 82, 64, 70, 88]\n",
    "B = [81, 52, 87, 70, 86, 77, 90, 63, 58, 83]\n",
    "\n",
    "diff = np.array(A) - np.array(B)\n",
    "mean_diff = np.mean(diff)\n",
    "std_diff = np.std(diff, ddof=1)\n",
    "\n",
    "t_value = stats.t.ppf(0.975, len(diff)-1)\n",
    "margin_of_error = t_value * std_diff / np.sqrt(len(diff))\n",
    "\n",
    "lower_bound = mean_diff - margin_of_error\n",
    "upper_bound = mean_diff + margin_of_error\n",
    "\n",
    "print(f\"95% 신뢰구간 : ({lower_bound:.2f} < X < {upper_bound:.2f})\")\n"
   ]
  }
 ],
 "metadata": {
  "kernelspec": {
   "display_name": "Python 3",
   "language": "python",
   "name": "python3"
  },
  "language_info": {
   "codemirror_mode": {
    "name": "ipython",
    "version": 3
   },
   "file_extension": ".py",
   "mimetype": "text/x-python",
   "name": "python",
   "nbconvert_exporter": "python",
   "pygments_lexer": "ipython3",
   "version": "3.11.4"
  },
  "orig_nbformat": 4
 },
 "nbformat": 4,
 "nbformat_minor": 2
}
