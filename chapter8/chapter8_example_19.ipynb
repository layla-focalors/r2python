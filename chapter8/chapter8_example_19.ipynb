{
 "cells": [
  {
   "cell_type": "code",
   "execution_count": 1,
   "metadata": {},
   "outputs": [
    {
     "name": "stdout",
     "output_type": "stream",
     "text": [
      "t-statistic : -3.1498\n",
      "p-value: 0.0039\n",
      "\n",
      "p-value는 0.0039로, 유의 수준 0.05보다 작다.\n",
      "따라서 귀무 가설을 기각한다.\n"
     ]
    }
   ],
   "source": [
    "# 연습문제 30 p279\n",
    "\n",
    "# 15명의 남자 대학생을 기준으로 피로하지 않은 상태와 피로한 상태에서 외부자극에 반응을 나타내기까지 시간을 측정한 기록이 다음과 같을 때, 피로한 상태에서는 신체기능조절능력이 떨어진다고 할 수 있는지 검정하시오\n",
    "\n",
    "# [ 조건 ] : 모집단은 정규분포를 따른다.\n",
    "\n",
    "from scipy import stats\n",
    "\n",
    "# 귀무가설 : 피로한 상태에서 신체기능조절능력이 떨어지지 않는다.\n",
    "# 대립가설 : 피로한 상태에서 신체기능조절능력이 떨어진다.\n",
    "\n",
    "non_fatigued = [158, 92, 65, 98, 33, 89, 148, 58, 142, 117, 74, 66, 109, 57, 85]\n",
    "fatigued = [91, 59, 215, 226, 223, 91, 92, 177, 134, 116, 153, 219, 143, 164, 100]\n",
    "\n",
    "t_statistic, p_value = stats.ttest_ind(non_fatigued,fatigued)\n",
    "print(f\"t-statistic : {t_statistic:.4f}\")\n",
    "print(f\"p-value: {p_value:.4f}\\n\")\n",
    "\n",
    "alpha = 0.05\n",
    "if p_value < alpha:   \n",
    "    print(f\"p-value는 {p_value:.4f}로, 유의 수준 {alpha}보다 작다.\\n따라서 귀무 가설을 기각한다.\")    \n",
    "else:\n",
    "    print(f\"p-value는 {p_value:.4f}로, 유의 수준 {alpha}보다 크거나 같다.\\n따라서 귀무 가설을 기각할 수 없음\")   \n"
   ]
  }
 ],
 "metadata": {
  "kernelspec": {
   "display_name": "Python 3",
   "language": "python",
   "name": "python3"
  },
  "language_info": {
   "codemirror_mode": {
    "name": "ipython",
    "version": 3
   },
   "file_extension": ".py",
   "mimetype": "text/x-python",
   "name": "python",
   "nbconvert_exporter": "python",
   "pygments_lexer": "ipython3",
   "version": "3.11.4"
  },
  "orig_nbformat": 4
 },
 "nbformat": 4,
 "nbformat_minor": 2
}
