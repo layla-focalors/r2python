{
 "cells": [
  {
   "cell_type": "code",
   "execution_count": 2,
   "metadata": {},
   "outputs": [
    {
     "name": "stdout",
     "output_type": "stream",
     "text": [
      "p-value: 0.1344\n",
      "p-value는 0.1344로, 유의 수준 0.05보다 크거나 같다.\n",
      "따라서 귀무 가설을 기각할 수 없음\n"
     ]
    }
   ],
   "source": [
    "# 연습문제 9 p276, node (18)\n",
    "from scipy.stats import t\n",
    "# type = t검정\n",
    "\n",
    "# 귀무가설: 에디슨 진공청소기의 연평균 전력사용량은 46kwh 이상이다\n",
    "# 대립가설: 에디슨 진공청소기의 연평균 전력사용량은 46kwh 미만이다\n",
    "\n",
    "n     = 12   # 표본 크기\n",
    "x_bar = 42   # 표본 평균\n",
    "mu    = 46   # 귀무가설에 따른 모평균\n",
    "s     = 11.9 # 표본 표준편차\n",
    "\n",
    "# t-검정\n",
    "t_stat = (x_bar - mu) / (s / n**0.5)\n",
    "p_value = t.cdf(t_stat, n-1)\n",
    "# -일 경우 abs로 절대값으로 취하면 된다. ( 예제 : 8e8 참조, t.cdf(np.abs(tstat)) )\n",
    "\n",
    "print(f'p-value: {p_value:.4f}')\n",
    "\n",
    "alpha = 0.05\n",
    "if p_value < alpha:   \n",
    "    print(f\"p-value는 {p_value:.4f}로, 유의 수준 {alpha}보다 작다.\\n따라서 귀무 가설을 기각한다.\")    \n",
    "else:\n",
    "    print(f\"p-value는 {p_value:.4f}로, 유의 수준 {alpha}보다 크거나 같다.\\n따라서 귀무 가설을 기각할 수 없음\")  \n"
   ]
  }
 ],
 "metadata": {
  "kernelspec": {
   "display_name": "Python 3",
   "language": "python",
   "name": "python3"
  },
  "language_info": {
   "codemirror_mode": {
    "name": "ipython",
    "version": 3
   },
   "file_extension": ".py",
   "mimetype": "text/x-python",
   "name": "python",
   "nbconvert_exporter": "python",
   "pygments_lexer": "ipython3",
   "version": "3.11.4"
  },
  "orig_nbformat": 4
 },
 "nbformat": 4,
 "nbformat_minor": 2
}
