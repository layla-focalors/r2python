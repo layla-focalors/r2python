{
 "cells": [
  {
   "cell_type": "code",
   "execution_count": 1,
   "metadata": {},
   "outputs": [
    {
     "name": "stdout",
     "output_type": "stream",
     "text": [
      "p-value: 0.0053\n",
      "p-value는 0.0053로, 유의 수준 0.05보다 작다.\n",
      "따라서 귀무 가설을 기각한다.\n"
     ]
    }
   ],
   "source": [
    "# 연습문제 13 p275\n",
    "from scipy.stats import chi2_contingency\n",
    "\n",
    "# 귀무가설: 시와 인접지역의 유권자 지지율은 같다\n",
    "# 대립가설: 시와 인접지역의 유권자 지지율은 다르다\n",
    "\n",
    "observed = [[120, 80], [240, 260]] # 시와 인접지역의 찬성/반대 표\n",
    "\n",
    "# 카이제곱 검정\n",
    "chi2, p_value, dof, expected = chi2_contingency(observed)\n",
    "print(f'p-value: {p_value:.4f}')\n",
    "\n",
    "alpha = 0.05\n",
    "if p_value < alpha:   \n",
    "    print(f\"p-value는 {p_value:.4f}로, 유의 수준 {alpha}보다 작다.\\n따라서 귀무 가설을 기각한다.\")    \n",
    "else:\n",
    "    print(f\"p-value는 {p_value:.4f}로, 유의 수준 {alpha}보다 크거나 같다.\\n따라서 귀무 가설을 기각할 수 없음\")   \n"
   ]
  }
 ],
 "metadata": {
  "kernelspec": {
   "display_name": "Python 3",
   "language": "python",
   "name": "python3"
  },
  "language_info": {
   "codemirror_mode": {
    "name": "ipython",
    "version": 3
   },
   "file_extension": ".py",
   "mimetype": "text/x-python",
   "name": "python",
   "nbconvert_exporter": "python",
   "pygments_lexer": "ipython3",
   "version": "3.11.4"
  },
  "orig_nbformat": 4
 },
 "nbformat": 4,
 "nbformat_minor": 2
}
