{
 "cells": [
  {
   "cell_type": "code",
   "execution_count": 2,
   "metadata": {},
   "outputs": [
    {
     "name": "stdout",
     "output_type": "stream",
     "text": [
      "p-value: 0.3093\n",
      "p-value는 0.3093로, 유의 수준 0.05보다 크거나 같다.\n",
      "따라서 귀무 가설을 기각할 수 없음\n"
     ]
    }
   ],
   "source": [
    "# 연습문제 27 p278\n",
    "\n",
    "# 두 강재의 마모량을 비교하기 위한 실험을 할 때, 강재A와 강재B에 대하여 각각 12회 및 10회씩 실험한 결과 강재A의 마모량은 평균이 85, 표본표준편차가 4이고 강재B에서는 81과 5로 나타났다. 강재A의 마모량이 강재B의 마모량보다 2이상 심한지를 유의수준 0.05로 검정하라.\n",
    "\n",
    "# [ 조건 ] : 단 분산이 같은 정규분포를 근사적으로 따른다.\n",
    "\n",
    "from scipy import stats\n",
    "\n",
    "# 귀무가설: 강재A의 마모량이 강재B의 마모량보다 2 이상 심하지 않다\n",
    "# 대립가설: 강재A의 마모량이 강재B의 마모량보다 2 이상 심하다\n",
    "\n",
    "n1 = 12 # 강재A 표본 크기\n",
    "x1 = 85 # 강재A 표본 평균\n",
    "s1 = 4  # 강재A 표본 표준편차\n",
    "\n",
    "n2 = 10 # 강재B 표본 크기\n",
    "x2 = 81 + 2 # 강재B 표본 평균\n",
    "s2 = 5  # 강재B 표본 표준편차\n",
    "\n",
    "# t-검정\n",
    "t_stat, p_value = stats.ttest_ind_from_stats(x1, s1, n1, x2, s2, n2)\n",
    "print(f'p-value: {p_value:.4f}')\n",
    "\n",
    "alpha = 0.05\n",
    "if p_value < alpha:   \n",
    "    print(f\"p-value는 {p_value:.4f}로, 유의 수준 {alpha}보다 작다.\\n따라서 귀무 가설을 기각한다.\")    \n",
    "else:\n",
    "    print(f\"p-value는 {p_value:.4f}로, 유의 수준 {alpha}보다 크거나 같다.\\n따라서 귀무 가설을 기각할 수 없음\")   \n"
   ]
  },
  {
   "cell_type": "code",
   "execution_count": 1,
   "metadata": {},
   "outputs": [
    {
     "name": "stdout",
     "output_type": "stream",
     "text": [
      "p-value: 0.1547\n",
      "p-value는 0.3093로, 유의 수준 0.05보다 크거나 같다.\n",
      "따라서 귀무 가설을 기각할 수 없음\n"
     ]
    }
   ],
   "source": [
    "# 연습문제 27 p278\n",
    "\n",
    "# 두 강재의 마모량을 비교하기 위한 실험을 할 때, 강재A와 강재B에 대하여 각각 12회 및 10회씩 실험한 결과 강재A의 마모량은 평균이 85, 표본표준편차가 4이고 강재B에서는 81과 5로 나타났다. 강재A의 마모량이 강재B의 마모량보다 2이상 심한지를 유의수준 0.05로 검정하라.\n",
    "\n",
    "# [ 조건 ] : 단 분산이 같은 정규분포를 근사적으로 따른다.\n",
    "\n",
    "from scipy import stats\n",
    "\n",
    "# 귀무가설: 강재A의 마모량이 강재B의 마모량보다 2 이상 심하지 않다\n",
    "# 대립가설: 강재A의 마모량이 강재B의 마모량보다 2 이상 심하다\n",
    "\n",
    "n1 = 12 # 강재A 표본 크기\n",
    "x1 = 85 # 강재A 표본 평균\n",
    "s1 = 4  # 강재A 표본 표준편차\n",
    "\n",
    "n2 = 10 # 강재B 표본 크기\n",
    "x2 = 81 + 2 # 강재B 표본 평균\n",
    "s2 = 5  # 강재B 표본 표준편차\n",
    "\n",
    "# t-검정\n",
    "t_stat, p_value = stats.ttest_ind_from_stats(x1, s1, n1, x2, s2, n2)\n",
    "print(f'p-value: {p_value /2 :.4f}')\n",
    "\n",
    "alpha = 0.05\n",
    "if p_value < alpha:   \n",
    "    print(f\"p-value는 {p_value:.4f}로, 유의 수준 {alpha}보다 작다.\\n따라서 귀무 가설을 기각한다.\")    \n",
    "else:\n",
    "    print(f\"p-value는 {p_value:.4f}로, 유의 수준 {alpha}보다 크거나 같다.\\n따라서 귀무 가설을 기각할 수 없음\")   \n",
    "\n"
   ]
  },
  {
   "cell_type": "code",
   "execution_count": 1,
   "metadata": {},
   "outputs": [
    {
     "name": "stdout",
     "output_type": "stream",
     "text": [
      "p-value: 0.8941\n",
      "p-value는 0.8941로, 유의 수준 0.05보다 크거나 같다.\n",
      "따라서 귀무 가설을 기각할 수 없음\n"
     ]
    }
   ],
   "source": [
    "from scipy import stats\n",
    "import numpy as np\n",
    "\n",
    "# 강재A와 강재B의 마모량 데이터 생성\n",
    "data_A = np.random.normal(85, 4, 12)\n",
    "data_B = np.random.normal(81 + 2, 5, 10)  # 강재B의 마모량에 2를 더함\n",
    "\n",
    "# t-검정\n",
    "t_stat, p_value = stats.ttest_ind(data_A, data_B)\n",
    "print(f'p-value: {p_value:.4f}')\n",
    "\n",
    "alpha = 0.05\n",
    "if p_value < alpha:   \n",
    "    print(f\"p-value는 {p_value:.4f}로, 유의 수준 {alpha}보다 작다.\\n따라서 귀무 가설을 기각한다.\")    \n",
    "else:\n",
    "    print(f\"p-value는 {p_value:.4f}로, 유의 수준 {alpha}보다 크거나 같다.\\n따라서 귀무 가설을 기각할 수 없음\")   \n"
   ]
  }
 ],
 "metadata": {
  "kernelspec": {
   "display_name": "Python 3",
   "language": "python",
   "name": "python3"
  },
  "language_info": {
   "codemirror_mode": {
    "name": "ipython",
    "version": 3
   },
   "file_extension": ".py",
   "mimetype": "text/x-python",
   "name": "python",
   "nbconvert_exporter": "python",
   "pygments_lexer": "ipython3",
   "version": "3.10.6"
  },
  "orig_nbformat": 4
 },
 "nbformat": 4,
 "nbformat_minor": 2
}
