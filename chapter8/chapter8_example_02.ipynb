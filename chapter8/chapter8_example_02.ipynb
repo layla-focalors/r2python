{
 "cells": [
  {
   "cell_type": "code",
   "execution_count": 2,
   "metadata": {},
   "outputs": [
    {
     "name": "stdout",
     "output_type": "stream",
     "text": [
      "p-value는 0.0145로, 유의 수준 0.05보다 작다. \n",
      "따라서 귀무 가설을 기각하고 대립 가설을 채택한다.\n"
     ]
    }
   ],
   "source": [
    "# 연습문제 4 p273\n",
    "from statsmodels.stats.proportion import proportions_ztest\n",
    "\n",
    "# 귀무 가설: 새로운 약의 효과는 기존의 약의 효과와 같다.\n",
    "# 대립 가설: 새로운 약의 효과가 기존의 약의 효과보다 높다.\n",
    "\n",
    "n = 100 # 샘플 크기\n",
    "x = 70  # 효과를 보인 사람 수\n",
    "p = 0.6 # 귀무 가설 하에서의 비율\n",
    "\n",
    "# z-검정\n",
    "z_stat, p_value = proportions_ztest(x, n, p, alternative='larger')\n",
    "# proportions_ztest 함수를 호출하여 z-통계량과 p-값을 계산\n",
    "\n",
    "alpha = 0.05 # 유의 수준\n",
    "if p_value < alpha:\n",
    "    print(f\"p-value는 {p_value:.4f}로, 유의 수준 {alpha}보다 작다. \\n따라서 귀무 가설을 기각하고 대립 가설을 채택한다.\")\n",
    "else:\n",
    "    print(f\"p-value는 {p_value:.4f}로, 유의 수준 {alpha}보다 크거나 같습니다. \\n따라서 귀무 가설을 기각할 수 없다.\")\n"
   ]
  },
  {
   "cell_type": "code",
   "execution_count": 5,
   "metadata": {},
   "outputs": [
    {
     "name": "stdout",
     "output_type": "stream",
     "text": [
      "p-value는 0.0216로, 유의 수준 0.05보다 작다. \n",
      "따라서 귀무 가설을 기각하고 대립 가설을 채택한다.\n"
     ]
    }
   ],
   "source": [
    "import numpy as np\n",
    "from scipy.stats import norm\n",
    "\n",
    "# 귀무 가설: 새로운 약의 효과는 기존의 약의 효과와 같다.\n",
    "# 대립 가설: 새로운 약의 효과가 기존의 약의 효과보다 높다.\n",
    "\n",
    "n = 100 # 샘플 크기\n",
    "x = 70  # 효과를 보인 사람 수\n",
    "p = 0.6 # 귀무 가설 하에서의 비율\n",
    "\n",
    "# z-검정\n",
    "z_stat = (x - n*p - 0.1) / np.sqrt(n*p*(1-p)) # continuity correction 적용\n",
    "p_value = 1 - norm.cdf(z_stat)\n",
    "\n",
    "alpha = 0.05 # 유의 수준\n",
    "if p_value < alpha:\n",
    "    print(f\"p-value는 {p_value:.4f}로, 유의 수준 {alpha}보다 작다. \\n따라서 귀무 가설을 기각하고 대립 가설을 채택한다.\")\n",
    "else:\n",
    "    print(f\"p-value는 {p_value:.4f}로, 유의 수준 {alpha}보다 크거나 같습니다. \\n따라서 귀무 가설을 기각할 수 없다.\")\n"
   ]
  },
  {
   "cell_type": "code",
   "execution_count": 1,
   "metadata": {},
   "outputs": [
    {
     "name": "stdout",
     "output_type": "stream",
     "text": [
      "p-value는 0.9855로, 유의 수준 0.05보다 크거나 같습니다. \n",
      "따라서 귀무 가설을 기각할 수 없다.\n"
     ]
    }
   ],
   "source": [
    "# 연습문제 4 p273\n",
    "from statsmodels.stats.proportion import proportions_ztest\n",
    "\n",
    "# 귀무 가설: 새로운 약의 효과는 기존의 약의 효과와 같다.\n",
    "# 대립 가설: 새로운 약의 효과가 기존의 약의 효과보다 높다.\n",
    "\n",
    "n = 100 # 샘플 크기\n",
    "x = 70  # 효과를 보인 사람 수\n",
    "p = 0.6 # 귀무 가설 하에서의 비율\n",
    "\n",
    "# z-검정\n",
    "z_stat, p_value = proportions_ztest(x, n, p, alternative='smaller')\n",
    "# proportions_ztest 함수를 호출하여 z-통계량과 p-값을 계산\n",
    "\n",
    "alpha = 0.05 # 유의 수준\n",
    "if p_value < alpha:\n",
    "    print(f\"p-value는 {p_value:.4f}로, 유의 수준 {alpha}보다 작다. \\n따라서 귀무 가설을 기각하고 대립 가설을 채택한다.\")\n",
    "else:\n",
    "    print(f\"p-value는 {p_value:.4f}로, 유의 수준 {alpha}보다 크거나 같습니다. \\n따라서 귀무 가설을 기각할 수 없다.\")\n",
    "\n"
   ]
  }
 ],
 "metadata": {
  "kernelspec": {
   "display_name": "Python 3",
   "language": "python",
   "name": "python3"
  },
  "language_info": {
   "codemirror_mode": {
    "name": "ipython",
    "version": 3
   },
   "file_extension": ".py",
   "mimetype": "text/x-python",
   "name": "python",
   "nbconvert_exporter": "python",
   "pygments_lexer": "ipython3",
   "version": "3.10.6"
  },
  "orig_nbformat": 4
 },
 "nbformat": 4,
 "nbformat_minor": 2
}
