{
 "cells": [
  {
   "cell_type": "code",
   "execution_count": null,
   "metadata": {},
   "outputs": [],
   "source": [
    "# 연습문제 2 p273, node (4) \n",
    "import math\n",
    "\n",
    "# number of voters surveyed\n",
    "n = 300\n",
    "\n",
    "# number of voters in favor\n",
    "x = 158\n",
    "\n",
    "# calculate the sample proportion\n",
    "p = x / n\n",
    "\n",
    "# calculate the standard error\n",
    "se = math.sqrt(p * (1 - p) / n)\n",
    "\n",
    "# calculate the margin of error for a 95% confidence interval\n",
    "me = 1.96 * se\n",
    "\n",
    "# calculate the lower and upper bounds of the confidence interval\n",
    "lower = p - me\n",
    "upper = p + me\n",
    "\n",
    "print(f\"The 95% confidence interval for the proportion of voters in favor of re-electing the mayor is ({lower:.2f}, {upper:.2f}).\")\n"
   ]
  }
 ],
 "metadata": {
  "kernelspec": {
   "display_name": "Python 3",
   "language": "python",
   "name": "python3"
  },
  "language_info": {
   "name": "python",
   "version": "3.11.4"
  },
  "orig_nbformat": 4
 },
 "nbformat": 4,
 "nbformat_minor": 2
}
