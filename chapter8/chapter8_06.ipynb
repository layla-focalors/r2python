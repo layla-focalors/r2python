{
 "cells": [
  {
   "cell_type": "code",
   "execution_count": 1,
   "metadata": {},
   "outputs": [
    {
     "name": "stdout",
     "output_type": "stream",
     "text": [
      "p-value는 0.5369로, 유의 수준 0.05보다 크거나 같다. \n",
      "따라서 귀무 가설을 기각할 수 없다\n"
     ]
    }
   ],
   "source": [
    "# 연습문제 6 / 예제(8.12), p266\n",
    "from scipy import stats\n",
    "\n",
    "# 귀무 가설: 남성과 여성 공무원들은 경찰서에 승진을 위해 똑같은 시간을 기다린다.\n",
    "# 대립 가설: 남성과 여성 공무원들은 경찰서에 승진을 위해 다른 시간을 기다린다.\n",
    "\n",
    "male_waiting_times = [8, 7, 10, 5, 7] # 남성 공무원들의 기다린 시간\n",
    "female_waiting_times = [9, 5, 12, 8]  # 여성 공무원들의 기다린 시간\n",
    "\n",
    "# t-검정\n",
    "t_stat, p_value = stats.ttest_ind(male_waiting_times, female_waiting_times, equal_var=False)\n",
    "\n",
    "alpha = 0.05 # 유의 수준\n",
    "if p_value < alpha:\n",
    "    print(f\"p-value는 {p_value:.4f}로, 유의 수준 {alpha}보다 작다. \\n따라서 귀무 가설을 기각하고 대립 가설을 채택\")\n",
    "else:\n",
    "    print(f\"p-value는 {p_value:.4f}로, 유의 수준 {alpha}보다 크거나 같다. \\n따라서 귀무 가설을 기각할 수 없다\")\n"
   ]
  }
 ],
 "metadata": {
  "kernelspec": {
   "display_name": "Python 3",
   "language": "python",
   "name": "python3"
  },
  "language_info": {
   "codemirror_mode": {
    "name": "ipython",
    "version": 3
   },
   "file_extension": ".py",
   "mimetype": "text/x-python",
   "name": "python",
   "nbconvert_exporter": "python",
   "pygments_lexer": "ipython3",
   "version": "3.11.4"
  },
  "orig_nbformat": 4
 },
 "nbformat": 4,
 "nbformat_minor": 2
}
