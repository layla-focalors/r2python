{
 "cells": [
  {
   "cell_type": "code",
   "execution_count": 2,
   "metadata": {},
   "outputs": [
    {
     "name": "stdout",
     "output_type": "stream",
     "text": [
      "p-value는 0.0032로, 유의 수준 0.05보다 작다. \n",
      "따라서 귀무 가설을 기각하고 대립 가설을 채택한다.\n"
     ]
    }
   ],
   "source": [
    "# 연습문제 8 / 예제(8.15), p271\n",
    "from scipy import stats\n",
    "import numpy as np\n",
    "\n",
    "# 귀무 가설: 햄스터의 몸무게의 분산은 2.25 이하이다.\n",
    "# 대립 가설: 햄스터의 몸무게의 분산은 2.25 초과이다.\n",
    "\n",
    "weights = np.array([12, 8, 7, 12, 14, 13]) # 햄스터들의 몸무게\n",
    "n = len(weights)                           # 샘플 크기\n",
    "s2 = np.var(weights, ddof=1)               # 표본 분산\n",
    "sigma2 = 2.25                              # 귀무 가설 하에서의 분산\n",
    "\n",
    "# 카이제곱 검정\n",
    "chi2_stat = (n - 1) * s2 / sigma2\n",
    "p_value = stats.chi2.sf(chi2_stat, df=n-1)\n",
    "\n",
    "alpha = 0.05 # 유의 수준\n",
    "if p_value < alpha:\n",
    "    print(f\"p-value는 {p_value:.4f}로, 유의 수준 {alpha}보다 작다. \\n따라서 귀무 가설을 기각하고 대립 가설을 채택한다.\")\n",
    "else:\n",
    "    print(f\"p-value는 {p_value:.4f}로, 유의 수준 {alpha}보다 크거나 같다. \\n따라서 귀무 가설을 기각할 수 없다.\")\n"
   ]
  }
 ],
 "metadata": {
  "kernelspec": {
   "display_name": "Python 3",
   "language": "python",
   "name": "python3"
  },
  "language_info": {
   "codemirror_mode": {
    "name": "ipython",
    "version": 3
   },
   "file_extension": ".py",
   "mimetype": "text/x-python",
   "name": "python",
   "nbconvert_exporter": "python",
   "pygments_lexer": "ipython3",
   "version": "3.11.4"
  },
  "orig_nbformat": 4
 },
 "nbformat": 4,
 "nbformat_minor": 2
}
