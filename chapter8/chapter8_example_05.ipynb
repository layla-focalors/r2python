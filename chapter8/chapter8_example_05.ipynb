{
 "cells": [
  {
   "cell_type": "code",
   "execution_count": 13,
   "metadata": {},
   "outputs": [
    {
     "name": "stdout",
     "output_type": "stream",
     "text": [
      "p-value: 4.2003939760219985e-07\n",
      "p-value는 0.0000로, 유의 수준 0.02보다 작다.\n",
      "따라서 귀무 가설을 기각한다.\n"
     ]
    }
   ],
   "source": [
    "# 연습문제 5 p274, node (7) ver2\n",
    "import numpy as np\n",
    "from scipy.stats import norm\n",
    "\n",
    "# 귀무가설: 어떤 도시의 가정 중 1/5가 기름난방을 한다\n",
    "# 대립가설: 어떤 도시의 가정 중 1/5가 기름난방을 하지 않는다\n",
    "\n",
    "n = 1000 # 무작위로 추출한 가정의 수\n",
    "x = 136 # 기름난방을 하는 가정의 수\n",
    "p = 0.2 # 귀무가설에 따른 기름난방을 하는 가정의 비율\n",
    "\n",
    "# 정규 근사를 사용한 검정\n",
    "z = (x - n * p) / np.sqrt(n * p * (1 - p))\n",
    "p_value = 2 * norm.sf(np.abs(z))\n",
    "print(f'p-value: {p_value}')\n",
    "\n",
    "alpha = 0.02\n",
    "if p_value < alpha:   \n",
    "    print(f\"p-value는 {p_value:.4f}로, 유의 수준 {alpha}보다 작다.\\n따라서 귀무 가설을 기각한다.\")    \n",
    "else:\n",
    "    print(f\"p-value는 {p_value:.4f}로, 유의 수준 {alpha}보다 크거나 같다.\\n따라서 귀무 가설을 기각할 수 없음\")   "
   ]
  },
  {
   "cell_type": "code",
   "execution_count": null,
   "metadata": {},
   "outputs": [],
   "source": [
    "# ????"
   ]
  }
 ],
 "metadata": {
  "kernelspec": {
   "display_name": "Python 3",
   "language": "python",
   "name": "python3"
  },
  "language_info": {
   "codemirror_mode": {
    "name": "ipython",
    "version": 3
   },
   "file_extension": ".py",
   "mimetype": "text/x-python",
   "name": "python",
   "nbconvert_exporter": "python",
   "pygments_lexer": "ipython3",
   "version": "3.11.4"
  },
  "orig_nbformat": 4
 },
 "nbformat": 4,
 "nbformat_minor": 2
}
