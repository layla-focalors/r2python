{
 "cells": [
  {
   "cell_type": "code",
   "execution_count": null,
   "metadata": {},
   "outputs": [],
   "source": [
    "# 연습문제 5 p274, node (7) ver2\n",
    "from scipy.stats import binom_test\n",
    "\n",
    "# 귀무가설: 어떤 도시의 가정 중 기름난방을 하는 비율은 1/5이다\n",
    "# 대립가설: 어떤 도시의 가정 중 기름난방을 하는 비율은 1/5이 아니다\n",
    "\n",
    "n = 1000 # 총 가정수\n",
    "k = 136  # 기름난방을 하는 가정수\n",
    "p = 1/5  # 정유 회사의 주장\n",
    "\n",
    "# 양측검정\n",
    "p_value = binom_test(k, n, p, alternative='two-sided')\n",
    "\n",
    "print(f'p-value: {p_value:.4f}')\n",
    "\n",
    "alpha = 0.2 # 유의 수준\n",
    "if p_value < alpha:   \n",
    "    print(f\"p-value는 {p_value:.4f}로, 유의 수준 {alpha}보다 작다.\\n따라서 귀무 가설을 기각한다.\")    \n",
    "else:\n",
    "    print(f\"p-value는 {p_value:.4f}로, 유의 수준 {alpha}보다 크거나 같다.\\n따라서 귀무 가설을 기각할 수 없음\")   "
   ]
  }
 ],
 "metadata": {
  "kernelspec": {
   "display_name": "Python 3",
   "language": "python",
   "name": "python3"
  },
  "language_info": {
   "name": "python",
   "version": "3.11.4"
  },
  "orig_nbformat": 4
 },
 "nbformat": 4,
 "nbformat_minor": 2
}
