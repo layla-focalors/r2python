{
 "cells": [
  {
   "cell_type": "code",
   "execution_count": 1,
   "metadata": {},
   "outputs": [
    {
     "name": "stdout",
     "output_type": "stream",
     "text": [
      "p-value: 0.5411\n",
      "p-value는 0.5411로, 유의 수준 0.01보다 크거나 같다.\n",
      "따라서 귀무 가설을 기각할 수 없음\n"
     ]
    }
   ],
   "source": [
    "# 연습문제 17 p279, node (28)\n",
    "\n",
    "# 어느 회사에서 직업 훈련이 근로자의 능력 향상에 효과가 있는지 알아보려고 한다. 이를 위해 16명의 근로자를 추출해 직업 훈련 전과 후의 작업능률 점수를 통해 알아본 결과 아래의 데이터와 같을 때,  이 조사결과에서 훈련 전과 훈련 후의 능률이 같은지 검정하시오.\n",
    "\n",
    "# [ 조건 ] : 유의수준 1% 사용 \n",
    "\n",
    "from scipy import stats\n",
    "\n",
    "# 귀무가설: 훈련 전과 훈련 후의 능률은 같다\n",
    "# 대립가설: 훈련 전과 훈련 후의 능률은 다르다\n",
    "\n",
    "after = [80, 90, 92, 75, 86, 90, 81, 70, 89, 88, 82, 79, 91, 90, 78, 89]\n",
    "before = [75, 83, 96, 77, 81, 90, 82, 67, 94, 85, 78, 82, 98, 80, 87, 81]\n",
    "\n",
    "# t-검정\n",
    "t_stat, p_value = stats.ttest_rel(after,before)\n",
    "print(f'p-value: {p_value:.4f}')\n",
    "\n",
    "alpha = 0.01\n",
    "if p_value < alpha:   \n",
    "    print(f\"p-value는 {p_value:.4f}로, 유의 수준 {alpha}보다 작다.\\n따라서 귀무 가설을 기각한다.\")    \n",
    "else:\n",
    "    print(f\"p-value는 {p_value:.4f}로, 유의 수준 {alpha}보다 크거나 같다.\\n따라서 귀무 가설을 기각할 수 없음\")   \n"
   ]
  }
 ],
 "metadata": {
  "kernelspec": {
   "display_name": "Python 3",
   "language": "python",
   "name": "python3"
  },
  "language_info": {
   "codemirror_mode": {
    "name": "ipython",
    "version": 3
   },
   "file_extension": ".py",
   "mimetype": "text/x-python",
   "name": "python",
   "nbconvert_exporter": "python",
   "pygments_lexer": "ipython3",
   "version": "3.11.4"
  },
  "orig_nbformat": 4
 },
 "nbformat": 4,
 "nbformat_minor": 2
}
