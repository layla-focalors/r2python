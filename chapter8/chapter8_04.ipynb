{
 "cells": [
  {
   "cell_type": "code",
   "execution_count": 4,
   "metadata": {},
   "outputs": [
    {
     "name": "stdout",
     "output_type": "stream",
     "text": [
      "p-value는 0.0941로, 유의 수준 0.05보다 크거나 같다. \n",
      "따라서 귀무 가설을 기각할 수 없다\n"
     ]
    }
   ],
   "source": [
    "# 연습문제 4 / 예제(8.7), p260\n",
    "from scipy import stats\n",
    "import numpy as np\n",
    "\n",
    "# 귀무 가설: 에어컨의 새 브랜드가 전기를 하루에 6.5 킬로와트 이하로 사용한다.\n",
    "# 대립 가설: 에어컨의 새 브랜드가 전기를 하루에 6.5 킬로와트 초과로 사용한다.\n",
    "\n",
    "n = 15 # 샘플 크기\n",
    "x_bar = 7.0 # 표본 평균\n",
    "s = 1.4 # 표본 표준편차\n",
    "mu = 6.5 # 귀무 가설 하에서의 평균\n",
    "\n",
    "# t-검정\n",
    "t_stat = (x_bar - mu) / (s / np.sqrt(n))\n",
    "p_value = stats.t.sf(t_stat, df=n-1)\n",
    "\n",
    "alpha = 0.05 # 유의 수준\n",
    "if p_value < alpha:\n",
    "    print(f\"p-value는 {p_value:.4f}로, 유의 수준 {alpha}보다 작다. \\n따라서 귀무 가설을 기각하고 대립 가설을 채택한다.\")\n",
    "else:\n",
    "    print(f\"p-value는 {p_value:.4f}로, 유의 수준 {alpha}보다 크거나 같다. \\n따라서 귀무 가설을 기각할 수 없다\")\n",
    "\n"
   ]
  }
 ],
 "metadata": {
  "kernelspec": {
   "display_name": "Python 3",
   "language": "python",
   "name": "python3"
  },
  "language_info": {
   "codemirror_mode": {
    "name": "ipython",
    "version": 3
   },
   "file_extension": ".py",
   "mimetype": "text/x-python",
   "name": "python",
   "nbconvert_exporter": "python",
   "pygments_lexer": "ipython3",
   "version": "3.11.4"
  },
  "orig_nbformat": 4
 },
 "nbformat": 4,
 "nbformat_minor": 2
}
