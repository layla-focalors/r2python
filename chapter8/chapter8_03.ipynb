{
 "cells": [
  {
   "cell_type": "code",
   "execution_count": 4,
   "metadata": {},
   "outputs": [
    {
     "name": "stdout",
     "output_type": "stream",
     "text": [
      "p-value는 0.0013로, 유의 수준 0.01보다 작다. \n",
      "따라서 귀무 가설을 기각하고 대립 가설을 채택한다\n"
     ]
    }
   ],
   "source": [
    "# 예제(8.6), p258\n",
    "from scipy import stats\n",
    "import numpy as np\n",
    "\n",
    "# 귀무 가설: 판매원의 평균 판매고는 1000달러 이하이다.\n",
    "# 대립 가설: 판매원의 평균 판매고는 1000달러 초과이다.\n",
    "\n",
    "sales = np.array([1280, 1250, 990, 1100, 880, 1300, 1100, 950, 1050]) # 판매고 데이터\n",
    "mu = 1000   # 귀무 가설 하에서의 평균\n",
    "sigma = 100 # 모표준편차\n",
    "\n",
    "# z-검정\n",
    "z_stat = (np.mean(sales) - mu) / (sigma / np.sqrt(len(sales)))\n",
    "p_value = stats.norm.sf(z_stat)\n",
    "\n",
    "alpha = 0.01 # 유의 수준 / 1%유의 수준\n",
    "if p_value < alpha:\n",
    "    print(f\"p-value는 {p_value:.4f}로, 유의 수준 {alpha}보다 작다. \\n따라서 귀무 가설을 기각하고 대립 가설을 채택한다\")\n",
    "else:\n",
    "    print(f\"p-value는 {p_value:.4f}로, 유의 수준 {alpha}보다 크거나 같다. \\n따라서 귀무 가설을 기각하지 않는다\")\n"
   ]
  }
 ],
 "metadata": {
  "kernelspec": {
   "display_name": "Python 3",
   "language": "python",
   "name": "python3"
  },
  "language_info": {
   "codemirror_mode": {
    "name": "ipython",
    "version": 3
   },
   "file_extension": ".py",
   "mimetype": "text/x-python",
   "name": "python",
   "nbconvert_exporter": "python",
   "pygments_lexer": "ipython3",
   "version": "3.11.4"
  },
  "orig_nbformat": 4
 },
 "nbformat": 4,
 "nbformat_minor": 2
}
