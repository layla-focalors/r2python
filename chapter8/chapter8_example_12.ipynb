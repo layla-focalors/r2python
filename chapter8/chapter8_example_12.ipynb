{
 "cells": [
  {
   "cell_type": "code",
   "execution_count": 2,
   "metadata": {},
   "outputs": [
    {
     "name": "stdout",
     "output_type": "stream",
     "text": [
      "p-value: 6.032268826804558e-05\n",
      "p-value는 0.0001로, 유의 수준 0.05보다 작다.\n",
      "따라서 귀무 가설을 기각한다.\n"
     ]
    }
   ],
   "source": [
    "# 연습문제 12 p277, node (21)\n",
    "from scipy import stats\n",
    "import numpy as np\n",
    "\n",
    "# 귀무가설: 전구의 평균 수명은 1000시간이다\n",
    "# 대립가설: 전구의 평균 수명은 1000시간이 아니다\n",
    "\n",
    "n     = 20   # 표본 크기\n",
    "x_bar = 1612 # 표본 평균\n",
    "mu    = 1000 # 귀무가설에 따른 모평균\n",
    "s     = 495  # 표본 표준편차\n",
    "\n",
    "# 이 문제를 풀기 위해서는 반드시 정규분포여야 한다.\n",
    "# ttest_1samp 함수로 양측검정이 가능하다.\n",
    "\n",
    "# t-검정\n",
    "t_stat, p_value = stats.ttest_1samp(np.random.normal(x_bar, s, n), mu)\n",
    "print(f'p-value: {p_value}')\n",
    "\n",
    "alpha = 0.05 # 유의 수준\n",
    "if p_value < alpha:   \n",
    "    print(f\"p-value는 {p_value:.4f}로, 유의 수준 {alpha}보다 작다.\\n따라서 귀무 가설을 기각한다.\")    \n",
    "else:\n",
    "    print(f\"p-value는 {p_value:.4f}로, 유의 수준 {alpha}보다 크거나 같다.\\n따라서 귀무 가설을 기각할 수 없음\")   \n"
   ]
  }
 ],
 "metadata": {
  "kernelspec": {
   "display_name": "Python 3",
   "language": "python",
   "name": "python3"
  },
  "language_info": {
   "codemirror_mode": {
    "name": "ipython",
    "version": 3
   },
   "file_extension": ".py",
   "mimetype": "text/x-python",
   "name": "python",
   "nbconvert_exporter": "python",
   "pygments_lexer": "ipython3",
   "version": "3.11.4"
  },
  "orig_nbformat": 4
 },
 "nbformat": 4,
 "nbformat_minor": 2
}
