{
 "cells": [
  {
   "cell_type": "code",
   "execution_count": 1,
   "metadata": {},
   "outputs": [
    {
     "name": "stdout",
     "output_type": "stream",
     "text": [
      "P-값: 0.0221\n",
      "p-value는 0.0221로, 유의 수준 0.05보다 작다. \n",
      "따라서 귀무 가설을 기각하고 대립 가설을 채택한다.\n"
     ]
    }
   ],
   "source": [
    "# 연습문제 9 p274\n",
    "from scipy import stats\n",
    "\n",
    "# 도시 거주자의 지지율\n",
    "city = [1] * 63 + [0] * 37\n",
    "# 교외 거주자의 지지율\n",
    "suburb = [1] * 59 + [0] * 66\n",
    "\n",
    "# 두 집단 간의 비율 차이 검정\n",
    "oddsratio, p_value = stats.fisher_exact([[63, 37], [59, 66]])\n",
    "\n",
    "print(f'P-값: {p_value:.4f}')\n",
    "alpha = 0.05\n",
    "if p_value < alpha:\n",
    "    print(f\"p-value는 {p_value:.4f}로, 유의 수준 {alpha}보다 작다. \\n따라서 귀무 가설을 기각하고 대립 가설을 채택한다.\")\n",
    "else:\n",
    "    print(f\"p-value는 {p_value:.4f}로, 유의 수준 {alpha}보다 크거나 같습니다. \\n따라서 귀무 가설을 기각할 수 없다.\")\n"
   ]
  },
  {
   "cell_type": "code",
   "execution_count": 4,
   "metadata": {},
   "outputs": [
    {
     "name": "stdout",
     "output_type": "stream",
     "text": [
      "p-value는 0.2703로, 유의 수준 0.05보다 크거나 같습니다. \n",
      "따라서 귀무 가설을 기각할 수 없다.\n"
     ]
    }
   ],
   "source": [
    "from statsmodels.stats.proportion import proportions_ztest\n",
    "\n",
    "# 도시지역의 성인여성 발병률\n",
    "n1 = 200 # 샘플 크기\n",
    "x1 = 20 # 샘플 중 발병한 인원 수\n",
    "\n",
    "# 농촌지역의 성인여성 발병률\n",
    "n2 = 150 # 샘플 크기\n",
    "x2 = 10 # 샘플 중 발병한 인원 수\n",
    "\n",
    "# z-검정\n",
    "z_stat, p_value = proportions_ztest([x1, x2], [n1, n2])\n",
    "\n",
    "alpha = 0.05 # 유의 수준\n",
    "if p_value < alpha:\n",
    "    print(f\"p-value는 {p_value:.4f}로, 유의 수준 {alpha}보다 작다. \\n따라서 귀무 가설을 기각하고 대립 가설을 채택한다.\")\n",
    "else:\n",
    "    print(f\"p-value는 {p_value:.4f}로, 유의 수준 {alpha}보다 크거나 같습니다. \\n따라서 귀무 가설을 기각할 수 없다.\")\n"
   ]
  },
  {
   "cell_type": "code",
   "execution_count": 21,
   "metadata": {},
   "outputs": [
    {
     "name": "stdout",
     "output_type": "stream",
     "text": [
      "p-value는 0.1540로, 유의 수준 0.05보다 크거나 같다.\n",
      "따라서 귀무 가설을 기각할 수 없음\n"
     ]
    }
   ],
   "source": [
    "from scipy import stats\n",
    "\n",
    "# 귀무가설: 강재A의 마모량이 강재B의 마모량보다 2 이상 심하지 않다\n",
    "# 대립가설: 강재A의 마모량이 강재B의 마모량보다 2 이상 심하다\n",
    "\n",
    "n1 = 12 # 강재A 표본 크기\n",
    "x1 = 85 # 강재A 표본 평균\n",
    "s1 = 4  # 강재A 표본 표준편차\n",
    "\n",
    "n2 = 14 # 강재B 표본 크기\n",
    "x2 = 82 # 강재B 표본 평균\n",
    "s2 = 6  # 강재B 표본 표준편차\n",
    "\n",
    "# t-검정\n",
    "t_stat, p_value = stats.ttest_ind_from_stats(x1, s1, n1, x2, s2, n2, alternative='two-sided')\n",
    "\n",
    "alpha = 0.05\n",
    "if p_value < alpha:   \n",
    "    print(f\"p-value는 {p_value:.4f}로, 유의 수준 {alpha}보다 작다.\\n따라서 귀무 가설을 기각한다.\")    \n",
    "else:\n",
    "    print(f\"p-value는 {p_value:.4f}로, 유의 수준 {alpha}보다 크거나 같다.\\n따라서 귀무 가설을 기각할 수 없음\")   \n"
   ]
  },
  {
   "cell_type": "code",
   "execution_count": 3,
   "metadata": {},
   "outputs": [
    {
     "name": "stdout",
     "output_type": "stream",
     "text": [
      "p-value는 0.0181로, 유의 수준 0.05보다 작다. \n",
      "따라서 귀무 가설을 기각하고 대립 가설을 채택한다.\n"
     ]
    }
   ],
   "source": [
    "from statsmodels.stats.proportion import proportions_ztest\n",
    "\n",
    "# 도시 거주자의 지지율\n",
    "n1 = 100 # 샘플 크기\n",
    "x1 = 63 # 샘플 중 후보자를 지지하는 인원 수\n",
    "\n",
    "# 교외 거주자의 지지율\n",
    "n2 = 125 # 샘플 크기\n",
    "x2 = 59 # 샘플 중 후보자를 지지하는 인원 수\n",
    "\n",
    "# z-검정\n",
    "z_stat, p_value = proportions_ztest([x1, x2], [n1, n2])\n",
    "\n",
    "alpha = 0.05 # 유의 수준\n",
    "if p_value < alpha:\n",
    "    print(f\"p-value는 {p_value:.4f}로, 유의 수준 {alpha}보다 작다. \\n따라서 귀무 가설을 기각하고 대립 가설을 채택한다.\")\n",
    "else:\n",
    "    print(f\"p-value는 {p_value:.4f}로, 유의 수준 {alpha}보다 크거나 같습니다. \\n따라서 귀무 가설을 기각할 수 없다.\")\n"
   ]
  },
  {
   "cell_type": "code",
   "execution_count": 1,
   "metadata": {},
   "outputs": [
    {
     "name": "stdout",
     "output_type": "stream",
     "text": [
      "P-값: 0.0221\n",
      "p-value는 0.0221로, 유의 수준 0.05보다 작다. \n",
      "따라서 귀무 가설을 기각하고 대립 가설을 채택한다.\n"
     ]
    }
   ],
   "source": [
    "from scipy import stats\n",
    "\n",
    "# 도시 거주자의 지지율\n",
    "city_support = 63\n",
    "city_total = 100\n",
    "city_non_support = city_total - city_support\n",
    "\n",
    "# 교외 거주자의 지지율\n",
    "suburb_support = 59\n",
    "suburb_total = 125\n",
    "suburb_non_support = suburb_total - suburb_support\n",
    "\n",
    "# 두 집단 간의 비율 차이 검정\n",
    "oddsratio, p_value = stats.fisher_exact([[city_support, city_non_support], [suburb_support, suburb_non_support]])\n",
    "\n",
    "print(f'P-값: {p_value:.4f}')\n",
    "alpha = 0.05\n",
    "if p_value < alpha:\n",
    "    print(f\"p-value는 {p_value:.4f}로, 유의 수준 {alpha}보다 작다. \\n따라서 귀무 가설을 기각하고 대립 가설을 채택한다.\")\n",
    "else:\n",
    "    print(f\"p-value는 {p_value:.4f}로, 유의 수준 {alpha}보다 크거나 같습니다. \\n따라서 귀무 가설을 기각할 수 없다.\")\n"
   ]
  },
  {
   "cell_type": "code",
   "execution_count": 3,
   "metadata": {},
   "outputs": [
    {
     "name": "stdout",
     "output_type": "stream",
     "text": [
      "p-value는 0.3360로, 유의 수준 0.05보다 크거나 같다.\n",
      "따라서 귀무 가설을 기각할 수 없음\n"
     ]
    }
   ],
   "source": [
    "from scipy import stats\n",
    "\n",
    "# 귀무 가설: 두 집단(도시지역과 농촌지역)의 성인 여성 발병률은 독립적이다. 즉, 발병률은 지역에 따라 달라지지 않는다.\n",
    "# 대립 가설: 두 집단(도시지역과 농촌지역)의 성인 여성 발병률은 독립적이지 않다. 즉, 발병률은 지역에 따라 달라진다.\n",
    "\n",
    "# 도시지역의 성인여성 발병률\n",
    "city = [1] * 20 + [0] * 180\n",
    "# 농촌지역의 성인여성 발병률\n",
    "rural = [1] * 10 + [0] * 140\n",
    "\n",
    "# 두 집단 간의 비율 차이 검정\n",
    "oddsratio, p_value = stats.fisher_exact([[20, 180], [10, 140]])\n",
    "alpha = 0.05\n",
    "if p_value < alpha:   \n",
    "    print(f\"p-value는 {p_value:.4f}로, 유의 수준 {alpha}보다 작다.\\n따라서 귀무 가설을 기각한다.\")    \n",
    "else:\n",
    "    print(f\"p-value는 {p_value:.4f}로, 유의 수준 {alpha}보다 크거나 같다.\\n따라서 귀무 가설을 기각할 수 없음\")   "
   ]
  },
  {
   "cell_type": "code",
   "execution_count": 4,
   "metadata": {},
   "outputs": [
    {
     "name": "stdout",
     "output_type": "stream",
     "text": [
      "p-value: 0.0053\n",
      "p-value는 0.0053로, 유의 수준 0.05보다 작다.\n",
      "따라서 귀무 가설을 기각한다.\n"
     ]
    }
   ],
   "source": [
    "from scipy.stats import chi2_contingency\n",
    "\n",
    "# 도시지역의 유권자 지지율\n",
    "city_support = 120\n",
    "city_total = 200\n",
    "city_non_support = city_total - city_support\n",
    "\n",
    "# 인접지역의 유권자 지지율\n",
    "suburb_support = 240\n",
    "suburb_total = 500\n",
    "suburb_non_support = suburb_total - suburb_support\n",
    "\n",
    "# 귀무가설: 시와 인접지역의 유권자 지지율은 같다\n",
    "# 대립가설: 시와 인접지역의 유권자 지지율은 다르다\n",
    "\n",
    "observed = [[city_support, city_non_support], [suburb_support, suburb_non_support]] # 시와 인접지역의 찬성/반대 표\n",
    "\n",
    "# 카이제곱 검정\n",
    "chi2, p_value, dof, expected = chi2_contingency(observed)\n",
    "print(f'p-value: {p_value:.4f}')\n",
    "\n",
    "alpha = 0.05\n",
    "if p_value < alpha:   \n",
    "    print(f\"p-value는 {p_value:.4f}로, 유의 수준 {alpha}보다 작다.\\n따라서 귀무 가설을 기각한다.\")    \n",
    "else:\n",
    "    print(f\"p-value는 {p_value:.4f}로, 유의 수준 {alpha}보다 크거나 같다.\\n따라서 귀무 가설을 기각할 수 없음\")   \n"
   ]
  }
 ],
 "metadata": {
  "kernelspec": {
   "display_name": "Python 3",
   "language": "python",
   "name": "python3"
  },
  "language_info": {
   "codemirror_mode": {
    "name": "ipython",
    "version": 3
   },
   "file_extension": ".py",
   "mimetype": "text/x-python",
   "name": "python",
   "nbconvert_exporter": "python",
   "pygments_lexer": "ipython3",
   "version": "3.10.6"
  },
  "orig_nbformat": 4
 },
 "nbformat": 4,
 "nbformat_minor": 2
}
