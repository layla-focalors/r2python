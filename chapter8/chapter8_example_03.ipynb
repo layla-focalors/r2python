{
 "cells": [
  {
   "cell_type": "code",
   "execution_count": 2,
   "metadata": {},
   "outputs": [
    {
     "name": "stdout",
     "output_type": "stream",
     "text": [
      "1.9047182775996336\n",
      "P-값: 0.0221\n",
      "p-value는 0.0221로, 유의 수준 0.05보다 작다. \n",
      "따라서 귀무 가설을 기각하고 대립 가설을 채택한다.\n"
     ]
    }
   ],
   "source": [
    "# 연습문제 3 p274, node (9)\n",
    "from scipy import stats\n",
    "\n",
    "# 도시 거주자의 지지율\n",
    "city = [1] * 63 + [0] * 37\n",
    "# 교외 거주자의 지지율\n",
    "suburb = [1] * 59 + [0] * 66\n",
    "\n",
    "# 두 집단 간의 비율 차이 검정\n",
    "oddsratio, p_value = stats.fisher_exact([[63, 37], [59, 66]])\n",
    "print(oddsratio)\n",
    "\n",
    "print(f'P-값: {p_value:.4f}')\n",
    "alpha = 0.05\n",
    "if p_value < alpha:\n",
    "    print(f\"p-value는 {p_value:.4f}로, 유의 수준 {alpha}보다 작다. \\n따라서 귀무 가설을 기각하고 대립 가설을 채택한다.\")\n",
    "else:\n",
    "    print(f\"p-value는 {p_value:.4f}로, 유의 수준 {alpha}보다 크거나 같습니다. \\n따라서 귀무 가설을 기각할 수 없다.\")\n"
   ]
  },
  {
   "cell_type": "code",
   "execution_count": 3,
   "metadata": {},
   "outputs": [
    {
     "name": "stdout",
     "output_type": "stream",
     "text": [
      "1.9047182775996336\n",
      "P-값: 0.0221\n",
      "p-value는 1.9047로, 유의 수준 0.022087719733373347보다 크거나 같습니다. \n",
      "따라서 귀무 가설을 기각할 수 없다.\n"
     ]
    }
   ],
   "source": [
    "# 연습문제 3 p274, node (9) ver2\n",
    "from scipy import stats\n",
    "\n",
    "# 도시 거주자의 지지율\n",
    "city = [1] * 63 + [0] * 37\n",
    "# 교외 거주자의 지지율\n",
    "suburb = [1] * 59 + [0] * 66\n",
    "\n",
    "# 두 집단 간의 비율 차이 검정\n",
    "oddsratio, p_value = stats.fisher_exact([[63, 37], [59, 66]])\n",
    "print(oddsratio)\n",
    "\n",
    "print(f'P-값: {p_value:.4f}')\n",
    "if oddsratio < p_value:\n",
    "    print(f\"oddsratio는 {oddsratio:.4f}로, 유의 수준 {p_value}보다 작다. \\n따라서 귀무 가설을 기각하고 대립 가설을 채택한다.\")\n",
    "else:\n",
    "    print(f\"oddsratio는 {oddsratio:.4f}로, 유의 수준 {p_value}보다 크거나 같습니다. \\n따라서 귀무 가설을 기각할 수 없다.\")\n"
   ]
  }
 ],
 "metadata": {
  "kernelspec": {
   "display_name": "Python 3",
   "language": "python",
   "name": "python3"
  },
  "language_info": {
   "codemirror_mode": {
    "name": "ipython",
    "version": 3
   },
   "file_extension": ".py",
   "mimetype": "text/x-python",
   "name": "python",
   "nbconvert_exporter": "python",
   "pygments_lexer": "ipython3",
   "version": "3.11.4"
  },
  "orig_nbformat": 4
 },
 "nbformat": 4,
 "nbformat_minor": 2
}
